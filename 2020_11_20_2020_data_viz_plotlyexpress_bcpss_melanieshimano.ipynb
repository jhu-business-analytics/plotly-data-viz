{
  "nbformat": 4,
  "nbformat_minor": 0,
  "metadata": {
    "colab": {
      "name": "2020-11-20-2020-data-viz-plotlyexpress-bcpss-melanieshimano.ipynb",
      "provenance": [],
      "collapsed_sections": [],
      "authorship_tag": "ABX9TyOqOiAQD6NAqtMwJJTfbYTe",
      "include_colab_link": true
    },
    "kernelspec": {
      "name": "python3",
      "display_name": "Python 3"
    }
  },
  "cells": [
    {
      "cell_type": "markdown",
      "metadata": {
        "id": "view-in-github",
        "colab_type": "text"
      },
      "source": [
        "<a href=\"https://colab.research.google.com/github/melanieshimano/plotly-data-viz/blob/main/2020_11_20_2020_data_viz_plotlyexpress_bcpss_melanieshimano.ipynb\" target=\"_parent\"><img src=\"https://colab.research.google.com/assets/colab-badge.svg\" alt=\"Open In Colab\"/></a>"
      ]
    },
    {
      "cell_type": "markdown",
      "metadata": {
        "id": "GACFtY8RfP8C"
      },
      "source": [
        "# Data Visualizations with Plotly Express and BCPSS Enrollment Data"
      ]
    },
    {
      "cell_type": "markdown",
      "metadata": {
        "id": "PwDrEHchfU9d"
      },
      "source": [
        "Here, we'll review different kinds of data visualizations that we can quickly create with Plolty Express using Maryland public school enrollment data from [here](https://reportcard.msde.maryland.gov/Graphs/#/DataDownloads/datadownload/3/17/6/99/XXXX/2019). Since this data is only available in data for each year individually, I merged all of the available years of enrollment data (2012-2020), which you can view in [this notebook](https://github.com/jhu-business-analytics/plotly-data-viz/blob/main/11-20-2020-md-education-all-enrollment-melanieshimano.ipynb)."
      ]
    },
    {
      "cell_type": "markdown",
      "metadata": {
        "id": "f7vf_poHfiQx"
      },
      "source": [
        "## import packages"
      ]
    },
    {
      "cell_type": "code",
      "metadata": {
        "id": "dz5-u35IfKTm"
      },
      "source": [
        "# data analysis\n",
        "import pandas as pd\n",
        "\n",
        "# data viz\n",
        "import plotly.express as px\n",
        "from plotly.subplots import make_subplots # to make subplots\n",
        "import plotly.figure_factory as ff # to make density plots\n",
        "\n",
        "# exporting files\n",
        "from google.colab import files"
      ],
      "execution_count": 1,
      "outputs": []
    },
    {
      "cell_type": "markdown",
      "metadata": {
        "id": "wskIrdPAfuQb"
      },
      "source": [
        "## import data"
      ]
    },
    {
      "cell_type": "code",
      "metadata": {
        "id": "d3talhScfogV"
      },
      "source": [
        "# import bcpss enrollment data (2012-2020)\n",
        "\n",
        "df = pd.read_csv(\"https://raw.githubusercontent.com/jhu-business-analytics/plotly-data-viz/main/md_enrollment_2012_2020.csv\")"
      ],
      "execution_count": 2,
      "outputs": []
    },
    {
      "cell_type": "code",
      "metadata": {
        "colab": {
          "base_uri": "https://localhost:8080/",
          "height": 204
        },
        "id": "T288kU-Yf2jg",
        "outputId": "aed13ab3-dbf1-4043-d255-5766fd62adfe"
      },
      "source": [
        "# preview data\n",
        "df.head()"
      ],
      "execution_count": 3,
      "outputs": [
        {
          "output_type": "execute_result",
          "data": {
            "text/html": [
              "<div>\n",
              "<style scoped>\n",
              "    .dataframe tbody tr th:only-of-type {\n",
              "        vertical-align: middle;\n",
              "    }\n",
              "\n",
              "    .dataframe tbody tr th {\n",
              "        vertical-align: top;\n",
              "    }\n",
              "\n",
              "    .dataframe thead th {\n",
              "        text-align: right;\n",
              "    }\n",
              "</style>\n",
              "<table border=\"1\" class=\"dataframe\">\n",
              "  <thead>\n",
              "    <tr style=\"text-align: right;\">\n",
              "      <th></th>\n",
              "      <th>school_year</th>\n",
              "      <th>lss_num</th>\n",
              "      <th>lss_name</th>\n",
              "      <th>school_num</th>\n",
              "      <th>school_name</th>\n",
              "      <th>grade</th>\n",
              "      <th>enrolled_count</th>\n",
              "      <th>grade_level</th>\n",
              "    </tr>\n",
              "  </thead>\n",
              "  <tbody>\n",
              "    <tr>\n",
              "      <th>0</th>\n",
              "      <td>2020</td>\n",
              "      <td>01</td>\n",
              "      <td>Allegany</td>\n",
              "      <td>0301</td>\n",
              "      <td>Flintstone Elementary</td>\n",
              "      <td>Prekindergarten</td>\n",
              "      <td>19.0</td>\n",
              "      <td>Elementary</td>\n",
              "    </tr>\n",
              "    <tr>\n",
              "      <th>1</th>\n",
              "      <td>2020</td>\n",
              "      <td>01</td>\n",
              "      <td>Allegany</td>\n",
              "      <td>0301</td>\n",
              "      <td>Flintstone Elementary</td>\n",
              "      <td>Kindergarten</td>\n",
              "      <td>28.0</td>\n",
              "      <td>Elementary</td>\n",
              "    </tr>\n",
              "    <tr>\n",
              "      <th>2</th>\n",
              "      <td>2020</td>\n",
              "      <td>01</td>\n",
              "      <td>Allegany</td>\n",
              "      <td>0301</td>\n",
              "      <td>Flintstone Elementary</td>\n",
              "      <td>Grade 1</td>\n",
              "      <td>31.0</td>\n",
              "      <td>Elementary</td>\n",
              "    </tr>\n",
              "    <tr>\n",
              "      <th>3</th>\n",
              "      <td>2020</td>\n",
              "      <td>01</td>\n",
              "      <td>Allegany</td>\n",
              "      <td>0301</td>\n",
              "      <td>Flintstone Elementary</td>\n",
              "      <td>Grade 2</td>\n",
              "      <td>40.0</td>\n",
              "      <td>Elementary</td>\n",
              "    </tr>\n",
              "    <tr>\n",
              "      <th>4</th>\n",
              "      <td>2020</td>\n",
              "      <td>01</td>\n",
              "      <td>Allegany</td>\n",
              "      <td>0301</td>\n",
              "      <td>Flintstone Elementary</td>\n",
              "      <td>Grade 3</td>\n",
              "      <td>30.0</td>\n",
              "      <td>Elementary</td>\n",
              "    </tr>\n",
              "  </tbody>\n",
              "</table>\n",
              "</div>"
            ],
            "text/plain": [
              "   school_year lss_num  lss_name  ...            grade enrolled_count grade_level\n",
              "0         2020      01  Allegany  ...  Prekindergarten           19.0  Elementary\n",
              "1         2020      01  Allegany  ...     Kindergarten           28.0  Elementary\n",
              "2         2020      01  Allegany  ...          Grade 1           31.0  Elementary\n",
              "3         2020      01  Allegany  ...          Grade 2           40.0  Elementary\n",
              "4         2020      01  Allegany  ...          Grade 3           30.0  Elementary\n",
              "\n",
              "[5 rows x 8 columns]"
            ]
          },
          "metadata": {
            "tags": []
          },
          "execution_count": 3
        }
      ]
    },
    {
      "cell_type": "code",
      "metadata": {
        "colab": {
          "base_uri": "https://localhost:8080/"
        },
        "id": "k2GeiAimf32w",
        "outputId": "d11f8ee5-496f-4443-930c-1bb2fde7e913"
      },
      "source": [
        "# check what's in our dataset\n",
        "df.info()"
      ],
      "execution_count": 4,
      "outputs": [
        {
          "output_type": "stream",
          "text": [
            "<class 'pandas.core.frame.DataFrame'>\n",
            "RangeIndex: 88687 entries, 0 to 88686\n",
            "Data columns (total 8 columns):\n",
            " #   Column          Non-Null Count  Dtype  \n",
            "---  ------          --------------  -----  \n",
            " 0   school_year     88687 non-null  int64  \n",
            " 1   lss_num         88687 non-null  object \n",
            " 2   lss_name        88687 non-null  object \n",
            " 3   school_num      88687 non-null  object \n",
            " 4   school_name     88687 non-null  object \n",
            " 5   grade           88687 non-null  object \n",
            " 6   enrolled_count  85397 non-null  float64\n",
            " 7   grade_level     88403 non-null  object \n",
            "dtypes: float64(1), int64(1), object(6)\n",
            "memory usage: 5.4+ MB\n"
          ],
          "name": "stdout"
        }
      ]
    },
    {
      "cell_type": "markdown",
      "metadata": {
        "id": "bPziyNNs6X41"
      },
      "source": [
        "## General Plotly Express Formatting"
      ]
    },
    {
      "cell_type": "markdown",
      "metadata": {
        "id": "UwKuZHvh6aye"
      },
      "source": [
        "Plotly Express allows us to create really nice, interactive visualizations without much code, and each kind of visual follows a general convention. We won't necessarily use all of the parameters available for a plotly express visualization in this course, but you can read more about how you can customize your visualizations [here](https://plotly.com/python-api-reference/generated/plotly.express.html#module-plotly.express)."
      ]
    },
    {
      "cell_type": "markdown",
      "metadata": {
        "id": "wiDqlg1-69Ju"
      },
      "source": [
        "The general convention and parameters that we'll focus on are: \n",
        "\n",
        "```\n",
        "chart_name = px.bar(df, # dataframe of the data we want to plot\n",
        "                     x = \"column on the x axis\", \n",
        "                     y = \"column on the y axis\", \n",
        "                     color = \"how to categorize data with different colors\", \n",
        "                     hover_name = \"values we want to show up when we hover over the chart\", \n",
        "                    title = \"chart title\", \n",
        "                    labels = {\"column_name\": \"new label\", \"column_name\": \"new label\"}, # renaming labels\n",
        "                    orientation = \"h\" # change the x, y values to make a horizontal bar chart\n",
        "                    facet_col = \"column that identifies how you want to separate columns of subplots\",\n",
        "                    facet_row = \"column that identifies how you want to separate rows of subplots\", \n",
        "                    animation_frame = \"column name that identifies base data for each animation frame\",\n",
        "                    animation_group = \"column name that identifies which data in the graph is changing with each animation frame\",\n",
        "                    range_x = [lowest x value, highest x value],\n",
        "                    range_y = [lowest y value, highest y value],\n",
        "                    log_x = False (default) or True which identifies if we want to make a scatter chart the log of the values instead of the values--useful to compare exponential growth\n",
        "                    )\n",
        "```\n",
        "We won't use all of these for all of our graphs, but these are general parameters that might be useful for your work."
      ]
    },
    {
      "cell_type": "markdown",
      "metadata": {
        "id": "V0dZBIpq6VVA"
      },
      "source": [
        "# Line Graphs"
      ]
    },
    {
      "cell_type": "markdown",
      "metadata": {
        "id": "2TW-Q_OE8Q4R"
      },
      "source": [
        "We'll start by making a line graph to visualize the total enrollment in all MD schools from 2012-2020."
      ]
    },
    {
      "cell_type": "markdown",
      "metadata": {
        "id": "_SSLTiX-8fJe"
      },
      "source": [
        "## Edit Data"
      ]
    },
    {
      "cell_type": "code",
      "metadata": {
        "id": "HxkJHXzg2DMb"
      },
      "source": [
        "# create new df with only data from all schools and the grade is \"total enrollment\"\n",
        "df_all = df[(df[\"lss_num\"] == \"A\") & (df[\"grade\"] == \"Total Enrollment\")]"
      ],
      "execution_count": 5,
      "outputs": []
    },
    {
      "cell_type": "code",
      "metadata": {
        "id": "x9uLgq-E8zSr"
      },
      "source": [
        "# sort values by the school year\n",
        "df_all = df_all.sort_values(by = \"school_year\")"
      ],
      "execution_count": 6,
      "outputs": []
    },
    {
      "cell_type": "code",
      "metadata": {
        "colab": {
          "base_uri": "https://localhost:8080/",
          "height": 328
        },
        "id": "3e9xNtJr80pg",
        "outputId": "6b3ff546-f906-4b6a-c365-c5a4a45bd624"
      },
      "source": [
        "# look at the data\n",
        "df_all"
      ],
      "execution_count": 7,
      "outputs": [
        {
          "output_type": "execute_result",
          "data": {
            "text/html": [
              "<div>\n",
              "<style scoped>\n",
              "    .dataframe tbody tr th:only-of-type {\n",
              "        vertical-align: middle;\n",
              "    }\n",
              "\n",
              "    .dataframe tbody tr th {\n",
              "        vertical-align: top;\n",
              "    }\n",
              "\n",
              "    .dataframe thead th {\n",
              "        text-align: right;\n",
              "    }\n",
              "</style>\n",
              "<table border=\"1\" class=\"dataframe\">\n",
              "  <thead>\n",
              "    <tr style=\"text-align: right;\">\n",
              "      <th></th>\n",
              "      <th>school_year</th>\n",
              "      <th>lss_num</th>\n",
              "      <th>lss_name</th>\n",
              "      <th>school_num</th>\n",
              "      <th>school_name</th>\n",
              "      <th>grade</th>\n",
              "      <th>enrolled_count</th>\n",
              "      <th>grade_level</th>\n",
              "    </tr>\n",
              "  </thead>\n",
              "  <tbody>\n",
              "    <tr>\n",
              "      <th>69101</th>\n",
              "      <td>2012</td>\n",
              "      <td>A</td>\n",
              "      <td>All Public Schools</td>\n",
              "      <td>A</td>\n",
              "      <td>All Maryland Schools</td>\n",
              "      <td>Total Enrollment</td>\n",
              "      <td>854086.0</td>\n",
              "      <td>NaN</td>\n",
              "    </tr>\n",
              "    <tr>\n",
              "      <th>59216</th>\n",
              "      <td>2013</td>\n",
              "      <td>A</td>\n",
              "      <td>All Public Schools</td>\n",
              "      <td>A</td>\n",
              "      <td>All Maryland Schools</td>\n",
              "      <td>Total Enrollment</td>\n",
              "      <td>859638.0</td>\n",
              "      <td>NaN</td>\n",
              "    </tr>\n",
              "    <tr>\n",
              "      <th>49337</th>\n",
              "      <td>2014</td>\n",
              "      <td>A</td>\n",
              "      <td>All Public Schools</td>\n",
              "      <td>A</td>\n",
              "      <td>All Maryland Schools</td>\n",
              "      <td>Total Enrollment</td>\n",
              "      <td>866169.0</td>\n",
              "      <td>NaN</td>\n",
              "    </tr>\n",
              "    <tr>\n",
              "      <th>39461</th>\n",
              "      <td>2015</td>\n",
              "      <td>A</td>\n",
              "      <td>All Public Schools</td>\n",
              "      <td>A</td>\n",
              "      <td>All Maryland Schools</td>\n",
              "      <td>Total Enrollment</td>\n",
              "      <td>874514.0</td>\n",
              "      <td>NaN</td>\n",
              "    </tr>\n",
              "    <tr>\n",
              "      <th>19660</th>\n",
              "      <td>2016</td>\n",
              "      <td>A</td>\n",
              "      <td>All Public Schools</td>\n",
              "      <td>A</td>\n",
              "      <td>All Maryland Schools</td>\n",
              "      <td>Total Enrollment</td>\n",
              "      <td>879601.0</td>\n",
              "      <td>NaN</td>\n",
              "    </tr>\n",
              "    <tr>\n",
              "      <th>29487</th>\n",
              "      <td>2017</td>\n",
              "      <td>A</td>\n",
              "      <td>All Public Schools</td>\n",
              "      <td>A</td>\n",
              "      <td>All Maryland Schools</td>\n",
              "      <td>Total Enrollment</td>\n",
              "      <td>886221.0</td>\n",
              "      <td>NaN</td>\n",
              "    </tr>\n",
              "    <tr>\n",
              "      <th>88686</th>\n",
              "      <td>2018</td>\n",
              "      <td>A</td>\n",
              "      <td>All Public Schools</td>\n",
              "      <td>A</td>\n",
              "      <td>All Maryland Schools</td>\n",
              "      <td>Total Enrollment</td>\n",
              "      <td>893689.0</td>\n",
              "      <td>NaN</td>\n",
              "    </tr>\n",
              "    <tr>\n",
              "      <th>78882</th>\n",
              "      <td>2019</td>\n",
              "      <td>A</td>\n",
              "      <td>All Public Schools</td>\n",
              "      <td>A</td>\n",
              "      <td>All Maryland Schools</td>\n",
              "      <td>Total Enrollment</td>\n",
              "      <td>896837.0</td>\n",
              "      <td>NaN</td>\n",
              "    </tr>\n",
              "    <tr>\n",
              "      <th>9767</th>\n",
              "      <td>2020</td>\n",
              "      <td>A</td>\n",
              "      <td>All Public Schools</td>\n",
              "      <td>A</td>\n",
              "      <td>All Maryland Schools</td>\n",
              "      <td>Total Enrollment</td>\n",
              "      <td>909414.0</td>\n",
              "      <td>NaN</td>\n",
              "    </tr>\n",
              "  </tbody>\n",
              "</table>\n",
              "</div>"
            ],
            "text/plain": [
              "       school_year lss_num  ... enrolled_count grade_level\n",
              "69101         2012       A  ...       854086.0         NaN\n",
              "59216         2013       A  ...       859638.0         NaN\n",
              "49337         2014       A  ...       866169.0         NaN\n",
              "39461         2015       A  ...       874514.0         NaN\n",
              "19660         2016       A  ...       879601.0         NaN\n",
              "29487         2017       A  ...       886221.0         NaN\n",
              "88686         2018       A  ...       893689.0         NaN\n",
              "78882         2019       A  ...       896837.0         NaN\n",
              "9767          2020       A  ...       909414.0         NaN\n",
              "\n",
              "[9 rows x 8 columns]"
            ]
          },
          "metadata": {
            "tags": []
          },
          "execution_count": 7
        }
      ]
    },
    {
      "cell_type": "markdown",
      "metadata": {
        "id": "B2KY4fnn-gu-"
      },
      "source": [
        "## make a line graph with all school data"
      ]
    },
    {
      "cell_type": "code",
      "metadata": {
        "id": "2qOlOVU2-eTK"
      },
      "source": [
        "# make a line graph\n",
        "line_all_md = px.line(df_all,\n",
        "                      x = \"school_year\",\n",
        "                      y = \"enrolled_count\",\n",
        "                      title = \"Total Enrollment in Maryland Public Schools, 2012-2020\",\n",
        "                      labels = {\"school_year\": \"School Year\", \"enrolled_count\": \"Number of Students Enrolled\"})"
      ],
      "execution_count": 8,
      "outputs": []
    },
    {
      "cell_type": "code",
      "metadata": {
        "colab": {
          "base_uri": "https://localhost:8080/",
          "height": 542
        },
        "id": "ULxQ8q24--2Q",
        "outputId": "69a61e89-09e5-4d8a-def0-9a07dd8e1109"
      },
      "source": [
        "# view viz\n",
        "line_all_md"
      ],
      "execution_count": 9,
      "outputs": [
        {
          "output_type": "display_data",
          "data": {
            "text/html": [
              "<html>\n",
              "<head><meta charset=\"utf-8\" /></head>\n",
              "<body>\n",
              "    <div>\n",
              "            <script src=\"https://cdnjs.cloudflare.com/ajax/libs/mathjax/2.7.5/MathJax.js?config=TeX-AMS-MML_SVG\"></script><script type=\"text/javascript\">if (window.MathJax) {MathJax.Hub.Config({SVG: {font: \"STIX-Web\"}});}</script>\n",
              "                <script type=\"text/javascript\">window.PlotlyConfig = {MathJaxConfig: 'local'};</script>\n",
              "        <script src=\"https://cdn.plot.ly/plotly-latest.min.js\"></script>    \n",
              "            <div id=\"5caf092e-7a1b-4d2d-883a-e93b0b8b0906\" class=\"plotly-graph-div\" style=\"height:525px; width:100%;\"></div>\n",
              "            <script type=\"text/javascript\">\n",
              "                \n",
              "                    window.PLOTLYENV=window.PLOTLYENV || {};\n",
              "                    \n",
              "                if (document.getElementById(\"5caf092e-7a1b-4d2d-883a-e93b0b8b0906\")) {\n",
              "                    Plotly.newPlot(\n",
              "                        '5caf092e-7a1b-4d2d-883a-e93b0b8b0906',\n",
              "                        [{\"hoverlabel\": {\"namelength\": 0}, \"hovertemplate\": \"School Year=%{x}<br>Number of Students Enrolled=%{y}\", \"legendgroup\": \"\", \"line\": {\"color\": \"#636efa\", \"dash\": \"solid\"}, \"mode\": \"lines\", \"name\": \"\", \"showlegend\": false, \"type\": \"scatter\", \"x\": [2012, 2013, 2014, 2015, 2016, 2017, 2018, 2019, 2020], \"xaxis\": \"x\", \"y\": [854086.0, 859638.0, 866169.0, 874514.0, 879601.0, 886221.0, 893689.0, 896837.0, 909414.0], \"yaxis\": \"y\"}],\n",
              "                        {\"legend\": {\"tracegroupgap\": 0}, \"template\": {\"data\": {\"bar\": [{\"error_x\": {\"color\": \"#2a3f5f\"}, \"error_y\": {\"color\": \"#2a3f5f\"}, \"marker\": {\"line\": {\"color\": \"#E5ECF6\", \"width\": 0.5}}, \"type\": \"bar\"}], \"barpolar\": [{\"marker\": {\"line\": {\"color\": \"#E5ECF6\", \"width\": 0.5}}, \"type\": \"barpolar\"}], \"carpet\": [{\"aaxis\": {\"endlinecolor\": \"#2a3f5f\", \"gridcolor\": \"white\", \"linecolor\": \"white\", \"minorgridcolor\": \"white\", \"startlinecolor\": \"#2a3f5f\"}, \"baxis\": {\"endlinecolor\": \"#2a3f5f\", \"gridcolor\": \"white\", \"linecolor\": \"white\", \"minorgridcolor\": \"white\", \"startlinecolor\": \"#2a3f5f\"}, \"type\": \"carpet\"}], \"choropleth\": [{\"colorbar\": {\"outlinewidth\": 0, \"ticks\": \"\"}, \"type\": \"choropleth\"}], \"contour\": [{\"colorbar\": {\"outlinewidth\": 0, \"ticks\": \"\"}, \"colorscale\": [[0.0, \"#0d0887\"], [0.1111111111111111, \"#46039f\"], [0.2222222222222222, \"#7201a8\"], [0.3333333333333333, \"#9c179e\"], [0.4444444444444444, \"#bd3786\"], [0.5555555555555556, \"#d8576b\"], [0.6666666666666666, \"#ed7953\"], [0.7777777777777778, \"#fb9f3a\"], [0.8888888888888888, \"#fdca26\"], [1.0, \"#f0f921\"]], \"type\": \"contour\"}], \"contourcarpet\": [{\"colorbar\": {\"outlinewidth\": 0, \"ticks\": \"\"}, \"type\": \"contourcarpet\"}], \"heatmap\": [{\"colorbar\": {\"outlinewidth\": 0, \"ticks\": \"\"}, \"colorscale\": [[0.0, \"#0d0887\"], [0.1111111111111111, \"#46039f\"], [0.2222222222222222, \"#7201a8\"], [0.3333333333333333, \"#9c179e\"], [0.4444444444444444, \"#bd3786\"], [0.5555555555555556, \"#d8576b\"], [0.6666666666666666, \"#ed7953\"], [0.7777777777777778, \"#fb9f3a\"], [0.8888888888888888, \"#fdca26\"], [1.0, \"#f0f921\"]], \"type\": \"heatmap\"}], \"heatmapgl\": [{\"colorbar\": {\"outlinewidth\": 0, \"ticks\": \"\"}, \"colorscale\": [[0.0, \"#0d0887\"], [0.1111111111111111, \"#46039f\"], [0.2222222222222222, \"#7201a8\"], [0.3333333333333333, \"#9c179e\"], [0.4444444444444444, \"#bd3786\"], [0.5555555555555556, \"#d8576b\"], [0.6666666666666666, \"#ed7953\"], [0.7777777777777778, \"#fb9f3a\"], [0.8888888888888888, \"#fdca26\"], [1.0, \"#f0f921\"]], \"type\": \"heatmapgl\"}], \"histogram\": [{\"marker\": {\"colorbar\": {\"outlinewidth\": 0, \"ticks\": \"\"}}, \"type\": \"histogram\"}], \"histogram2d\": [{\"colorbar\": {\"outlinewidth\": 0, \"ticks\": \"\"}, \"colorscale\": [[0.0, \"#0d0887\"], [0.1111111111111111, \"#46039f\"], [0.2222222222222222, \"#7201a8\"], [0.3333333333333333, \"#9c179e\"], [0.4444444444444444, \"#bd3786\"], [0.5555555555555556, \"#d8576b\"], [0.6666666666666666, \"#ed7953\"], [0.7777777777777778, \"#fb9f3a\"], [0.8888888888888888, \"#fdca26\"], [1.0, \"#f0f921\"]], \"type\": \"histogram2d\"}], \"histogram2dcontour\": [{\"colorbar\": {\"outlinewidth\": 0, \"ticks\": \"\"}, \"colorscale\": [[0.0, \"#0d0887\"], [0.1111111111111111, \"#46039f\"], [0.2222222222222222, \"#7201a8\"], [0.3333333333333333, \"#9c179e\"], [0.4444444444444444, \"#bd3786\"], [0.5555555555555556, \"#d8576b\"], [0.6666666666666666, \"#ed7953\"], [0.7777777777777778, \"#fb9f3a\"], [0.8888888888888888, \"#fdca26\"], [1.0, \"#f0f921\"]], \"type\": \"histogram2dcontour\"}], \"mesh3d\": [{\"colorbar\": {\"outlinewidth\": 0, \"ticks\": \"\"}, \"type\": \"mesh3d\"}], \"parcoords\": [{\"line\": {\"colorbar\": {\"outlinewidth\": 0, \"ticks\": \"\"}}, \"type\": \"parcoords\"}], \"pie\": [{\"automargin\": true, \"type\": \"pie\"}], \"scatter\": [{\"marker\": {\"colorbar\": {\"outlinewidth\": 0, \"ticks\": \"\"}}, \"type\": \"scatter\"}], \"scatter3d\": [{\"line\": {\"colorbar\": {\"outlinewidth\": 0, \"ticks\": \"\"}}, \"marker\": {\"colorbar\": {\"outlinewidth\": 0, \"ticks\": \"\"}}, \"type\": \"scatter3d\"}], \"scattercarpet\": [{\"marker\": {\"colorbar\": {\"outlinewidth\": 0, \"ticks\": \"\"}}, \"type\": \"scattercarpet\"}], \"scattergeo\": [{\"marker\": {\"colorbar\": {\"outlinewidth\": 0, \"ticks\": \"\"}}, \"type\": \"scattergeo\"}], \"scattergl\": [{\"marker\": {\"colorbar\": {\"outlinewidth\": 0, \"ticks\": \"\"}}, \"type\": \"scattergl\"}], \"scattermapbox\": [{\"marker\": {\"colorbar\": {\"outlinewidth\": 0, \"ticks\": \"\"}}, \"type\": \"scattermapbox\"}], \"scatterpolar\": [{\"marker\": {\"colorbar\": {\"outlinewidth\": 0, \"ticks\": \"\"}}, \"type\": \"scatterpolar\"}], \"scatterpolargl\": [{\"marker\": {\"colorbar\": {\"outlinewidth\": 0, \"ticks\": \"\"}}, \"type\": \"scatterpolargl\"}], \"scatterternary\": [{\"marker\": {\"colorbar\": {\"outlinewidth\": 0, \"ticks\": \"\"}}, \"type\": \"scatterternary\"}], \"surface\": [{\"colorbar\": {\"outlinewidth\": 0, \"ticks\": \"\"}, \"colorscale\": [[0.0, \"#0d0887\"], [0.1111111111111111, \"#46039f\"], [0.2222222222222222, \"#7201a8\"], [0.3333333333333333, \"#9c179e\"], [0.4444444444444444, \"#bd3786\"], [0.5555555555555556, \"#d8576b\"], [0.6666666666666666, \"#ed7953\"], [0.7777777777777778, \"#fb9f3a\"], [0.8888888888888888, \"#fdca26\"], [1.0, \"#f0f921\"]], \"type\": \"surface\"}], \"table\": [{\"cells\": {\"fill\": {\"color\": \"#EBF0F8\"}, \"line\": {\"color\": \"white\"}}, \"header\": {\"fill\": {\"color\": \"#C8D4E3\"}, \"line\": {\"color\": \"white\"}}, \"type\": \"table\"}]}, \"layout\": {\"annotationdefaults\": {\"arrowcolor\": \"#2a3f5f\", \"arrowhead\": 0, \"arrowwidth\": 1}, \"coloraxis\": {\"colorbar\": {\"outlinewidth\": 0, \"ticks\": \"\"}}, \"colorscale\": {\"diverging\": [[0, \"#8e0152\"], [0.1, \"#c51b7d\"], [0.2, \"#de77ae\"], [0.3, \"#f1b6da\"], [0.4, \"#fde0ef\"], [0.5, \"#f7f7f7\"], [0.6, \"#e6f5d0\"], [0.7, \"#b8e186\"], [0.8, \"#7fbc41\"], [0.9, \"#4d9221\"], [1, \"#276419\"]], \"sequential\": [[0.0, \"#0d0887\"], [0.1111111111111111, \"#46039f\"], [0.2222222222222222, \"#7201a8\"], [0.3333333333333333, \"#9c179e\"], [0.4444444444444444, \"#bd3786\"], [0.5555555555555556, \"#d8576b\"], [0.6666666666666666, \"#ed7953\"], [0.7777777777777778, \"#fb9f3a\"], [0.8888888888888888, \"#fdca26\"], [1.0, \"#f0f921\"]], \"sequentialminus\": [[0.0, \"#0d0887\"], [0.1111111111111111, \"#46039f\"], [0.2222222222222222, \"#7201a8\"], [0.3333333333333333, \"#9c179e\"], [0.4444444444444444, \"#bd3786\"], [0.5555555555555556, \"#d8576b\"], [0.6666666666666666, \"#ed7953\"], [0.7777777777777778, \"#fb9f3a\"], [0.8888888888888888, \"#fdca26\"], [1.0, \"#f0f921\"]]}, \"colorway\": [\"#636efa\", \"#EF553B\", \"#00cc96\", \"#ab63fa\", \"#FFA15A\", \"#19d3f3\", \"#FF6692\", \"#B6E880\", \"#FF97FF\", \"#FECB52\"], \"font\": {\"color\": \"#2a3f5f\"}, \"geo\": {\"bgcolor\": \"white\", \"lakecolor\": \"white\", \"landcolor\": \"#E5ECF6\", \"showlakes\": true, \"showland\": true, \"subunitcolor\": \"white\"}, \"hoverlabel\": {\"align\": \"left\"}, \"hovermode\": \"closest\", \"mapbox\": {\"style\": \"light\"}, \"paper_bgcolor\": \"white\", \"plot_bgcolor\": \"#E5ECF6\", \"polar\": {\"angularaxis\": {\"gridcolor\": \"white\", \"linecolor\": \"white\", \"ticks\": \"\"}, \"bgcolor\": \"#E5ECF6\", \"radialaxis\": {\"gridcolor\": \"white\", \"linecolor\": \"white\", \"ticks\": \"\"}}, \"scene\": {\"xaxis\": {\"backgroundcolor\": \"#E5ECF6\", \"gridcolor\": \"white\", \"gridwidth\": 2, \"linecolor\": \"white\", \"showbackground\": true, \"ticks\": \"\", \"zerolinecolor\": \"white\"}, \"yaxis\": {\"backgroundcolor\": \"#E5ECF6\", \"gridcolor\": \"white\", \"gridwidth\": 2, \"linecolor\": \"white\", \"showbackground\": true, \"ticks\": \"\", \"zerolinecolor\": \"white\"}, \"zaxis\": {\"backgroundcolor\": \"#E5ECF6\", \"gridcolor\": \"white\", \"gridwidth\": 2, \"linecolor\": \"white\", \"showbackground\": true, \"ticks\": \"\", \"zerolinecolor\": \"white\"}}, \"shapedefaults\": {\"line\": {\"color\": \"#2a3f5f\"}}, \"ternary\": {\"aaxis\": {\"gridcolor\": \"white\", \"linecolor\": \"white\", \"ticks\": \"\"}, \"baxis\": {\"gridcolor\": \"white\", \"linecolor\": \"white\", \"ticks\": \"\"}, \"bgcolor\": \"#E5ECF6\", \"caxis\": {\"gridcolor\": \"white\", \"linecolor\": \"white\", \"ticks\": \"\"}}, \"title\": {\"x\": 0.05}, \"xaxis\": {\"automargin\": true, \"gridcolor\": \"white\", \"linecolor\": \"white\", \"ticks\": \"\", \"title\": {\"standoff\": 15}, \"zerolinecolor\": \"white\", \"zerolinewidth\": 2}, \"yaxis\": {\"automargin\": true, \"gridcolor\": \"white\", \"linecolor\": \"white\", \"ticks\": \"\", \"title\": {\"standoff\": 15}, \"zerolinecolor\": \"white\", \"zerolinewidth\": 2}}}, \"title\": {\"text\": \"Total Enrollment in Maryland Public Schools, 2012-2020\"}, \"xaxis\": {\"anchor\": \"y\", \"domain\": [0.0, 1.0], \"title\": {\"text\": \"School Year\"}}, \"yaxis\": {\"anchor\": \"x\", \"domain\": [0.0, 1.0], \"title\": {\"text\": \"Number of Students Enrolled\"}}},\n",
              "                        {\"responsive\": true}\n",
              "                    ).then(function(){\n",
              "                            \n",
              "var gd = document.getElementById('5caf092e-7a1b-4d2d-883a-e93b0b8b0906');\n",
              "var x = new MutationObserver(function (mutations, observer) {{\n",
              "        var display = window.getComputedStyle(gd).display;\n",
              "        if (!display || display === 'none') {{\n",
              "            console.log([gd, 'removed!']);\n",
              "            Plotly.purge(gd);\n",
              "            observer.disconnect();\n",
              "        }}\n",
              "}});\n",
              "\n",
              "// Listen for the removal of the full notebook cells\n",
              "var notebookContainer = gd.closest('#notebook-container');\n",
              "if (notebookContainer) {{\n",
              "    x.observe(notebookContainer, {childList: true});\n",
              "}}\n",
              "\n",
              "// Listen for the clearing of the current output cell\n",
              "var outputEl = gd.closest('.output');\n",
              "if (outputEl) {{\n",
              "    x.observe(outputEl, {childList: true});\n",
              "}}\n",
              "\n",
              "                        })\n",
              "                };\n",
              "                \n",
              "            </script>\n",
              "        </div>\n",
              "</body>\n",
              "</html>"
            ]
          },
          "metadata": {
            "tags": []
          }
        }
      ]
    },
    {
      "cell_type": "markdown",
      "metadata": {
        "id": "1Ps7GKeZ_Quy"
      },
      "source": [
        "One thing to keep in mind is the number of schools who didn't report any total enrollment, which might affect our results. We can look at a dataframe of the schools who didn't contribute to the Total Enrollment counts by looking at a dataframe of null values."
      ]
    },
    {
      "cell_type": "code",
      "metadata": {
        "id": "MJEIms_v_BZL"
      },
      "source": [
        "# create a df to filter for schools who don't report total enrollment \n",
        "df_all_null = df[(df[\"enrolled_count\"].isnull()) & (df[\"grade\"] == \"Total Enrollment\")]"
      ],
      "execution_count": 10,
      "outputs": []
    },
    {
      "cell_type": "code",
      "metadata": {
        "colab": {
          "base_uri": "https://localhost:8080/",
          "height": 1000
        },
        "id": "UXzy_7oaAItc",
        "outputId": "419606e6-6cd1-464a-8fff-2c64c2fd194f"
      },
      "source": [
        "# look at this data\n",
        "df_all_null"
      ],
      "execution_count": 11,
      "outputs": [
        {
          "output_type": "execute_result",
          "data": {
            "text/html": [
              "<div>\n",
              "<style scoped>\n",
              "    .dataframe tbody tr th:only-of-type {\n",
              "        vertical-align: middle;\n",
              "    }\n",
              "\n",
              "    .dataframe tbody tr th {\n",
              "        vertical-align: top;\n",
              "    }\n",
              "\n",
              "    .dataframe thead th {\n",
              "        text-align: right;\n",
              "    }\n",
              "</style>\n",
              "<table border=\"1\" class=\"dataframe\">\n",
              "  <thead>\n",
              "    <tr style=\"text-align: right;\">\n",
              "      <th></th>\n",
              "      <th>school_year</th>\n",
              "      <th>lss_num</th>\n",
              "      <th>lss_name</th>\n",
              "      <th>school_num</th>\n",
              "      <th>school_name</th>\n",
              "      <th>grade</th>\n",
              "      <th>enrolled_count</th>\n",
              "      <th>grade_level</th>\n",
              "    </tr>\n",
              "  </thead>\n",
              "  <tbody>\n",
              "    <tr>\n",
              "      <th>990</th>\n",
              "      <td>2020</td>\n",
              "      <td>03</td>\n",
              "      <td>Baltimore County</td>\n",
              "      <td>0051</td>\n",
              "      <td>Northwest EDLP at Milford Mill Academy</td>\n",
              "      <td>Total Enrollment</td>\n",
              "      <td>NaN</td>\n",
              "      <td>High</td>\n",
              "    </tr>\n",
              "    <tr>\n",
              "      <th>1004</th>\n",
              "      <td>2020</td>\n",
              "      <td>03</td>\n",
              "      <td>Baltimore County</td>\n",
              "      <td>0056</td>\n",
              "      <td>Central EDLP at Loch Raven High School</td>\n",
              "      <td>Total Enrollment</td>\n",
              "      <td>NaN</td>\n",
              "      <td>High</td>\n",
              "    </tr>\n",
              "    <tr>\n",
              "      <th>1008</th>\n",
              "      <td>2020</td>\n",
              "      <td>03</td>\n",
              "      <td>Baltimore County</td>\n",
              "      <td>0057</td>\n",
              "      <td>Home Assignments-Elementary</td>\n",
              "      <td>Total Enrollment</td>\n",
              "      <td>NaN</td>\n",
              "      <td>Middle</td>\n",
              "    </tr>\n",
              "    <tr>\n",
              "      <th>2323</th>\n",
              "      <td>2020</td>\n",
              "      <td>04</td>\n",
              "      <td>Calvert</td>\n",
              "      <td>0500</td>\n",
              "      <td>Calvert County Alternative School</td>\n",
              "      <td>Total Enrollment</td>\n",
              "      <td>NaN</td>\n",
              "      <td>High</td>\n",
              "    </tr>\n",
              "    <tr>\n",
              "      <th>2594</th>\n",
              "      <td>2020</td>\n",
              "      <td>06</td>\n",
              "      <td>Carroll</td>\n",
              "      <td>0718</td>\n",
              "      <td>PRIDE School</td>\n",
              "      <td>Total Enrollment</td>\n",
              "      <td>NaN</td>\n",
              "      <td>Elementary</td>\n",
              "    </tr>\n",
              "    <tr>\n",
              "      <th>2597</th>\n",
              "      <td>2020</td>\n",
              "      <td>06</td>\n",
              "      <td>Carroll</td>\n",
              "      <td>0726</td>\n",
              "      <td>Crossroads Middle School</td>\n",
              "      <td>Total Enrollment</td>\n",
              "      <td>NaN</td>\n",
              "      <td>Middle</td>\n",
              "    </tr>\n",
              "    <tr>\n",
              "      <th>7773</th>\n",
              "      <td>2020</td>\n",
              "      <td>19</td>\n",
              "      <td>Somerset</td>\n",
              "      <td>1003</td>\n",
              "      <td>Ewell School</td>\n",
              "      <td>Total Enrollment</td>\n",
              "      <td>NaN</td>\n",
              "      <td>Middle</td>\n",
              "    </tr>\n",
              "    <tr>\n",
              "      <th>12056</th>\n",
              "      <td>2016</td>\n",
              "      <td>04</td>\n",
              "      <td>Calvert</td>\n",
              "      <td>0500</td>\n",
              "      <td>Calvert County Alternative School</td>\n",
              "      <td>Total Enrollment</td>\n",
              "      <td>NaN</td>\n",
              "      <td>High</td>\n",
              "    </tr>\n",
              "    <tr>\n",
              "      <th>15067</th>\n",
              "      <td>2016</td>\n",
              "      <td>15</td>\n",
              "      <td>Montgomery</td>\n",
              "      <td>0524</td>\n",
              "      <td>Gateway to College Program</td>\n",
              "      <td>Total Enrollment</td>\n",
              "      <td>NaN</td>\n",
              "      <td>High</td>\n",
              "    </tr>\n",
              "    <tr>\n",
              "      <th>17526</th>\n",
              "      <td>2016</td>\n",
              "      <td>19</td>\n",
              "      <td>Somerset</td>\n",
              "      <td>1003</td>\n",
              "      <td>Ewell School</td>\n",
              "      <td>Total Enrollment</td>\n",
              "      <td>NaN</td>\n",
              "      <td>Middle</td>\n",
              "    </tr>\n",
              "    <tr>\n",
              "      <th>20644</th>\n",
              "      <td>2017</td>\n",
              "      <td>03</td>\n",
              "      <td>Baltimore County</td>\n",
              "      <td>0057</td>\n",
              "      <td>Home Assignments-Elementary</td>\n",
              "      <td>Total Enrollment</td>\n",
              "      <td>NaN</td>\n",
              "      <td>Elementary</td>\n",
              "    </tr>\n",
              "    <tr>\n",
              "      <th>21944</th>\n",
              "      <td>2017</td>\n",
              "      <td>04</td>\n",
              "      <td>Calvert</td>\n",
              "      <td>0500</td>\n",
              "      <td>Calvert County Alternative School</td>\n",
              "      <td>Total Enrollment</td>\n",
              "      <td>NaN</td>\n",
              "      <td>High</td>\n",
              "    </tr>\n",
              "    <tr>\n",
              "      <th>27061</th>\n",
              "      <td>2017</td>\n",
              "      <td>16</td>\n",
              "      <td>Prince George's</td>\n",
              "      <td>2217</td>\n",
              "      <td>Incarcerated Youth Center (JACS)</td>\n",
              "      <td>Total Enrollment</td>\n",
              "      <td>NaN</td>\n",
              "      <td>High</td>\n",
              "    </tr>\n",
              "    <tr>\n",
              "      <th>27387</th>\n",
              "      <td>2017</td>\n",
              "      <td>19</td>\n",
              "      <td>Somerset</td>\n",
              "      <td>1003</td>\n",
              "      <td>Ewell School</td>\n",
              "      <td>Total Enrollment</td>\n",
              "      <td>NaN</td>\n",
              "      <td>Middle</td>\n",
              "    </tr>\n",
              "    <tr>\n",
              "      <th>29464</th>\n",
              "      <td>2017</td>\n",
              "      <td>30</td>\n",
              "      <td>Baltimore City</td>\n",
              "      <td>0884</td>\n",
              "      <td>Eager Street Academy</td>\n",
              "      <td>Total Enrollment</td>\n",
              "      <td>NaN</td>\n",
              "      <td>High</td>\n",
              "    </tr>\n",
              "    <tr>\n",
              "      <th>30467</th>\n",
              "      <td>2015</td>\n",
              "      <td>03</td>\n",
              "      <td>Baltimore County</td>\n",
              "      <td>0057</td>\n",
              "      <td>Home Assignments-Elementary</td>\n",
              "      <td>Total Enrollment</td>\n",
              "      <td>NaN</td>\n",
              "      <td>Elementary</td>\n",
              "    </tr>\n",
              "    <tr>\n",
              "      <th>32052</th>\n",
              "      <td>2015</td>\n",
              "      <td>06</td>\n",
              "      <td>Carroll</td>\n",
              "      <td>0726</td>\n",
              "      <td>Crossroads Middle School</td>\n",
              "      <td>Total Enrollment</td>\n",
              "      <td>NaN</td>\n",
              "      <td>Middle</td>\n",
              "    </tr>\n",
              "    <tr>\n",
              "      <th>32681</th>\n",
              "      <td>2015</td>\n",
              "      <td>10</td>\n",
              "      <td>Frederick</td>\n",
              "      <td>0206</td>\n",
              "      <td>Heather Ridge Middle School</td>\n",
              "      <td>Total Enrollment</td>\n",
              "      <td>NaN</td>\n",
              "      <td>Middle</td>\n",
              "    </tr>\n",
              "    <tr>\n",
              "      <th>32683</th>\n",
              "      <td>2015</td>\n",
              "      <td>10</td>\n",
              "      <td>Frederick</td>\n",
              "      <td>0208</td>\n",
              "      <td>Heather Ridge High School</td>\n",
              "      <td>Total Enrollment</td>\n",
              "      <td>NaN</td>\n",
              "      <td>High</td>\n",
              "    </tr>\n",
              "    <tr>\n",
              "      <th>36989</th>\n",
              "      <td>2015</td>\n",
              "      <td>16</td>\n",
              "      <td>Prince George's</td>\n",
              "      <td>2217</td>\n",
              "      <td>Incarcerated Youth Center (JACS)</td>\n",
              "      <td>Total Enrollment</td>\n",
              "      <td>NaN</td>\n",
              "      <td>High</td>\n",
              "    </tr>\n",
              "    <tr>\n",
              "      <th>40434</th>\n",
              "      <td>2014</td>\n",
              "      <td>03</td>\n",
              "      <td>Baltimore County</td>\n",
              "      <td>0057</td>\n",
              "      <td>Home Assignments-Elementary</td>\n",
              "      <td>Total Enrollment</td>\n",
              "      <td>NaN</td>\n",
              "      <td>Elementary</td>\n",
              "    </tr>\n",
              "    <tr>\n",
              "      <th>42021</th>\n",
              "      <td>2014</td>\n",
              "      <td>06</td>\n",
              "      <td>Carroll</td>\n",
              "      <td>0726</td>\n",
              "      <td>Crossroads Middle School</td>\n",
              "      <td>Total Enrollment</td>\n",
              "      <td>NaN</td>\n",
              "      <td>Middle</td>\n",
              "    </tr>\n",
              "    <tr>\n",
              "      <th>44881</th>\n",
              "      <td>2014</td>\n",
              "      <td>15</td>\n",
              "      <td>Montgomery</td>\n",
              "      <td>0587</td>\n",
              "      <td>PEP - Itinerant</td>\n",
              "      <td>Total Enrollment</td>\n",
              "      <td>NaN</td>\n",
              "      <td>Elementary</td>\n",
              "    </tr>\n",
              "    <tr>\n",
              "      <th>49387</th>\n",
              "      <td>2013</td>\n",
              "      <td>01</td>\n",
              "      <td>Allegany</td>\n",
              "      <td>0602</td>\n",
              "      <td>Allegany County Evening High School</td>\n",
              "      <td>Total Enrollment</td>\n",
              "      <td>NaN</td>\n",
              "      <td>High</td>\n",
              "    </tr>\n",
              "    <tr>\n",
              "      <th>50327</th>\n",
              "      <td>2013</td>\n",
              "      <td>03</td>\n",
              "      <td>Baltimore County</td>\n",
              "      <td>0057</td>\n",
              "      <td>Home Assignments-Elementary</td>\n",
              "      <td>Total Enrollment</td>\n",
              "      <td>NaN</td>\n",
              "      <td>Elementary</td>\n",
              "    </tr>\n",
              "    <tr>\n",
              "      <th>50367</th>\n",
              "      <td>2013</td>\n",
              "      <td>03</td>\n",
              "      <td>Baltimore County</td>\n",
              "      <td>0077</td>\n",
              "      <td>Baltimore County Detention Center</td>\n",
              "      <td>Total Enrollment</td>\n",
              "      <td>NaN</td>\n",
              "      <td>High</td>\n",
              "    </tr>\n",
              "    <tr>\n",
              "      <th>51914</th>\n",
              "      <td>2013</td>\n",
              "      <td>06</td>\n",
              "      <td>Carroll</td>\n",
              "      <td>0726</td>\n",
              "      <td>Crossroads Middle School</td>\n",
              "      <td>Total Enrollment</td>\n",
              "      <td>NaN</td>\n",
              "      <td>Middle</td>\n",
              "    </tr>\n",
              "    <tr>\n",
              "      <th>54753</th>\n",
              "      <td>2013</td>\n",
              "      <td>15</td>\n",
              "      <td>Montgomery</td>\n",
              "      <td>0587</td>\n",
              "      <td>PEP - Itinerant</td>\n",
              "      <td>Total Enrollment</td>\n",
              "      <td>NaN</td>\n",
              "      <td>Elementary</td>\n",
              "    </tr>\n",
              "    <tr>\n",
              "      <th>57381</th>\n",
              "      <td>2013</td>\n",
              "      <td>21</td>\n",
              "      <td>Washington</td>\n",
              "      <td>9999</td>\n",
              "      <td>Evening High School</td>\n",
              "      <td>Total Enrollment</td>\n",
              "      <td>NaN</td>\n",
              "      <td>High</td>\n",
              "    </tr>\n",
              "    <tr>\n",
              "      <th>59267</th>\n",
              "      <td>2012</td>\n",
              "      <td>01</td>\n",
              "      <td>Allegany</td>\n",
              "      <td>0602</td>\n",
              "      <td>Allegany County Evening High School</td>\n",
              "      <td>Total Enrollment</td>\n",
              "      <td>NaN</td>\n",
              "      <td>High</td>\n",
              "    </tr>\n",
              "    <tr>\n",
              "      <th>60204</th>\n",
              "      <td>2012</td>\n",
              "      <td>03</td>\n",
              "      <td>Baltimore County</td>\n",
              "      <td>0057</td>\n",
              "      <td>Home Teaching-Elementary</td>\n",
              "      <td>Total Enrollment</td>\n",
              "      <td>NaN</td>\n",
              "      <td>Elementary</td>\n",
              "    </tr>\n",
              "    <tr>\n",
              "      <th>61789</th>\n",
              "      <td>2012</td>\n",
              "      <td>06</td>\n",
              "      <td>Carroll</td>\n",
              "      <td>0726</td>\n",
              "      <td>Crossroads Middle School</td>\n",
              "      <td>Total Enrollment</td>\n",
              "      <td>NaN</td>\n",
              "      <td>Middle</td>\n",
              "    </tr>\n",
              "    <tr>\n",
              "      <th>66915</th>\n",
              "      <td>2012</td>\n",
              "      <td>19</td>\n",
              "      <td>Somerset</td>\n",
              "      <td>1003</td>\n",
              "      <td>Ewell School</td>\n",
              "      <td>Total Enrollment</td>\n",
              "      <td>NaN</td>\n",
              "      <td>Middle</td>\n",
              "    </tr>\n",
              "    <tr>\n",
              "      <th>67276</th>\n",
              "      <td>2012</td>\n",
              "      <td>21</td>\n",
              "      <td>Washington</td>\n",
              "      <td>9999</td>\n",
              "      <td>Evening High School</td>\n",
              "      <td>Total Enrollment</td>\n",
              "      <td>NaN</td>\n",
              "      <td>High</td>\n",
              "    </tr>\n",
              "    <tr>\n",
              "      <th>70097</th>\n",
              "      <td>2019</td>\n",
              "      <td>03</td>\n",
              "      <td>Baltimore County</td>\n",
              "      <td>0057</td>\n",
              "      <td>Home Assignments-Elementary</td>\n",
              "      <td>Total Enrollment</td>\n",
              "      <td>NaN</td>\n",
              "      <td>Middle</td>\n",
              "    </tr>\n",
              "    <tr>\n",
              "      <th>71407</th>\n",
              "      <td>2019</td>\n",
              "      <td>04</td>\n",
              "      <td>Calvert</td>\n",
              "      <td>0500</td>\n",
              "      <td>Calvert County Alternative School</td>\n",
              "      <td>Total Enrollment</td>\n",
              "      <td>NaN</td>\n",
              "      <td>High</td>\n",
              "    </tr>\n",
              "    <tr>\n",
              "      <th>71677</th>\n",
              "      <td>2019</td>\n",
              "      <td>06</td>\n",
              "      <td>Carroll</td>\n",
              "      <td>0718</td>\n",
              "      <td>PRIDE School</td>\n",
              "      <td>Total Enrollment</td>\n",
              "      <td>NaN</td>\n",
              "      <td>Elementary</td>\n",
              "    </tr>\n",
              "    <tr>\n",
              "      <th>71680</th>\n",
              "      <td>2019</td>\n",
              "      <td>06</td>\n",
              "      <td>Carroll</td>\n",
              "      <td>0726</td>\n",
              "      <td>Crossroads Middle School</td>\n",
              "      <td>Total Enrollment</td>\n",
              "      <td>NaN</td>\n",
              "      <td>Middle</td>\n",
              "    </tr>\n",
              "    <tr>\n",
              "      <th>76847</th>\n",
              "      <td>2019</td>\n",
              "      <td>19</td>\n",
              "      <td>Somerset</td>\n",
              "      <td>1003</td>\n",
              "      <td>Ewell School</td>\n",
              "      <td>Total Enrollment</td>\n",
              "      <td>NaN</td>\n",
              "      <td>Middle</td>\n",
              "    </tr>\n",
              "    <tr>\n",
              "      <th>81170</th>\n",
              "      <td>2018</td>\n",
              "      <td>04</td>\n",
              "      <td>Calvert</td>\n",
              "      <td>0500</td>\n",
              "      <td>Calvert County Alternative School</td>\n",
              "      <td>Total Enrollment</td>\n",
              "      <td>NaN</td>\n",
              "      <td>High</td>\n",
              "    </tr>\n",
              "    <tr>\n",
              "      <th>81444</th>\n",
              "      <td>2018</td>\n",
              "      <td>06</td>\n",
              "      <td>Carroll</td>\n",
              "      <td>0726</td>\n",
              "      <td>Crossroads Middle School</td>\n",
              "      <td>Total Enrollment</td>\n",
              "      <td>NaN</td>\n",
              "      <td>Middle</td>\n",
              "    </tr>\n",
              "    <tr>\n",
              "      <th>86264</th>\n",
              "      <td>2018</td>\n",
              "      <td>16</td>\n",
              "      <td>Prince George's</td>\n",
              "      <td>2217</td>\n",
              "      <td>Incarcerated Youth Center (JACS)</td>\n",
              "      <td>Total Enrollment</td>\n",
              "      <td>NaN</td>\n",
              "      <td>High</td>\n",
              "    </tr>\n",
              "  </tbody>\n",
              "</table>\n",
              "</div>"
            ],
            "text/plain": [
              "       school_year lss_num  ... enrolled_count grade_level\n",
              "990           2020      03  ...            NaN        High\n",
              "1004          2020      03  ...            NaN        High\n",
              "1008          2020      03  ...            NaN      Middle\n",
              "2323          2020      04  ...            NaN        High\n",
              "2594          2020      06  ...            NaN  Elementary\n",
              "2597          2020      06  ...            NaN      Middle\n",
              "7773          2020      19  ...            NaN      Middle\n",
              "12056         2016      04  ...            NaN        High\n",
              "15067         2016      15  ...            NaN        High\n",
              "17526         2016      19  ...            NaN      Middle\n",
              "20644         2017      03  ...            NaN  Elementary\n",
              "21944         2017      04  ...            NaN        High\n",
              "27061         2017      16  ...            NaN        High\n",
              "27387         2017      19  ...            NaN      Middle\n",
              "29464         2017      30  ...            NaN        High\n",
              "30467         2015      03  ...            NaN  Elementary\n",
              "32052         2015      06  ...            NaN      Middle\n",
              "32681         2015      10  ...            NaN      Middle\n",
              "32683         2015      10  ...            NaN        High\n",
              "36989         2015      16  ...            NaN        High\n",
              "40434         2014      03  ...            NaN  Elementary\n",
              "42021         2014      06  ...            NaN      Middle\n",
              "44881         2014      15  ...            NaN  Elementary\n",
              "49387         2013      01  ...            NaN        High\n",
              "50327         2013      03  ...            NaN  Elementary\n",
              "50367         2013      03  ...            NaN        High\n",
              "51914         2013      06  ...            NaN      Middle\n",
              "54753         2013      15  ...            NaN  Elementary\n",
              "57381         2013      21  ...            NaN        High\n",
              "59267         2012      01  ...            NaN        High\n",
              "60204         2012      03  ...            NaN  Elementary\n",
              "61789         2012      06  ...            NaN      Middle\n",
              "66915         2012      19  ...            NaN      Middle\n",
              "67276         2012      21  ...            NaN        High\n",
              "70097         2019      03  ...            NaN      Middle\n",
              "71407         2019      04  ...            NaN        High\n",
              "71677         2019      06  ...            NaN  Elementary\n",
              "71680         2019      06  ...            NaN      Middle\n",
              "76847         2019      19  ...            NaN      Middle\n",
              "81170         2018      04  ...            NaN        High\n",
              "81444         2018      06  ...            NaN      Middle\n",
              "86264         2018      16  ...            NaN        High\n",
              "\n",
              "[42 rows x 8 columns]"
            ]
          },
          "metadata": {
            "tags": []
          },
          "execution_count": 11
        }
      ]
    },
    {
      "cell_type": "markdown",
      "metadata": {
        "id": "OKk2lM0gAxFE"
      },
      "source": [
        "## Make a line graph with different categories"
      ]
    },
    {
      "cell_type": "code",
      "metadata": {
        "id": "gM8NhT5_AUqZ"
      },
      "source": [
        "# make a df with total enrollment for each district\n",
        "# all \"school_name\" that start with \"All\"\n",
        "df_all_district = df[(df[\"school_name\"].str.startswith(\"All \")) & (df[\"lss_num\"] != \"A\") & (df[\"grade\"] == \"Total Enrollment\")]"
      ],
      "execution_count": 12,
      "outputs": []
    },
    {
      "cell_type": "code",
      "metadata": {
        "id": "75EgXmgJBF-m"
      },
      "source": [
        "# preview\n",
        "df_all_district = df_all_district.sort_values(by = \"school_year\")"
      ],
      "execution_count": 13,
      "outputs": []
    },
    {
      "cell_type": "code",
      "metadata": {
        "id": "MaF_ydtwBKl7"
      },
      "source": [
        "# make the school name a category to make a line graph for each district on our line graph\n",
        "# make a line graph\n",
        "line_all_dist = px.line(df_all_district,\n",
        "                      x = \"school_year\",\n",
        "                      y = \"enrolled_count\",\n",
        "                      title = \"Total Enrollment in Maryland Public Schools, 2012-2020\",\n",
        "                      labels = {\"school_year\": \"School Year\", \"enrolled_count\": \"Number of Students Enrolled\", \"lss_name\": \"School District\"},\n",
        "                      color = \"lss_name\")"
      ],
      "execution_count": 14,
      "outputs": []
    },
    {
      "cell_type": "code",
      "metadata": {
        "colab": {
          "base_uri": "https://localhost:8080/",
          "height": 542
        },
        "id": "MGY8YsG2DATn",
        "outputId": "b5d0bd05-92f5-43da-f064-70b5fb2ad35a"
      },
      "source": [
        "# view viz\n",
        "line_all_dist"
      ],
      "execution_count": 15,
      "outputs": [
        {
          "output_type": "display_data",
          "data": {
            "text/html": [
              "<html>\n",
              "<head><meta charset=\"utf-8\" /></head>\n",
              "<body>\n",
              "    <div>\n",
              "            <script src=\"https://cdnjs.cloudflare.com/ajax/libs/mathjax/2.7.5/MathJax.js?config=TeX-AMS-MML_SVG\"></script><script type=\"text/javascript\">if (window.MathJax) {MathJax.Hub.Config({SVG: {font: \"STIX-Web\"}});}</script>\n",
              "                <script type=\"text/javascript\">window.PlotlyConfig = {MathJaxConfig: 'local'};</script>\n",
              "        <script src=\"https://cdn.plot.ly/plotly-latest.min.js\"></script>    \n",
              "            <div id=\"e668a7a6-23a6-47e9-877a-bdcf3e1cef71\" class=\"plotly-graph-div\" style=\"height:525px; width:100%;\"></div>\n",
              "            <script type=\"text/javascript\">\n",
              "                \n",
              "                    window.PLOTLYENV=window.PLOTLYENV || {};\n",
              "                    \n",
              "                if (document.getElementById(\"e668a7a6-23a6-47e9-877a-bdcf3e1cef71\")) {\n",
              "                    Plotly.newPlot(\n",
              "                        'e668a7a6-23a6-47e9-877a-bdcf3e1cef71',\n",
              "                        [{\"hoverlabel\": {\"namelength\": 0}, \"hovertemplate\": \"School District=Worcester<br>School Year=%{x}<br>Number of Students Enrolled=%{y}\", \"legendgroup\": \"School District=Worcester\", \"line\": {\"color\": \"#636efa\", \"dash\": \"solid\"}, \"mode\": \"lines\", \"name\": \"School District=Worcester\", \"showlegend\": true, \"type\": \"scatter\", \"x\": [2012, 2013, 2014, 2015, 2016, 2017, 2018, 2019, 2020], \"xaxis\": \"x\", \"y\": [6643.0, 6650.0, 6649.0, 6654.0, 6660.0, 6667.0, 6684.0, 6810.0, 6882.0], \"yaxis\": \"y\"}, {\"hoverlabel\": {\"namelength\": 0}, \"hovertemplate\": \"School District=Baltimore City<br>School Year=%{x}<br>Number of Students Enrolled=%{y}\", \"legendgroup\": \"School District=Baltimore City\", \"line\": {\"color\": \"#EF553B\", \"dash\": \"solid\"}, \"mode\": \"lines\", \"name\": \"School District=Baltimore City\", \"showlegend\": true, \"type\": \"scatter\", \"x\": [2012, 2013, 2014, 2015, 2016, 2017, 2018, 2019, 2020], \"xaxis\": \"x\", \"y\": [84212.0, 84747.0, 84730.0, 84976.0, 83666.0, 82354.0, 80591.0, 79297.0, 79187.0], \"yaxis\": \"y\"}, {\"hoverlabel\": {\"namelength\": 0}, \"hovertemplate\": \"School District=SEED<br>School Year=%{x}<br>Number of Students Enrolled=%{y}\", \"legendgroup\": \"School District=SEED\", \"line\": {\"color\": \"#00cc96\", \"dash\": \"solid\"}, \"mode\": \"lines\", \"name\": \"School District=SEED\", \"showlegend\": true, \"type\": \"scatter\", \"x\": [2012, 2013, 2014, 2015, 2016, 2017, 2018, 2019, 2020], \"xaxis\": \"x\", \"y\": [308.0, 386.0, 401.0, 406.0, 405.0, 401.0, 400.0, 404.0, 401.0], \"yaxis\": \"y\"}, {\"hoverlabel\": {\"namelength\": 0}, \"hovertemplate\": \"School District=Allegany<br>School Year=%{x}<br>Number of Students Enrolled=%{y}\", \"legendgroup\": \"School District=Allegany\", \"line\": {\"color\": \"#ab63fa\", \"dash\": \"solid\"}, \"mode\": \"lines\", \"name\": \"School District=Allegany\", \"showlegend\": true, \"type\": \"scatter\", \"x\": [2012, 2013, 2014, 2015, 2016, 2017, 2018, 2019, 2020], \"xaxis\": \"x\", \"y\": [8913.0, 8929.0, 8872.0, 8865.0, 8812.0, 8702.0, 8629.0, 8539.0, 8437.0], \"yaxis\": \"y\"}, {\"hoverlabel\": {\"namelength\": 0}, \"hovertemplate\": \"School District=Anne Arundel<br>School Year=%{x}<br>Number of Students Enrolled=%{y}\", \"legendgroup\": \"School District=Anne Arundel\", \"line\": {\"color\": \"#FFA15A\", \"dash\": \"solid\"}, \"mode\": \"lines\", \"name\": \"School District=Anne Arundel\", \"showlegend\": true, \"type\": \"scatter\", \"x\": [2012, 2013, 2014, 2015, 2016, 2017, 2018, 2019, 2020], \"xaxis\": \"x\", \"y\": [76303.0, 77770.0, 78489.0, 79518.0, 80387.0, 81379.0, 82777.0, 83300.0, 84984.0], \"yaxis\": \"y\"}, {\"hoverlabel\": {\"namelength\": 0}, \"hovertemplate\": \"School District=Baltimore County<br>School Year=%{x}<br>Number of Students Enrolled=%{y}\", \"legendgroup\": \"School District=Baltimore County\", \"line\": {\"color\": \"#19d3f3\", \"dash\": \"solid\"}, \"mode\": \"lines\", \"name\": \"School District=Baltimore County\", \"showlegend\": true, \"type\": \"scatter\", \"x\": [2012, 2013, 2014, 2015, 2016, 2017, 2018, 2019, 2020], \"xaxis\": \"x\", \"y\": [105153.0, 106927.0, 108191.0, 109830.0, 111138.0, 112139.0, 113282.0, 113814.0, 115038.0], \"yaxis\": \"y\"}, {\"hoverlabel\": {\"namelength\": 0}, \"hovertemplate\": \"School District=Calvert<br>School Year=%{x}<br>Number of Students Enrolled=%{y}\", \"legendgroup\": \"School District=Calvert\", \"line\": {\"color\": \"#FF6692\", \"dash\": \"solid\"}, \"mode\": \"lines\", \"name\": \"School District=Calvert\", \"showlegend\": true, \"type\": \"scatter\", \"x\": [2012, 2013, 2014, 2015, 2016, 2017, 2018, 2019, 2020], \"xaxis\": \"x\", \"y\": [16553.0, 16323.0, 16221.0, 16031.0, 16017.0, 15950.0, 15908.0, 15936.0, 16022.0], \"yaxis\": \"y\"}, {\"hoverlabel\": {\"namelength\": 0}, \"hovertemplate\": \"School District=Caroline<br>School Year=%{x}<br>Number of Students Enrolled=%{y}\", \"legendgroup\": \"School District=Caroline\", \"line\": {\"color\": \"#B6E880\", \"dash\": \"solid\"}, \"mode\": \"lines\", \"name\": \"School District=Caroline\", \"showlegend\": true, \"type\": \"scatter\", \"x\": [2012, 2013, 2014, 2015, 2016, 2017, 2018, 2019, 2020], \"xaxis\": \"x\", \"y\": [5545.0, 5585.0, 5545.0, 5592.0, 5602.0, 5705.0, 5787.0, 5829.0, 5874.0], \"yaxis\": \"y\"}, {\"hoverlabel\": {\"namelength\": 0}, \"hovertemplate\": \"School District=Carroll<br>School Year=%{x}<br>Number of Students Enrolled=%{y}\", \"legendgroup\": \"School District=Carroll\", \"line\": {\"color\": \"#FF97FF\", \"dash\": \"solid\"}, \"mode\": \"lines\", \"name\": \"School District=Carroll\", \"showlegend\": true, \"type\": \"scatter\", \"x\": [2012, 2013, 2014, 2015, 2016, 2017, 2018, 2019, 2020], \"xaxis\": \"x\", \"y\": [27082.0, 26687.0, 26331.0, 25879.0, 25551.0, 25255.0, 25290.0, 25179.0, 25345.0], \"yaxis\": \"y\"}, {\"hoverlabel\": {\"namelength\": 0}, \"hovertemplate\": \"School District=Cecil<br>School Year=%{x}<br>Number of Students Enrolled=%{y}\", \"legendgroup\": \"School District=Cecil\", \"line\": {\"color\": \"#FECB52\", \"dash\": \"solid\"}, \"mode\": \"lines\", \"name\": \"School District=Cecil\", \"showlegend\": true, \"type\": \"scatter\", \"x\": [2012, 2013, 2014, 2015, 2016, 2017, 2018, 2019, 2020], \"xaxis\": \"x\", \"y\": [15827.0, 15634.0, 15824.0, 15681.0, 15859.0, 15633.0, 15364.0, 15307.0, 15256.0], \"yaxis\": \"y\"}, {\"hoverlabel\": {\"namelength\": 0}, \"hovertemplate\": \"School District=Charles<br>School Year=%{x}<br>Number of Students Enrolled=%{y}\", \"legendgroup\": \"School District=Charles\", \"line\": {\"color\": \"#636efa\", \"dash\": \"solid\"}, \"mode\": \"lines\", \"name\": \"School District=Charles\", \"showlegend\": true, \"type\": \"scatter\", \"x\": [2012, 2013, 2014, 2015, 2016, 2017, 2018, 2019, 2020], \"xaxis\": \"x\", \"y\": [26778.0, 26644.0, 26455.0, 26258.0, 26307.0, 26390.0, 26891.0, 27108.0, 27521.0], \"yaxis\": \"y\"}, {\"hoverlabel\": {\"namelength\": 0}, \"hovertemplate\": \"School District=Dorchester<br>School Year=%{x}<br>Number of Students Enrolled=%{y}\", \"legendgroup\": \"School District=Dorchester\", \"line\": {\"color\": \"#EF553B\", \"dash\": \"solid\"}, \"mode\": \"lines\", \"name\": \"School District=Dorchester\", \"showlegend\": true, \"type\": \"scatter\", \"x\": [2012, 2013, 2014, 2015, 2016, 2017, 2018, 2019, 2020], \"xaxis\": \"x\", \"y\": [4647.0, 4718.0, 4766.0, 4796.0, 4739.0, 4816.0, 4767.0, 4785.0, 4710.0], \"yaxis\": \"y\"}, {\"hoverlabel\": {\"namelength\": 0}, \"hovertemplate\": \"School District=Wicomico<br>School Year=%{x}<br>Number of Students Enrolled=%{y}\", \"legendgroup\": \"School District=Wicomico\", \"line\": {\"color\": \"#00cc96\", \"dash\": \"solid\"}, \"mode\": \"lines\", \"name\": \"School District=Wicomico\", \"showlegend\": true, \"type\": \"scatter\", \"x\": [2012, 2013, 2014, 2015, 2016, 2017, 2018, 2019, 2020], \"xaxis\": \"x\", \"y\": [14520.0, 14489.0, 14431.0, 14545.0, 14790.0, 14889.0, 14953.0, 14949.0, 15203.0], \"yaxis\": \"y\"}, {\"hoverlabel\": {\"namelength\": 0}, \"hovertemplate\": \"School District=Garrett<br>School Year=%{x}<br>Number of Students Enrolled=%{y}\", \"legendgroup\": \"School District=Garrett\", \"line\": {\"color\": \"#ab63fa\", \"dash\": \"solid\"}, \"mode\": \"lines\", \"name\": \"School District=Garrett\", \"showlegend\": true, \"type\": \"scatter\", \"x\": [2012, 2013, 2014, 2015, 2016, 2017, 2018, 2019, 2020], \"xaxis\": \"x\", \"y\": [4077.0, 4004.0, 3886.0, 3858.0, 3856.0, 3833.0, 3811.0, 3842.0, 3834.0], \"yaxis\": \"y\"}, {\"hoverlabel\": {\"namelength\": 0}, \"hovertemplate\": \"School District=Harford<br>School Year=%{x}<br>Number of Students Enrolled=%{y}\", \"legendgroup\": \"School District=Harford\", \"line\": {\"color\": \"#FFA15A\", \"dash\": \"solid\"}, \"mode\": \"lines\", \"name\": \"School District=Harford\", \"showlegend\": true, \"type\": \"scatter\", \"x\": [2012, 2013, 2014, 2015, 2016, 2017, 2018, 2019, 2020], \"xaxis\": \"x\", \"y\": [38224.0, 37868.0, 37842.0, 37536.0, 37448.0, 37426.0, 37780.0, 37826.0, 38429.0], \"yaxis\": \"y\"}, {\"hoverlabel\": {\"namelength\": 0}, \"hovertemplate\": \"School District=Howard<br>School Year=%{x}<br>Number of Students Enrolled=%{y}\", \"legendgroup\": \"School District=Howard\", \"line\": {\"color\": \"#19d3f3\", \"dash\": \"solid\"}, \"mode\": \"lines\", \"name\": \"School District=Howard\", \"showlegend\": true, \"type\": \"scatter\", \"x\": [2012, 2013, 2014, 2015, 2016, 2017, 2018, 2019, 2020], \"xaxis\": \"x\", \"y\": [51555.0, 52053.0, 52806.0, 53685.0, 54870.0, 55626.0, 56784.0, 57907.0, 58868.0], \"yaxis\": \"y\"}, {\"hoverlabel\": {\"namelength\": 0}, \"hovertemplate\": \"School District=Kent<br>School Year=%{x}<br>Number of Students Enrolled=%{y}\", \"legendgroup\": \"School District=Kent\", \"line\": {\"color\": \"#FF6692\", \"dash\": \"solid\"}, \"mode\": \"lines\", \"name\": \"School District=Kent\", \"showlegend\": true, \"type\": \"scatter\", \"x\": [2012, 2013, 2014, 2015, 2016, 2017, 2018, 2019, 2020], \"xaxis\": \"x\", \"y\": [2162.0, 2130.0, 2117.0, 2106.0, 2029.0, 2001.0, 1993.0, 1912.0, 1918.0], \"yaxis\": \"y\"}, {\"hoverlabel\": {\"namelength\": 0}, \"hovertemplate\": \"School District=Montgomery<br>School Year=%{x}<br>Number of Students Enrolled=%{y}\", \"legendgroup\": \"School District=Montgomery\", \"line\": {\"color\": \"#B6E880\", \"dash\": \"solid\"}, \"mode\": \"lines\", \"name\": \"School District=Montgomery\", \"showlegend\": true, \"type\": \"scatter\", \"x\": [2012, 2013, 2014, 2015, 2016, 2017, 2018, 2019, 2020], \"xaxis\": \"x\", \"y\": [146459.0, 148780.0, 151295.0, 154434.0, 156380.0, 159010.0, 161546.0, 162680.0, 165267.0], \"yaxis\": \"y\"}, {\"hoverlabel\": {\"namelength\": 0}, \"hovertemplate\": \"School District=Prince George's<br>School Year=%{x}<br>Number of Students Enrolled=%{y}\", \"legendgroup\": \"School District=Prince George's\", \"line\": {\"color\": \"#FF97FF\", \"dash\": \"solid\"}, \"mode\": \"lines\", \"name\": \"School District=Prince George's\", \"showlegend\": true, \"type\": \"scatter\", \"x\": [2012, 2013, 2014, 2015, 2016, 2017, 2018, 2019, 2020], \"xaxis\": \"x\", \"y\": [123833.0, 123737.0, 125136.0, 127576.0, 128936.0, 130814.0, 132322.0, 132667.0, 135962.0], \"yaxis\": \"y\"}, {\"hoverlabel\": {\"namelength\": 0}, \"hovertemplate\": \"School District=Queen Anne's<br>School Year=%{x}<br>Number of Students Enrolled=%{y}\", \"legendgroup\": \"School District=Queen Anne's\", \"line\": {\"color\": \"#FECB52\", \"dash\": \"solid\"}, \"mode\": \"lines\", \"name\": \"School District=Queen Anne's\", \"showlegend\": true, \"type\": \"scatter\", \"x\": [2012, 2013, 2014, 2015, 2016, 2017, 2018, 2019, 2020], \"xaxis\": \"x\", \"y\": [7761.0, 7752.0, 7716.0, 7724.0, 7717.0, 7751.0, 7778.0, 7749.0, 7764.0], \"yaxis\": \"y\"}, {\"hoverlabel\": {\"namelength\": 0}, \"hovertemplate\": \"School District=Saint Mary's<br>School Year=%{x}<br>Number of Students Enrolled=%{y}\", \"legendgroup\": \"School District=Saint Mary's\", \"line\": {\"color\": \"#636efa\", \"dash\": \"solid\"}, \"mode\": \"lines\", \"name\": \"School District=Saint Mary's\", \"showlegend\": true, \"type\": \"scatter\", \"x\": [2012, 2013, 2014, 2015, 2016, 2017, 2018, 2019, 2020], \"xaxis\": \"x\", \"y\": [17449.0, 17453.0, 17841.0, 17887.0, 17941.0, 18067.0, 18053.0, 17999.0, 18083.0], \"yaxis\": \"y\"}, {\"hoverlabel\": {\"namelength\": 0}, \"hovertemplate\": \"School District=Somerset<br>School Year=%{x}<br>Number of Students Enrolled=%{y}\", \"legendgroup\": \"School District=Somerset\", \"line\": {\"color\": \"#EF553B\", \"dash\": \"solid\"}, \"mode\": \"lines\", \"name\": \"School District=Somerset\", \"showlegend\": true, \"type\": \"scatter\", \"x\": [2012, 2013, 2014, 2015, 2016, 2017, 2018, 2019, 2020], \"xaxis\": \"x\", \"y\": [2882.0, 2943.0, 2945.0, 2938.0, 2908.0, 2958.0, 2918.0, 2930.0, 2905.0], \"yaxis\": \"y\"}, {\"hoverlabel\": {\"namelength\": 0}, \"hovertemplate\": \"School District=Washington<br>School Year=%{x}<br>Number of Students Enrolled=%{y}\", \"legendgroup\": \"School District=Washington\", \"line\": {\"color\": \"#00cc96\", \"dash\": \"solid\"}, \"mode\": \"lines\", \"name\": \"School District=Washington\", \"showlegend\": true, \"type\": \"scatter\", \"x\": [2012, 2013, 2014, 2015, 2016, 2017, 2018, 2019, 2020], \"xaxis\": \"x\", \"y\": [22240.0, 22403.0, 22495.0, 22327.0, 22303.0, 22545.0, 22595.0, 22681.0, 22993.0], \"yaxis\": \"y\"}, {\"hoverlabel\": {\"namelength\": 0}, \"hovertemplate\": \"School District=Talbot<br>School Year=%{x}<br>Number of Students Enrolled=%{y}\", \"legendgroup\": \"School District=Talbot\", \"line\": {\"color\": \"#ab63fa\", \"dash\": \"solid\"}, \"mode\": \"lines\", \"name\": \"School District=Talbot\", \"showlegend\": true, \"type\": \"scatter\", \"x\": [2012, 2013, 2014, 2015, 2016, 2017, 2018, 2019, 2020], \"xaxis\": \"x\", \"y\": [4547.0, 4570.0, 4537.0, 4630.0, 4625.0, 4593.0, 4646.0, 4674.0, 4703.0], \"yaxis\": \"y\"}, {\"hoverlabel\": {\"namelength\": 0}, \"hovertemplate\": \"School District=Frederick<br>School Year=%{x}<br>Number of Students Enrolled=%{y}\", \"legendgroup\": \"School District=Frederick\", \"line\": {\"color\": \"#FFA15A\", \"dash\": \"solid\"}, \"mode\": \"lines\", \"name\": \"School District=Frederick\", \"showlegend\": true, \"type\": \"scatter\", \"x\": [2012, 2013, 2014, 2015, 2016, 2017, 2018, 2019, 2020], \"xaxis\": \"x\", \"y\": [40413.0, 40456.0, 40648.0, 40782.0, 40655.0, 41317.0, 42140.0, 42713.0, 43828.0], \"yaxis\": \"y\"}],\n",
              "                        {\"legend\": {\"tracegroupgap\": 0}, \"template\": {\"data\": {\"bar\": [{\"error_x\": {\"color\": \"#2a3f5f\"}, \"error_y\": {\"color\": \"#2a3f5f\"}, \"marker\": {\"line\": {\"color\": \"#E5ECF6\", \"width\": 0.5}}, \"type\": \"bar\"}], \"barpolar\": [{\"marker\": {\"line\": {\"color\": \"#E5ECF6\", \"width\": 0.5}}, \"type\": \"barpolar\"}], \"carpet\": [{\"aaxis\": {\"endlinecolor\": \"#2a3f5f\", \"gridcolor\": \"white\", \"linecolor\": \"white\", \"minorgridcolor\": \"white\", \"startlinecolor\": \"#2a3f5f\"}, \"baxis\": {\"endlinecolor\": \"#2a3f5f\", \"gridcolor\": \"white\", \"linecolor\": \"white\", \"minorgridcolor\": \"white\", \"startlinecolor\": \"#2a3f5f\"}, \"type\": \"carpet\"}], \"choropleth\": [{\"colorbar\": {\"outlinewidth\": 0, \"ticks\": \"\"}, \"type\": \"choropleth\"}], \"contour\": [{\"colorbar\": {\"outlinewidth\": 0, \"ticks\": \"\"}, \"colorscale\": [[0.0, \"#0d0887\"], [0.1111111111111111, \"#46039f\"], [0.2222222222222222, \"#7201a8\"], [0.3333333333333333, \"#9c179e\"], [0.4444444444444444, \"#bd3786\"], [0.5555555555555556, \"#d8576b\"], [0.6666666666666666, \"#ed7953\"], [0.7777777777777778, \"#fb9f3a\"], [0.8888888888888888, \"#fdca26\"], [1.0, \"#f0f921\"]], \"type\": \"contour\"}], \"contourcarpet\": [{\"colorbar\": {\"outlinewidth\": 0, \"ticks\": \"\"}, \"type\": \"contourcarpet\"}], \"heatmap\": [{\"colorbar\": {\"outlinewidth\": 0, \"ticks\": \"\"}, \"colorscale\": [[0.0, \"#0d0887\"], [0.1111111111111111, \"#46039f\"], [0.2222222222222222, \"#7201a8\"], [0.3333333333333333, \"#9c179e\"], [0.4444444444444444, \"#bd3786\"], [0.5555555555555556, \"#d8576b\"], [0.6666666666666666, \"#ed7953\"], [0.7777777777777778, \"#fb9f3a\"], [0.8888888888888888, \"#fdca26\"], [1.0, \"#f0f921\"]], \"type\": \"heatmap\"}], \"heatmapgl\": [{\"colorbar\": {\"outlinewidth\": 0, \"ticks\": \"\"}, \"colorscale\": [[0.0, \"#0d0887\"], [0.1111111111111111, \"#46039f\"], [0.2222222222222222, \"#7201a8\"], [0.3333333333333333, \"#9c179e\"], [0.4444444444444444, \"#bd3786\"], [0.5555555555555556, \"#d8576b\"], [0.6666666666666666, \"#ed7953\"], [0.7777777777777778, \"#fb9f3a\"], [0.8888888888888888, \"#fdca26\"], [1.0, \"#f0f921\"]], \"type\": \"heatmapgl\"}], \"histogram\": [{\"marker\": {\"colorbar\": {\"outlinewidth\": 0, \"ticks\": \"\"}}, \"type\": \"histogram\"}], \"histogram2d\": [{\"colorbar\": {\"outlinewidth\": 0, \"ticks\": \"\"}, \"colorscale\": [[0.0, \"#0d0887\"], [0.1111111111111111, \"#46039f\"], [0.2222222222222222, \"#7201a8\"], [0.3333333333333333, \"#9c179e\"], [0.4444444444444444, \"#bd3786\"], [0.5555555555555556, \"#d8576b\"], [0.6666666666666666, \"#ed7953\"], [0.7777777777777778, \"#fb9f3a\"], [0.8888888888888888, \"#fdca26\"], [1.0, \"#f0f921\"]], \"type\": \"histogram2d\"}], \"histogram2dcontour\": [{\"colorbar\": {\"outlinewidth\": 0, \"ticks\": \"\"}, \"colorscale\": [[0.0, \"#0d0887\"], [0.1111111111111111, \"#46039f\"], [0.2222222222222222, \"#7201a8\"], [0.3333333333333333, \"#9c179e\"], [0.4444444444444444, \"#bd3786\"], [0.5555555555555556, \"#d8576b\"], [0.6666666666666666, \"#ed7953\"], [0.7777777777777778, \"#fb9f3a\"], [0.8888888888888888, \"#fdca26\"], [1.0, \"#f0f921\"]], \"type\": \"histogram2dcontour\"}], \"mesh3d\": [{\"colorbar\": {\"outlinewidth\": 0, \"ticks\": \"\"}, \"type\": \"mesh3d\"}], \"parcoords\": [{\"line\": {\"colorbar\": {\"outlinewidth\": 0, \"ticks\": \"\"}}, \"type\": \"parcoords\"}], \"pie\": [{\"automargin\": true, \"type\": \"pie\"}], \"scatter\": [{\"marker\": {\"colorbar\": {\"outlinewidth\": 0, \"ticks\": \"\"}}, \"type\": \"scatter\"}], \"scatter3d\": [{\"line\": {\"colorbar\": {\"outlinewidth\": 0, \"ticks\": \"\"}}, \"marker\": {\"colorbar\": {\"outlinewidth\": 0, \"ticks\": \"\"}}, \"type\": \"scatter3d\"}], \"scattercarpet\": [{\"marker\": {\"colorbar\": {\"outlinewidth\": 0, \"ticks\": \"\"}}, \"type\": \"scattercarpet\"}], \"scattergeo\": [{\"marker\": {\"colorbar\": {\"outlinewidth\": 0, \"ticks\": \"\"}}, \"type\": \"scattergeo\"}], \"scattergl\": [{\"marker\": {\"colorbar\": {\"outlinewidth\": 0, \"ticks\": \"\"}}, \"type\": \"scattergl\"}], \"scattermapbox\": [{\"marker\": {\"colorbar\": {\"outlinewidth\": 0, \"ticks\": \"\"}}, \"type\": \"scattermapbox\"}], \"scatterpolar\": [{\"marker\": {\"colorbar\": {\"outlinewidth\": 0, \"ticks\": \"\"}}, \"type\": \"scatterpolar\"}], \"scatterpolargl\": [{\"marker\": {\"colorbar\": {\"outlinewidth\": 0, \"ticks\": \"\"}}, \"type\": \"scatterpolargl\"}], \"scatterternary\": [{\"marker\": {\"colorbar\": {\"outlinewidth\": 0, \"ticks\": \"\"}}, \"type\": \"scatterternary\"}], \"surface\": [{\"colorbar\": {\"outlinewidth\": 0, \"ticks\": \"\"}, \"colorscale\": [[0.0, \"#0d0887\"], [0.1111111111111111, \"#46039f\"], [0.2222222222222222, \"#7201a8\"], [0.3333333333333333, \"#9c179e\"], [0.4444444444444444, \"#bd3786\"], [0.5555555555555556, \"#d8576b\"], [0.6666666666666666, \"#ed7953\"], [0.7777777777777778, \"#fb9f3a\"], [0.8888888888888888, \"#fdca26\"], [1.0, \"#f0f921\"]], \"type\": \"surface\"}], \"table\": [{\"cells\": {\"fill\": {\"color\": \"#EBF0F8\"}, \"line\": {\"color\": \"white\"}}, \"header\": {\"fill\": {\"color\": \"#C8D4E3\"}, \"line\": {\"color\": \"white\"}}, \"type\": \"table\"}]}, \"layout\": {\"annotationdefaults\": {\"arrowcolor\": \"#2a3f5f\", \"arrowhead\": 0, \"arrowwidth\": 1}, \"coloraxis\": {\"colorbar\": {\"outlinewidth\": 0, \"ticks\": \"\"}}, \"colorscale\": {\"diverging\": [[0, \"#8e0152\"], [0.1, \"#c51b7d\"], [0.2, \"#de77ae\"], [0.3, \"#f1b6da\"], [0.4, \"#fde0ef\"], [0.5, \"#f7f7f7\"], [0.6, \"#e6f5d0\"], [0.7, \"#b8e186\"], [0.8, \"#7fbc41\"], [0.9, \"#4d9221\"], [1, \"#276419\"]], \"sequential\": [[0.0, \"#0d0887\"], [0.1111111111111111, \"#46039f\"], [0.2222222222222222, \"#7201a8\"], [0.3333333333333333, \"#9c179e\"], [0.4444444444444444, \"#bd3786\"], [0.5555555555555556, \"#d8576b\"], [0.6666666666666666, \"#ed7953\"], [0.7777777777777778, \"#fb9f3a\"], [0.8888888888888888, \"#fdca26\"], [1.0, \"#f0f921\"]], \"sequentialminus\": [[0.0, \"#0d0887\"], [0.1111111111111111, \"#46039f\"], [0.2222222222222222, \"#7201a8\"], [0.3333333333333333, \"#9c179e\"], [0.4444444444444444, \"#bd3786\"], [0.5555555555555556, \"#d8576b\"], [0.6666666666666666, \"#ed7953\"], [0.7777777777777778, \"#fb9f3a\"], [0.8888888888888888, \"#fdca26\"], [1.0, \"#f0f921\"]]}, \"colorway\": [\"#636efa\", \"#EF553B\", \"#00cc96\", \"#ab63fa\", \"#FFA15A\", \"#19d3f3\", \"#FF6692\", \"#B6E880\", \"#FF97FF\", \"#FECB52\"], \"font\": {\"color\": \"#2a3f5f\"}, \"geo\": {\"bgcolor\": \"white\", \"lakecolor\": \"white\", \"landcolor\": \"#E5ECF6\", \"showlakes\": true, \"showland\": true, \"subunitcolor\": \"white\"}, \"hoverlabel\": {\"align\": \"left\"}, \"hovermode\": \"closest\", \"mapbox\": {\"style\": \"light\"}, \"paper_bgcolor\": \"white\", \"plot_bgcolor\": \"#E5ECF6\", \"polar\": {\"angularaxis\": {\"gridcolor\": \"white\", \"linecolor\": \"white\", \"ticks\": \"\"}, \"bgcolor\": \"#E5ECF6\", \"radialaxis\": {\"gridcolor\": \"white\", \"linecolor\": \"white\", \"ticks\": \"\"}}, \"scene\": {\"xaxis\": {\"backgroundcolor\": \"#E5ECF6\", \"gridcolor\": \"white\", \"gridwidth\": 2, \"linecolor\": \"white\", \"showbackground\": true, \"ticks\": \"\", \"zerolinecolor\": \"white\"}, \"yaxis\": {\"backgroundcolor\": \"#E5ECF6\", \"gridcolor\": \"white\", \"gridwidth\": 2, \"linecolor\": \"white\", \"showbackground\": true, \"ticks\": \"\", \"zerolinecolor\": \"white\"}, \"zaxis\": {\"backgroundcolor\": \"#E5ECF6\", \"gridcolor\": \"white\", \"gridwidth\": 2, \"linecolor\": \"white\", \"showbackground\": true, \"ticks\": \"\", \"zerolinecolor\": \"white\"}}, \"shapedefaults\": {\"line\": {\"color\": \"#2a3f5f\"}}, \"ternary\": {\"aaxis\": {\"gridcolor\": \"white\", \"linecolor\": \"white\", \"ticks\": \"\"}, \"baxis\": {\"gridcolor\": \"white\", \"linecolor\": \"white\", \"ticks\": \"\"}, \"bgcolor\": \"#E5ECF6\", \"caxis\": {\"gridcolor\": \"white\", \"linecolor\": \"white\", \"ticks\": \"\"}}, \"title\": {\"x\": 0.05}, \"xaxis\": {\"automargin\": true, \"gridcolor\": \"white\", \"linecolor\": \"white\", \"ticks\": \"\", \"title\": {\"standoff\": 15}, \"zerolinecolor\": \"white\", \"zerolinewidth\": 2}, \"yaxis\": {\"automargin\": true, \"gridcolor\": \"white\", \"linecolor\": \"white\", \"ticks\": \"\", \"title\": {\"standoff\": 15}, \"zerolinecolor\": \"white\", \"zerolinewidth\": 2}}}, \"title\": {\"text\": \"Total Enrollment in Maryland Public Schools, 2012-2020\"}, \"xaxis\": {\"anchor\": \"y\", \"domain\": [0.0, 1.0], \"title\": {\"text\": \"School Year\"}}, \"yaxis\": {\"anchor\": \"x\", \"domain\": [0.0, 1.0], \"title\": {\"text\": \"Number of Students Enrolled\"}}},\n",
              "                        {\"responsive\": true}\n",
              "                    ).then(function(){\n",
              "                            \n",
              "var gd = document.getElementById('e668a7a6-23a6-47e9-877a-bdcf3e1cef71');\n",
              "var x = new MutationObserver(function (mutations, observer) {{\n",
              "        var display = window.getComputedStyle(gd).display;\n",
              "        if (!display || display === 'none') {{\n",
              "            console.log([gd, 'removed!']);\n",
              "            Plotly.purge(gd);\n",
              "            observer.disconnect();\n",
              "        }}\n",
              "}});\n",
              "\n",
              "// Listen for the removal of the full notebook cells\n",
              "var notebookContainer = gd.closest('#notebook-container');\n",
              "if (notebookContainer) {{\n",
              "    x.observe(notebookContainer, {childList: true});\n",
              "}}\n",
              "\n",
              "// Listen for the clearing of the current output cell\n",
              "var outputEl = gd.closest('.output');\n",
              "if (outputEl) {{\n",
              "    x.observe(outputEl, {childList: true});\n",
              "}}\n",
              "\n",
              "                        })\n",
              "                };\n",
              "                \n",
              "            </script>\n",
              "        </div>\n",
              "</body>\n",
              "</html>"
            ]
          },
          "metadata": {
            "tags": []
          }
        }
      ]
    },
    {
      "cell_type": "markdown",
      "metadata": {
        "id": "0rBjY_9A2nul"
      },
      "source": [
        "## Make line graph with two y-axes"
      ]
    },
    {
      "cell_type": "code",
      "metadata": {
        "id": "F37yt31zDJba"
      },
      "source": [
        "# create a new df of only Baltimore City Schools\n",
        "df_bmore = df[(df[\"lss_name\"] == \"Baltimore City\") & (df[\"grade\"] == \"Total Enrollment\") & (df[\"school_num\"] != \"A\")]"
      ],
      "execution_count": 16,
      "outputs": []
    },
    {
      "cell_type": "code",
      "metadata": {
        "colab": {
          "base_uri": "https://localhost:8080/",
          "height": 204
        },
        "id": "m3V3BZ8N3c_a",
        "outputId": "3b34d057-cd76-495f-8fac-0733dcbf5018"
      },
      "source": [
        "# preview\n",
        "df_bmore.head()"
      ],
      "execution_count": 17,
      "outputs": [
        {
          "output_type": "execute_result",
          "data": {
            "text/html": [
              "<div>\n",
              "<style scoped>\n",
              "    .dataframe tbody tr th:only-of-type {\n",
              "        vertical-align: middle;\n",
              "    }\n",
              "\n",
              "    .dataframe tbody tr th {\n",
              "        vertical-align: top;\n",
              "    }\n",
              "\n",
              "    .dataframe thead th {\n",
              "        text-align: right;\n",
              "    }\n",
              "</style>\n",
              "<table border=\"1\" class=\"dataframe\">\n",
              "  <thead>\n",
              "    <tr style=\"text-align: right;\">\n",
              "      <th></th>\n",
              "      <th>school_year</th>\n",
              "      <th>lss_num</th>\n",
              "      <th>lss_name</th>\n",
              "      <th>school_num</th>\n",
              "      <th>school_name</th>\n",
              "      <th>grade</th>\n",
              "      <th>enrolled_count</th>\n",
              "      <th>grade_level</th>\n",
              "    </tr>\n",
              "  </thead>\n",
              "  <tbody>\n",
              "    <tr>\n",
              "      <th>8379</th>\n",
              "      <td>2020</td>\n",
              "      <td>30</td>\n",
              "      <td>Baltimore City</td>\n",
              "      <td>0004</td>\n",
              "      <td>Steuart Hill Academic Academy</td>\n",
              "      <td>Total Enrollment</td>\n",
              "      <td>250.0</td>\n",
              "      <td>Elementary</td>\n",
              "    </tr>\n",
              "    <tr>\n",
              "      <th>8387</th>\n",
              "      <td>2020</td>\n",
              "      <td>30</td>\n",
              "      <td>Baltimore City</td>\n",
              "      <td>0007</td>\n",
              "      <td>Cecil Elementary</td>\n",
              "      <td>Total Enrollment</td>\n",
              "      <td>391.0</td>\n",
              "      <td>Elementary</td>\n",
              "    </tr>\n",
              "    <tr>\n",
              "      <th>8398</th>\n",
              "      <td>2020</td>\n",
              "      <td>30</td>\n",
              "      <td>Baltimore City</td>\n",
              "      <td>0008</td>\n",
              "      <td>City Springs Elementary/Middle</td>\n",
              "      <td>Total Enrollment</td>\n",
              "      <td>703.0</td>\n",
              "      <td>Middle</td>\n",
              "    </tr>\n",
              "    <tr>\n",
              "      <th>8409</th>\n",
              "      <td>2020</td>\n",
              "      <td>30</td>\n",
              "      <td>Baltimore City</td>\n",
              "      <td>0010</td>\n",
              "      <td>James McHenry Elementary/Middle</td>\n",
              "      <td>Total Enrollment</td>\n",
              "      <td>625.0</td>\n",
              "      <td>Middle</td>\n",
              "    </tr>\n",
              "    <tr>\n",
              "      <th>8417</th>\n",
              "      <td>2020</td>\n",
              "      <td>30</td>\n",
              "      <td>Baltimore City</td>\n",
              "      <td>0011</td>\n",
              "      <td>Eutaw-Marshburn Elementary</td>\n",
              "      <td>Total Enrollment</td>\n",
              "      <td>271.0</td>\n",
              "      <td>Elementary</td>\n",
              "    </tr>\n",
              "  </tbody>\n",
              "</table>\n",
              "</div>"
            ],
            "text/plain": [
              "      school_year lss_num  ... enrolled_count grade_level\n",
              "8379         2020      30  ...          250.0  Elementary\n",
              "8387         2020      30  ...          391.0  Elementary\n",
              "8398         2020      30  ...          703.0      Middle\n",
              "8409         2020      30  ...          625.0      Middle\n",
              "8417         2020      30  ...          271.0  Elementary\n",
              "\n",
              "[5 rows x 8 columns]"
            ]
          },
          "metadata": {
            "tags": []
          },
          "execution_count": 17
        }
      ]
    },
    {
      "cell_type": "code",
      "metadata": {
        "id": "QyI7ADJ5PK_v"
      },
      "source": [
        "# add column for average enrollment for each year\n",
        "df_bmore[\"avg_enrolled_count\"] = df_bmore.groupby(\"school_year\")[\"enrolled_count\"].transform(\"mean\")"
      ],
      "execution_count": 18,
      "outputs": []
    },
    {
      "cell_type": "code",
      "metadata": {
        "id": "EPt7O06D3fV1"
      },
      "source": [
        "# make aggregated table for averages of enrolled counts per year for each grade level\n",
        "df_bmore_grade = df_bmore.groupby([\"school_year\",\"grade_level\"])[[\"enrolled_count\", \"avg_enrolled_count\"]].agg([\"mean\"]).reset_index()"
      ],
      "execution_count": 19,
      "outputs": []
    },
    {
      "cell_type": "code",
      "metadata": {
        "colab": {
          "base_uri": "https://localhost:8080/",
          "height": 390
        },
        "id": "QXYO1HyeOatM",
        "outputId": "9227bd1c-ce32-458c-b00f-69f6b05a107b"
      },
      "source": [
        "# preview new df\n",
        "df_bmore_grade.head(10)"
      ],
      "execution_count": 20,
      "outputs": [
        {
          "output_type": "execute_result",
          "data": {
            "text/html": [
              "<div>\n",
              "<style scoped>\n",
              "    .dataframe tbody tr th:only-of-type {\n",
              "        vertical-align: middle;\n",
              "    }\n",
              "\n",
              "    .dataframe tbody tr th {\n",
              "        vertical-align: top;\n",
              "    }\n",
              "\n",
              "    .dataframe thead tr th {\n",
              "        text-align: left;\n",
              "    }\n",
              "</style>\n",
              "<table border=\"1\" class=\"dataframe\">\n",
              "  <thead>\n",
              "    <tr>\n",
              "      <th></th>\n",
              "      <th>school_year</th>\n",
              "      <th>grade_level</th>\n",
              "      <th>enrolled_count</th>\n",
              "      <th>avg_enrolled_count</th>\n",
              "    </tr>\n",
              "    <tr>\n",
              "      <th></th>\n",
              "      <th></th>\n",
              "      <th></th>\n",
              "      <th>mean</th>\n",
              "      <th>mean</th>\n",
              "    </tr>\n",
              "  </thead>\n",
              "  <tbody>\n",
              "    <tr>\n",
              "      <th>0</th>\n",
              "      <td>2012</td>\n",
              "      <td>Elementary</td>\n",
              "      <td>350.636364</td>\n",
              "      <td>431.856410</td>\n",
              "    </tr>\n",
              "    <tr>\n",
              "      <th>1</th>\n",
              "      <td>2012</td>\n",
              "      <td>High</td>\n",
              "      <td>534.100000</td>\n",
              "      <td>431.856410</td>\n",
              "    </tr>\n",
              "    <tr>\n",
              "      <th>2</th>\n",
              "      <td>2012</td>\n",
              "      <td>Middle</td>\n",
              "      <td>424.688889</td>\n",
              "      <td>431.856410</td>\n",
              "    </tr>\n",
              "    <tr>\n",
              "      <th>3</th>\n",
              "      <td>2013</td>\n",
              "      <td>Elementary</td>\n",
              "      <td>369.473684</td>\n",
              "      <td>436.840206</td>\n",
              "    </tr>\n",
              "    <tr>\n",
              "      <th>4</th>\n",
              "      <td>2013</td>\n",
              "      <td>High</td>\n",
              "      <td>523.666667</td>\n",
              "      <td>436.840206</td>\n",
              "    </tr>\n",
              "    <tr>\n",
              "      <th>5</th>\n",
              "      <td>2013</td>\n",
              "      <td>Middle</td>\n",
              "      <td>430.000000</td>\n",
              "      <td>436.840206</td>\n",
              "    </tr>\n",
              "    <tr>\n",
              "      <th>6</th>\n",
              "      <td>2014</td>\n",
              "      <td>Elementary</td>\n",
              "      <td>357.722222</td>\n",
              "      <td>448.306878</td>\n",
              "    </tr>\n",
              "    <tr>\n",
              "      <th>7</th>\n",
              "      <td>2014</td>\n",
              "      <td>High</td>\n",
              "      <td>534.180000</td>\n",
              "      <td>448.306878</td>\n",
              "    </tr>\n",
              "    <tr>\n",
              "      <th>8</th>\n",
              "      <td>2014</td>\n",
              "      <td>Middle</td>\n",
              "      <td>455.341176</td>\n",
              "      <td>448.306878</td>\n",
              "    </tr>\n",
              "    <tr>\n",
              "      <th>9</th>\n",
              "      <td>2015</td>\n",
              "      <td>Elementary</td>\n",
              "      <td>344.277778</td>\n",
              "      <td>466.901099</td>\n",
              "    </tr>\n",
              "  </tbody>\n",
              "</table>\n",
              "</div>"
            ],
            "text/plain": [
              "  school_year grade_level enrolled_count avg_enrolled_count\n",
              "                                    mean               mean\n",
              "0        2012  Elementary     350.636364         431.856410\n",
              "1        2012        High     534.100000         431.856410\n",
              "2        2012      Middle     424.688889         431.856410\n",
              "3        2013  Elementary     369.473684         436.840206\n",
              "4        2013        High     523.666667         436.840206\n",
              "5        2013      Middle     430.000000         436.840206\n",
              "6        2014  Elementary     357.722222         448.306878\n",
              "7        2014        High     534.180000         448.306878\n",
              "8        2014      Middle     455.341176         448.306878\n",
              "9        2015  Elementary     344.277778         466.901099"
            ]
          },
          "metadata": {
            "tags": []
          },
          "execution_count": 20
        }
      ]
    },
    {
      "cell_type": "code",
      "metadata": {
        "id": "ylCGVVIXO6Bw"
      },
      "source": [
        "# make line graphs of the elementary, middle, high school enrolled counts from 2012-2020\n",
        "line_bmore = px.line(df_bmore_grade,\n",
        "                      x = \"school_year\",\n",
        "                      y = \"enrolled_count\",\n",
        "                      title = \"Total Enrollment in Baltimore City Public Schools, 2012-2020\",\n",
        "                      labels = {\"school_year\": \"School Year\", \"enrolled_count\": \"Number of Students Enrolled\"},\n",
        "                      color = \"grade_level\")"
      ],
      "execution_count": 21,
      "outputs": []
    },
    {
      "cell_type": "code",
      "metadata": {
        "colab": {
          "base_uri": "https://localhost:8080/",
          "height": 542
        },
        "id": "aFRp6OBARSJK",
        "outputId": "96cbd2e8-b513-419d-ef06-731f38cef0d2"
      },
      "source": [
        "# show graph\n",
        "line_bmore"
      ],
      "execution_count": 22,
      "outputs": [
        {
          "output_type": "display_data",
          "data": {
            "text/html": [
              "<html>\n",
              "<head><meta charset=\"utf-8\" /></head>\n",
              "<body>\n",
              "    <div>\n",
              "            <script src=\"https://cdnjs.cloudflare.com/ajax/libs/mathjax/2.7.5/MathJax.js?config=TeX-AMS-MML_SVG\"></script><script type=\"text/javascript\">if (window.MathJax) {MathJax.Hub.Config({SVG: {font: \"STIX-Web\"}});}</script>\n",
              "                <script type=\"text/javascript\">window.PlotlyConfig = {MathJaxConfig: 'local'};</script>\n",
              "        <script src=\"https://cdn.plot.ly/plotly-latest.min.js\"></script>    \n",
              "            <div id=\"73374adf-413c-4a14-8bcf-1d1d1b0e306e\" class=\"plotly-graph-div\" style=\"height:525px; width:100%;\"></div>\n",
              "            <script type=\"text/javascript\">\n",
              "                \n",
              "                    window.PLOTLYENV=window.PLOTLYENV || {};\n",
              "                    \n",
              "                if (document.getElementById(\"73374adf-413c-4a14-8bcf-1d1d1b0e306e\")) {\n",
              "                    Plotly.newPlot(\n",
              "                        '73374adf-413c-4a14-8bcf-1d1d1b0e306e',\n",
              "                        [{\"hoverlabel\": {\"namelength\": 0}, \"hovertemplate\": \"grade_level=Elementary<br>School Year=%{x}<br>Number of Students Enrolled=%{y}\", \"legendgroup\": \"grade_level=Elementary\", \"line\": {\"color\": \"#636efa\", \"dash\": \"solid\"}, \"mode\": \"lines\", \"name\": \"grade_level=Elementary\", \"showlegend\": true, \"type\": \"scatter\", \"x\": [2012, 2013, 2014, 2015, 2016, 2017, 2018, 2019, 2020], \"xaxis\": \"x\", \"y\": [350.6363636363636, 369.4736842105263, 357.72222222222223, 344.27777777777777, 350.0188679245283, 346.0, 334.8139534883721, 320.46938775510205, 324.2826086956522], \"yaxis\": \"y\"}, {\"hoverlabel\": {\"namelength\": 0}, \"hovertemplate\": \"grade_level=High<br>School Year=%{x}<br>Number of Students Enrolled=%{y}\", \"legendgroup\": \"grade_level=High\", \"line\": {\"color\": \"#EF553B\", \"dash\": \"solid\"}, \"mode\": \"lines\", \"name\": \"grade_level=High\", \"showlegend\": true, \"type\": \"scatter\", \"x\": [2012, 2013, 2014, 2015, 2016, 2017, 2018, 2019, 2020], \"xaxis\": \"x\", \"y\": [534.1, 523.6666666666666, 534.18, 573.8666666666667, 547.4042553191489, 596.05, 574.5, 593.6842105263158, 603.1315789473684], \"yaxis\": \"y\"}, {\"hoverlabel\": {\"namelength\": 0}, \"hovertemplate\": \"grade_level=Middle<br>School Year=%{x}<br>Number of Students Enrolled=%{y}\", \"legendgroup\": \"grade_level=Middle\", \"line\": {\"color\": \"#00cc96\", \"dash\": \"solid\"}, \"mode\": \"lines\", \"name\": \"grade_level=Middle\", \"showlegend\": true, \"type\": \"scatter\", \"x\": [2012, 2013, 2014, 2015, 2016, 2017, 2018, 2019, 2020], \"xaxis\": \"x\", \"y\": [424.68888888888887, 430.0, 455.3411764705882, 488.68674698795184, 492.3375, 492.2530120481928, 489.1279069767442, 519.4177215189874, 530.1410256410256], \"yaxis\": \"y\"}],\n",
              "                        {\"legend\": {\"tracegroupgap\": 0}, \"template\": {\"data\": {\"bar\": [{\"error_x\": {\"color\": \"#2a3f5f\"}, \"error_y\": {\"color\": \"#2a3f5f\"}, \"marker\": {\"line\": {\"color\": \"#E5ECF6\", \"width\": 0.5}}, \"type\": \"bar\"}], \"barpolar\": [{\"marker\": {\"line\": {\"color\": \"#E5ECF6\", \"width\": 0.5}}, \"type\": \"barpolar\"}], \"carpet\": [{\"aaxis\": {\"endlinecolor\": \"#2a3f5f\", \"gridcolor\": \"white\", \"linecolor\": \"white\", \"minorgridcolor\": \"white\", \"startlinecolor\": \"#2a3f5f\"}, \"baxis\": {\"endlinecolor\": \"#2a3f5f\", \"gridcolor\": \"white\", \"linecolor\": \"white\", \"minorgridcolor\": \"white\", \"startlinecolor\": \"#2a3f5f\"}, \"type\": \"carpet\"}], \"choropleth\": [{\"colorbar\": {\"outlinewidth\": 0, \"ticks\": \"\"}, \"type\": \"choropleth\"}], \"contour\": [{\"colorbar\": {\"outlinewidth\": 0, \"ticks\": \"\"}, \"colorscale\": [[0.0, \"#0d0887\"], [0.1111111111111111, \"#46039f\"], [0.2222222222222222, \"#7201a8\"], [0.3333333333333333, \"#9c179e\"], [0.4444444444444444, \"#bd3786\"], [0.5555555555555556, \"#d8576b\"], [0.6666666666666666, \"#ed7953\"], [0.7777777777777778, \"#fb9f3a\"], [0.8888888888888888, \"#fdca26\"], [1.0, \"#f0f921\"]], \"type\": \"contour\"}], \"contourcarpet\": [{\"colorbar\": {\"outlinewidth\": 0, \"ticks\": \"\"}, \"type\": \"contourcarpet\"}], \"heatmap\": [{\"colorbar\": {\"outlinewidth\": 0, \"ticks\": \"\"}, \"colorscale\": [[0.0, \"#0d0887\"], [0.1111111111111111, \"#46039f\"], [0.2222222222222222, \"#7201a8\"], [0.3333333333333333, \"#9c179e\"], [0.4444444444444444, \"#bd3786\"], [0.5555555555555556, \"#d8576b\"], [0.6666666666666666, \"#ed7953\"], [0.7777777777777778, \"#fb9f3a\"], [0.8888888888888888, \"#fdca26\"], [1.0, \"#f0f921\"]], \"type\": \"heatmap\"}], \"heatmapgl\": [{\"colorbar\": {\"outlinewidth\": 0, \"ticks\": \"\"}, \"colorscale\": [[0.0, \"#0d0887\"], [0.1111111111111111, \"#46039f\"], [0.2222222222222222, \"#7201a8\"], [0.3333333333333333, \"#9c179e\"], [0.4444444444444444, \"#bd3786\"], [0.5555555555555556, \"#d8576b\"], [0.6666666666666666, \"#ed7953\"], [0.7777777777777778, \"#fb9f3a\"], [0.8888888888888888, \"#fdca26\"], [1.0, \"#f0f921\"]], \"type\": \"heatmapgl\"}], \"histogram\": [{\"marker\": {\"colorbar\": {\"outlinewidth\": 0, \"ticks\": \"\"}}, \"type\": \"histogram\"}], \"histogram2d\": [{\"colorbar\": {\"outlinewidth\": 0, \"ticks\": \"\"}, \"colorscale\": [[0.0, \"#0d0887\"], [0.1111111111111111, \"#46039f\"], [0.2222222222222222, \"#7201a8\"], [0.3333333333333333, \"#9c179e\"], [0.4444444444444444, \"#bd3786\"], [0.5555555555555556, \"#d8576b\"], [0.6666666666666666, \"#ed7953\"], [0.7777777777777778, \"#fb9f3a\"], [0.8888888888888888, \"#fdca26\"], [1.0, \"#f0f921\"]], \"type\": \"histogram2d\"}], \"histogram2dcontour\": [{\"colorbar\": {\"outlinewidth\": 0, \"ticks\": \"\"}, \"colorscale\": [[0.0, \"#0d0887\"], [0.1111111111111111, \"#46039f\"], [0.2222222222222222, \"#7201a8\"], [0.3333333333333333, \"#9c179e\"], [0.4444444444444444, \"#bd3786\"], [0.5555555555555556, \"#d8576b\"], [0.6666666666666666, \"#ed7953\"], [0.7777777777777778, \"#fb9f3a\"], [0.8888888888888888, \"#fdca26\"], [1.0, \"#f0f921\"]], \"type\": \"histogram2dcontour\"}], \"mesh3d\": [{\"colorbar\": {\"outlinewidth\": 0, \"ticks\": \"\"}, \"type\": \"mesh3d\"}], \"parcoords\": [{\"line\": {\"colorbar\": {\"outlinewidth\": 0, \"ticks\": \"\"}}, \"type\": \"parcoords\"}], \"pie\": [{\"automargin\": true, \"type\": \"pie\"}], \"scatter\": [{\"marker\": {\"colorbar\": {\"outlinewidth\": 0, \"ticks\": \"\"}}, \"type\": \"scatter\"}], \"scatter3d\": [{\"line\": {\"colorbar\": {\"outlinewidth\": 0, \"ticks\": \"\"}}, \"marker\": {\"colorbar\": {\"outlinewidth\": 0, \"ticks\": \"\"}}, \"type\": \"scatter3d\"}], \"scattercarpet\": [{\"marker\": {\"colorbar\": {\"outlinewidth\": 0, \"ticks\": \"\"}}, \"type\": \"scattercarpet\"}], \"scattergeo\": [{\"marker\": {\"colorbar\": {\"outlinewidth\": 0, \"ticks\": \"\"}}, \"type\": \"scattergeo\"}], \"scattergl\": [{\"marker\": {\"colorbar\": {\"outlinewidth\": 0, \"ticks\": \"\"}}, \"type\": \"scattergl\"}], \"scattermapbox\": [{\"marker\": {\"colorbar\": {\"outlinewidth\": 0, \"ticks\": \"\"}}, \"type\": \"scattermapbox\"}], \"scatterpolar\": [{\"marker\": {\"colorbar\": {\"outlinewidth\": 0, \"ticks\": \"\"}}, \"type\": \"scatterpolar\"}], \"scatterpolargl\": [{\"marker\": {\"colorbar\": {\"outlinewidth\": 0, \"ticks\": \"\"}}, \"type\": \"scatterpolargl\"}], \"scatterternary\": [{\"marker\": {\"colorbar\": {\"outlinewidth\": 0, \"ticks\": \"\"}}, \"type\": \"scatterternary\"}], \"surface\": [{\"colorbar\": {\"outlinewidth\": 0, \"ticks\": \"\"}, \"colorscale\": [[0.0, \"#0d0887\"], [0.1111111111111111, \"#46039f\"], [0.2222222222222222, \"#7201a8\"], [0.3333333333333333, \"#9c179e\"], [0.4444444444444444, \"#bd3786\"], [0.5555555555555556, \"#d8576b\"], [0.6666666666666666, \"#ed7953\"], [0.7777777777777778, \"#fb9f3a\"], [0.8888888888888888, \"#fdca26\"], [1.0, \"#f0f921\"]], \"type\": \"surface\"}], \"table\": [{\"cells\": {\"fill\": {\"color\": \"#EBF0F8\"}, \"line\": {\"color\": \"white\"}}, \"header\": {\"fill\": {\"color\": \"#C8D4E3\"}, \"line\": {\"color\": \"white\"}}, \"type\": \"table\"}]}, \"layout\": {\"annotationdefaults\": {\"arrowcolor\": \"#2a3f5f\", \"arrowhead\": 0, \"arrowwidth\": 1}, \"coloraxis\": {\"colorbar\": {\"outlinewidth\": 0, \"ticks\": \"\"}}, \"colorscale\": {\"diverging\": [[0, \"#8e0152\"], [0.1, \"#c51b7d\"], [0.2, \"#de77ae\"], [0.3, \"#f1b6da\"], [0.4, \"#fde0ef\"], [0.5, \"#f7f7f7\"], [0.6, \"#e6f5d0\"], [0.7, \"#b8e186\"], [0.8, \"#7fbc41\"], [0.9, \"#4d9221\"], [1, \"#276419\"]], \"sequential\": [[0.0, \"#0d0887\"], [0.1111111111111111, \"#46039f\"], [0.2222222222222222, \"#7201a8\"], [0.3333333333333333, \"#9c179e\"], [0.4444444444444444, \"#bd3786\"], [0.5555555555555556, \"#d8576b\"], [0.6666666666666666, \"#ed7953\"], [0.7777777777777778, \"#fb9f3a\"], [0.8888888888888888, \"#fdca26\"], [1.0, \"#f0f921\"]], \"sequentialminus\": [[0.0, \"#0d0887\"], [0.1111111111111111, \"#46039f\"], [0.2222222222222222, \"#7201a8\"], [0.3333333333333333, \"#9c179e\"], [0.4444444444444444, \"#bd3786\"], [0.5555555555555556, \"#d8576b\"], [0.6666666666666666, \"#ed7953\"], [0.7777777777777778, \"#fb9f3a\"], [0.8888888888888888, \"#fdca26\"], [1.0, \"#f0f921\"]]}, \"colorway\": [\"#636efa\", \"#EF553B\", \"#00cc96\", \"#ab63fa\", \"#FFA15A\", \"#19d3f3\", \"#FF6692\", \"#B6E880\", \"#FF97FF\", \"#FECB52\"], \"font\": {\"color\": \"#2a3f5f\"}, \"geo\": {\"bgcolor\": \"white\", \"lakecolor\": \"white\", \"landcolor\": \"#E5ECF6\", \"showlakes\": true, \"showland\": true, \"subunitcolor\": \"white\"}, \"hoverlabel\": {\"align\": \"left\"}, \"hovermode\": \"closest\", \"mapbox\": {\"style\": \"light\"}, \"paper_bgcolor\": \"white\", \"plot_bgcolor\": \"#E5ECF6\", \"polar\": {\"angularaxis\": {\"gridcolor\": \"white\", \"linecolor\": \"white\", \"ticks\": \"\"}, \"bgcolor\": \"#E5ECF6\", \"radialaxis\": {\"gridcolor\": \"white\", \"linecolor\": \"white\", \"ticks\": \"\"}}, \"scene\": {\"xaxis\": {\"backgroundcolor\": \"#E5ECF6\", \"gridcolor\": \"white\", \"gridwidth\": 2, \"linecolor\": \"white\", \"showbackground\": true, \"ticks\": \"\", \"zerolinecolor\": \"white\"}, \"yaxis\": {\"backgroundcolor\": \"#E5ECF6\", \"gridcolor\": \"white\", \"gridwidth\": 2, \"linecolor\": \"white\", \"showbackground\": true, \"ticks\": \"\", \"zerolinecolor\": \"white\"}, \"zaxis\": {\"backgroundcolor\": \"#E5ECF6\", \"gridcolor\": \"white\", \"gridwidth\": 2, \"linecolor\": \"white\", \"showbackground\": true, \"ticks\": \"\", \"zerolinecolor\": \"white\"}}, \"shapedefaults\": {\"line\": {\"color\": \"#2a3f5f\"}}, \"ternary\": {\"aaxis\": {\"gridcolor\": \"white\", \"linecolor\": \"white\", \"ticks\": \"\"}, \"baxis\": {\"gridcolor\": \"white\", \"linecolor\": \"white\", \"ticks\": \"\"}, \"bgcolor\": \"#E5ECF6\", \"caxis\": {\"gridcolor\": \"white\", \"linecolor\": \"white\", \"ticks\": \"\"}}, \"title\": {\"x\": 0.05}, \"xaxis\": {\"automargin\": true, \"gridcolor\": \"white\", \"linecolor\": \"white\", \"ticks\": \"\", \"title\": {\"standoff\": 15}, \"zerolinecolor\": \"white\", \"zerolinewidth\": 2}, \"yaxis\": {\"automargin\": true, \"gridcolor\": \"white\", \"linecolor\": \"white\", \"ticks\": \"\", \"title\": {\"standoff\": 15}, \"zerolinecolor\": \"white\", \"zerolinewidth\": 2}}}, \"title\": {\"text\": \"Total Enrollment in Baltimore City Public Schools, 2012-2020\"}, \"xaxis\": {\"anchor\": \"y\", \"domain\": [0.0, 1.0], \"title\": {\"text\": \"School Year\"}}, \"yaxis\": {\"anchor\": \"x\", \"domain\": [0.0, 1.0], \"title\": {\"text\": \"Number of Students Enrolled\"}}},\n",
              "                        {\"responsive\": true}\n",
              "                    ).then(function(){\n",
              "                            \n",
              "var gd = document.getElementById('73374adf-413c-4a14-8bcf-1d1d1b0e306e');\n",
              "var x = new MutationObserver(function (mutations, observer) {{\n",
              "        var display = window.getComputedStyle(gd).display;\n",
              "        if (!display || display === 'none') {{\n",
              "            console.log([gd, 'removed!']);\n",
              "            Plotly.purge(gd);\n",
              "            observer.disconnect();\n",
              "        }}\n",
              "}});\n",
              "\n",
              "// Listen for the removal of the full notebook cells\n",
              "var notebookContainer = gd.closest('#notebook-container');\n",
              "if (notebookContainer) {{\n",
              "    x.observe(notebookContainer, {childList: true});\n",
              "}}\n",
              "\n",
              "// Listen for the clearing of the current output cell\n",
              "var outputEl = gd.closest('.output');\n",
              "if (outputEl) {{\n",
              "    x.observe(outputEl, {childList: true});\n",
              "}}\n",
              "\n",
              "                        })\n",
              "                };\n",
              "                \n",
              "            </script>\n",
              "        </div>\n",
              "</body>\n",
              "</html>"
            ]
          },
          "metadata": {
            "tags": []
          }
        }
      ]
    },
    {
      "cell_type": "code",
      "metadata": {
        "id": "87TY0nouSJy4"
      },
      "source": [
        "# aggregate average enrolled count for each grade\n",
        "df_bmore_total_agg = df_bmore.groupby(\"school_year\")[\"enrolled_count\"].agg([\"mean\"]).reset_index()"
      ],
      "execution_count": 23,
      "outputs": []
    },
    {
      "cell_type": "code",
      "metadata": {
        "colab": {
          "base_uri": "https://localhost:8080/",
          "height": 328
        },
        "id": "JxRQtLSFSSV1",
        "outputId": "8cb96254-4d11-49e9-d3f2-51de9617e5ff"
      },
      "source": [
        "df_bmore_total_agg"
      ],
      "execution_count": 24,
      "outputs": [
        {
          "output_type": "execute_result",
          "data": {
            "text/html": [
              "<div>\n",
              "<style scoped>\n",
              "    .dataframe tbody tr th:only-of-type {\n",
              "        vertical-align: middle;\n",
              "    }\n",
              "\n",
              "    .dataframe tbody tr th {\n",
              "        vertical-align: top;\n",
              "    }\n",
              "\n",
              "    .dataframe thead th {\n",
              "        text-align: right;\n",
              "    }\n",
              "</style>\n",
              "<table border=\"1\" class=\"dataframe\">\n",
              "  <thead>\n",
              "    <tr style=\"text-align: right;\">\n",
              "      <th></th>\n",
              "      <th>school_year</th>\n",
              "      <th>mean</th>\n",
              "    </tr>\n",
              "  </thead>\n",
              "  <tbody>\n",
              "    <tr>\n",
              "      <th>0</th>\n",
              "      <td>2012</td>\n",
              "      <td>431.856410</td>\n",
              "    </tr>\n",
              "    <tr>\n",
              "      <th>1</th>\n",
              "      <td>2013</td>\n",
              "      <td>436.840206</td>\n",
              "    </tr>\n",
              "    <tr>\n",
              "      <th>2</th>\n",
              "      <td>2014</td>\n",
              "      <td>448.306878</td>\n",
              "    </tr>\n",
              "    <tr>\n",
              "      <th>3</th>\n",
              "      <td>2015</td>\n",
              "      <td>466.901099</td>\n",
              "    </tr>\n",
              "    <tr>\n",
              "      <th>4</th>\n",
              "      <td>2016</td>\n",
              "      <td>464.811111</td>\n",
              "    </tr>\n",
              "    <tr>\n",
              "      <th>5</th>\n",
              "      <td>2017</td>\n",
              "      <td>473.247126</td>\n",
              "    </tr>\n",
              "    <tr>\n",
              "      <th>6</th>\n",
              "      <td>2018</td>\n",
              "      <td>471.292398</td>\n",
              "    </tr>\n",
              "    <tr>\n",
              "      <th>7</th>\n",
              "      <td>2019</td>\n",
              "      <td>477.692771</td>\n",
              "    </tr>\n",
              "    <tr>\n",
              "      <th>8</th>\n",
              "      <td>2020</td>\n",
              "      <td>488.808642</td>\n",
              "    </tr>\n",
              "  </tbody>\n",
              "</table>\n",
              "</div>"
            ],
            "text/plain": [
              "   school_year        mean\n",
              "0         2012  431.856410\n",
              "1         2013  436.840206\n",
              "2         2014  448.306878\n",
              "3         2015  466.901099\n",
              "4         2016  464.811111\n",
              "5         2017  473.247126\n",
              "6         2018  471.292398\n",
              "7         2019  477.692771\n",
              "8         2020  488.808642"
            ]
          },
          "metadata": {
            "tags": []
          },
          "execution_count": 24
        }
      ]
    },
    {
      "cell_type": "code",
      "metadata": {
        "id": "7ZgXtqCbTMrX"
      },
      "source": [
        "# make list of x values for bar chart\n",
        "total_enrolled_years = df_bmore_total_agg[\"school_year\"].tolist()"
      ],
      "execution_count": 25,
      "outputs": []
    },
    {
      "cell_type": "code",
      "metadata": {
        "id": "hLc8Maf9Svpr"
      },
      "source": [
        "# make list of y values for bar chart\n",
        "total_enrolled_list = df_bmore_total_agg[\"mean\"].tolist()"
      ],
      "execution_count": 26,
      "outputs": []
    },
    {
      "cell_type": "code",
      "metadata": {
        "colab": {
          "base_uri": "https://localhost:8080/",
          "height": 542
        },
        "id": "PnQFFQbeRUFd",
        "outputId": "e2813e19-aff9-4074-cf81-a66f1882682d"
      },
      "source": [
        "# add in bar graph of total average enrollment\n",
        "line_bmore.add_bar(x = total_enrolled_years, y = total_enrolled_list, name = \"Total Average Enrollment\")"
      ],
      "execution_count": 27,
      "outputs": [
        {
          "output_type": "display_data",
          "data": {
            "text/html": [
              "<html>\n",
              "<head><meta charset=\"utf-8\" /></head>\n",
              "<body>\n",
              "    <div>\n",
              "            <script src=\"https://cdnjs.cloudflare.com/ajax/libs/mathjax/2.7.5/MathJax.js?config=TeX-AMS-MML_SVG\"></script><script type=\"text/javascript\">if (window.MathJax) {MathJax.Hub.Config({SVG: {font: \"STIX-Web\"}});}</script>\n",
              "                <script type=\"text/javascript\">window.PlotlyConfig = {MathJaxConfig: 'local'};</script>\n",
              "        <script src=\"https://cdn.plot.ly/plotly-latest.min.js\"></script>    \n",
              "            <div id=\"880c14bf-6c74-4115-b041-1cccf54cde04\" class=\"plotly-graph-div\" style=\"height:525px; width:100%;\"></div>\n",
              "            <script type=\"text/javascript\">\n",
              "                \n",
              "                    window.PLOTLYENV=window.PLOTLYENV || {};\n",
              "                    \n",
              "                if (document.getElementById(\"880c14bf-6c74-4115-b041-1cccf54cde04\")) {\n",
              "                    Plotly.newPlot(\n",
              "                        '880c14bf-6c74-4115-b041-1cccf54cde04',\n",
              "                        [{\"hoverlabel\": {\"namelength\": 0}, \"hovertemplate\": \"grade_level=Elementary<br>School Year=%{x}<br>Number of Students Enrolled=%{y}\", \"legendgroup\": \"grade_level=Elementary\", \"line\": {\"color\": \"#636efa\", \"dash\": \"solid\"}, \"mode\": \"lines\", \"name\": \"grade_level=Elementary\", \"showlegend\": true, \"type\": \"scatter\", \"x\": [2012, 2013, 2014, 2015, 2016, 2017, 2018, 2019, 2020], \"xaxis\": \"x\", \"y\": [350.6363636363636, 369.4736842105263, 357.72222222222223, 344.27777777777777, 350.0188679245283, 346.0, 334.8139534883721, 320.46938775510205, 324.2826086956522], \"yaxis\": \"y\"}, {\"hoverlabel\": {\"namelength\": 0}, \"hovertemplate\": \"grade_level=High<br>School Year=%{x}<br>Number of Students Enrolled=%{y}\", \"legendgroup\": \"grade_level=High\", \"line\": {\"color\": \"#EF553B\", \"dash\": \"solid\"}, \"mode\": \"lines\", \"name\": \"grade_level=High\", \"showlegend\": true, \"type\": \"scatter\", \"x\": [2012, 2013, 2014, 2015, 2016, 2017, 2018, 2019, 2020], \"xaxis\": \"x\", \"y\": [534.1, 523.6666666666666, 534.18, 573.8666666666667, 547.4042553191489, 596.05, 574.5, 593.6842105263158, 603.1315789473684], \"yaxis\": \"y\"}, {\"hoverlabel\": {\"namelength\": 0}, \"hovertemplate\": \"grade_level=Middle<br>School Year=%{x}<br>Number of Students Enrolled=%{y}\", \"legendgroup\": \"grade_level=Middle\", \"line\": {\"color\": \"#00cc96\", \"dash\": \"solid\"}, \"mode\": \"lines\", \"name\": \"grade_level=Middle\", \"showlegend\": true, \"type\": \"scatter\", \"x\": [2012, 2013, 2014, 2015, 2016, 2017, 2018, 2019, 2020], \"xaxis\": \"x\", \"y\": [424.68888888888887, 430.0, 455.3411764705882, 488.68674698795184, 492.3375, 492.2530120481928, 489.1279069767442, 519.4177215189874, 530.1410256410256], \"yaxis\": \"y\"}, {\"name\": \"Total Average Enrollment\", \"type\": \"bar\", \"x\": [2012, 2013, 2014, 2015, 2016, 2017, 2018, 2019, 2020], \"y\": [431.85641025641024, 436.840206185567, 448.30687830687833, 466.9010989010989, 464.81111111111113, 473.2471264367816, 471.2923976608187, 477.6927710843373, 488.80864197530866]}],\n",
              "                        {\"legend\": {\"tracegroupgap\": 0}, \"template\": {\"data\": {\"bar\": [{\"error_x\": {\"color\": \"#2a3f5f\"}, \"error_y\": {\"color\": \"#2a3f5f\"}, \"marker\": {\"line\": {\"color\": \"#E5ECF6\", \"width\": 0.5}}, \"type\": \"bar\"}], \"barpolar\": [{\"marker\": {\"line\": {\"color\": \"#E5ECF6\", \"width\": 0.5}}, \"type\": \"barpolar\"}], \"carpet\": [{\"aaxis\": {\"endlinecolor\": \"#2a3f5f\", \"gridcolor\": \"white\", \"linecolor\": \"white\", \"minorgridcolor\": \"white\", \"startlinecolor\": \"#2a3f5f\"}, \"baxis\": {\"endlinecolor\": \"#2a3f5f\", \"gridcolor\": \"white\", \"linecolor\": \"white\", \"minorgridcolor\": \"white\", \"startlinecolor\": \"#2a3f5f\"}, \"type\": \"carpet\"}], \"choropleth\": [{\"colorbar\": {\"outlinewidth\": 0, \"ticks\": \"\"}, \"type\": \"choropleth\"}], \"contour\": [{\"colorbar\": {\"outlinewidth\": 0, \"ticks\": \"\"}, \"colorscale\": [[0.0, \"#0d0887\"], [0.1111111111111111, \"#46039f\"], [0.2222222222222222, \"#7201a8\"], [0.3333333333333333, \"#9c179e\"], [0.4444444444444444, \"#bd3786\"], [0.5555555555555556, \"#d8576b\"], [0.6666666666666666, \"#ed7953\"], [0.7777777777777778, \"#fb9f3a\"], [0.8888888888888888, \"#fdca26\"], [1.0, \"#f0f921\"]], \"type\": \"contour\"}], \"contourcarpet\": [{\"colorbar\": {\"outlinewidth\": 0, \"ticks\": \"\"}, \"type\": \"contourcarpet\"}], \"heatmap\": [{\"colorbar\": {\"outlinewidth\": 0, \"ticks\": \"\"}, \"colorscale\": [[0.0, \"#0d0887\"], [0.1111111111111111, \"#46039f\"], [0.2222222222222222, \"#7201a8\"], [0.3333333333333333, \"#9c179e\"], [0.4444444444444444, \"#bd3786\"], [0.5555555555555556, \"#d8576b\"], [0.6666666666666666, \"#ed7953\"], [0.7777777777777778, \"#fb9f3a\"], [0.8888888888888888, \"#fdca26\"], [1.0, \"#f0f921\"]], \"type\": \"heatmap\"}], \"heatmapgl\": [{\"colorbar\": {\"outlinewidth\": 0, \"ticks\": \"\"}, \"colorscale\": [[0.0, \"#0d0887\"], [0.1111111111111111, \"#46039f\"], [0.2222222222222222, \"#7201a8\"], [0.3333333333333333, \"#9c179e\"], [0.4444444444444444, \"#bd3786\"], [0.5555555555555556, \"#d8576b\"], [0.6666666666666666, \"#ed7953\"], [0.7777777777777778, \"#fb9f3a\"], [0.8888888888888888, \"#fdca26\"], [1.0, \"#f0f921\"]], \"type\": \"heatmapgl\"}], \"histogram\": [{\"marker\": {\"colorbar\": {\"outlinewidth\": 0, \"ticks\": \"\"}}, \"type\": \"histogram\"}], \"histogram2d\": [{\"colorbar\": {\"outlinewidth\": 0, \"ticks\": \"\"}, \"colorscale\": [[0.0, \"#0d0887\"], [0.1111111111111111, \"#46039f\"], [0.2222222222222222, \"#7201a8\"], [0.3333333333333333, \"#9c179e\"], [0.4444444444444444, \"#bd3786\"], [0.5555555555555556, \"#d8576b\"], [0.6666666666666666, \"#ed7953\"], [0.7777777777777778, \"#fb9f3a\"], [0.8888888888888888, \"#fdca26\"], [1.0, \"#f0f921\"]], \"type\": \"histogram2d\"}], \"histogram2dcontour\": [{\"colorbar\": {\"outlinewidth\": 0, \"ticks\": \"\"}, \"colorscale\": [[0.0, \"#0d0887\"], [0.1111111111111111, \"#46039f\"], [0.2222222222222222, \"#7201a8\"], [0.3333333333333333, \"#9c179e\"], [0.4444444444444444, \"#bd3786\"], [0.5555555555555556, \"#d8576b\"], [0.6666666666666666, \"#ed7953\"], [0.7777777777777778, \"#fb9f3a\"], [0.8888888888888888, \"#fdca26\"], [1.0, \"#f0f921\"]], \"type\": \"histogram2dcontour\"}], \"mesh3d\": [{\"colorbar\": {\"outlinewidth\": 0, \"ticks\": \"\"}, \"type\": \"mesh3d\"}], \"parcoords\": [{\"line\": {\"colorbar\": {\"outlinewidth\": 0, \"ticks\": \"\"}}, \"type\": \"parcoords\"}], \"pie\": [{\"automargin\": true, \"type\": \"pie\"}], \"scatter\": [{\"marker\": {\"colorbar\": {\"outlinewidth\": 0, \"ticks\": \"\"}}, \"type\": \"scatter\"}], \"scatter3d\": [{\"line\": {\"colorbar\": {\"outlinewidth\": 0, \"ticks\": \"\"}}, \"marker\": {\"colorbar\": {\"outlinewidth\": 0, \"ticks\": \"\"}}, \"type\": \"scatter3d\"}], \"scattercarpet\": [{\"marker\": {\"colorbar\": {\"outlinewidth\": 0, \"ticks\": \"\"}}, \"type\": \"scattercarpet\"}], \"scattergeo\": [{\"marker\": {\"colorbar\": {\"outlinewidth\": 0, \"ticks\": \"\"}}, \"type\": \"scattergeo\"}], \"scattergl\": [{\"marker\": {\"colorbar\": {\"outlinewidth\": 0, \"ticks\": \"\"}}, \"type\": \"scattergl\"}], \"scattermapbox\": [{\"marker\": {\"colorbar\": {\"outlinewidth\": 0, \"ticks\": \"\"}}, \"type\": \"scattermapbox\"}], \"scatterpolar\": [{\"marker\": {\"colorbar\": {\"outlinewidth\": 0, \"ticks\": \"\"}}, \"type\": \"scatterpolar\"}], \"scatterpolargl\": [{\"marker\": {\"colorbar\": {\"outlinewidth\": 0, \"ticks\": \"\"}}, \"type\": \"scatterpolargl\"}], \"scatterternary\": [{\"marker\": {\"colorbar\": {\"outlinewidth\": 0, \"ticks\": \"\"}}, \"type\": \"scatterternary\"}], \"surface\": [{\"colorbar\": {\"outlinewidth\": 0, \"ticks\": \"\"}, \"colorscale\": [[0.0, \"#0d0887\"], [0.1111111111111111, \"#46039f\"], [0.2222222222222222, \"#7201a8\"], [0.3333333333333333, \"#9c179e\"], [0.4444444444444444, \"#bd3786\"], [0.5555555555555556, \"#d8576b\"], [0.6666666666666666, \"#ed7953\"], [0.7777777777777778, \"#fb9f3a\"], [0.8888888888888888, \"#fdca26\"], [1.0, \"#f0f921\"]], \"type\": \"surface\"}], \"table\": [{\"cells\": {\"fill\": {\"color\": \"#EBF0F8\"}, \"line\": {\"color\": \"white\"}}, \"header\": {\"fill\": {\"color\": \"#C8D4E3\"}, \"line\": {\"color\": \"white\"}}, \"type\": \"table\"}]}, \"layout\": {\"annotationdefaults\": {\"arrowcolor\": \"#2a3f5f\", \"arrowhead\": 0, \"arrowwidth\": 1}, \"coloraxis\": {\"colorbar\": {\"outlinewidth\": 0, \"ticks\": \"\"}}, \"colorscale\": {\"diverging\": [[0, \"#8e0152\"], [0.1, \"#c51b7d\"], [0.2, \"#de77ae\"], [0.3, \"#f1b6da\"], [0.4, \"#fde0ef\"], [0.5, \"#f7f7f7\"], [0.6, \"#e6f5d0\"], [0.7, \"#b8e186\"], [0.8, \"#7fbc41\"], [0.9, \"#4d9221\"], [1, \"#276419\"]], \"sequential\": [[0.0, \"#0d0887\"], [0.1111111111111111, \"#46039f\"], [0.2222222222222222, \"#7201a8\"], [0.3333333333333333, \"#9c179e\"], [0.4444444444444444, \"#bd3786\"], [0.5555555555555556, \"#d8576b\"], [0.6666666666666666, \"#ed7953\"], [0.7777777777777778, \"#fb9f3a\"], [0.8888888888888888, \"#fdca26\"], [1.0, \"#f0f921\"]], \"sequentialminus\": [[0.0, \"#0d0887\"], [0.1111111111111111, \"#46039f\"], [0.2222222222222222, \"#7201a8\"], [0.3333333333333333, \"#9c179e\"], [0.4444444444444444, \"#bd3786\"], [0.5555555555555556, \"#d8576b\"], [0.6666666666666666, \"#ed7953\"], [0.7777777777777778, \"#fb9f3a\"], [0.8888888888888888, \"#fdca26\"], [1.0, \"#f0f921\"]]}, \"colorway\": [\"#636efa\", \"#EF553B\", \"#00cc96\", \"#ab63fa\", \"#FFA15A\", \"#19d3f3\", \"#FF6692\", \"#B6E880\", \"#FF97FF\", \"#FECB52\"], \"font\": {\"color\": \"#2a3f5f\"}, \"geo\": {\"bgcolor\": \"white\", \"lakecolor\": \"white\", \"landcolor\": \"#E5ECF6\", \"showlakes\": true, \"showland\": true, \"subunitcolor\": \"white\"}, \"hoverlabel\": {\"align\": \"left\"}, \"hovermode\": \"closest\", \"mapbox\": {\"style\": \"light\"}, \"paper_bgcolor\": \"white\", \"plot_bgcolor\": \"#E5ECF6\", \"polar\": {\"angularaxis\": {\"gridcolor\": \"white\", \"linecolor\": \"white\", \"ticks\": \"\"}, \"bgcolor\": \"#E5ECF6\", \"radialaxis\": {\"gridcolor\": \"white\", \"linecolor\": \"white\", \"ticks\": \"\"}}, \"scene\": {\"xaxis\": {\"backgroundcolor\": \"#E5ECF6\", \"gridcolor\": \"white\", \"gridwidth\": 2, \"linecolor\": \"white\", \"showbackground\": true, \"ticks\": \"\", \"zerolinecolor\": \"white\"}, \"yaxis\": {\"backgroundcolor\": \"#E5ECF6\", \"gridcolor\": \"white\", \"gridwidth\": 2, \"linecolor\": \"white\", \"showbackground\": true, \"ticks\": \"\", \"zerolinecolor\": \"white\"}, \"zaxis\": {\"backgroundcolor\": \"#E5ECF6\", \"gridcolor\": \"white\", \"gridwidth\": 2, \"linecolor\": \"white\", \"showbackground\": true, \"ticks\": \"\", \"zerolinecolor\": \"white\"}}, \"shapedefaults\": {\"line\": {\"color\": \"#2a3f5f\"}}, \"ternary\": {\"aaxis\": {\"gridcolor\": \"white\", \"linecolor\": \"white\", \"ticks\": \"\"}, \"baxis\": {\"gridcolor\": \"white\", \"linecolor\": \"white\", \"ticks\": \"\"}, \"bgcolor\": \"#E5ECF6\", \"caxis\": {\"gridcolor\": \"white\", \"linecolor\": \"white\", \"ticks\": \"\"}}, \"title\": {\"x\": 0.05}, \"xaxis\": {\"automargin\": true, \"gridcolor\": \"white\", \"linecolor\": \"white\", \"ticks\": \"\", \"title\": {\"standoff\": 15}, \"zerolinecolor\": \"white\", \"zerolinewidth\": 2}, \"yaxis\": {\"automargin\": true, \"gridcolor\": \"white\", \"linecolor\": \"white\", \"ticks\": \"\", \"title\": {\"standoff\": 15}, \"zerolinecolor\": \"white\", \"zerolinewidth\": 2}}}, \"title\": {\"text\": \"Total Enrollment in Baltimore City Public Schools, 2012-2020\"}, \"xaxis\": {\"anchor\": \"y\", \"domain\": [0.0, 1.0], \"title\": {\"text\": \"School Year\"}}, \"yaxis\": {\"anchor\": \"x\", \"domain\": [0.0, 1.0], \"title\": {\"text\": \"Number of Students Enrolled\"}}},\n",
              "                        {\"responsive\": true}\n",
              "                    ).then(function(){\n",
              "                            \n",
              "var gd = document.getElementById('880c14bf-6c74-4115-b041-1cccf54cde04');\n",
              "var x = new MutationObserver(function (mutations, observer) {{\n",
              "        var display = window.getComputedStyle(gd).display;\n",
              "        if (!display || display === 'none') {{\n",
              "            console.log([gd, 'removed!']);\n",
              "            Plotly.purge(gd);\n",
              "            observer.disconnect();\n",
              "        }}\n",
              "}});\n",
              "\n",
              "// Listen for the removal of the full notebook cells\n",
              "var notebookContainer = gd.closest('#notebook-container');\n",
              "if (notebookContainer) {{\n",
              "    x.observe(notebookContainer, {childList: true});\n",
              "}}\n",
              "\n",
              "// Listen for the clearing of the current output cell\n",
              "var outputEl = gd.closest('.output');\n",
              "if (outputEl) {{\n",
              "    x.observe(outputEl, {childList: true});\n",
              "}}\n",
              "\n",
              "                        })\n",
              "                };\n",
              "                \n",
              "            </script>\n",
              "        </div>\n",
              "</body>\n",
              "</html>"
            ]
          },
          "metadata": {
            "tags": []
          }
        }
      ]
    },
    {
      "cell_type": "markdown",
      "metadata": {
        "id": "n1fJfoEf6jFL"
      },
      "source": [
        "### Exporting Interactive Graphs (as HTML files)"
      ]
    },
    {
      "cell_type": "markdown",
      "metadata": {
        "id": "NVY4AJFYugIu"
      },
      "source": [
        "If the html export doesn't work for you, you might need to download orca to d othis (you'll only need to do this once!): \n",
        "\n",
        "```\n",
        "# install orca to download plotly html/images\n",
        "!wget https://github.com/plotly/orca/releases/download/v1.2.1/orca-1.2.1-x86_64.AppImage -O /usr/local/bin/orca\n",
        "!chmod +x /usr/local/bin/orca\n",
        "!apt-get install xvfb libgtk2.0-0 libgconf-2-4\n",
        "```"
      ]
    },
    {
      "cell_type": "code",
      "metadata": {
        "id": "oLmSQIK-6nP_"
      },
      "source": [
        "# export graph as an html file\n",
        "line_bmore.write_html(\"bmore_enrollment.html\")"
      ],
      "execution_count": 28,
      "outputs": []
    },
    {
      "cell_type": "code",
      "metadata": {
        "colab": {
          "base_uri": "https://localhost:8080/",
          "height": 17
        },
        "id": "rH10wIpg8Gy4",
        "outputId": "a292840c-8394-4810-cb8a-18b8dfc3ec41"
      },
      "source": [
        "# download files from google colab\n",
        "files.download(\"bmore_enrollment.html\")"
      ],
      "execution_count": 29,
      "outputs": [
        {
          "output_type": "display_data",
          "data": {
            "application/javascript": [
              "\n",
              "    async function download(id, filename, size) {\n",
              "      if (!google.colab.kernel.accessAllowed) {\n",
              "        return;\n",
              "      }\n",
              "      const div = document.createElement('div');\n",
              "      const label = document.createElement('label');\n",
              "      label.textContent = `Downloading \"${filename}\": `;\n",
              "      div.appendChild(label);\n",
              "      const progress = document.createElement('progress');\n",
              "      progress.max = size;\n",
              "      div.appendChild(progress);\n",
              "      document.body.appendChild(div);\n",
              "\n",
              "      const buffers = [];\n",
              "      let downloaded = 0;\n",
              "\n",
              "      const channel = await google.colab.kernel.comms.open(id);\n",
              "      // Send a message to notify the kernel that we're ready.\n",
              "      channel.send({})\n",
              "\n",
              "      for await (const message of channel.messages) {\n",
              "        // Send a message to notify the kernel that we're ready.\n",
              "        channel.send({})\n",
              "        if (message.buffers) {\n",
              "          for (const buffer of message.buffers) {\n",
              "            buffers.push(buffer);\n",
              "            downloaded += buffer.byteLength;\n",
              "            progress.value = downloaded;\n",
              "          }\n",
              "        }\n",
              "      }\n",
              "      const blob = new Blob(buffers, {type: 'application/binary'});\n",
              "      const a = document.createElement('a');\n",
              "      a.href = window.URL.createObjectURL(blob);\n",
              "      a.download = filename;\n",
              "      div.appendChild(a);\n",
              "      a.click();\n",
              "      div.remove();\n",
              "    }\n",
              "  "
            ],
            "text/plain": [
              "<IPython.core.display.Javascript object>"
            ]
          },
          "metadata": {
            "tags": []
          }
        },
        {
          "output_type": "display_data",
          "data": {
            "application/javascript": [
              "download(\"download_d4f75d35-fbb5-4d39-a84d-578159b77bf3\", \"bmore_enrollment.html\", 3296060)"
            ],
            "text/plain": [
              "<IPython.core.display.Javascript object>"
            ]
          },
          "metadata": {
            "tags": []
          }
        }
      ]
    },
    {
      "cell_type": "markdown",
      "metadata": {
        "id": "ESYkbJE4UHvD"
      },
      "source": [
        "## Adding two different y-axes on the same chart"
      ]
    },
    {
      "cell_type": "markdown",
      "metadata": {
        "id": "Ui4vEXYJULPu"
      },
      "source": [
        "This kind of chart is a little bit more complicated, but essentially what we'll do here is create two different charts and then overlay them on each other."
      ]
    },
    {
      "cell_type": "code",
      "metadata": {
        "id": "8il_X7lORhMH"
      },
      "source": [
        "only_lines_bmore = line_bmore = px.line(df_bmore_grade,\n",
        "                      x = \"school_year\",\n",
        "                      y = \"enrolled_count\",\n",
        "                      title = \"Total Enrollment in Baltimore City Public Schools, 2012-2020\",\n",
        "                      labels = {\"school_year\": \"School Year\", \"enrolled_count\": \"Number of Students Enrolled\"},\n",
        "                      color = \"grade_level\")"
      ],
      "execution_count": 30,
      "outputs": []
    },
    {
      "cell_type": "code",
      "metadata": {
        "id": "b2ct_um1UZM6"
      },
      "source": [
        "only_bar_bmore = px.bar(df_bmore_total_agg,\n",
        "                      x = \"school_year\",\n",
        "                      y = \"mean\",\n",
        "                      title = \"Total Enrollment in Baltimore City Public Schools, 2012-2020\",\n",
        "                      labels = {\"school_year\": \"School Year\", \"mean\": \"Average Total Enrollment\"},\n",
        "                      color_discrete_sequence = [\"pink\"])"
      ],
      "execution_count": 31,
      "outputs": []
    },
    {
      "cell_type": "code",
      "metadata": {
        "colab": {
          "base_uri": "https://localhost:8080/",
          "height": 542
        },
        "id": "KKPcl5nYUkRU",
        "outputId": "76fcd85a-6e82-4d1a-9f0e-08fa925e75a3"
      },
      "source": [
        "only_lines_bmore.update_traces(yaxis=\"y2\")"
      ],
      "execution_count": 32,
      "outputs": [
        {
          "output_type": "display_data",
          "data": {
            "text/html": [
              "<html>\n",
              "<head><meta charset=\"utf-8\" /></head>\n",
              "<body>\n",
              "    <div>\n",
              "            <script src=\"https://cdnjs.cloudflare.com/ajax/libs/mathjax/2.7.5/MathJax.js?config=TeX-AMS-MML_SVG\"></script><script type=\"text/javascript\">if (window.MathJax) {MathJax.Hub.Config({SVG: {font: \"STIX-Web\"}});}</script>\n",
              "                <script type=\"text/javascript\">window.PlotlyConfig = {MathJaxConfig: 'local'};</script>\n",
              "        <script src=\"https://cdn.plot.ly/plotly-latest.min.js\"></script>    \n",
              "            <div id=\"51f1bb88-980a-4330-94a5-5bd19d4c53a9\" class=\"plotly-graph-div\" style=\"height:525px; width:100%;\"></div>\n",
              "            <script type=\"text/javascript\">\n",
              "                \n",
              "                    window.PLOTLYENV=window.PLOTLYENV || {};\n",
              "                    \n",
              "                if (document.getElementById(\"51f1bb88-980a-4330-94a5-5bd19d4c53a9\")) {\n",
              "                    Plotly.newPlot(\n",
              "                        '51f1bb88-980a-4330-94a5-5bd19d4c53a9',\n",
              "                        [{\"hoverlabel\": {\"namelength\": 0}, \"hovertemplate\": \"grade_level=Elementary<br>School Year=%{x}<br>Number of Students Enrolled=%{y}\", \"legendgroup\": \"grade_level=Elementary\", \"line\": {\"color\": \"#636efa\", \"dash\": \"solid\"}, \"mode\": \"lines\", \"name\": \"grade_level=Elementary\", \"showlegend\": true, \"type\": \"scatter\", \"x\": [2012, 2013, 2014, 2015, 2016, 2017, 2018, 2019, 2020], \"xaxis\": \"x\", \"y\": [350.6363636363636, 369.4736842105263, 357.72222222222223, 344.27777777777777, 350.0188679245283, 346.0, 334.8139534883721, 320.46938775510205, 324.2826086956522], \"yaxis\": \"y2\"}, {\"hoverlabel\": {\"namelength\": 0}, \"hovertemplate\": \"grade_level=High<br>School Year=%{x}<br>Number of Students Enrolled=%{y}\", \"legendgroup\": \"grade_level=High\", \"line\": {\"color\": \"#EF553B\", \"dash\": \"solid\"}, \"mode\": \"lines\", \"name\": \"grade_level=High\", \"showlegend\": true, \"type\": \"scatter\", \"x\": [2012, 2013, 2014, 2015, 2016, 2017, 2018, 2019, 2020], \"xaxis\": \"x\", \"y\": [534.1, 523.6666666666666, 534.18, 573.8666666666667, 547.4042553191489, 596.05, 574.5, 593.6842105263158, 603.1315789473684], \"yaxis\": \"y2\"}, {\"hoverlabel\": {\"namelength\": 0}, \"hovertemplate\": \"grade_level=Middle<br>School Year=%{x}<br>Number of Students Enrolled=%{y}\", \"legendgroup\": \"grade_level=Middle\", \"line\": {\"color\": \"#00cc96\", \"dash\": \"solid\"}, \"mode\": \"lines\", \"name\": \"grade_level=Middle\", \"showlegend\": true, \"type\": \"scatter\", \"x\": [2012, 2013, 2014, 2015, 2016, 2017, 2018, 2019, 2020], \"xaxis\": \"x\", \"y\": [424.68888888888887, 430.0, 455.3411764705882, 488.68674698795184, 492.3375, 492.2530120481928, 489.1279069767442, 519.4177215189874, 530.1410256410256], \"yaxis\": \"y2\"}],\n",
              "                        {\"legend\": {\"tracegroupgap\": 0}, \"template\": {\"data\": {\"bar\": [{\"error_x\": {\"color\": \"#2a3f5f\"}, \"error_y\": {\"color\": \"#2a3f5f\"}, \"marker\": {\"line\": {\"color\": \"#E5ECF6\", \"width\": 0.5}}, \"type\": \"bar\"}], \"barpolar\": [{\"marker\": {\"line\": {\"color\": \"#E5ECF6\", \"width\": 0.5}}, \"type\": \"barpolar\"}], \"carpet\": [{\"aaxis\": {\"endlinecolor\": \"#2a3f5f\", \"gridcolor\": \"white\", \"linecolor\": \"white\", \"minorgridcolor\": \"white\", \"startlinecolor\": \"#2a3f5f\"}, \"baxis\": {\"endlinecolor\": \"#2a3f5f\", \"gridcolor\": \"white\", \"linecolor\": \"white\", \"minorgridcolor\": \"white\", \"startlinecolor\": \"#2a3f5f\"}, \"type\": \"carpet\"}], \"choropleth\": [{\"colorbar\": {\"outlinewidth\": 0, \"ticks\": \"\"}, \"type\": \"choropleth\"}], \"contour\": [{\"colorbar\": {\"outlinewidth\": 0, \"ticks\": \"\"}, \"colorscale\": [[0.0, \"#0d0887\"], [0.1111111111111111, \"#46039f\"], [0.2222222222222222, \"#7201a8\"], [0.3333333333333333, \"#9c179e\"], [0.4444444444444444, \"#bd3786\"], [0.5555555555555556, \"#d8576b\"], [0.6666666666666666, \"#ed7953\"], [0.7777777777777778, \"#fb9f3a\"], [0.8888888888888888, \"#fdca26\"], [1.0, \"#f0f921\"]], \"type\": \"contour\"}], \"contourcarpet\": [{\"colorbar\": {\"outlinewidth\": 0, \"ticks\": \"\"}, \"type\": \"contourcarpet\"}], \"heatmap\": [{\"colorbar\": {\"outlinewidth\": 0, \"ticks\": \"\"}, \"colorscale\": [[0.0, \"#0d0887\"], [0.1111111111111111, \"#46039f\"], [0.2222222222222222, \"#7201a8\"], [0.3333333333333333, \"#9c179e\"], [0.4444444444444444, \"#bd3786\"], [0.5555555555555556, \"#d8576b\"], [0.6666666666666666, \"#ed7953\"], [0.7777777777777778, \"#fb9f3a\"], [0.8888888888888888, \"#fdca26\"], [1.0, \"#f0f921\"]], \"type\": \"heatmap\"}], \"heatmapgl\": [{\"colorbar\": {\"outlinewidth\": 0, \"ticks\": \"\"}, \"colorscale\": [[0.0, \"#0d0887\"], [0.1111111111111111, \"#46039f\"], [0.2222222222222222, \"#7201a8\"], [0.3333333333333333, \"#9c179e\"], [0.4444444444444444, \"#bd3786\"], [0.5555555555555556, \"#d8576b\"], [0.6666666666666666, \"#ed7953\"], [0.7777777777777778, \"#fb9f3a\"], [0.8888888888888888, \"#fdca26\"], [1.0, \"#f0f921\"]], \"type\": \"heatmapgl\"}], \"histogram\": [{\"marker\": {\"colorbar\": {\"outlinewidth\": 0, \"ticks\": \"\"}}, \"type\": \"histogram\"}], \"histogram2d\": [{\"colorbar\": {\"outlinewidth\": 0, \"ticks\": \"\"}, \"colorscale\": [[0.0, \"#0d0887\"], [0.1111111111111111, \"#46039f\"], [0.2222222222222222, \"#7201a8\"], [0.3333333333333333, \"#9c179e\"], [0.4444444444444444, \"#bd3786\"], [0.5555555555555556, \"#d8576b\"], [0.6666666666666666, \"#ed7953\"], [0.7777777777777778, \"#fb9f3a\"], [0.8888888888888888, \"#fdca26\"], [1.0, \"#f0f921\"]], \"type\": \"histogram2d\"}], \"histogram2dcontour\": [{\"colorbar\": {\"outlinewidth\": 0, \"ticks\": \"\"}, \"colorscale\": [[0.0, \"#0d0887\"], [0.1111111111111111, \"#46039f\"], [0.2222222222222222, \"#7201a8\"], [0.3333333333333333, \"#9c179e\"], [0.4444444444444444, \"#bd3786\"], [0.5555555555555556, \"#d8576b\"], [0.6666666666666666, \"#ed7953\"], [0.7777777777777778, \"#fb9f3a\"], [0.8888888888888888, \"#fdca26\"], [1.0, \"#f0f921\"]], \"type\": \"histogram2dcontour\"}], \"mesh3d\": [{\"colorbar\": {\"outlinewidth\": 0, \"ticks\": \"\"}, \"type\": \"mesh3d\"}], \"parcoords\": [{\"line\": {\"colorbar\": {\"outlinewidth\": 0, \"ticks\": \"\"}}, \"type\": \"parcoords\"}], \"pie\": [{\"automargin\": true, \"type\": \"pie\"}], \"scatter\": [{\"marker\": {\"colorbar\": {\"outlinewidth\": 0, \"ticks\": \"\"}}, \"type\": \"scatter\"}], \"scatter3d\": [{\"line\": {\"colorbar\": {\"outlinewidth\": 0, \"ticks\": \"\"}}, \"marker\": {\"colorbar\": {\"outlinewidth\": 0, \"ticks\": \"\"}}, \"type\": \"scatter3d\"}], \"scattercarpet\": [{\"marker\": {\"colorbar\": {\"outlinewidth\": 0, \"ticks\": \"\"}}, \"type\": \"scattercarpet\"}], \"scattergeo\": [{\"marker\": {\"colorbar\": {\"outlinewidth\": 0, \"ticks\": \"\"}}, \"type\": \"scattergeo\"}], \"scattergl\": [{\"marker\": {\"colorbar\": {\"outlinewidth\": 0, \"ticks\": \"\"}}, \"type\": \"scattergl\"}], \"scattermapbox\": [{\"marker\": {\"colorbar\": {\"outlinewidth\": 0, \"ticks\": \"\"}}, \"type\": \"scattermapbox\"}], \"scatterpolar\": [{\"marker\": {\"colorbar\": {\"outlinewidth\": 0, \"ticks\": \"\"}}, \"type\": \"scatterpolar\"}], \"scatterpolargl\": [{\"marker\": {\"colorbar\": {\"outlinewidth\": 0, \"ticks\": \"\"}}, \"type\": \"scatterpolargl\"}], \"scatterternary\": [{\"marker\": {\"colorbar\": {\"outlinewidth\": 0, \"ticks\": \"\"}}, \"type\": \"scatterternary\"}], \"surface\": [{\"colorbar\": {\"outlinewidth\": 0, \"ticks\": \"\"}, \"colorscale\": [[0.0, \"#0d0887\"], [0.1111111111111111, \"#46039f\"], [0.2222222222222222, \"#7201a8\"], [0.3333333333333333, \"#9c179e\"], [0.4444444444444444, \"#bd3786\"], [0.5555555555555556, \"#d8576b\"], [0.6666666666666666, \"#ed7953\"], [0.7777777777777778, \"#fb9f3a\"], [0.8888888888888888, \"#fdca26\"], [1.0, \"#f0f921\"]], \"type\": \"surface\"}], \"table\": [{\"cells\": {\"fill\": {\"color\": \"#EBF0F8\"}, \"line\": {\"color\": \"white\"}}, \"header\": {\"fill\": {\"color\": \"#C8D4E3\"}, \"line\": {\"color\": \"white\"}}, \"type\": \"table\"}]}, \"layout\": {\"annotationdefaults\": {\"arrowcolor\": \"#2a3f5f\", \"arrowhead\": 0, \"arrowwidth\": 1}, \"coloraxis\": {\"colorbar\": {\"outlinewidth\": 0, \"ticks\": \"\"}}, \"colorscale\": {\"diverging\": [[0, \"#8e0152\"], [0.1, \"#c51b7d\"], [0.2, \"#de77ae\"], [0.3, \"#f1b6da\"], [0.4, \"#fde0ef\"], [0.5, \"#f7f7f7\"], [0.6, \"#e6f5d0\"], [0.7, \"#b8e186\"], [0.8, \"#7fbc41\"], [0.9, \"#4d9221\"], [1, \"#276419\"]], \"sequential\": [[0.0, \"#0d0887\"], [0.1111111111111111, \"#46039f\"], [0.2222222222222222, \"#7201a8\"], [0.3333333333333333, \"#9c179e\"], [0.4444444444444444, \"#bd3786\"], [0.5555555555555556, \"#d8576b\"], [0.6666666666666666, \"#ed7953\"], [0.7777777777777778, \"#fb9f3a\"], [0.8888888888888888, \"#fdca26\"], [1.0, \"#f0f921\"]], \"sequentialminus\": [[0.0, \"#0d0887\"], [0.1111111111111111, \"#46039f\"], [0.2222222222222222, \"#7201a8\"], [0.3333333333333333, \"#9c179e\"], [0.4444444444444444, \"#bd3786\"], [0.5555555555555556, \"#d8576b\"], [0.6666666666666666, \"#ed7953\"], [0.7777777777777778, \"#fb9f3a\"], [0.8888888888888888, \"#fdca26\"], [1.0, \"#f0f921\"]]}, \"colorway\": [\"#636efa\", \"#EF553B\", \"#00cc96\", \"#ab63fa\", \"#FFA15A\", \"#19d3f3\", \"#FF6692\", \"#B6E880\", \"#FF97FF\", \"#FECB52\"], \"font\": {\"color\": \"#2a3f5f\"}, \"geo\": {\"bgcolor\": \"white\", \"lakecolor\": \"white\", \"landcolor\": \"#E5ECF6\", \"showlakes\": true, \"showland\": true, \"subunitcolor\": \"white\"}, \"hoverlabel\": {\"align\": \"left\"}, \"hovermode\": \"closest\", \"mapbox\": {\"style\": \"light\"}, \"paper_bgcolor\": \"white\", \"plot_bgcolor\": \"#E5ECF6\", \"polar\": {\"angularaxis\": {\"gridcolor\": \"white\", \"linecolor\": \"white\", \"ticks\": \"\"}, \"bgcolor\": \"#E5ECF6\", \"radialaxis\": {\"gridcolor\": \"white\", \"linecolor\": \"white\", \"ticks\": \"\"}}, \"scene\": {\"xaxis\": {\"backgroundcolor\": \"#E5ECF6\", \"gridcolor\": \"white\", \"gridwidth\": 2, \"linecolor\": \"white\", \"showbackground\": true, \"ticks\": \"\", \"zerolinecolor\": \"white\"}, \"yaxis\": {\"backgroundcolor\": \"#E5ECF6\", \"gridcolor\": \"white\", \"gridwidth\": 2, \"linecolor\": \"white\", \"showbackground\": true, \"ticks\": \"\", \"zerolinecolor\": \"white\"}, \"zaxis\": {\"backgroundcolor\": \"#E5ECF6\", \"gridcolor\": \"white\", \"gridwidth\": 2, \"linecolor\": \"white\", \"showbackground\": true, \"ticks\": \"\", \"zerolinecolor\": \"white\"}}, \"shapedefaults\": {\"line\": {\"color\": \"#2a3f5f\"}}, \"ternary\": {\"aaxis\": {\"gridcolor\": \"white\", \"linecolor\": \"white\", \"ticks\": \"\"}, \"baxis\": {\"gridcolor\": \"white\", \"linecolor\": \"white\", \"ticks\": \"\"}, \"bgcolor\": \"#E5ECF6\", \"caxis\": {\"gridcolor\": \"white\", \"linecolor\": \"white\", \"ticks\": \"\"}}, \"title\": {\"x\": 0.05}, \"xaxis\": {\"automargin\": true, \"gridcolor\": \"white\", \"linecolor\": \"white\", \"ticks\": \"\", \"title\": {\"standoff\": 15}, \"zerolinecolor\": \"white\", \"zerolinewidth\": 2}, \"yaxis\": {\"automargin\": true, \"gridcolor\": \"white\", \"linecolor\": \"white\", \"ticks\": \"\", \"title\": {\"standoff\": 15}, \"zerolinecolor\": \"white\", \"zerolinewidth\": 2}}}, \"title\": {\"text\": \"Total Enrollment in Baltimore City Public Schools, 2012-2020\"}, \"xaxis\": {\"anchor\": \"y\", \"domain\": [0.0, 1.0], \"title\": {\"text\": \"School Year\"}}, \"yaxis\": {\"anchor\": \"x\", \"domain\": [0.0, 1.0], \"title\": {\"text\": \"Number of Students Enrolled\"}}},\n",
              "                        {\"responsive\": true}\n",
              "                    ).then(function(){\n",
              "                            \n",
              "var gd = document.getElementById('51f1bb88-980a-4330-94a5-5bd19d4c53a9');\n",
              "var x = new MutationObserver(function (mutations, observer) {{\n",
              "        var display = window.getComputedStyle(gd).display;\n",
              "        if (!display || display === 'none') {{\n",
              "            console.log([gd, 'removed!']);\n",
              "            Plotly.purge(gd);\n",
              "            observer.disconnect();\n",
              "        }}\n",
              "}});\n",
              "\n",
              "// Listen for the removal of the full notebook cells\n",
              "var notebookContainer = gd.closest('#notebook-container');\n",
              "if (notebookContainer) {{\n",
              "    x.observe(notebookContainer, {childList: true});\n",
              "}}\n",
              "\n",
              "// Listen for the clearing of the current output cell\n",
              "var outputEl = gd.closest('.output');\n",
              "if (outputEl) {{\n",
              "    x.observe(outputEl, {childList: true});\n",
              "}}\n",
              "\n",
              "                        })\n",
              "                };\n",
              "                \n",
              "            </script>\n",
              "        </div>\n",
              "</body>\n",
              "</html>"
            ]
          },
          "metadata": {
            "tags": []
          }
        }
      ]
    },
    {
      "cell_type": "code",
      "metadata": {
        "id": "AsK6ZcO_U986"
      },
      "source": [
        "combo_fig = make_subplots(specs=[[{\"secondary_y\": True}]])"
      ],
      "execution_count": 33,
      "outputs": []
    },
    {
      "cell_type": "code",
      "metadata": {
        "colab": {
          "base_uri": "https://localhost:8080/",
          "height": 542
        },
        "id": "7UfurGN4UlUd",
        "outputId": "3c7e1259-6f02-4be9-82b0-0de2e8e46bc2"
      },
      "source": [
        "combo_fig.add_traces(only_bar_bmore.data + only_lines_bmore.data)"
      ],
      "execution_count": 34,
      "outputs": [
        {
          "output_type": "display_data",
          "data": {
            "text/html": [
              "<html>\n",
              "<head><meta charset=\"utf-8\" /></head>\n",
              "<body>\n",
              "    <div>\n",
              "            <script src=\"https://cdnjs.cloudflare.com/ajax/libs/mathjax/2.7.5/MathJax.js?config=TeX-AMS-MML_SVG\"></script><script type=\"text/javascript\">if (window.MathJax) {MathJax.Hub.Config({SVG: {font: \"STIX-Web\"}});}</script>\n",
              "                <script type=\"text/javascript\">window.PlotlyConfig = {MathJaxConfig: 'local'};</script>\n",
              "        <script src=\"https://cdn.plot.ly/plotly-latest.min.js\"></script>    \n",
              "            <div id=\"e0c8fe8f-b487-47c0-ada9-3df3d443b6b3\" class=\"plotly-graph-div\" style=\"height:525px; width:100%;\"></div>\n",
              "            <script type=\"text/javascript\">\n",
              "                \n",
              "                    window.PLOTLYENV=window.PLOTLYENV || {};\n",
              "                    \n",
              "                if (document.getElementById(\"e0c8fe8f-b487-47c0-ada9-3df3d443b6b3\")) {\n",
              "                    Plotly.newPlot(\n",
              "                        'e0c8fe8f-b487-47c0-ada9-3df3d443b6b3',\n",
              "                        [{\"alignmentgroup\": \"True\", \"hoverlabel\": {\"namelength\": 0}, \"hovertemplate\": \"School Year=%{x}<br>Average Total Enrollment=%{y}\", \"legendgroup\": \"\", \"marker\": {\"color\": \"pink\"}, \"name\": \"\", \"offsetgroup\": \"\", \"orientation\": \"v\", \"showlegend\": false, \"textposition\": \"auto\", \"type\": \"bar\", \"x\": [2012, 2013, 2014, 2015, 2016, 2017, 2018, 2019, 2020], \"xaxis\": \"x\", \"y\": [431.85641025641024, 436.840206185567, 448.30687830687833, 466.9010989010989, 464.81111111111113, 473.2471264367816, 471.2923976608187, 477.6927710843373, 488.80864197530866], \"yaxis\": \"y\"}, {\"hoverlabel\": {\"namelength\": 0}, \"hovertemplate\": \"grade_level=Elementary<br>School Year=%{x}<br>Number of Students Enrolled=%{y}\", \"legendgroup\": \"grade_level=Elementary\", \"line\": {\"color\": \"#636efa\", \"dash\": \"solid\"}, \"mode\": \"lines\", \"name\": \"grade_level=Elementary\", \"showlegend\": true, \"type\": \"scatter\", \"x\": [2012, 2013, 2014, 2015, 2016, 2017, 2018, 2019, 2020], \"xaxis\": \"x\", \"y\": [350.6363636363636, 369.4736842105263, 357.72222222222223, 344.27777777777777, 350.0188679245283, 346.0, 334.8139534883721, 320.46938775510205, 324.2826086956522], \"yaxis\": \"y2\"}, {\"hoverlabel\": {\"namelength\": 0}, \"hovertemplate\": \"grade_level=High<br>School Year=%{x}<br>Number of Students Enrolled=%{y}\", \"legendgroup\": \"grade_level=High\", \"line\": {\"color\": \"#EF553B\", \"dash\": \"solid\"}, \"mode\": \"lines\", \"name\": \"grade_level=High\", \"showlegend\": true, \"type\": \"scatter\", \"x\": [2012, 2013, 2014, 2015, 2016, 2017, 2018, 2019, 2020], \"xaxis\": \"x\", \"y\": [534.1, 523.6666666666666, 534.18, 573.8666666666667, 547.4042553191489, 596.05, 574.5, 593.6842105263158, 603.1315789473684], \"yaxis\": \"y2\"}, {\"hoverlabel\": {\"namelength\": 0}, \"hovertemplate\": \"grade_level=Middle<br>School Year=%{x}<br>Number of Students Enrolled=%{y}\", \"legendgroup\": \"grade_level=Middle\", \"line\": {\"color\": \"#00cc96\", \"dash\": \"solid\"}, \"mode\": \"lines\", \"name\": \"grade_level=Middle\", \"showlegend\": true, \"type\": \"scatter\", \"x\": [2012, 2013, 2014, 2015, 2016, 2017, 2018, 2019, 2020], \"xaxis\": \"x\", \"y\": [424.68888888888887, 430.0, 455.3411764705882, 488.68674698795184, 492.3375, 492.2530120481928, 489.1279069767442, 519.4177215189874, 530.1410256410256], \"yaxis\": \"y2\"}],\n",
              "                        {\"template\": {\"data\": {\"bar\": [{\"error_x\": {\"color\": \"#2a3f5f\"}, \"error_y\": {\"color\": \"#2a3f5f\"}, \"marker\": {\"line\": {\"color\": \"#E5ECF6\", \"width\": 0.5}}, \"type\": \"bar\"}], \"barpolar\": [{\"marker\": {\"line\": {\"color\": \"#E5ECF6\", \"width\": 0.5}}, \"type\": \"barpolar\"}], \"carpet\": [{\"aaxis\": {\"endlinecolor\": \"#2a3f5f\", \"gridcolor\": \"white\", \"linecolor\": \"white\", \"minorgridcolor\": \"white\", \"startlinecolor\": \"#2a3f5f\"}, \"baxis\": {\"endlinecolor\": \"#2a3f5f\", \"gridcolor\": \"white\", \"linecolor\": \"white\", \"minorgridcolor\": \"white\", \"startlinecolor\": \"#2a3f5f\"}, \"type\": \"carpet\"}], \"choropleth\": [{\"colorbar\": {\"outlinewidth\": 0, \"ticks\": \"\"}, \"type\": \"choropleth\"}], \"contour\": [{\"colorbar\": {\"outlinewidth\": 0, \"ticks\": \"\"}, \"colorscale\": [[0.0, \"#0d0887\"], [0.1111111111111111, \"#46039f\"], [0.2222222222222222, \"#7201a8\"], [0.3333333333333333, \"#9c179e\"], [0.4444444444444444, \"#bd3786\"], [0.5555555555555556, \"#d8576b\"], [0.6666666666666666, \"#ed7953\"], [0.7777777777777778, \"#fb9f3a\"], [0.8888888888888888, \"#fdca26\"], [1.0, \"#f0f921\"]], \"type\": \"contour\"}], \"contourcarpet\": [{\"colorbar\": {\"outlinewidth\": 0, \"ticks\": \"\"}, \"type\": \"contourcarpet\"}], \"heatmap\": [{\"colorbar\": {\"outlinewidth\": 0, \"ticks\": \"\"}, \"colorscale\": [[0.0, \"#0d0887\"], [0.1111111111111111, \"#46039f\"], [0.2222222222222222, \"#7201a8\"], [0.3333333333333333, \"#9c179e\"], [0.4444444444444444, \"#bd3786\"], [0.5555555555555556, \"#d8576b\"], [0.6666666666666666, \"#ed7953\"], [0.7777777777777778, \"#fb9f3a\"], [0.8888888888888888, \"#fdca26\"], [1.0, \"#f0f921\"]], \"type\": \"heatmap\"}], \"heatmapgl\": [{\"colorbar\": {\"outlinewidth\": 0, \"ticks\": \"\"}, \"colorscale\": [[0.0, \"#0d0887\"], [0.1111111111111111, \"#46039f\"], [0.2222222222222222, \"#7201a8\"], [0.3333333333333333, \"#9c179e\"], [0.4444444444444444, \"#bd3786\"], [0.5555555555555556, \"#d8576b\"], [0.6666666666666666, \"#ed7953\"], [0.7777777777777778, \"#fb9f3a\"], [0.8888888888888888, \"#fdca26\"], [1.0, \"#f0f921\"]], \"type\": \"heatmapgl\"}], \"histogram\": [{\"marker\": {\"colorbar\": {\"outlinewidth\": 0, \"ticks\": \"\"}}, \"type\": \"histogram\"}], \"histogram2d\": [{\"colorbar\": {\"outlinewidth\": 0, \"ticks\": \"\"}, \"colorscale\": [[0.0, \"#0d0887\"], [0.1111111111111111, \"#46039f\"], [0.2222222222222222, \"#7201a8\"], [0.3333333333333333, \"#9c179e\"], [0.4444444444444444, \"#bd3786\"], [0.5555555555555556, \"#d8576b\"], [0.6666666666666666, \"#ed7953\"], [0.7777777777777778, \"#fb9f3a\"], [0.8888888888888888, \"#fdca26\"], [1.0, \"#f0f921\"]], \"type\": \"histogram2d\"}], \"histogram2dcontour\": [{\"colorbar\": {\"outlinewidth\": 0, \"ticks\": \"\"}, \"colorscale\": [[0.0, \"#0d0887\"], [0.1111111111111111, \"#46039f\"], [0.2222222222222222, \"#7201a8\"], [0.3333333333333333, \"#9c179e\"], [0.4444444444444444, \"#bd3786\"], [0.5555555555555556, \"#d8576b\"], [0.6666666666666666, \"#ed7953\"], [0.7777777777777778, \"#fb9f3a\"], [0.8888888888888888, \"#fdca26\"], [1.0, \"#f0f921\"]], \"type\": \"histogram2dcontour\"}], \"mesh3d\": [{\"colorbar\": {\"outlinewidth\": 0, \"ticks\": \"\"}, \"type\": \"mesh3d\"}], \"parcoords\": [{\"line\": {\"colorbar\": {\"outlinewidth\": 0, \"ticks\": \"\"}}, \"type\": \"parcoords\"}], \"pie\": [{\"automargin\": true, \"type\": \"pie\"}], \"scatter\": [{\"marker\": {\"colorbar\": {\"outlinewidth\": 0, \"ticks\": \"\"}}, \"type\": \"scatter\"}], \"scatter3d\": [{\"line\": {\"colorbar\": {\"outlinewidth\": 0, \"ticks\": \"\"}}, \"marker\": {\"colorbar\": {\"outlinewidth\": 0, \"ticks\": \"\"}}, \"type\": \"scatter3d\"}], \"scattercarpet\": [{\"marker\": {\"colorbar\": {\"outlinewidth\": 0, \"ticks\": \"\"}}, \"type\": \"scattercarpet\"}], \"scattergeo\": [{\"marker\": {\"colorbar\": {\"outlinewidth\": 0, \"ticks\": \"\"}}, \"type\": \"scattergeo\"}], \"scattergl\": [{\"marker\": {\"colorbar\": {\"outlinewidth\": 0, \"ticks\": \"\"}}, \"type\": \"scattergl\"}], \"scattermapbox\": [{\"marker\": {\"colorbar\": {\"outlinewidth\": 0, \"ticks\": \"\"}}, \"type\": \"scattermapbox\"}], \"scatterpolar\": [{\"marker\": {\"colorbar\": {\"outlinewidth\": 0, \"ticks\": \"\"}}, \"type\": \"scatterpolar\"}], \"scatterpolargl\": [{\"marker\": {\"colorbar\": {\"outlinewidth\": 0, \"ticks\": \"\"}}, \"type\": \"scatterpolargl\"}], \"scatterternary\": [{\"marker\": {\"colorbar\": {\"outlinewidth\": 0, \"ticks\": \"\"}}, \"type\": \"scatterternary\"}], \"surface\": [{\"colorbar\": {\"outlinewidth\": 0, \"ticks\": \"\"}, \"colorscale\": [[0.0, \"#0d0887\"], [0.1111111111111111, \"#46039f\"], [0.2222222222222222, \"#7201a8\"], [0.3333333333333333, \"#9c179e\"], [0.4444444444444444, \"#bd3786\"], [0.5555555555555556, \"#d8576b\"], [0.6666666666666666, \"#ed7953\"], [0.7777777777777778, \"#fb9f3a\"], [0.8888888888888888, \"#fdca26\"], [1.0, \"#f0f921\"]], \"type\": \"surface\"}], \"table\": [{\"cells\": {\"fill\": {\"color\": \"#EBF0F8\"}, \"line\": {\"color\": \"white\"}}, \"header\": {\"fill\": {\"color\": \"#C8D4E3\"}, \"line\": {\"color\": \"white\"}}, \"type\": \"table\"}]}, \"layout\": {\"annotationdefaults\": {\"arrowcolor\": \"#2a3f5f\", \"arrowhead\": 0, \"arrowwidth\": 1}, \"coloraxis\": {\"colorbar\": {\"outlinewidth\": 0, \"ticks\": \"\"}}, \"colorscale\": {\"diverging\": [[0, \"#8e0152\"], [0.1, \"#c51b7d\"], [0.2, \"#de77ae\"], [0.3, \"#f1b6da\"], [0.4, \"#fde0ef\"], [0.5, \"#f7f7f7\"], [0.6, \"#e6f5d0\"], [0.7, \"#b8e186\"], [0.8, \"#7fbc41\"], [0.9, \"#4d9221\"], [1, \"#276419\"]], \"sequential\": [[0.0, \"#0d0887\"], [0.1111111111111111, \"#46039f\"], [0.2222222222222222, \"#7201a8\"], [0.3333333333333333, \"#9c179e\"], [0.4444444444444444, \"#bd3786\"], [0.5555555555555556, \"#d8576b\"], [0.6666666666666666, \"#ed7953\"], [0.7777777777777778, \"#fb9f3a\"], [0.8888888888888888, \"#fdca26\"], [1.0, \"#f0f921\"]], \"sequentialminus\": [[0.0, \"#0d0887\"], [0.1111111111111111, \"#46039f\"], [0.2222222222222222, \"#7201a8\"], [0.3333333333333333, \"#9c179e\"], [0.4444444444444444, \"#bd3786\"], [0.5555555555555556, \"#d8576b\"], [0.6666666666666666, \"#ed7953\"], [0.7777777777777778, \"#fb9f3a\"], [0.8888888888888888, \"#fdca26\"], [1.0, \"#f0f921\"]]}, \"colorway\": [\"#636efa\", \"#EF553B\", \"#00cc96\", \"#ab63fa\", \"#FFA15A\", \"#19d3f3\", \"#FF6692\", \"#B6E880\", \"#FF97FF\", \"#FECB52\"], \"font\": {\"color\": \"#2a3f5f\"}, \"geo\": {\"bgcolor\": \"white\", \"lakecolor\": \"white\", \"landcolor\": \"#E5ECF6\", \"showlakes\": true, \"showland\": true, \"subunitcolor\": \"white\"}, \"hoverlabel\": {\"align\": \"left\"}, \"hovermode\": \"closest\", \"mapbox\": {\"style\": \"light\"}, \"paper_bgcolor\": \"white\", \"plot_bgcolor\": \"#E5ECF6\", \"polar\": {\"angularaxis\": {\"gridcolor\": \"white\", \"linecolor\": \"white\", \"ticks\": \"\"}, \"bgcolor\": \"#E5ECF6\", \"radialaxis\": {\"gridcolor\": \"white\", \"linecolor\": \"white\", \"ticks\": \"\"}}, \"scene\": {\"xaxis\": {\"backgroundcolor\": \"#E5ECF6\", \"gridcolor\": \"white\", \"gridwidth\": 2, \"linecolor\": \"white\", \"showbackground\": true, \"ticks\": \"\", \"zerolinecolor\": \"white\"}, \"yaxis\": {\"backgroundcolor\": \"#E5ECF6\", \"gridcolor\": \"white\", \"gridwidth\": 2, \"linecolor\": \"white\", \"showbackground\": true, \"ticks\": \"\", \"zerolinecolor\": \"white\"}, \"zaxis\": {\"backgroundcolor\": \"#E5ECF6\", \"gridcolor\": \"white\", \"gridwidth\": 2, \"linecolor\": \"white\", \"showbackground\": true, \"ticks\": \"\", \"zerolinecolor\": \"white\"}}, \"shapedefaults\": {\"line\": {\"color\": \"#2a3f5f\"}}, \"ternary\": {\"aaxis\": {\"gridcolor\": \"white\", \"linecolor\": \"white\", \"ticks\": \"\"}, \"baxis\": {\"gridcolor\": \"white\", \"linecolor\": \"white\", \"ticks\": \"\"}, \"bgcolor\": \"#E5ECF6\", \"caxis\": {\"gridcolor\": \"white\", \"linecolor\": \"white\", \"ticks\": \"\"}}, \"title\": {\"x\": 0.05}, \"xaxis\": {\"automargin\": true, \"gridcolor\": \"white\", \"linecolor\": \"white\", \"ticks\": \"\", \"title\": {\"standoff\": 15}, \"zerolinecolor\": \"white\", \"zerolinewidth\": 2}, \"yaxis\": {\"automargin\": true, \"gridcolor\": \"white\", \"linecolor\": \"white\", \"ticks\": \"\", \"title\": {\"standoff\": 15}, \"zerolinecolor\": \"white\", \"zerolinewidth\": 2}}}, \"xaxis\": {\"anchor\": \"y\", \"domain\": [0.0, 0.94]}, \"yaxis\": {\"anchor\": \"x\", \"domain\": [0.0, 1.0]}, \"yaxis2\": {\"anchor\": \"x\", \"overlaying\": \"y\", \"side\": \"right\"}},\n",
              "                        {\"responsive\": true}\n",
              "                    ).then(function(){\n",
              "                            \n",
              "var gd = document.getElementById('e0c8fe8f-b487-47c0-ada9-3df3d443b6b3');\n",
              "var x = new MutationObserver(function (mutations, observer) {{\n",
              "        var display = window.getComputedStyle(gd).display;\n",
              "        if (!display || display === 'none') {{\n",
              "            console.log([gd, 'removed!']);\n",
              "            Plotly.purge(gd);\n",
              "            observer.disconnect();\n",
              "        }}\n",
              "}});\n",
              "\n",
              "// Listen for the removal of the full notebook cells\n",
              "var notebookContainer = gd.closest('#notebook-container');\n",
              "if (notebookContainer) {{\n",
              "    x.observe(notebookContainer, {childList: true});\n",
              "}}\n",
              "\n",
              "// Listen for the clearing of the current output cell\n",
              "var outputEl = gd.closest('.output');\n",
              "if (outputEl) {{\n",
              "    x.observe(outputEl, {childList: true});\n",
              "}}\n",
              "\n",
              "                        })\n",
              "                };\n",
              "                \n",
              "            </script>\n",
              "        </div>\n",
              "</body>\n",
              "</html>"
            ]
          },
          "metadata": {
            "tags": []
          }
        }
      ]
    },
    {
      "cell_type": "code",
      "metadata": {
        "id": "6vibKUvgVws2"
      },
      "source": [
        "# add title\n",
        "combo_fig.layout.title=\"Average Enrollment in Baltimore City Public Schools 2012-2020\""
      ],
      "execution_count": 35,
      "outputs": []
    },
    {
      "cell_type": "code",
      "metadata": {
        "id": "YWU8VKWzWT1Q"
      },
      "source": [
        "# add x-axis title\n",
        "combo_fig.layout.xaxis.title = \"School Year\""
      ],
      "execution_count": 36,
      "outputs": []
    },
    {
      "cell_type": "code",
      "metadata": {
        "id": "Qg6Qu1eiV3Lu"
      },
      "source": [
        "# add right y-axis title\n",
        "combo_fig.layout.yaxis.title = \"Average Enrollment by Grade Level\""
      ],
      "execution_count": 37,
      "outputs": []
    },
    {
      "cell_type": "code",
      "metadata": {
        "id": "LtmsyXA2WFH-"
      },
      "source": [
        "# add left y-axis title\n",
        "combo_fig.layout.yaxis2.title = \"Total Average Enrollment\""
      ],
      "execution_count": 38,
      "outputs": []
    },
    {
      "cell_type": "code",
      "metadata": {
        "colab": {
          "base_uri": "https://localhost:8080/",
          "height": 542
        },
        "id": "QwI-u-eIWLMA",
        "outputId": "ed8cd888-3f84-4c9e-ac04-5caeb7d23937"
      },
      "source": [
        "combo_fig"
      ],
      "execution_count": 39,
      "outputs": [
        {
          "output_type": "display_data",
          "data": {
            "text/html": [
              "<html>\n",
              "<head><meta charset=\"utf-8\" /></head>\n",
              "<body>\n",
              "    <div>\n",
              "            <script src=\"https://cdnjs.cloudflare.com/ajax/libs/mathjax/2.7.5/MathJax.js?config=TeX-AMS-MML_SVG\"></script><script type=\"text/javascript\">if (window.MathJax) {MathJax.Hub.Config({SVG: {font: \"STIX-Web\"}});}</script>\n",
              "                <script type=\"text/javascript\">window.PlotlyConfig = {MathJaxConfig: 'local'};</script>\n",
              "        <script src=\"https://cdn.plot.ly/plotly-latest.min.js\"></script>    \n",
              "            <div id=\"31a74060-cb31-4245-9087-17fd3c6f3867\" class=\"plotly-graph-div\" style=\"height:525px; width:100%;\"></div>\n",
              "            <script type=\"text/javascript\">\n",
              "                \n",
              "                    window.PLOTLYENV=window.PLOTLYENV || {};\n",
              "                    \n",
              "                if (document.getElementById(\"31a74060-cb31-4245-9087-17fd3c6f3867\")) {\n",
              "                    Plotly.newPlot(\n",
              "                        '31a74060-cb31-4245-9087-17fd3c6f3867',\n",
              "                        [{\"alignmentgroup\": \"True\", \"hoverlabel\": {\"namelength\": 0}, \"hovertemplate\": \"School Year=%{x}<br>Average Total Enrollment=%{y}\", \"legendgroup\": \"\", \"marker\": {\"color\": \"pink\"}, \"name\": \"\", \"offsetgroup\": \"\", \"orientation\": \"v\", \"showlegend\": false, \"textposition\": \"auto\", \"type\": \"bar\", \"x\": [2012, 2013, 2014, 2015, 2016, 2017, 2018, 2019, 2020], \"xaxis\": \"x\", \"y\": [431.85641025641024, 436.840206185567, 448.30687830687833, 466.9010989010989, 464.81111111111113, 473.2471264367816, 471.2923976608187, 477.6927710843373, 488.80864197530866], \"yaxis\": \"y\"}, {\"hoverlabel\": {\"namelength\": 0}, \"hovertemplate\": \"grade_level=Elementary<br>School Year=%{x}<br>Number of Students Enrolled=%{y}\", \"legendgroup\": \"grade_level=Elementary\", \"line\": {\"color\": \"#636efa\", \"dash\": \"solid\"}, \"mode\": \"lines\", \"name\": \"grade_level=Elementary\", \"showlegend\": true, \"type\": \"scatter\", \"x\": [2012, 2013, 2014, 2015, 2016, 2017, 2018, 2019, 2020], \"xaxis\": \"x\", \"y\": [350.6363636363636, 369.4736842105263, 357.72222222222223, 344.27777777777777, 350.0188679245283, 346.0, 334.8139534883721, 320.46938775510205, 324.2826086956522], \"yaxis\": \"y2\"}, {\"hoverlabel\": {\"namelength\": 0}, \"hovertemplate\": \"grade_level=High<br>School Year=%{x}<br>Number of Students Enrolled=%{y}\", \"legendgroup\": \"grade_level=High\", \"line\": {\"color\": \"#EF553B\", \"dash\": \"solid\"}, \"mode\": \"lines\", \"name\": \"grade_level=High\", \"showlegend\": true, \"type\": \"scatter\", \"x\": [2012, 2013, 2014, 2015, 2016, 2017, 2018, 2019, 2020], \"xaxis\": \"x\", \"y\": [534.1, 523.6666666666666, 534.18, 573.8666666666667, 547.4042553191489, 596.05, 574.5, 593.6842105263158, 603.1315789473684], \"yaxis\": \"y2\"}, {\"hoverlabel\": {\"namelength\": 0}, \"hovertemplate\": \"grade_level=Middle<br>School Year=%{x}<br>Number of Students Enrolled=%{y}\", \"legendgroup\": \"grade_level=Middle\", \"line\": {\"color\": \"#00cc96\", \"dash\": \"solid\"}, \"mode\": \"lines\", \"name\": \"grade_level=Middle\", \"showlegend\": true, \"type\": \"scatter\", \"x\": [2012, 2013, 2014, 2015, 2016, 2017, 2018, 2019, 2020], \"xaxis\": \"x\", \"y\": [424.68888888888887, 430.0, 455.3411764705882, 488.68674698795184, 492.3375, 492.2530120481928, 489.1279069767442, 519.4177215189874, 530.1410256410256], \"yaxis\": \"y2\"}],\n",
              "                        {\"template\": {\"data\": {\"bar\": [{\"error_x\": {\"color\": \"#2a3f5f\"}, \"error_y\": {\"color\": \"#2a3f5f\"}, \"marker\": {\"line\": {\"color\": \"#E5ECF6\", \"width\": 0.5}}, \"type\": \"bar\"}], \"barpolar\": [{\"marker\": {\"line\": {\"color\": \"#E5ECF6\", \"width\": 0.5}}, \"type\": \"barpolar\"}], \"carpet\": [{\"aaxis\": {\"endlinecolor\": \"#2a3f5f\", \"gridcolor\": \"white\", \"linecolor\": \"white\", \"minorgridcolor\": \"white\", \"startlinecolor\": \"#2a3f5f\"}, \"baxis\": {\"endlinecolor\": \"#2a3f5f\", \"gridcolor\": \"white\", \"linecolor\": \"white\", \"minorgridcolor\": \"white\", \"startlinecolor\": \"#2a3f5f\"}, \"type\": \"carpet\"}], \"choropleth\": [{\"colorbar\": {\"outlinewidth\": 0, \"ticks\": \"\"}, \"type\": \"choropleth\"}], \"contour\": [{\"colorbar\": {\"outlinewidth\": 0, \"ticks\": \"\"}, \"colorscale\": [[0.0, \"#0d0887\"], [0.1111111111111111, \"#46039f\"], [0.2222222222222222, \"#7201a8\"], [0.3333333333333333, \"#9c179e\"], [0.4444444444444444, \"#bd3786\"], [0.5555555555555556, \"#d8576b\"], [0.6666666666666666, \"#ed7953\"], [0.7777777777777778, \"#fb9f3a\"], [0.8888888888888888, \"#fdca26\"], [1.0, \"#f0f921\"]], \"type\": \"contour\"}], \"contourcarpet\": [{\"colorbar\": {\"outlinewidth\": 0, \"ticks\": \"\"}, \"type\": \"contourcarpet\"}], \"heatmap\": [{\"colorbar\": {\"outlinewidth\": 0, \"ticks\": \"\"}, \"colorscale\": [[0.0, \"#0d0887\"], [0.1111111111111111, \"#46039f\"], [0.2222222222222222, \"#7201a8\"], [0.3333333333333333, \"#9c179e\"], [0.4444444444444444, \"#bd3786\"], [0.5555555555555556, \"#d8576b\"], [0.6666666666666666, \"#ed7953\"], [0.7777777777777778, \"#fb9f3a\"], [0.8888888888888888, \"#fdca26\"], [1.0, \"#f0f921\"]], \"type\": \"heatmap\"}], \"heatmapgl\": [{\"colorbar\": {\"outlinewidth\": 0, \"ticks\": \"\"}, \"colorscale\": [[0.0, \"#0d0887\"], [0.1111111111111111, \"#46039f\"], [0.2222222222222222, \"#7201a8\"], [0.3333333333333333, \"#9c179e\"], [0.4444444444444444, \"#bd3786\"], [0.5555555555555556, \"#d8576b\"], [0.6666666666666666, \"#ed7953\"], [0.7777777777777778, \"#fb9f3a\"], [0.8888888888888888, \"#fdca26\"], [1.0, \"#f0f921\"]], \"type\": \"heatmapgl\"}], \"histogram\": [{\"marker\": {\"colorbar\": {\"outlinewidth\": 0, \"ticks\": \"\"}}, \"type\": \"histogram\"}], \"histogram2d\": [{\"colorbar\": {\"outlinewidth\": 0, \"ticks\": \"\"}, \"colorscale\": [[0.0, \"#0d0887\"], [0.1111111111111111, \"#46039f\"], [0.2222222222222222, \"#7201a8\"], [0.3333333333333333, \"#9c179e\"], [0.4444444444444444, \"#bd3786\"], [0.5555555555555556, \"#d8576b\"], [0.6666666666666666, \"#ed7953\"], [0.7777777777777778, \"#fb9f3a\"], [0.8888888888888888, \"#fdca26\"], [1.0, \"#f0f921\"]], \"type\": \"histogram2d\"}], \"histogram2dcontour\": [{\"colorbar\": {\"outlinewidth\": 0, \"ticks\": \"\"}, \"colorscale\": [[0.0, \"#0d0887\"], [0.1111111111111111, \"#46039f\"], [0.2222222222222222, \"#7201a8\"], [0.3333333333333333, \"#9c179e\"], [0.4444444444444444, \"#bd3786\"], [0.5555555555555556, \"#d8576b\"], [0.6666666666666666, \"#ed7953\"], [0.7777777777777778, \"#fb9f3a\"], [0.8888888888888888, \"#fdca26\"], [1.0, \"#f0f921\"]], \"type\": \"histogram2dcontour\"}], \"mesh3d\": [{\"colorbar\": {\"outlinewidth\": 0, \"ticks\": \"\"}, \"type\": \"mesh3d\"}], \"parcoords\": [{\"line\": {\"colorbar\": {\"outlinewidth\": 0, \"ticks\": \"\"}}, \"type\": \"parcoords\"}], \"pie\": [{\"automargin\": true, \"type\": \"pie\"}], \"scatter\": [{\"marker\": {\"colorbar\": {\"outlinewidth\": 0, \"ticks\": \"\"}}, \"type\": \"scatter\"}], \"scatter3d\": [{\"line\": {\"colorbar\": {\"outlinewidth\": 0, \"ticks\": \"\"}}, \"marker\": {\"colorbar\": {\"outlinewidth\": 0, \"ticks\": \"\"}}, \"type\": \"scatter3d\"}], \"scattercarpet\": [{\"marker\": {\"colorbar\": {\"outlinewidth\": 0, \"ticks\": \"\"}}, \"type\": \"scattercarpet\"}], \"scattergeo\": [{\"marker\": {\"colorbar\": {\"outlinewidth\": 0, \"ticks\": \"\"}}, \"type\": \"scattergeo\"}], \"scattergl\": [{\"marker\": {\"colorbar\": {\"outlinewidth\": 0, \"ticks\": \"\"}}, \"type\": \"scattergl\"}], \"scattermapbox\": [{\"marker\": {\"colorbar\": {\"outlinewidth\": 0, \"ticks\": \"\"}}, \"type\": \"scattermapbox\"}], \"scatterpolar\": [{\"marker\": {\"colorbar\": {\"outlinewidth\": 0, \"ticks\": \"\"}}, \"type\": \"scatterpolar\"}], \"scatterpolargl\": [{\"marker\": {\"colorbar\": {\"outlinewidth\": 0, \"ticks\": \"\"}}, \"type\": \"scatterpolargl\"}], \"scatterternary\": [{\"marker\": {\"colorbar\": {\"outlinewidth\": 0, \"ticks\": \"\"}}, \"type\": \"scatterternary\"}], \"surface\": [{\"colorbar\": {\"outlinewidth\": 0, \"ticks\": \"\"}, \"colorscale\": [[0.0, \"#0d0887\"], [0.1111111111111111, \"#46039f\"], [0.2222222222222222, \"#7201a8\"], [0.3333333333333333, \"#9c179e\"], [0.4444444444444444, \"#bd3786\"], [0.5555555555555556, \"#d8576b\"], [0.6666666666666666, \"#ed7953\"], [0.7777777777777778, \"#fb9f3a\"], [0.8888888888888888, \"#fdca26\"], [1.0, \"#f0f921\"]], \"type\": \"surface\"}], \"table\": [{\"cells\": {\"fill\": {\"color\": \"#EBF0F8\"}, \"line\": {\"color\": \"white\"}}, \"header\": {\"fill\": {\"color\": \"#C8D4E3\"}, \"line\": {\"color\": \"white\"}}, \"type\": \"table\"}]}, \"layout\": {\"annotationdefaults\": {\"arrowcolor\": \"#2a3f5f\", \"arrowhead\": 0, \"arrowwidth\": 1}, \"coloraxis\": {\"colorbar\": {\"outlinewidth\": 0, \"ticks\": \"\"}}, \"colorscale\": {\"diverging\": [[0, \"#8e0152\"], [0.1, \"#c51b7d\"], [0.2, \"#de77ae\"], [0.3, \"#f1b6da\"], [0.4, \"#fde0ef\"], [0.5, \"#f7f7f7\"], [0.6, \"#e6f5d0\"], [0.7, \"#b8e186\"], [0.8, \"#7fbc41\"], [0.9, \"#4d9221\"], [1, \"#276419\"]], \"sequential\": [[0.0, \"#0d0887\"], [0.1111111111111111, \"#46039f\"], [0.2222222222222222, \"#7201a8\"], [0.3333333333333333, \"#9c179e\"], [0.4444444444444444, \"#bd3786\"], [0.5555555555555556, \"#d8576b\"], [0.6666666666666666, \"#ed7953\"], [0.7777777777777778, \"#fb9f3a\"], [0.8888888888888888, \"#fdca26\"], [1.0, \"#f0f921\"]], \"sequentialminus\": [[0.0, \"#0d0887\"], [0.1111111111111111, \"#46039f\"], [0.2222222222222222, \"#7201a8\"], [0.3333333333333333, \"#9c179e\"], [0.4444444444444444, \"#bd3786\"], [0.5555555555555556, \"#d8576b\"], [0.6666666666666666, \"#ed7953\"], [0.7777777777777778, \"#fb9f3a\"], [0.8888888888888888, \"#fdca26\"], [1.0, \"#f0f921\"]]}, \"colorway\": [\"#636efa\", \"#EF553B\", \"#00cc96\", \"#ab63fa\", \"#FFA15A\", \"#19d3f3\", \"#FF6692\", \"#B6E880\", \"#FF97FF\", \"#FECB52\"], \"font\": {\"color\": \"#2a3f5f\"}, \"geo\": {\"bgcolor\": \"white\", \"lakecolor\": \"white\", \"landcolor\": \"#E5ECF6\", \"showlakes\": true, \"showland\": true, \"subunitcolor\": \"white\"}, \"hoverlabel\": {\"align\": \"left\"}, \"hovermode\": \"closest\", \"mapbox\": {\"style\": \"light\"}, \"paper_bgcolor\": \"white\", \"plot_bgcolor\": \"#E5ECF6\", \"polar\": {\"angularaxis\": {\"gridcolor\": \"white\", \"linecolor\": \"white\", \"ticks\": \"\"}, \"bgcolor\": \"#E5ECF6\", \"radialaxis\": {\"gridcolor\": \"white\", \"linecolor\": \"white\", \"ticks\": \"\"}}, \"scene\": {\"xaxis\": {\"backgroundcolor\": \"#E5ECF6\", \"gridcolor\": \"white\", \"gridwidth\": 2, \"linecolor\": \"white\", \"showbackground\": true, \"ticks\": \"\", \"zerolinecolor\": \"white\"}, \"yaxis\": {\"backgroundcolor\": \"#E5ECF6\", \"gridcolor\": \"white\", \"gridwidth\": 2, \"linecolor\": \"white\", \"showbackground\": true, \"ticks\": \"\", \"zerolinecolor\": \"white\"}, \"zaxis\": {\"backgroundcolor\": \"#E5ECF6\", \"gridcolor\": \"white\", \"gridwidth\": 2, \"linecolor\": \"white\", \"showbackground\": true, \"ticks\": \"\", \"zerolinecolor\": \"white\"}}, \"shapedefaults\": {\"line\": {\"color\": \"#2a3f5f\"}}, \"ternary\": {\"aaxis\": {\"gridcolor\": \"white\", \"linecolor\": \"white\", \"ticks\": \"\"}, \"baxis\": {\"gridcolor\": \"white\", \"linecolor\": \"white\", \"ticks\": \"\"}, \"bgcolor\": \"#E5ECF6\", \"caxis\": {\"gridcolor\": \"white\", \"linecolor\": \"white\", \"ticks\": \"\"}}, \"title\": {\"x\": 0.05}, \"xaxis\": {\"automargin\": true, \"gridcolor\": \"white\", \"linecolor\": \"white\", \"ticks\": \"\", \"title\": {\"standoff\": 15}, \"zerolinecolor\": \"white\", \"zerolinewidth\": 2}, \"yaxis\": {\"automargin\": true, \"gridcolor\": \"white\", \"linecolor\": \"white\", \"ticks\": \"\", \"title\": {\"standoff\": 15}, \"zerolinecolor\": \"white\", \"zerolinewidth\": 2}}}, \"title\": {\"text\": \"Average Enrollment in Baltimore City Public Schools 2012-2020\"}, \"xaxis\": {\"anchor\": \"y\", \"domain\": [0.0, 0.94], \"title\": {\"text\": \"School Year\"}}, \"yaxis\": {\"anchor\": \"x\", \"domain\": [0.0, 1.0], \"title\": {\"text\": \"Average Enrollment by Grade Level\"}}, \"yaxis2\": {\"anchor\": \"x\", \"overlaying\": \"y\", \"side\": \"right\", \"title\": {\"text\": \"Total Average Enrollment\"}}},\n",
              "                        {\"responsive\": true}\n",
              "                    ).then(function(){\n",
              "                            \n",
              "var gd = document.getElementById('31a74060-cb31-4245-9087-17fd3c6f3867');\n",
              "var x = new MutationObserver(function (mutations, observer) {{\n",
              "        var display = window.getComputedStyle(gd).display;\n",
              "        if (!display || display === 'none') {{\n",
              "            console.log([gd, 'removed!']);\n",
              "            Plotly.purge(gd);\n",
              "            observer.disconnect();\n",
              "        }}\n",
              "}});\n",
              "\n",
              "// Listen for the removal of the full notebook cells\n",
              "var notebookContainer = gd.closest('#notebook-container');\n",
              "if (notebookContainer) {{\n",
              "    x.observe(notebookContainer, {childList: true});\n",
              "}}\n",
              "\n",
              "// Listen for the clearing of the current output cell\n",
              "var outputEl = gd.closest('.output');\n",
              "if (outputEl) {{\n",
              "    x.observe(outputEl, {childList: true});\n",
              "}}\n",
              "\n",
              "                        })\n",
              "                };\n",
              "                \n",
              "            </script>\n",
              "        </div>\n",
              "</body>\n",
              "</html>"
            ]
          },
          "metadata": {
            "tags": []
          }
        }
      ]
    },
    {
      "cell_type": "markdown",
      "metadata": {
        "id": "vs0KJAo_YXib"
      },
      "source": [
        "# Histogram"
      ]
    },
    {
      "cell_type": "code",
      "metadata": {
        "colab": {
          "base_uri": "https://localhost:8080/",
          "height": 359
        },
        "id": "NZETfJ_ubGDB",
        "outputId": "dd64846b-8832-4c82-cbfc-73e9f360338b"
      },
      "source": [
        "# bring back df of only total enrollments\n",
        "df_all_district.head(10)"
      ],
      "execution_count": 40,
      "outputs": [
        {
          "output_type": "execute_result",
          "data": {
            "text/html": [
              "<div>\n",
              "<style scoped>\n",
              "    .dataframe tbody tr th:only-of-type {\n",
              "        vertical-align: middle;\n",
              "    }\n",
              "\n",
              "    .dataframe tbody tr th {\n",
              "        vertical-align: top;\n",
              "    }\n",
              "\n",
              "    .dataframe thead th {\n",
              "        text-align: right;\n",
              "    }\n",
              "</style>\n",
              "<table border=\"1\" class=\"dataframe\">\n",
              "  <thead>\n",
              "    <tr style=\"text-align: right;\">\n",
              "      <th></th>\n",
              "      <th>school_year</th>\n",
              "      <th>lss_num</th>\n",
              "      <th>lss_name</th>\n",
              "      <th>school_num</th>\n",
              "      <th>school_name</th>\n",
              "      <th>grade</th>\n",
              "      <th>enrolled_count</th>\n",
              "      <th>grade_level</th>\n",
              "    </tr>\n",
              "  </thead>\n",
              "  <tbody>\n",
              "    <tr>\n",
              "      <th>67508</th>\n",
              "      <td>2012</td>\n",
              "      <td>23</td>\n",
              "      <td>Worcester</td>\n",
              "      <td>A</td>\n",
              "      <td>All Worcester Schools</td>\n",
              "      <td>Total Enrollment</td>\n",
              "      <td>6643.0</td>\n",
              "      <td>NaN</td>\n",
              "    </tr>\n",
              "    <tr>\n",
              "      <th>69087</th>\n",
              "      <td>2012</td>\n",
              "      <td>30</td>\n",
              "      <td>Baltimore City</td>\n",
              "      <td>A</td>\n",
              "      <td>All Baltimore City Schools</td>\n",
              "      <td>Total Enrollment</td>\n",
              "      <td>84212.0</td>\n",
              "      <td>NaN</td>\n",
              "    </tr>\n",
              "    <tr>\n",
              "      <th>69095</th>\n",
              "      <td>2012</td>\n",
              "      <td>32</td>\n",
              "      <td>SEED</td>\n",
              "      <td>A</td>\n",
              "      <td>All SEED Schools</td>\n",
              "      <td>Total Enrollment</td>\n",
              "      <td>308.0</td>\n",
              "      <td>NaN</td>\n",
              "    </tr>\n",
              "    <tr>\n",
              "      <th>59393</th>\n",
              "      <td>2012</td>\n",
              "      <td>01</td>\n",
              "      <td>Allegany</td>\n",
              "      <td>A</td>\n",
              "      <td>All Allegany Schools</td>\n",
              "      <td>Total Enrollment</td>\n",
              "      <td>8913.0</td>\n",
              "      <td>NaN</td>\n",
              "    </tr>\n",
              "    <tr>\n",
              "      <th>60196</th>\n",
              "      <td>2012</td>\n",
              "      <td>02</td>\n",
              "      <td>Anne Arundel</td>\n",
              "      <td>A</td>\n",
              "      <td>All Anne Arundel Schools</td>\n",
              "      <td>Total Enrollment</td>\n",
              "      <td>76303.0</td>\n",
              "      <td>NaN</td>\n",
              "    </tr>\n",
              "    <tr>\n",
              "      <th>61351</th>\n",
              "      <td>2012</td>\n",
              "      <td>03</td>\n",
              "      <td>Baltimore County</td>\n",
              "      <td>A</td>\n",
              "      <td>All Baltimore County Schools</td>\n",
              "      <td>Total Enrollment</td>\n",
              "      <td>105153.0</td>\n",
              "      <td>NaN</td>\n",
              "    </tr>\n",
              "    <tr>\n",
              "      <th>61516</th>\n",
              "      <td>2012</td>\n",
              "      <td>04</td>\n",
              "      <td>Calvert</td>\n",
              "      <td>A</td>\n",
              "      <td>All Calvert Schools</td>\n",
              "      <td>Total Enrollment</td>\n",
              "      <td>16553.0</td>\n",
              "      <td>NaN</td>\n",
              "    </tr>\n",
              "    <tr>\n",
              "      <th>61580</th>\n",
              "      <td>2012</td>\n",
              "      <td>05</td>\n",
              "      <td>Caroline</td>\n",
              "      <td>A</td>\n",
              "      <td>All Caroline Schools</td>\n",
              "      <td>Total Enrollment</td>\n",
              "      <td>5545.0</td>\n",
              "      <td>NaN</td>\n",
              "    </tr>\n",
              "    <tr>\n",
              "      <th>61867</th>\n",
              "      <td>2012</td>\n",
              "      <td>06</td>\n",
              "      <td>Carroll</td>\n",
              "      <td>A</td>\n",
              "      <td>All Carroll Schools</td>\n",
              "      <td>Total Enrollment</td>\n",
              "      <td>27082.0</td>\n",
              "      <td>NaN</td>\n",
              "    </tr>\n",
              "    <tr>\n",
              "      <th>62054</th>\n",
              "      <td>2012</td>\n",
              "      <td>07</td>\n",
              "      <td>Cecil</td>\n",
              "      <td>A</td>\n",
              "      <td>All Cecil Schools</td>\n",
              "      <td>Total Enrollment</td>\n",
              "      <td>15827.0</td>\n",
              "      <td>NaN</td>\n",
              "    </tr>\n",
              "  </tbody>\n",
              "</table>\n",
              "</div>"
            ],
            "text/plain": [
              "       school_year lss_num  ... enrolled_count grade_level\n",
              "67508         2012      23  ...         6643.0         NaN\n",
              "69087         2012      30  ...        84212.0         NaN\n",
              "69095         2012      32  ...          308.0         NaN\n",
              "59393         2012      01  ...         8913.0         NaN\n",
              "60196         2012      02  ...        76303.0         NaN\n",
              "61351         2012      03  ...       105153.0         NaN\n",
              "61516         2012      04  ...        16553.0         NaN\n",
              "61580         2012      05  ...         5545.0         NaN\n",
              "61867         2012      06  ...        27082.0         NaN\n",
              "62054         2012      07  ...        15827.0         NaN\n",
              "\n",
              "[10 rows x 8 columns]"
            ]
          },
          "metadata": {
            "tags": []
          },
          "execution_count": 40
        }
      ]
    },
    {
      "cell_type": "code",
      "metadata": {
        "id": "Jo0YYqgUZby1"
      },
      "source": [
        "# make histogram of enrollment counts\n",
        "hist_dist_yr = px.histogram(df_all_district, \n",
        "                            x = \"enrolled_count\", \n",
        "                            color = \"school_year\", \n",
        "                            barmode = \"overlay\", \n",
        "                            labels = {\"enrolled_count\": \"Number of Enrolled Students\"})"
      ],
      "execution_count": 41,
      "outputs": []
    },
    {
      "cell_type": "code",
      "metadata": {
        "colab": {
          "base_uri": "https://localhost:8080/",
          "height": 542
        },
        "id": "tXXdoXMXa8pZ",
        "outputId": "411e1e89-74e4-45ed-960a-72ffb4cf9a56"
      },
      "source": [
        "hist_dist_yr"
      ],
      "execution_count": 42,
      "outputs": [
        {
          "output_type": "display_data",
          "data": {
            "text/html": [
              "<html>\n",
              "<head><meta charset=\"utf-8\" /></head>\n",
              "<body>\n",
              "    <div>\n",
              "            <script src=\"https://cdnjs.cloudflare.com/ajax/libs/mathjax/2.7.5/MathJax.js?config=TeX-AMS-MML_SVG\"></script><script type=\"text/javascript\">if (window.MathJax) {MathJax.Hub.Config({SVG: {font: \"STIX-Web\"}});}</script>\n",
              "                <script type=\"text/javascript\">window.PlotlyConfig = {MathJaxConfig: 'local'};</script>\n",
              "        <script src=\"https://cdn.plot.ly/plotly-latest.min.js\"></script>    \n",
              "            <div id=\"65b4a7c0-4808-48a4-a844-833b7cf71f89\" class=\"plotly-graph-div\" style=\"height:525px; width:100%;\"></div>\n",
              "            <script type=\"text/javascript\">\n",
              "                \n",
              "                    window.PLOTLYENV=window.PLOTLYENV || {};\n",
              "                    \n",
              "                if (document.getElementById(\"65b4a7c0-4808-48a4-a844-833b7cf71f89\")) {\n",
              "                    Plotly.newPlot(\n",
              "                        '65b4a7c0-4808-48a4-a844-833b7cf71f89',\n",
              "                        [{\"alignmentgroup\": \"True\", \"bingroup\": \"x\", \"hoverlabel\": {\"namelength\": 0}, \"hovertemplate\": \"school_year=2012<br>Number of Enrolled Students=%{x}<br>count=%{y}\", \"legendgroup\": \"school_year=2012\", \"marker\": {\"color\": \"#636efa\", \"opacity\": 0.5}, \"name\": \"school_year=2012\", \"offsetgroup\": \"school_year=2012\", \"orientation\": \"v\", \"showlegend\": true, \"type\": \"histogram\", \"x\": [6643.0, 84212.0, 308.0, 8913.0, 76303.0, 105153.0, 16553.0, 5545.0, 27082.0, 15827.0, 26778.0, 4647.0, 14520.0, 4077.0, 38224.0, 51555.0, 2162.0, 146459.0, 123833.0, 7761.0, 17449.0, 2882.0, 22240.0, 4547.0, 40413.0], \"xaxis\": \"x\", \"yaxis\": \"y\"}, {\"alignmentgroup\": \"True\", \"bingroup\": \"x\", \"hoverlabel\": {\"namelength\": 0}, \"hovertemplate\": \"school_year=2013<br>Number of Enrolled Students=%{x}<br>count=%{y}\", \"legendgroup\": \"school_year=2013\", \"marker\": {\"color\": \"#EF553B\", \"opacity\": 0.5}, \"name\": \"school_year=2013\", \"offsetgroup\": \"school_year=2013\", \"orientation\": \"v\", \"showlegend\": true, \"type\": \"histogram\", \"x\": [4718.0, 26644.0, 15634.0, 26687.0, 8929.0, 106927.0, 77770.0, 40456.0, 16323.0, 4004.0, 5585.0, 37868.0, 52053.0, 84747.0, 6650.0, 14489.0, 22403.0, 4570.0, 386.0, 17453.0, 7752.0, 123737.0, 148780.0, 2943.0, 2130.0], \"xaxis\": \"x\", \"yaxis\": \"y\"}, {\"alignmentgroup\": \"True\", \"bingroup\": \"x\", \"hoverlabel\": {\"namelength\": 0}, \"hovertemplate\": \"school_year=2014<br>Number of Enrolled Students=%{x}<br>count=%{y}\", \"legendgroup\": \"school_year=2014\", \"marker\": {\"color\": \"#00cc96\", \"opacity\": 0.5}, \"name\": \"school_year=2014\", \"offsetgroup\": \"school_year=2014\", \"orientation\": \"v\", \"showlegend\": true, \"type\": \"histogram\", \"x\": [3886.0, 40648.0, 4766.0, 26455.0, 26331.0, 5545.0, 16221.0, 108191.0, 37842.0, 15824.0, 78489.0, 8872.0, 151295.0, 125136.0, 7716.0, 17841.0, 4537.0, 22495.0, 14431.0, 6649.0, 84730.0, 401.0, 2117.0, 2945.0, 52806.0], \"xaxis\": \"x\", \"yaxis\": \"y\"}, {\"alignmentgroup\": \"True\", \"bingroup\": \"x\", \"hoverlabel\": {\"namelength\": 0}, \"hovertemplate\": \"school_year=2015<br>Number of Enrolled Students=%{x}<br>count=%{y}\", \"legendgroup\": \"school_year=2015\", \"marker\": {\"color\": \"#ab63fa\", \"opacity\": 0.5}, \"name\": \"school_year=2015\", \"offsetgroup\": \"school_year=2015\", \"orientation\": \"v\", \"showlegend\": true, \"type\": \"histogram\", \"x\": [8865.0, 406.0, 84976.0, 6654.0, 14545.0, 22327.0, 4630.0, 2938.0, 17887.0, 7724.0, 127576.0, 154434.0, 2106.0, 37536.0, 79518.0, 3858.0, 40782.0, 4796.0, 26258.0, 15681.0, 25879.0, 5592.0, 16031.0, 109830.0, 53685.0], \"xaxis\": \"x\", \"yaxis\": \"y\"}, {\"alignmentgroup\": \"True\", \"bingroup\": \"x\", \"hoverlabel\": {\"namelength\": 0}, \"hovertemplate\": \"school_year=2016<br>Number of Enrolled Students=%{x}<br>count=%{y}\", \"legendgroup\": \"school_year=2016\", \"marker\": {\"color\": \"#FFA15A\", \"opacity\": 0.5}, \"name\": \"school_year=2016\", \"offsetgroup\": \"school_year=2016\", \"orientation\": \"v\", \"showlegend\": true, \"type\": \"histogram\", \"x\": [2029.0, 156380.0, 128936.0, 7717.0, 17941.0, 4625.0, 22303.0, 14790.0, 54870.0, 2908.0, 37448.0, 15859.0, 40655.0, 4739.0, 26307.0, 6660.0, 25551.0, 5602.0, 16017.0, 111138.0, 80387.0, 8812.0, 3856.0, 83666.0, 405.0], \"xaxis\": \"x\", \"yaxis\": \"y\"}, {\"alignmentgroup\": \"True\", \"bingroup\": \"x\", \"hoverlabel\": {\"namelength\": 0}, \"hovertemplate\": \"school_year=2017<br>Number of Enrolled Students=%{x}<br>count=%{y}\", \"legendgroup\": \"school_year=2017\", \"marker\": {\"color\": \"#19d3f3\", \"opacity\": 0.5}, \"name\": \"school_year=2017\", \"offsetgroup\": \"school_year=2017\", \"orientation\": \"v\", \"showlegend\": true, \"type\": \"histogram\", \"x\": [8702.0, 401.0, 6667.0, 14889.0, 22545.0, 4593.0, 2958.0, 18067.0, 7751.0, 130814.0, 159010.0, 2001.0, 82354.0, 37426.0, 55626.0, 112139.0, 15950.0, 5705.0, 25255.0, 81379.0, 26390.0, 4816.0, 41317.0, 3833.0, 15633.0], \"xaxis\": \"x\", \"yaxis\": \"y\"}, {\"alignmentgroup\": \"True\", \"bingroup\": \"x\", \"hoverlabel\": {\"namelength\": 0}, \"hovertemplate\": \"school_year=2018<br>Number of Enrolled Students=%{x}<br>count=%{y}\", \"legendgroup\": \"school_year=2018\", \"marker\": {\"color\": \"#FF6692\", \"opacity\": 0.5}, \"name\": \"school_year=2018\", \"offsetgroup\": \"school_year=2018\", \"orientation\": \"v\", \"showlegend\": true, \"type\": \"histogram\", \"x\": [161546.0, 6684.0, 14953.0, 22595.0, 4646.0, 2918.0, 18053.0, 7778.0, 132322.0, 1993.0, 26891.0, 37780.0, 3811.0, 42140.0, 4767.0, 15364.0, 25290.0, 5787.0, 15908.0, 113282.0, 82777.0, 56784.0, 8629.0, 400.0, 80591.0], \"xaxis\": \"x\", \"yaxis\": \"y\"}, {\"alignmentgroup\": \"True\", \"bingroup\": \"x\", \"hoverlabel\": {\"namelength\": 0}, \"hovertemplate\": \"school_year=2019<br>Number of Enrolled Students=%{x}<br>count=%{y}\", \"legendgroup\": \"school_year=2019\", \"marker\": {\"color\": \"#B6E880\", \"opacity\": 0.5}, \"name\": \"school_year=2019\", \"offsetgroup\": \"school_year=2019\", \"orientation\": \"v\", \"showlegend\": true, \"type\": \"histogram\", \"x\": [404.0, 79297.0, 6810.0, 14949.0, 22681.0, 4674.0, 2930.0, 7749.0, 132667.0, 162680.0, 1912.0, 57907.0, 17999.0, 3842.0, 37826.0, 83300.0, 113814.0, 15936.0, 5829.0, 8539.0, 15307.0, 27108.0, 4785.0, 42713.0, 25179.0], \"xaxis\": \"x\", \"yaxis\": \"y\"}, {\"alignmentgroup\": \"True\", \"bingroup\": \"x\", \"hoverlabel\": {\"namelength\": 0}, \"hovertemplate\": \"school_year=2020<br>Number of Enrolled Students=%{x}<br>count=%{y}\", \"legendgroup\": \"school_year=2020\", \"marker\": {\"color\": \"#FF97FF\", \"opacity\": 0.5}, \"name\": \"school_year=2020\", \"offsetgroup\": \"school_year=2020\", \"orientation\": \"v\", \"showlegend\": true, \"type\": \"histogram\", \"x\": [3834.0, 84984.0, 115038.0, 16022.0, 5874.0, 25345.0, 15256.0, 27521.0, 4710.0, 43828.0, 38429.0, 401.0, 1918.0, 165267.0, 135962.0, 7764.0, 18083.0, 2905.0, 4703.0, 22993.0, 15203.0, 6882.0, 79187.0, 58868.0, 8437.0], \"xaxis\": \"x\", \"yaxis\": \"y\"}],\n",
              "                        {\"barmode\": \"overlay\", \"legend\": {\"tracegroupgap\": 0}, \"margin\": {\"t\": 60}, \"template\": {\"data\": {\"bar\": [{\"error_x\": {\"color\": \"#2a3f5f\"}, \"error_y\": {\"color\": \"#2a3f5f\"}, \"marker\": {\"line\": {\"color\": \"#E5ECF6\", \"width\": 0.5}}, \"type\": \"bar\"}], \"barpolar\": [{\"marker\": {\"line\": {\"color\": \"#E5ECF6\", \"width\": 0.5}}, \"type\": \"barpolar\"}], \"carpet\": [{\"aaxis\": {\"endlinecolor\": \"#2a3f5f\", \"gridcolor\": \"white\", \"linecolor\": \"white\", \"minorgridcolor\": \"white\", \"startlinecolor\": \"#2a3f5f\"}, \"baxis\": {\"endlinecolor\": \"#2a3f5f\", \"gridcolor\": \"white\", \"linecolor\": \"white\", \"minorgridcolor\": \"white\", \"startlinecolor\": \"#2a3f5f\"}, \"type\": \"carpet\"}], \"choropleth\": [{\"colorbar\": {\"outlinewidth\": 0, \"ticks\": \"\"}, \"type\": \"choropleth\"}], \"contour\": [{\"colorbar\": {\"outlinewidth\": 0, \"ticks\": \"\"}, \"colorscale\": [[0.0, \"#0d0887\"], [0.1111111111111111, \"#46039f\"], [0.2222222222222222, \"#7201a8\"], [0.3333333333333333, \"#9c179e\"], [0.4444444444444444, \"#bd3786\"], [0.5555555555555556, \"#d8576b\"], [0.6666666666666666, \"#ed7953\"], [0.7777777777777778, \"#fb9f3a\"], [0.8888888888888888, \"#fdca26\"], [1.0, \"#f0f921\"]], \"type\": \"contour\"}], \"contourcarpet\": [{\"colorbar\": {\"outlinewidth\": 0, \"ticks\": \"\"}, \"type\": \"contourcarpet\"}], \"heatmap\": [{\"colorbar\": {\"outlinewidth\": 0, \"ticks\": \"\"}, \"colorscale\": [[0.0, \"#0d0887\"], [0.1111111111111111, \"#46039f\"], [0.2222222222222222, \"#7201a8\"], [0.3333333333333333, \"#9c179e\"], [0.4444444444444444, \"#bd3786\"], [0.5555555555555556, \"#d8576b\"], [0.6666666666666666, \"#ed7953\"], [0.7777777777777778, \"#fb9f3a\"], [0.8888888888888888, \"#fdca26\"], [1.0, \"#f0f921\"]], \"type\": \"heatmap\"}], \"heatmapgl\": [{\"colorbar\": {\"outlinewidth\": 0, \"ticks\": \"\"}, \"colorscale\": [[0.0, \"#0d0887\"], [0.1111111111111111, \"#46039f\"], [0.2222222222222222, \"#7201a8\"], [0.3333333333333333, \"#9c179e\"], [0.4444444444444444, \"#bd3786\"], [0.5555555555555556, \"#d8576b\"], [0.6666666666666666, \"#ed7953\"], [0.7777777777777778, \"#fb9f3a\"], [0.8888888888888888, \"#fdca26\"], [1.0, \"#f0f921\"]], \"type\": \"heatmapgl\"}], \"histogram\": [{\"marker\": {\"colorbar\": {\"outlinewidth\": 0, \"ticks\": \"\"}}, \"type\": \"histogram\"}], \"histogram2d\": [{\"colorbar\": {\"outlinewidth\": 0, \"ticks\": \"\"}, \"colorscale\": [[0.0, \"#0d0887\"], [0.1111111111111111, \"#46039f\"], [0.2222222222222222, \"#7201a8\"], [0.3333333333333333, \"#9c179e\"], [0.4444444444444444, \"#bd3786\"], [0.5555555555555556, \"#d8576b\"], [0.6666666666666666, \"#ed7953\"], [0.7777777777777778, \"#fb9f3a\"], [0.8888888888888888, \"#fdca26\"], [1.0, \"#f0f921\"]], \"type\": \"histogram2d\"}], \"histogram2dcontour\": [{\"colorbar\": {\"outlinewidth\": 0, \"ticks\": \"\"}, \"colorscale\": [[0.0, \"#0d0887\"], [0.1111111111111111, \"#46039f\"], [0.2222222222222222, \"#7201a8\"], [0.3333333333333333, \"#9c179e\"], [0.4444444444444444, \"#bd3786\"], [0.5555555555555556, \"#d8576b\"], [0.6666666666666666, \"#ed7953\"], [0.7777777777777778, \"#fb9f3a\"], [0.8888888888888888, \"#fdca26\"], [1.0, \"#f0f921\"]], \"type\": \"histogram2dcontour\"}], \"mesh3d\": [{\"colorbar\": {\"outlinewidth\": 0, \"ticks\": \"\"}, \"type\": \"mesh3d\"}], \"parcoords\": [{\"line\": {\"colorbar\": {\"outlinewidth\": 0, \"ticks\": \"\"}}, \"type\": \"parcoords\"}], \"pie\": [{\"automargin\": true, \"type\": \"pie\"}], \"scatter\": [{\"marker\": {\"colorbar\": {\"outlinewidth\": 0, \"ticks\": \"\"}}, \"type\": \"scatter\"}], \"scatter3d\": [{\"line\": {\"colorbar\": {\"outlinewidth\": 0, \"ticks\": \"\"}}, \"marker\": {\"colorbar\": {\"outlinewidth\": 0, \"ticks\": \"\"}}, \"type\": \"scatter3d\"}], \"scattercarpet\": [{\"marker\": {\"colorbar\": {\"outlinewidth\": 0, \"ticks\": \"\"}}, \"type\": \"scattercarpet\"}], \"scattergeo\": [{\"marker\": {\"colorbar\": {\"outlinewidth\": 0, \"ticks\": \"\"}}, \"type\": \"scattergeo\"}], \"scattergl\": [{\"marker\": {\"colorbar\": {\"outlinewidth\": 0, \"ticks\": \"\"}}, \"type\": \"scattergl\"}], \"scattermapbox\": [{\"marker\": {\"colorbar\": {\"outlinewidth\": 0, \"ticks\": \"\"}}, \"type\": \"scattermapbox\"}], \"scatterpolar\": [{\"marker\": {\"colorbar\": {\"outlinewidth\": 0, \"ticks\": \"\"}}, \"type\": \"scatterpolar\"}], \"scatterpolargl\": [{\"marker\": {\"colorbar\": {\"outlinewidth\": 0, \"ticks\": \"\"}}, \"type\": \"scatterpolargl\"}], \"scatterternary\": [{\"marker\": {\"colorbar\": {\"outlinewidth\": 0, \"ticks\": \"\"}}, \"type\": \"scatterternary\"}], \"surface\": [{\"colorbar\": {\"outlinewidth\": 0, \"ticks\": \"\"}, \"colorscale\": [[0.0, \"#0d0887\"], [0.1111111111111111, \"#46039f\"], [0.2222222222222222, \"#7201a8\"], [0.3333333333333333, \"#9c179e\"], [0.4444444444444444, \"#bd3786\"], [0.5555555555555556, \"#d8576b\"], [0.6666666666666666, \"#ed7953\"], [0.7777777777777778, \"#fb9f3a\"], [0.8888888888888888, \"#fdca26\"], [1.0, \"#f0f921\"]], \"type\": \"surface\"}], \"table\": [{\"cells\": {\"fill\": {\"color\": \"#EBF0F8\"}, \"line\": {\"color\": \"white\"}}, \"header\": {\"fill\": {\"color\": \"#C8D4E3\"}, \"line\": {\"color\": \"white\"}}, \"type\": \"table\"}]}, \"layout\": {\"annotationdefaults\": {\"arrowcolor\": \"#2a3f5f\", \"arrowhead\": 0, \"arrowwidth\": 1}, \"coloraxis\": {\"colorbar\": {\"outlinewidth\": 0, \"ticks\": \"\"}}, \"colorscale\": {\"diverging\": [[0, \"#8e0152\"], [0.1, \"#c51b7d\"], [0.2, \"#de77ae\"], [0.3, \"#f1b6da\"], [0.4, \"#fde0ef\"], [0.5, \"#f7f7f7\"], [0.6, \"#e6f5d0\"], [0.7, \"#b8e186\"], [0.8, \"#7fbc41\"], [0.9, \"#4d9221\"], [1, \"#276419\"]], \"sequential\": [[0.0, \"#0d0887\"], [0.1111111111111111, \"#46039f\"], [0.2222222222222222, \"#7201a8\"], [0.3333333333333333, \"#9c179e\"], [0.4444444444444444, \"#bd3786\"], [0.5555555555555556, \"#d8576b\"], [0.6666666666666666, \"#ed7953\"], [0.7777777777777778, \"#fb9f3a\"], [0.8888888888888888, \"#fdca26\"], [1.0, \"#f0f921\"]], \"sequentialminus\": [[0.0, \"#0d0887\"], [0.1111111111111111, \"#46039f\"], [0.2222222222222222, \"#7201a8\"], [0.3333333333333333, \"#9c179e\"], [0.4444444444444444, \"#bd3786\"], [0.5555555555555556, \"#d8576b\"], [0.6666666666666666, \"#ed7953\"], [0.7777777777777778, \"#fb9f3a\"], [0.8888888888888888, \"#fdca26\"], [1.0, \"#f0f921\"]]}, \"colorway\": [\"#636efa\", \"#EF553B\", \"#00cc96\", \"#ab63fa\", \"#FFA15A\", \"#19d3f3\", \"#FF6692\", \"#B6E880\", \"#FF97FF\", \"#FECB52\"], \"font\": {\"color\": \"#2a3f5f\"}, \"geo\": {\"bgcolor\": \"white\", \"lakecolor\": \"white\", \"landcolor\": \"#E5ECF6\", \"showlakes\": true, \"showland\": true, \"subunitcolor\": \"white\"}, \"hoverlabel\": {\"align\": \"left\"}, \"hovermode\": \"closest\", \"mapbox\": {\"style\": \"light\"}, \"paper_bgcolor\": \"white\", \"plot_bgcolor\": \"#E5ECF6\", \"polar\": {\"angularaxis\": {\"gridcolor\": \"white\", \"linecolor\": \"white\", \"ticks\": \"\"}, \"bgcolor\": \"#E5ECF6\", \"radialaxis\": {\"gridcolor\": \"white\", \"linecolor\": \"white\", \"ticks\": \"\"}}, \"scene\": {\"xaxis\": {\"backgroundcolor\": \"#E5ECF6\", \"gridcolor\": \"white\", \"gridwidth\": 2, \"linecolor\": \"white\", \"showbackground\": true, \"ticks\": \"\", \"zerolinecolor\": \"white\"}, \"yaxis\": {\"backgroundcolor\": \"#E5ECF6\", \"gridcolor\": \"white\", \"gridwidth\": 2, \"linecolor\": \"white\", \"showbackground\": true, \"ticks\": \"\", \"zerolinecolor\": \"white\"}, \"zaxis\": {\"backgroundcolor\": \"#E5ECF6\", \"gridcolor\": \"white\", \"gridwidth\": 2, \"linecolor\": \"white\", \"showbackground\": true, \"ticks\": \"\", \"zerolinecolor\": \"white\"}}, \"shapedefaults\": {\"line\": {\"color\": \"#2a3f5f\"}}, \"ternary\": {\"aaxis\": {\"gridcolor\": \"white\", \"linecolor\": \"white\", \"ticks\": \"\"}, \"baxis\": {\"gridcolor\": \"white\", \"linecolor\": \"white\", \"ticks\": \"\"}, \"bgcolor\": \"#E5ECF6\", \"caxis\": {\"gridcolor\": \"white\", \"linecolor\": \"white\", \"ticks\": \"\"}}, \"title\": {\"x\": 0.05}, \"xaxis\": {\"automargin\": true, \"gridcolor\": \"white\", \"linecolor\": \"white\", \"ticks\": \"\", \"title\": {\"standoff\": 15}, \"zerolinecolor\": \"white\", \"zerolinewidth\": 2}, \"yaxis\": {\"automargin\": true, \"gridcolor\": \"white\", \"linecolor\": \"white\", \"ticks\": \"\", \"title\": {\"standoff\": 15}, \"zerolinecolor\": \"white\", \"zerolinewidth\": 2}}}, \"xaxis\": {\"anchor\": \"y\", \"domain\": [0.0, 1.0], \"title\": {\"text\": \"Number of Enrolled Students\"}}, \"yaxis\": {\"anchor\": \"x\", \"domain\": [0.0, 1.0], \"title\": {\"text\": \"count\"}}},\n",
              "                        {\"responsive\": true}\n",
              "                    ).then(function(){\n",
              "                            \n",
              "var gd = document.getElementById('65b4a7c0-4808-48a4-a844-833b7cf71f89');\n",
              "var x = new MutationObserver(function (mutations, observer) {{\n",
              "        var display = window.getComputedStyle(gd).display;\n",
              "        if (!display || display === 'none') {{\n",
              "            console.log([gd, 'removed!']);\n",
              "            Plotly.purge(gd);\n",
              "            observer.disconnect();\n",
              "        }}\n",
              "}});\n",
              "\n",
              "// Listen for the removal of the full notebook cells\n",
              "var notebookContainer = gd.closest('#notebook-container');\n",
              "if (notebookContainer) {{\n",
              "    x.observe(notebookContainer, {childList: true});\n",
              "}}\n",
              "\n",
              "// Listen for the clearing of the current output cell\n",
              "var outputEl = gd.closest('.output');\n",
              "if (outputEl) {{\n",
              "    x.observe(outputEl, {childList: true});\n",
              "}}\n",
              "\n",
              "                        })\n",
              "                };\n",
              "                \n",
              "            </script>\n",
              "        </div>\n",
              "</body>\n",
              "</html>"
            ]
          },
          "metadata": {
            "tags": []
          }
        }
      ]
    },
    {
      "cell_type": "markdown",
      "metadata": {
        "id": "039epHqPcdOQ"
      },
      "source": [
        "We can also use plotly's figure factory to create a density plot with or without histograms"
      ]
    },
    {
      "cell_type": "code",
      "metadata": {
        "id": "aEvVs4RJdYr-"
      },
      "source": [
        "# \"unmelt\" the data so that we have the years in different columns using \"pivot\"\n",
        "df_unmelt_yr = df_all_district.pivot(index = \"school_name\", columns = \"school_year\", values = \"enrolled_count\").reset_index()\n"
      ],
      "execution_count": 43,
      "outputs": []
    },
    {
      "cell_type": "code",
      "metadata": {
        "colab": {
          "base_uri": "https://localhost:8080/",
          "height": 824
        },
        "id": "brkAa1XXkRRP",
        "outputId": "1a6e2ddd-f53b-49ec-e4b0-0a07c9ac3a14"
      },
      "source": [
        "df_unmelt_yr"
      ],
      "execution_count": 44,
      "outputs": [
        {
          "output_type": "execute_result",
          "data": {
            "text/html": [
              "<div>\n",
              "<style scoped>\n",
              "    .dataframe tbody tr th:only-of-type {\n",
              "        vertical-align: middle;\n",
              "    }\n",
              "\n",
              "    .dataframe tbody tr th {\n",
              "        vertical-align: top;\n",
              "    }\n",
              "\n",
              "    .dataframe thead th {\n",
              "        text-align: right;\n",
              "    }\n",
              "</style>\n",
              "<table border=\"1\" class=\"dataframe\">\n",
              "  <thead>\n",
              "    <tr style=\"text-align: right;\">\n",
              "      <th>school_year</th>\n",
              "      <th>school_name</th>\n",
              "      <th>2012</th>\n",
              "      <th>2013</th>\n",
              "      <th>2014</th>\n",
              "      <th>2015</th>\n",
              "      <th>2016</th>\n",
              "      <th>2017</th>\n",
              "      <th>2018</th>\n",
              "      <th>2019</th>\n",
              "      <th>2020</th>\n",
              "    </tr>\n",
              "  </thead>\n",
              "  <tbody>\n",
              "    <tr>\n",
              "      <th>0</th>\n",
              "      <td>All Allegany Schools</td>\n",
              "      <td>8913.0</td>\n",
              "      <td>8929.0</td>\n",
              "      <td>8872.0</td>\n",
              "      <td>8865.0</td>\n",
              "      <td>8812.0</td>\n",
              "      <td>8702.0</td>\n",
              "      <td>8629.0</td>\n",
              "      <td>8539.0</td>\n",
              "      <td>8437.0</td>\n",
              "    </tr>\n",
              "    <tr>\n",
              "      <th>1</th>\n",
              "      <td>All Anne Arundel Schools</td>\n",
              "      <td>76303.0</td>\n",
              "      <td>77770.0</td>\n",
              "      <td>78489.0</td>\n",
              "      <td>79518.0</td>\n",
              "      <td>80387.0</td>\n",
              "      <td>81379.0</td>\n",
              "      <td>82777.0</td>\n",
              "      <td>83300.0</td>\n",
              "      <td>84984.0</td>\n",
              "    </tr>\n",
              "    <tr>\n",
              "      <th>2</th>\n",
              "      <td>All Baltimore City Schools</td>\n",
              "      <td>84212.0</td>\n",
              "      <td>84747.0</td>\n",
              "      <td>84730.0</td>\n",
              "      <td>84976.0</td>\n",
              "      <td>83666.0</td>\n",
              "      <td>82354.0</td>\n",
              "      <td>80591.0</td>\n",
              "      <td>79297.0</td>\n",
              "      <td>79187.0</td>\n",
              "    </tr>\n",
              "    <tr>\n",
              "      <th>3</th>\n",
              "      <td>All Baltimore County Schools</td>\n",
              "      <td>105153.0</td>\n",
              "      <td>106927.0</td>\n",
              "      <td>108191.0</td>\n",
              "      <td>109830.0</td>\n",
              "      <td>111138.0</td>\n",
              "      <td>112139.0</td>\n",
              "      <td>113282.0</td>\n",
              "      <td>113814.0</td>\n",
              "      <td>115038.0</td>\n",
              "    </tr>\n",
              "    <tr>\n",
              "      <th>4</th>\n",
              "      <td>All Calvert Schools</td>\n",
              "      <td>16553.0</td>\n",
              "      <td>16323.0</td>\n",
              "      <td>16221.0</td>\n",
              "      <td>16031.0</td>\n",
              "      <td>16017.0</td>\n",
              "      <td>15950.0</td>\n",
              "      <td>15908.0</td>\n",
              "      <td>15936.0</td>\n",
              "      <td>16022.0</td>\n",
              "    </tr>\n",
              "    <tr>\n",
              "      <th>5</th>\n",
              "      <td>All Caroline Schools</td>\n",
              "      <td>5545.0</td>\n",
              "      <td>5585.0</td>\n",
              "      <td>5545.0</td>\n",
              "      <td>5592.0</td>\n",
              "      <td>5602.0</td>\n",
              "      <td>5705.0</td>\n",
              "      <td>5787.0</td>\n",
              "      <td>5829.0</td>\n",
              "      <td>5874.0</td>\n",
              "    </tr>\n",
              "    <tr>\n",
              "      <th>6</th>\n",
              "      <td>All Carroll Schools</td>\n",
              "      <td>27082.0</td>\n",
              "      <td>26687.0</td>\n",
              "      <td>26331.0</td>\n",
              "      <td>25879.0</td>\n",
              "      <td>25551.0</td>\n",
              "      <td>25255.0</td>\n",
              "      <td>25290.0</td>\n",
              "      <td>25179.0</td>\n",
              "      <td>25345.0</td>\n",
              "    </tr>\n",
              "    <tr>\n",
              "      <th>7</th>\n",
              "      <td>All Cecil Schools</td>\n",
              "      <td>15827.0</td>\n",
              "      <td>15634.0</td>\n",
              "      <td>15824.0</td>\n",
              "      <td>15681.0</td>\n",
              "      <td>15859.0</td>\n",
              "      <td>15633.0</td>\n",
              "      <td>15364.0</td>\n",
              "      <td>15307.0</td>\n",
              "      <td>15256.0</td>\n",
              "    </tr>\n",
              "    <tr>\n",
              "      <th>8</th>\n",
              "      <td>All Charles Schools</td>\n",
              "      <td>26778.0</td>\n",
              "      <td>26644.0</td>\n",
              "      <td>26455.0</td>\n",
              "      <td>26258.0</td>\n",
              "      <td>26307.0</td>\n",
              "      <td>26390.0</td>\n",
              "      <td>26891.0</td>\n",
              "      <td>27108.0</td>\n",
              "      <td>27521.0</td>\n",
              "    </tr>\n",
              "    <tr>\n",
              "      <th>9</th>\n",
              "      <td>All Dorchester Schools</td>\n",
              "      <td>4647.0</td>\n",
              "      <td>4718.0</td>\n",
              "      <td>4766.0</td>\n",
              "      <td>4796.0</td>\n",
              "      <td>4739.0</td>\n",
              "      <td>4816.0</td>\n",
              "      <td>4767.0</td>\n",
              "      <td>4785.0</td>\n",
              "      <td>4710.0</td>\n",
              "    </tr>\n",
              "    <tr>\n",
              "      <th>10</th>\n",
              "      <td>All Frederick Schools</td>\n",
              "      <td>40413.0</td>\n",
              "      <td>40456.0</td>\n",
              "      <td>40648.0</td>\n",
              "      <td>40782.0</td>\n",
              "      <td>40655.0</td>\n",
              "      <td>41317.0</td>\n",
              "      <td>42140.0</td>\n",
              "      <td>42713.0</td>\n",
              "      <td>43828.0</td>\n",
              "    </tr>\n",
              "    <tr>\n",
              "      <th>11</th>\n",
              "      <td>All Garrett Schools</td>\n",
              "      <td>4077.0</td>\n",
              "      <td>4004.0</td>\n",
              "      <td>3886.0</td>\n",
              "      <td>3858.0</td>\n",
              "      <td>3856.0</td>\n",
              "      <td>3833.0</td>\n",
              "      <td>3811.0</td>\n",
              "      <td>3842.0</td>\n",
              "      <td>3834.0</td>\n",
              "    </tr>\n",
              "    <tr>\n",
              "      <th>12</th>\n",
              "      <td>All Harford Schools</td>\n",
              "      <td>38224.0</td>\n",
              "      <td>37868.0</td>\n",
              "      <td>37842.0</td>\n",
              "      <td>37536.0</td>\n",
              "      <td>37448.0</td>\n",
              "      <td>37426.0</td>\n",
              "      <td>37780.0</td>\n",
              "      <td>37826.0</td>\n",
              "      <td>38429.0</td>\n",
              "    </tr>\n",
              "    <tr>\n",
              "      <th>13</th>\n",
              "      <td>All Howard Schools</td>\n",
              "      <td>51555.0</td>\n",
              "      <td>52053.0</td>\n",
              "      <td>52806.0</td>\n",
              "      <td>53685.0</td>\n",
              "      <td>54870.0</td>\n",
              "      <td>55626.0</td>\n",
              "      <td>56784.0</td>\n",
              "      <td>57907.0</td>\n",
              "      <td>58868.0</td>\n",
              "    </tr>\n",
              "    <tr>\n",
              "      <th>14</th>\n",
              "      <td>All Kent Schools</td>\n",
              "      <td>2162.0</td>\n",
              "      <td>2130.0</td>\n",
              "      <td>2117.0</td>\n",
              "      <td>2106.0</td>\n",
              "      <td>2029.0</td>\n",
              "      <td>2001.0</td>\n",
              "      <td>1993.0</td>\n",
              "      <td>1912.0</td>\n",
              "      <td>1918.0</td>\n",
              "    </tr>\n",
              "    <tr>\n",
              "      <th>15</th>\n",
              "      <td>All Montgomery Schools</td>\n",
              "      <td>146459.0</td>\n",
              "      <td>148780.0</td>\n",
              "      <td>151295.0</td>\n",
              "      <td>154434.0</td>\n",
              "      <td>156380.0</td>\n",
              "      <td>159010.0</td>\n",
              "      <td>161546.0</td>\n",
              "      <td>162680.0</td>\n",
              "      <td>165267.0</td>\n",
              "    </tr>\n",
              "    <tr>\n",
              "      <th>16</th>\n",
              "      <td>All Prince George's Schools</td>\n",
              "      <td>123833.0</td>\n",
              "      <td>123737.0</td>\n",
              "      <td>125136.0</td>\n",
              "      <td>127576.0</td>\n",
              "      <td>128936.0</td>\n",
              "      <td>130814.0</td>\n",
              "      <td>132322.0</td>\n",
              "      <td>132667.0</td>\n",
              "      <td>135962.0</td>\n",
              "    </tr>\n",
              "    <tr>\n",
              "      <th>17</th>\n",
              "      <td>All Queen Anne's Schools</td>\n",
              "      <td>7761.0</td>\n",
              "      <td>7752.0</td>\n",
              "      <td>7716.0</td>\n",
              "      <td>7724.0</td>\n",
              "      <td>7717.0</td>\n",
              "      <td>7751.0</td>\n",
              "      <td>7778.0</td>\n",
              "      <td>7749.0</td>\n",
              "      <td>7764.0</td>\n",
              "    </tr>\n",
              "    <tr>\n",
              "      <th>18</th>\n",
              "      <td>All SEED Schools</td>\n",
              "      <td>308.0</td>\n",
              "      <td>386.0</td>\n",
              "      <td>401.0</td>\n",
              "      <td>406.0</td>\n",
              "      <td>405.0</td>\n",
              "      <td>401.0</td>\n",
              "      <td>400.0</td>\n",
              "      <td>404.0</td>\n",
              "      <td>401.0</td>\n",
              "    </tr>\n",
              "    <tr>\n",
              "      <th>19</th>\n",
              "      <td>All Saint Mary's Schools</td>\n",
              "      <td>17449.0</td>\n",
              "      <td>17453.0</td>\n",
              "      <td>17841.0</td>\n",
              "      <td>17887.0</td>\n",
              "      <td>17941.0</td>\n",
              "      <td>18067.0</td>\n",
              "      <td>18053.0</td>\n",
              "      <td>17999.0</td>\n",
              "      <td>18083.0</td>\n",
              "    </tr>\n",
              "    <tr>\n",
              "      <th>20</th>\n",
              "      <td>All Somerset Schools</td>\n",
              "      <td>2882.0</td>\n",
              "      <td>2943.0</td>\n",
              "      <td>2945.0</td>\n",
              "      <td>2938.0</td>\n",
              "      <td>2908.0</td>\n",
              "      <td>2958.0</td>\n",
              "      <td>2918.0</td>\n",
              "      <td>2930.0</td>\n",
              "      <td>2905.0</td>\n",
              "    </tr>\n",
              "    <tr>\n",
              "      <th>21</th>\n",
              "      <td>All Talbot Schools</td>\n",
              "      <td>4547.0</td>\n",
              "      <td>4570.0</td>\n",
              "      <td>4537.0</td>\n",
              "      <td>4630.0</td>\n",
              "      <td>4625.0</td>\n",
              "      <td>4593.0</td>\n",
              "      <td>4646.0</td>\n",
              "      <td>4674.0</td>\n",
              "      <td>4703.0</td>\n",
              "    </tr>\n",
              "    <tr>\n",
              "      <th>22</th>\n",
              "      <td>All Washington Schools</td>\n",
              "      <td>22240.0</td>\n",
              "      <td>22403.0</td>\n",
              "      <td>22495.0</td>\n",
              "      <td>22327.0</td>\n",
              "      <td>22303.0</td>\n",
              "      <td>22545.0</td>\n",
              "      <td>22595.0</td>\n",
              "      <td>22681.0</td>\n",
              "      <td>22993.0</td>\n",
              "    </tr>\n",
              "    <tr>\n",
              "      <th>23</th>\n",
              "      <td>All Wicomico Schools</td>\n",
              "      <td>14520.0</td>\n",
              "      <td>14489.0</td>\n",
              "      <td>14431.0</td>\n",
              "      <td>14545.0</td>\n",
              "      <td>14790.0</td>\n",
              "      <td>14889.0</td>\n",
              "      <td>14953.0</td>\n",
              "      <td>14949.0</td>\n",
              "      <td>15203.0</td>\n",
              "    </tr>\n",
              "    <tr>\n",
              "      <th>24</th>\n",
              "      <td>All Worcester Schools</td>\n",
              "      <td>6643.0</td>\n",
              "      <td>6650.0</td>\n",
              "      <td>6649.0</td>\n",
              "      <td>6654.0</td>\n",
              "      <td>6660.0</td>\n",
              "      <td>6667.0</td>\n",
              "      <td>6684.0</td>\n",
              "      <td>6810.0</td>\n",
              "      <td>6882.0</td>\n",
              "    </tr>\n",
              "  </tbody>\n",
              "</table>\n",
              "</div>"
            ],
            "text/plain": [
              "school_year                   school_name      2012  ...      2019      2020\n",
              "0                    All Allegany Schools    8913.0  ...    8539.0    8437.0\n",
              "1                All Anne Arundel Schools   76303.0  ...   83300.0   84984.0\n",
              "2              All Baltimore City Schools   84212.0  ...   79297.0   79187.0\n",
              "3            All Baltimore County Schools  105153.0  ...  113814.0  115038.0\n",
              "4                     All Calvert Schools   16553.0  ...   15936.0   16022.0\n",
              "5                    All Caroline Schools    5545.0  ...    5829.0    5874.0\n",
              "6                     All Carroll Schools   27082.0  ...   25179.0   25345.0\n",
              "7                       All Cecil Schools   15827.0  ...   15307.0   15256.0\n",
              "8                     All Charles Schools   26778.0  ...   27108.0   27521.0\n",
              "9                  All Dorchester Schools    4647.0  ...    4785.0    4710.0\n",
              "10                  All Frederick Schools   40413.0  ...   42713.0   43828.0\n",
              "11                    All Garrett Schools    4077.0  ...    3842.0    3834.0\n",
              "12                    All Harford Schools   38224.0  ...   37826.0   38429.0\n",
              "13                     All Howard Schools   51555.0  ...   57907.0   58868.0\n",
              "14                       All Kent Schools    2162.0  ...    1912.0    1918.0\n",
              "15                 All Montgomery Schools  146459.0  ...  162680.0  165267.0\n",
              "16            All Prince George's Schools  123833.0  ...  132667.0  135962.0\n",
              "17               All Queen Anne's Schools    7761.0  ...    7749.0    7764.0\n",
              "18                       All SEED Schools     308.0  ...     404.0     401.0\n",
              "19               All Saint Mary's Schools   17449.0  ...   17999.0   18083.0\n",
              "20                   All Somerset Schools    2882.0  ...    2930.0    2905.0\n",
              "21                     All Talbot Schools    4547.0  ...    4674.0    4703.0\n",
              "22                 All Washington Schools   22240.0  ...   22681.0   22993.0\n",
              "23                   All Wicomico Schools   14520.0  ...   14949.0   15203.0\n",
              "24                  All Worcester Schools    6643.0  ...    6810.0    6882.0\n",
              "\n",
              "[25 rows x 10 columns]"
            ]
          },
          "metadata": {
            "tags": []
          },
          "execution_count": 44
        }
      ]
    },
    {
      "cell_type": "code",
      "metadata": {
        "id": "6H46wybHc_ND"
      },
      "source": [
        "# create a list of the values you want as the density curve lines in the graph\n",
        "hist_data = [df_unmelt_yr[2012].tolist(),df_unmelt_yr[2013].tolist(), df_unmelt_yr[2014].tolist(),df_unmelt_yr[2015].tolist(),df_unmelt_yr[2016].tolist(), df_unmelt_yr[2017].tolist(), df_unmelt_yr[2018].tolist(), df_unmelt_yr[2019].tolist(), df_unmelt_yr[2020].tolist()]\n",
        "# create a list of the values you want to label the data  \"lines\" (and histograms) in the graph\n",
        "group_labels = df_all_district[\"school_year\"].unique().tolist()\n"
      ],
      "execution_count": 45,
      "outputs": []
    },
    {
      "cell_type": "code",
      "metadata": {
        "id": "AngLIAUTc60D"
      },
      "source": [
        "# define the histogram \n",
        "distplot = ff.create_distplot(hist_data, # use the histogram data we defined above\n",
        "                              group_labels, # use the group labels we defined above\n",
        "                              show_rug= False, # this shows the distribution of the data in a \"rug\" below, if you change to True, you can see what this looks like\n",
        "                              show_hist= False) # this means that we are hiding the histogram used to make the graph, if you change to True, you can see the histograms with this also\n"
      ],
      "execution_count": 46,
      "outputs": []
    },
    {
      "cell_type": "code",
      "metadata": {
        "colab": {
          "base_uri": "https://localhost:8080/",
          "height": 542
        },
        "id": "LM-npklWdCuF",
        "outputId": "3cfde08b-667a-4f5c-de9b-c1768e09fe16"
      },
      "source": [
        "distplot"
      ],
      "execution_count": 47,
      "outputs": [
        {
          "output_type": "display_data",
          "data": {
            "text/html": [
              "<html>\n",
              "<head><meta charset=\"utf-8\" /></head>\n",
              "<body>\n",
              "    <div>\n",
              "            <script src=\"https://cdnjs.cloudflare.com/ajax/libs/mathjax/2.7.5/MathJax.js?config=TeX-AMS-MML_SVG\"></script><script type=\"text/javascript\">if (window.MathJax) {MathJax.Hub.Config({SVG: {font: \"STIX-Web\"}});}</script>\n",
              "                <script type=\"text/javascript\">window.PlotlyConfig = {MathJaxConfig: 'local'};</script>\n",
              "        <script src=\"https://cdn.plot.ly/plotly-latest.min.js\"></script>    \n",
              "            <div id=\"bab8c670-8803-4c9f-8033-00953efd6b08\" class=\"plotly-graph-div\" style=\"height:525px; width:100%;\"></div>\n",
              "            <script type=\"text/javascript\">\n",
              "                \n",
              "                    window.PLOTLYENV=window.PLOTLYENV || {};\n",
              "                    \n",
              "                if (document.getElementById(\"bab8c670-8803-4c9f-8033-00953efd6b08\")) {\n",
              "                    Plotly.newPlot(\n",
              "                        'bab8c670-8803-4c9f-8033-00953efd6b08',\n",
              "                        [{\"legendgroup\": \"2012\", \"marker\": {\"color\": \"rgb(31, 119, 180)\"}, \"mode\": \"lines\", \"name\": \"2012\", \"showlegend\": true, \"type\": \"scatter\", \"x\": [308.0, 600.302, 892.604, 1184.906, 1477.208, 1769.51, 2061.812, 2354.114, 2646.416, 2938.718, 3231.02, 3523.322, 3815.624, 4107.9259999999995, 4400.228, 4692.53, 4984.832, 5277.134, 5569.436, 5861.738, 6154.04, 6446.342, 6738.644, 7030.946, 7323.248, 7615.55, 7907.852, 8200.154, 8492.456, 8784.758, 9077.06, 9369.362, 9661.664, 9953.966, 10246.268, 10538.57, 10830.872, 11123.174, 11415.476, 11707.778, 12000.08, 12292.382, 12584.684, 12876.986, 13169.288, 13461.59, 13753.892, 14046.194, 14338.496, 14630.798, 14923.1, 15215.402, 15507.704, 15800.006, 16092.308, 16384.61, 16676.912, 16969.214, 17261.516, 17553.818, 17846.12, 18138.422, 18430.724, 18723.026, 19015.328, 19307.63, 19599.932, 19892.234, 20184.536, 20476.838, 20769.14, 21061.442, 21353.744, 21646.046, 21938.348, 22230.65, 22522.952, 22815.254, 23107.556, 23399.858, 23692.16, 23984.462, 24276.764, 24569.066, 24861.368, 25153.67, 25445.972, 25738.274, 26030.576, 26322.878, 26615.18, 26907.482, 27199.784, 27492.086, 27784.388, 28076.69, 28368.992, 28661.294, 28953.596, 29245.898, 29538.2, 29830.502, 30122.804, 30415.106, 30707.408, 30999.71, 31292.012, 31584.314, 31876.616, 32168.918, 32461.22, 32753.522, 33045.824, 33338.126, 33630.428, 33922.73, 34215.032, 34507.334, 34799.636, 35091.938, 35384.24, 35676.542, 35968.844, 36261.146, 36553.448, 36845.75, 37138.052, 37430.354, 37722.656, 38014.958, 38307.26, 38599.562, 38891.864, 39184.166, 39476.468, 39768.77, 40061.072, 40353.374, 40645.676, 40937.978, 41230.28, 41522.582, 41814.884, 42107.186, 42399.488, 42691.79, 42984.092, 43276.394, 43568.696, 43860.998, 44153.3, 44445.602, 44737.904, 45030.206, 45322.508, 45614.81, 45907.112, 46199.414, 46491.716, 46784.018, 47076.32, 47368.622, 47660.924, 47953.226, 48245.528, 48537.83, 48830.132, 49122.434, 49414.736, 49707.038, 49999.34, 50291.642, 50583.944, 50876.246, 51168.548, 51460.85, 51753.152, 52045.454, 52337.756, 52630.058, 52922.36, 53214.662, 53506.964, 53799.266, 54091.568, 54383.87, 54676.172, 54968.474, 55260.776, 55553.078, 55845.38, 56137.682, 56429.984, 56722.286, 57014.588, 57306.89, 57599.192, 57891.494, 58183.796, 58476.098, 58768.4, 59060.702, 59353.004, 59645.306, 59937.608, 60229.91, 60522.212, 60814.514, 61106.816, 61399.118, 61691.42, 61983.722, 62276.024, 62568.326, 62860.628, 63152.93, 63445.232, 63737.534, 64029.836, 64322.138, 64614.44, 64906.742, 65199.044, 65491.346, 65783.648, 66075.95, 66368.252, 66660.554, 66952.856, 67245.158, 67537.46, 67829.762, 68122.064, 68414.366, 68706.668, 68998.97, 69291.272, 69583.574, 69875.876, 70168.178, 70460.48, 70752.782, 71045.084, 71337.386, 71629.688, 71921.99, 72214.292, 72506.594, 72798.896, 73091.198, 73383.5, 73675.802, 73968.104, 74260.406, 74552.708, 74845.01, 75137.312, 75429.614, 75721.916, 76014.218, 76306.52, 76598.822, 76891.124, 77183.426, 77475.728, 77768.03, 78060.332, 78352.634, 78644.936, 78937.238, 79229.54, 79521.842, 79814.144, 80106.446, 80398.748, 80691.05, 80983.352, 81275.654, 81567.956, 81860.258, 82152.56, 82444.862, 82737.164, 83029.466, 83321.768, 83614.07, 83906.372, 84198.674, 84490.976, 84783.278, 85075.58, 85367.882, 85660.184, 85952.486, 86244.788, 86537.09, 86829.392, 87121.694, 87413.996, 87706.298, 87998.6, 88290.902, 88583.204, 88875.506, 89167.808, 89460.11, 89752.412, 90044.714, 90337.016, 90629.318, 90921.62, 91213.922, 91506.224, 91798.526, 92090.828, 92383.13, 92675.432, 92967.734, 93260.036, 93552.338, 93844.64, 94136.942, 94429.244, 94721.546, 95013.848, 95306.15, 95598.452, 95890.754, 96183.056, 96475.358, 96767.66, 97059.962, 97352.264, 97644.566, 97936.868, 98229.17, 98521.472, 98813.774, 99106.076, 99398.378, 99690.68, 99982.982, 100275.284, 100567.586, 100859.888, 101152.19, 101444.492, 101736.794, 102029.096, 102321.398, 102613.7, 102906.002, 103198.304, 103490.606, 103782.908, 104075.21, 104367.512, 104659.814, 104952.116, 105244.418, 105536.72, 105829.022, 106121.324, 106413.626, 106705.928, 106998.23, 107290.532, 107582.834, 107875.136, 108167.438, 108459.74, 108752.042, 109044.344, 109336.646, 109628.948, 109921.25, 110213.552, 110505.854, 110798.156, 111090.458, 111382.76, 111675.062, 111967.364, 112259.666, 112551.968, 112844.27, 113136.572, 113428.874, 113721.176, 114013.478, 114305.78, 114598.082, 114890.384, 115182.686, 115474.988, 115767.29, 116059.592, 116351.894, 116644.196, 116936.498, 117228.8, 117521.102, 117813.404, 118105.706, 118398.008, 118690.31, 118982.612, 119274.914, 119567.216, 119859.518, 120151.82, 120444.122, 120736.424, 121028.726, 121321.028, 121613.33, 121905.632, 122197.934, 122490.236, 122782.538, 123074.84, 123367.142, 123659.444, 123951.746, 124244.048, 124536.35, 124828.652, 125120.954, 125413.256, 125705.558, 125997.86, 126290.162, 126582.464, 126874.766, 127167.068, 127459.37, 127751.672, 128043.974, 128336.276, 128628.578, 128920.88, 129213.182, 129505.484, 129797.786, 130090.088, 130382.39, 130674.692, 130966.994, 131259.296, 131551.598, 131843.9, 132136.202, 132428.504, 132720.806, 133013.108, 133305.41, 133597.712, 133890.014, 134182.316, 134474.618, 134766.92, 135059.222, 135351.524, 135643.826, 135936.128, 136228.43, 136520.732, 136813.034, 137105.336, 137397.638, 137689.94, 137982.242, 138274.544, 138566.846, 138859.148, 139151.45, 139443.752, 139736.054, 140028.356, 140320.658, 140612.96, 140905.262, 141197.564, 141489.866, 141782.168, 142074.47, 142366.772, 142659.074, 142951.376, 143243.678, 143535.98, 143828.282, 144120.584, 144412.886, 144705.188, 144997.49, 145289.792, 145582.094, 145874.396, 146166.698], \"xaxis\": \"x\", \"y\": [1.0917027593454616e-05, 1.0984605364745999e-05, 1.1050950477557086e-05, 1.111603896170288e-05, 1.1179847362581025e-05, 1.1242352757096706e-05, 1.1303532769186793e-05, 1.136336558492748e-05, 1.142182996721049e-05, 1.1478905269973095e-05, 1.153457145196789e-05, 1.1588809090058794e-05, 1.1641599392030207e-05, 1.1692924208896934e-05, 1.1742766046702992e-05, 1.1791108077798052e-05, 1.1837934151580956e-05, 1.1883228804700173e-05, 1.1926977270701982e-05, 1.196916548911762e-05, 1.2009780113981338e-05, 1.2048808521772073e-05, 1.2086238818772017e-05, 1.2122059847836156e-05, 1.21562611945674e-05, 1.2188833192892871e-05, 1.221976693003734e-05, 1.2249054250890754e-05, 1.2276687761767377e-05, 1.2302660833554761e-05, 1.2326967604251623e-05, 1.2349602980894248e-05, 1.2370562640871866e-05, 1.2389843032632035e-05, 1.2407441375777934e-05, 1.2423355660560025e-05, 1.2437584646765241e-05, 1.2450127862007646e-05, 1.246098559942501e-05, 1.2470158914786636e-05, 1.2477649623018172e-05, 1.2483460294149922e-05, 1.2487594248695901e-05, 1.2490055552471183e-05, 1.2490849010856013e-05, 1.2489980162515515e-05, 1.2487455272584564e-05, 1.2483281325327758e-05, 1.2477466016285093e-05, 1.247001774391452e-05, 1.2460945600742721e-05, 1.245025936403644e-05, 1.243796948600665e-05, 1.2424087083558597e-05, 1.2408623927601074e-05, 1.2391592431928668e-05, 1.2373005641691009e-05, 1.2352877221463639e-05, 1.2331221442935147e-05, 1.2308053172225747e-05, 1.2283387856852567e-05, 1.2257241512357383e-05, 1.2229630708612569e-05, 1.2200572555821297e-05, 1.2170084690228307e-05, 1.2138185259557569e-05, 1.2104892908193364e-05, 1.2070226762121446e-05, 1.2034206413647058e-05, 1.1996851905906404e-05, 1.1958183717188655e-05, 1.1918222745085092e-05, 1.1876990290482374e-05, 1.1834508041416632e-05, 1.1790798056805182e-05, 1.174588275007254e-05, 1.1699784872687208e-05, 1.1652527497625854e-05, 1.1604134002781e-05, 1.1554628054328555e-05, 1.1504033590071002e-05, 1.1452374802772133e-05, 1.1399676123498821e-05, 1.134596220498516e-05, 1.1291257905034059e-05, 1.1235588269971037e-05, 1.117897851816475e-05, 1.1121454023628503e-05, 1.1063040299716539e-05, 1.1003762982928729e-05, 1.0943647816836861e-05, 1.0882720636145413e-05, 1.0821007350899188e-05, 1.0758533930850121e-05, 1.0695326389994772e-05, 1.063141077129394e-05, 1.056681313158534e-05, 1.050155952669973e-05, 1.0435675996790723e-05, 1.0369188551887767e-05, 1.0302123157681675e-05, 1.0234505721551395e-05, 1.0166362078840376e-05, 1.0097717979390463e-05, 1.0028599074340782e-05, 9.959030903198536e-06, 9.889038881188413e-06, 9.8186482868866e-06, 9.747884250145175e-06, 9.676771740311986e-06, 9.605335554750925e-06, 9.53360030766686e-06, 9.461590419239149e-06, 9.389330105067263e-06, 9.316843365931497e-06, 9.244153977871487e-06, 9.171285482584683e-06, 9.098261178146623e-06, 9.025104110054478e-06, 8.951837062594768e-06, 8.878482550536002e-06, 8.80506281114649e-06, 8.731599796537185e-06, 8.658115166329124e-06, 8.584630280644719e-06, 8.511166193421662e-06, 8.437743646048122e-06, 8.364383061317331e-06, 8.291104537699563e-06, 8.217927843929175e-06, 8.14487241390397e-06, 8.071957341894045e-06, 7.999201378056972e-06, 7.926622924255862e-06, 7.8542400301767e-06, 7.782070389741132e-06, 7.710131337810564e-06, 7.638439847177407e-06, 7.567012525839019e-06, 7.49586561454968e-06, 7.425014984645936e-06, 7.354476136140357e-06, 7.284264196078706e-06, 7.214393917155316e-06, 7.144879676581517e-06, 7.07573547520165e-06, 7.006974936851286e-06, 6.938611307952151e-06, 6.8706574573381214e-06, 6.803125876306726e-06, 6.736028678890445e-06, 6.669377602342119e-06, 6.603184007828746e-06, 6.537458881327939e-06, 6.4722128347212784e-06, 6.4074561070788784e-06, 6.343198566129392e-06, 6.279449709909814e-06, 6.21621866858942e-06, 6.153514206462134e-06, 6.091344724101885e-06, 6.029718260675267e-06, 5.96864249640621e-06, 5.908124755187076e-06, 5.848172007330987e-06, 5.788790872460066e-06, 5.729987622524368e-06, 5.671768184946513e-06, 5.614138145886899e-06, 5.55710275362464e-06, 5.500666922049401e-06, 5.4448352342593425e-06, 5.389611946260645e-06, 5.335000990763991e-06, 5.281005981073624e-06, 5.22763021506468e-06, 5.174876679244505e-06, 5.1227480528939555e-06, 5.071246712284536e-06, 5.0203747349676406e-06, 4.970133904131933e-06, 4.920525713025315e-06, 4.871551369437805e-06, 4.8232118002418985e-06, 4.775507655986992e-06, 4.7284393155446065e-06, 4.682006890801217e-06, 4.6362102313956e-06, 4.591048929497691e-06, 4.546522324626062e-06, 4.502629508501197e-06, 4.459369329931777e-06, 4.416740399731442e-06, 4.374741095663285e-06, 4.333369567409763e-06, 4.29262374156544e-06, 4.252501326650295e-06, 4.212999818141283e-06, 4.17411650351989e-06, 4.135848467333559e-06, 4.098192596268809e-06, 4.061145584234034e-06, 4.0247039374499295e-06, 3.988863979545587e-06, 3.953621856658315e-06, 3.918973542535302e-06, 3.884914843635231e-06, 3.85144140422806e-06, 3.818548711491114e-06, 3.786232100599754e-06, 3.7544867598108267e-06, 3.723307735537188e-06, 3.6926899374115607e-06, 3.6626281433379983e-06, 3.633117004529329e-06, 3.6041510505287657e-06, 3.575724694214137e-06, 3.547832236782952e-06, 3.5204678727166834e-06, 3.493625694722562e-06, 3.4672996986512284e-06, 3.441483788388541e-06, 3.4161717807198883e-06, 3.3913574101652842e-06, 3.3670343337836e-06, 3.343196135944191e-06, 3.3198363330642664e-06, 3.2969483783102488e-06, 3.2745256662614595e-06, 3.25256153753437e-06, 3.231049283365723e-06, 3.2099821501527895e-06, 3.189353343949041e-06, 3.169156034913465e-06, 3.1493833617118503e-06, 3.1300284358682456e-06, 3.111084346064895e-06, 3.0925441623888965e-06, 3.0744009405238634e-06, 3.0566477258848537e-06, 3.039277557694863e-06, 3.0222834730011633e-06, 3.005658510629797e-06, 2.989395715076537e-06, 2.973488140332659e-06, 2.957928853643867e-06, 2.9427109392007512e-06, 2.927827501759171e-06, 2.9132716701889947e-06, 2.8990366009496475e-06, 2.8851154814909478e-06, 2.871501533577742e-06, 2.858188016536925e-06, 2.845168230425414e-06, 2.8324355191177143e-06, 2.819983273311791e-06, 2.807804933451948e-06, 2.7958939925675206e-06, 2.7842439990262042e-06, 2.772848559200919e-06, 2.7617013400491846e-06, 2.750796071603978e-06, 2.7401265493751914e-06, 2.7296866366608124e-06, 2.719470266767073e-06, 2.709471445136787e-06, 2.699684251385316e-06, 2.690102841243533e-06, 2.6807214484073177e-06, 2.6715343862931663e-06, 2.662536049699595e-06, 2.6537209163740554e-06, 2.6450835484852274e-06, 2.6366185940005736e-06, 2.6283207879691823e-06, 2.6201849537099587e-06, 2.6122060039053508e-06, 2.6043789416008603e-06, 2.5966988611106865e-06, 2.589160948829944e-06, 2.581760483953939e-06, 2.5744928391051647e-06, 2.56735348086866e-06, 2.5603379702365354e-06, 2.5534419629625313e-06, 2.546661209827546e-06, 2.5399915568171934e-06, 2.533428945212457e-06, 2.526969411594711e-06, 2.5206090877663104e-06, 2.514344200588177e-06, 2.5081710717357495e-06, 2.502086117374864e-06, 2.4960858477590975e-06, 2.4901668667502647e-06, 2.484325871263753e-06, 2.4785596506405134e-06, 2.4728650859475228e-06, 2.467239149208654e-06, 2.4616789025678894e-06, 2.456181497386942e-06, 2.450744173279313e-06, 2.4453642570829103e-06, 2.4400391617734355e-06, 2.4347663853206933e-06, 2.429543509490112e-06, 2.4243681985917204e-06, 2.4192381981789335e-06, 2.414151333699451e-06, 2.4091055091006694e-06, 2.4040987053919732e-06, 2.3991289791663177e-06, 2.394194461083531e-06, 2.3892933543177534e-06, 2.384423932971477e-06, 2.3795845404585827e-06, 2.3747735878588725e-06, 2.369989552246495e-06, 2.365230974994697e-06, 2.360496460059359e-06, 2.3557846722436734e-06, 2.3510943354463806e-06, 2.346424230895943e-06, 2.341773195372982e-06, 2.337140119423296e-06, 2.3325239455637682e-06, 2.3279236664834147e-06, 2.3233383232417763e-06, 2.318767003466864e-06, 2.3142088395547776e-06, 2.309663006873114e-06, 2.3051287219702018e-06, 2.300605240792181e-06, 2.296091856909873e-06, 2.291587899757341e-06, 2.287092732884002e-06, 2.282605752222064e-06, 2.278126384371033e-06, 2.27365408490096e-06, 2.2691883366760478e-06, 2.2647286482001525e-06, 2.2602745519856942e-06, 2.2558256029473754e-06, 2.251381376822074e-06, 2.2469414686162297e-06, 2.2425054910819066e-06, 2.238073073222728e-06, 2.23364385883077e-06, 2.2292175050554286e-06, 2.2247936810052424e-06, 2.220372066383541e-06, 2.2159523501587634e-06, 2.2115342292702047e-06, 2.2071174073698753e-06, 2.202701593601118e-06, 2.1982865014145284e-06, 2.1938718474217118e-06, 2.189457350287277e-06, 2.1850427296594737e-06, 2.180627705139784e-06, 2.176211995291718e-06, 2.1717953166890237e-06, 2.1673773830034436e-06, 2.1629579041321258e-06, 2.158536585364703e-06, 2.1541131265900375e-06, 2.149687221542565e-06, 2.1452585570881125e-06, 2.1408268125490457e-06, 2.1363916590685253e-06, 2.131952759013628e-06, 2.127509765417054e-06, 2.123062321457073e-06, 2.1186100599753585e-06, 2.1141526030323128e-06, 2.1096895614994314e-06, 2.105220534688268e-06, 2.100745110015479e-06, 2.096262862703466e-06, 2.0917733555160227e-06, 2.0872761385284693e-06, 2.0827707489316435e-06, 2.0782567108691743e-06, 2.0737335353073878e-06, 2.069200719937218e-06, 2.0646577491074697e-06, 2.060104093788759e-06, 2.055539211567474e-06, 2.0509625466690347e-06, 2.0463735300098158e-06, 2.0417715792769895e-06, 2.0371560990356023e-06, 2.0325264808622045e-06, 2.027882103504295e-06, 2.023222333064909e-06, 2.0185465232116266e-06, 2.0138540154093245e-06, 2.009144139175948e-06, 2.004416212360648e-06, 1.9996695414435747e-06, 1.994903421856651e-06, 1.9901171383246795e-06, 1.985309965226093e-06, 1.980481166972706e-06, 1.9756299984078328e-06, 1.9707557052221276e-06, 1.9658575243865166e-06, 1.9609346846016244e-06, 1.9559864067630784e-06, 1.951011904442104e-06, 1.9460103843808252e-06, 1.940981047001701e-06, 1.935923086930539e-06, 1.930835693532528e-06, 1.925718051460766e-06, 1.9205693412167324e-06, 1.9153887397222e-06, 1.910175420902079e-06, 1.904928556277673e-06, 1.8996473155698783e-06, 1.8943308673118198e-06, 1.888978379470469e-06, 1.8835890200767476e-06, 1.878161957863682e-06, 1.8726963629121262e-06, 1.8671914073036183e-06, 1.8616462657799057e-06, 1.8560601164087146e-06, 1.8504321412552999e-06, 1.8447615270593524e-06, 1.8390474659168198e-06, 1.8332891559661972e-06, 1.8274858020788688e-06, 1.8216366165530313e-06, 1.8157408198107981e-06, 1.809797641098008e-06, 1.8038063191863156e-06, 1.7977661030771034e-06, 1.7916762527067738e-06, 1.7855360396529456e-06, 1.7793447478411207e-06, 1.773101674251322e-06, 1.7668061296242466e-06, 1.76045743916645e-06, 1.7540549432540618e-06, 1.7475979981345507e-06, 1.741085976626015e-06, 1.7345182688135083e-06, 1.7278942827418503e-06, 1.721213445104417e-06, 1.714475201927352e-06, 1.7076790192486573e-06, 1.7008243837916047e-06, 1.6939108036318962e-06, 1.6869378088580052e-06, 1.6799049522240976e-06, 1.67281180979496e-06, 1.665657981582308e-06, 1.6584430921718923e-06, 1.651166791340759e-06, 1.6438287546640526e-06, 1.6364286841107318e-06, 1.6289663086275501e-06, 1.6214413847106704e-06, 1.6138536969642577e-06, 1.606203058645405e-06, 1.598489312194727e-06, 1.5907123297519844e-06, 1.5828720136560568e-06, 1.5749682969286282e-06, 1.5670011437409105e-06, 1.5589705498627615e-06, 1.5508765430935342e-06, 1.5427191836740168e-06, 1.5344985646788153e-06, 1.5262148123885372e-06, 1.5178680866411556e-06, 1.509458581161917e-06, 1.5009865238711988e-06, 1.4924521771697062e-06, 1.4838558382004116e-06, 1.4751978390866851e-06, 1.4664785471460364e-06, 1.4576983650789347e-06, 1.4488577311321777e-06, 1.4399571192363124e-06, 1.4309970391166105e-06, 1.4219780363771413e-06, 1.4129006925575023e-06, 1.4037656251617877e-06, 1.394573487659407e-06, 1.3853249694573749e-06, 1.376020795843767e-06, 1.3666617279019952e-06, 1.3572485623956515e-06, 1.3477821316236675e-06, 1.3382633032455603e-06, 1.328692980076604e-06, 1.319072099852769e-06, 1.3094016349653091e-06], \"yaxis\": \"y\"}, {\"legendgroup\": \"2013\", \"marker\": {\"color\": \"rgb(255, 127, 14)\"}, \"mode\": \"lines\", \"name\": \"2013\", \"showlegend\": true, \"type\": \"scatter\", \"x\": [386.0, 682.788, 979.576, 1276.364, 1573.152, 1869.94, 2166.728, 2463.516, 2760.304, 3057.092, 3353.88, 3650.668, 3947.456, 4244.244000000001, 4541.032, 4837.82, 5134.608, 5431.396, 5728.184, 6024.972, 6321.76, 6618.548, 6915.336, 7212.124, 7508.912, 7805.7, 8102.488, 8399.276, 8696.064, 8992.852, 9289.64, 9586.428, 9883.216, 10180.004, 10476.792, 10773.58, 11070.368, 11367.156, 11663.944, 11960.732, 12257.52, 12554.308, 12851.096, 13147.884, 13444.672, 13741.46, 14038.248, 14335.036, 14631.824, 14928.612, 15225.4, 15522.188, 15818.976, 16115.764, 16412.552, 16709.34, 17006.128, 17302.916, 17599.704, 17896.492, 18193.28, 18490.068, 18786.856, 19083.644, 19380.432, 19677.22, 19974.008, 20270.796, 20567.584, 20864.372, 21161.16, 21457.948, 21754.736, 22051.524, 22348.312, 22645.1, 22941.888, 23238.676, 23535.464, 23832.252, 24129.04, 24425.828, 24722.616, 25019.404, 25316.192, 25612.98, 25909.768, 26206.556, 26503.344, 26800.132, 27096.92, 27393.708, 27690.496, 27987.284, 28284.072, 28580.86, 28877.648, 29174.436, 29471.224, 29768.012, 30064.8, 30361.588, 30658.376, 30955.164, 31251.952, 31548.74, 31845.528, 32142.316, 32439.104, 32735.892, 33032.68, 33329.468, 33626.256, 33923.044, 34219.832, 34516.62, 34813.408, 35110.196, 35406.984, 35703.772, 36000.56, 36297.348, 36594.136, 36890.924, 37187.712, 37484.5, 37781.288, 38078.076, 38374.864, 38671.652, 38968.44, 39265.228, 39562.016, 39858.804, 40155.592, 40452.38, 40749.168, 41045.956, 41342.744, 41639.532, 41936.32, 42233.108, 42529.896, 42826.684, 43123.472, 43420.26, 43717.048, 44013.836, 44310.624, 44607.412, 44904.2, 45200.988, 45497.776, 45794.564, 46091.352, 46388.14, 46684.928, 46981.716, 47278.504, 47575.292, 47872.08, 48168.868, 48465.656, 48762.444, 49059.232, 49356.02, 49652.808, 49949.596, 50246.384, 50543.172, 50839.96, 51136.748, 51433.536, 51730.324, 52027.112, 52323.9, 52620.688, 52917.476, 53214.264, 53511.052, 53807.84, 54104.628, 54401.416, 54698.204, 54994.992, 55291.78, 55588.568, 55885.356, 56182.144, 56478.932, 56775.72, 57072.508, 57369.296, 57666.084, 57962.872, 58259.66, 58556.448, 58853.236, 59150.024, 59446.812, 59743.6, 60040.388, 60337.176, 60633.964, 60930.752, 61227.54, 61524.328, 61821.116, 62117.904, 62414.692, 62711.48, 63008.268, 63305.056, 63601.844, 63898.632, 64195.42, 64492.208, 64788.996, 65085.784, 65382.572, 65679.36, 65976.148, 66272.936, 66569.724, 66866.512, 67163.3, 67460.088, 67756.876, 68053.664, 68350.452, 68647.24, 68944.028, 69240.816, 69537.604, 69834.392, 70131.18, 70427.968, 70724.756, 71021.544, 71318.332, 71615.12, 71911.908, 72208.696, 72505.484, 72802.272, 73099.06, 73395.848, 73692.636, 73989.424, 74286.212, 74583.0, 74879.788, 75176.576, 75473.364, 75770.152, 76066.94, 76363.728, 76660.516, 76957.304, 77254.092, 77550.88, 77847.668, 78144.456, 78441.244, 78738.032, 79034.82, 79331.608, 79628.396, 79925.184, 80221.972, 80518.76, 80815.548, 81112.336, 81409.124, 81705.912, 82002.7, 82299.488, 82596.276, 82893.064, 83189.852, 83486.64, 83783.428, 84080.216, 84377.004, 84673.792, 84970.58, 85267.368, 85564.156, 85860.944, 86157.732, 86454.52, 86751.308, 87048.096, 87344.884, 87641.672, 87938.46, 88235.248, 88532.036, 88828.824, 89125.612, 89422.4, 89719.188, 90015.976, 90312.764, 90609.552, 90906.34, 91203.128, 91499.916, 91796.704, 92093.492, 92390.28, 92687.068, 92983.856, 93280.644, 93577.432, 93874.22, 94171.008, 94467.796, 94764.584, 95061.372, 95358.16, 95654.948, 95951.736, 96248.524, 96545.312, 96842.1, 97138.888, 97435.676, 97732.464, 98029.252, 98326.04, 98622.828, 98919.616, 99216.404, 99513.192, 99809.98, 100106.768, 100403.556, 100700.344, 100997.132, 101293.92, 101590.708, 101887.496, 102184.284, 102481.072, 102777.86, 103074.648, 103371.436, 103668.224, 103965.012, 104261.8, 104558.588, 104855.376, 105152.164, 105448.952, 105745.74, 106042.528, 106339.316, 106636.104, 106932.892, 107229.68, 107526.468, 107823.256, 108120.044, 108416.832, 108713.62, 109010.408, 109307.196, 109603.984, 109900.772, 110197.56, 110494.348, 110791.136, 111087.924, 111384.712, 111681.5, 111978.288, 112275.076, 112571.864, 112868.652, 113165.44, 113462.228, 113759.016, 114055.804, 114352.592, 114649.38, 114946.168, 115242.956, 115539.744, 115836.532, 116133.32, 116430.108, 116726.896, 117023.684, 117320.472, 117617.26, 117914.048, 118210.836, 118507.624, 118804.412, 119101.2, 119397.988, 119694.776, 119991.564, 120288.352, 120585.14, 120881.928, 121178.716, 121475.504, 121772.292, 122069.08, 122365.868, 122662.656, 122959.444, 123256.232, 123553.02, 123849.808, 124146.596, 124443.384, 124740.172, 125036.96, 125333.748, 125630.536, 125927.324, 126224.112, 126520.9, 126817.688, 127114.476, 127411.264, 127708.052, 128004.84, 128301.628, 128598.416, 128895.204, 129191.992, 129488.78, 129785.568, 130082.356, 130379.144, 130675.932, 130972.72, 131269.508, 131566.296, 131863.084, 132159.872, 132456.66, 132753.448, 133050.236, 133347.024, 133643.812, 133940.6, 134237.388, 134534.176, 134830.964, 135127.752, 135424.54, 135721.328, 136018.116, 136314.904, 136611.692, 136908.48, 137205.268, 137502.056, 137798.844, 138095.632, 138392.42, 138689.208, 138985.996, 139282.784, 139579.572, 139876.36, 140173.148, 140469.936, 140766.724, 141063.512, 141360.3, 141657.088, 141953.876, 142250.664, 142547.452, 142844.24, 143141.028, 143437.816, 143734.604, 144031.392, 144328.18, 144624.968, 144921.756, 145218.544, 145515.332, 145812.12, 146108.908, 146405.696, 146702.484, 146999.272, 147296.06, 147592.848, 147889.636, 148186.424, 148483.212], \"xaxis\": \"x\", \"y\": [1.0872883771618525e-05, 1.093961552098622e-05, 1.1005095312075246e-05, 1.1069299121082496e-05, 1.113220345355936e-05, 1.1193785360548016e-05, 1.1254022454303793e-05, 1.13128929235877e-05, 1.1370375548513787e-05, 1.1426449714936335e-05, 1.1481095428362577e-05, 1.153429332737713e-05, 1.1586024696564869e-05, 1.1636271478919655e-05, 1.1685016287726851e-05, 1.173224241790822e-05, 1.1777933856818424e-05, 1.1822075294483045e-05, 1.1864652133268624e-05, 1.1905650496976007e-05, 1.194505723934882e-05, 1.1982859951989823e-05, 1.2019046971678291e-05, 1.2053607387082639e-05, 1.2086531044862865e-05, 1.2117808555158436e-05, 1.2147431296457757e-05, 1.2175391419846132e-05, 1.2201681852629968e-05, 1.2226296301335579e-05, 1.2249229254081736e-05, 1.2270475982325863e-05, 1.2290032541984423e-05, 1.2307895773928906e-05, 1.2324063303859394e-05, 1.2338533541558483e-05, 1.2351305679529084e-05, 1.236237969102016e-05, 1.2371756327445358e-05, 1.2379437115200026e-05, 1.2385424351882783e-05, 1.238972110192858e-05, 1.239233119166064e-05, 1.2393259203769495e-05, 1.2392510471227808e-05, 1.2390091070650302e-05, 1.2386007815108713e-05, 1.2380268246412267e-05, 1.2372880626864639e-05, 1.2363853930508962e-05, 1.2353197833872963e-05, 1.2340922706226607e-05, 1.2327039599365449e-05, 1.2311560236932937e-05, 1.2294497003295589e-05, 1.2275862931985298e-05, 1.2255671693723325e-05, 1.2233937584041009e-05, 1.2210675510512429e-05, 1.2185900979614662e-05, 1.2159630083231446e-05, 1.213187948481643e-05, 1.210266640523234e-05, 1.2072008608282616e-05, 1.2039924385952255e-05, 1.2006432543374761e-05, 1.1971552383542224e-05, 1.1935303691775632e-05, 1.189770671997266e-05, 1.185878217065016e-05, 1.1818551180798674e-05, 1.1777035305566236e-05, 1.1734256501788806e-05, 1.1690237111384536e-05, 1.1644999844629044e-05, 1.1598567763328837e-05, 1.155096426390983e-05, 1.1502213060437861e-05, 1.1452338167587862e-05, 1.1401363883578275e-05, 1.134931477308702e-05, 1.1296215650165172e-05, 1.124209156116425e-05, 1.1186967767692746e-05, 1.1130869729617317e-05, 1.107382308812372e-05, 1.1015853648852342e-05, 1.0956987365122686e-05, 1.0897250321261152e-05, 1.0836668716045819e-05, 1.0775268846281628e-05, 1.0713077090519212e-05, 1.065011989292994e-05, 1.0586423747349538e-05, 1.0522015181502204e-05, 1.0456920741416686e-05, 1.0391166976045405e-05, 1.0324780422097282e-05, 1.0257787589094484e-05, 1.0190214944662835e-05, 1.012208890006523e-05, 1.0053435795986944e-05, 9.984281888581228e-06, 9.914653335783203e-06, 9.844576183899486e-06, 9.774076354480698e-06, 9.703179631483338e-06, 9.631911648727257e-06, 9.560297877654317e-06, 9.488363615393527e-06, 9.416133973137386e-06, 9.343633864833751e-06, 9.270887996197122e-06, 9.197920854042787e-06, 9.124756695946783e-06, 9.051419540234312e-06, 8.977933156298681e-06, 8.904321055252592e-06, 8.830606480913055e-06, 8.756812401120845e-06, 8.682961499395087e-06, 8.609076166923144e-06, 8.535178494885492e-06, 8.461290267115154e-06, 8.387432953090674e-06, 8.313627701261416e-06, 8.239895332703574e-06, 8.16625633510502e-06, 8.092730857076734e-06, 8.019338702788381e-06, 7.946099326925162e-06, 7.873031829962952e-06, 7.800154953758414e-06, 7.727487077450465e-06, 7.655046213669388e-06, 7.5828500050495485e-06, 7.510915721041475e-06, 7.439260255018956e-06, 7.36790012167651e-06, 7.296851454712512e-06, 7.226130004793035e-06, 7.155751137791352e-06, 7.085729833297948e-06, 7.01608068339566e-06, 6.946817891694629e-06, 6.877955272621435e-06, 6.809506250956931e-06, 6.741483861617033e-06, 6.67390074967076e-06, 6.606769170589754e-06, 6.540100990723431e-06, 6.473907687993935e-06, 6.408200352805008e-06, 6.342989689158885e-06, 6.278286015975346e-06, 6.2140992686070395e-06, 6.1504390005451974e-06, 6.087314385309908e-06, 6.0247342185191595e-06, 5.962706920130854e-06, 5.901240536852065e-06, 5.8403427447099126e-06, 5.780020851778352e-06, 5.720281801055425e-06, 5.661132173485418e-06, 5.6025781911205605e-06, 5.544625720416883e-06, 5.487280275659082e-06, 5.430547022509109e-06, 5.374430781673526e-06, 5.318936032684579e-06, 5.264066917790128e-06, 5.209827245947667e-06, 5.156220496917714e-06, 5.10324982545202e-06, 5.050918065572096e-06, 4.999227734933685e-06, 4.948181039272891e-06, 4.897779876929818e-06, 4.848025843445619e-06, 4.798920236229011e-06, 4.750464059288364e-06, 4.702658028025631e-06, 4.655502574088429e-06, 4.608997850276709e-06, 4.563143735500542e-06, 4.517939839785644e-06, 4.473385509323365e-06, 4.429479831561912e-06, 4.386221640335744e-06, 4.3436095210300565e-06, 4.301641815777459e-06, 4.260316628683965e-06, 4.219631831081481e-06, 4.1795850668041015e-06, 4.140173757485556e-06, 4.101395107875213e-06, 4.06324611117013e-06, 4.025723554360675e-06, 3.9888240235873244e-06, 3.952543909506283e-06, 3.916879412661595e-06, 3.881826548861525e-06, 3.847381154556956e-06, 3.8135388922196518e-06, 3.7802952557182203e-06, 3.747645575689679e-06, 3.715585024904547e-06, 3.6841086236233956e-06, 3.6532112449428478e-06, 3.6228876201290057e-06, 3.593132343936325e-06, 3.5639398799099775e-06, 3.5353045656697077e-06, 3.5072206181733043e-06, 3.4796821389576903e-06, 3.4526831193557575e-06, 3.426217445686995e-06, 3.4002789044200297e-06, 3.3748611873051695e-06, 3.3499578964750252e-06, 3.3255625495113563e-06, 3.30166858447621e-06, 3.278269364905491e-06, 3.2553581847630388e-06, 3.232928273353367e-06, 3.2109728001911375e-06, 3.189484879825521e-06, 3.1684575766175388e-06, 3.1478839094685112e-06, 3.1277568564977675e-06, 3.1080693596677032e-06, 3.088814329354375e-06, 3.0699846488617273e-06, 3.0515731788776642e-06, 3.0335727618700848e-06, 3.0159762264210863e-06, 2.998776391497537e-06, 2.9819660706562027e-06, 2.9655380761816986e-06, 2.949485223155479e-06, 2.9338003334541626e-06, 2.9184762396755e-06, 2.903505788990295e-06, 2.8888818469186614e-06, 2.8745973010290005e-06, 2.8606450645581377e-06, 2.8470180799510834e-06, 2.8337093223189484e-06, 2.820711802813555e-06, 2.808018571917369e-06, 2.795622722647397e-06, 2.783517393671774e-06, 2.771695772337803e-06, 2.760151097610281e-06, 2.748876662918987e-06, 2.737865818914315e-06, 2.727111976130038e-06, 2.7166086075523302e-06, 2.7063492510941823e-06, 2.6963275119744643e-06, 2.6865370650009607e-06, 2.67697165675673e-06, 2.667625107689328e-06, 2.6584913141023877e-06, 2.6495642500492517e-06, 2.640837969128345e-06, 2.6323066061801366e-06, 2.62396437888557e-06, 2.615805589265974e-06, 2.6078246250845526e-06, 2.6000159611495753e-06, 2.5923741605196355e-06, 2.5848938756112413e-06, 2.57756984920927e-06, 2.570396915380801e-06, 2.563370000292987e-06, 2.5564841229356913e-06, 2.5497343957497345e-06, 2.5431160251616734e-06, 2.5366243120261044e-06, 2.530254651976636e-06, 2.524002535686684e-06, 2.5178635490414096e-06, 2.511833373222123e-06, 2.5059077847046584e-06, 2.50008265517321e-06, 2.494353951351272e-06, 2.488717734751351e-06, 2.4831701613452645e-06, 2.4777074811568137e-06, 2.4723260377787718e-06, 2.467022267816181e-06, 2.4617927002579673e-06, 2.456633955779013e-06, 2.451542745974829e-06, 2.446515872531054e-06, 2.441550226330056e-06, 2.436642786496934e-06, 2.431790619387311e-06, 2.4269908775192825e-06, 2.422240798451993e-06, 2.4175377036132898e-06, 2.4128789970789428e-06, 2.408262164305991e-06, 2.4036847708226994e-06, 2.3991444608777374e-06, 2.3946389560511144e-06, 2.3901660538294684e-06, 2.3857236261482687e-06, 2.3813096179035305e-06, 2.376922045435609e-06, 2.3725589949876384e-06, 2.368218621141164e-06, 2.3638991452315175e-06, 2.3595988537454333e-06, 2.355316096703415e-06, 2.3510492860292903e-06, 2.346796893909416e-06, 2.3425574511438924e-06, 2.3383295454921677e-06, 2.3341118200153274e-06, 2.329902971417353e-06, 2.3257017483875417e-06, 2.3215069499462686e-06, 2.317317423796199e-06, 2.3131320646809893e-06, 2.308949812753485e-06, 2.3047696519553202e-06, 2.3005906084098037e-06, 2.296411748829863e-06, 2.2922321789427874e-06, 2.2880510419334146e-06, 2.283867516907336e-06, 2.279680817375649e-06, 2.2754901897626388e-06, 2.271294911937804e-06, 2.267094291773447e-06, 2.2628876657290463e-06, 2.2586743974635446e-06, 2.254453876476542e-06, 2.2502255167794176e-06, 2.2459887555971846e-06, 2.241743052101945e-06, 2.237487886178601e-06, 2.2332227572235205e-06, 2.2289471829766576e-06, 2.2246606983876743e-06, 2.2203628545164174e-06, 2.2160532174681113e-06, 2.2117313673635244e-06, 2.207396897344283e-06, 2.2030494126134556e-06, 2.1986885295114466e-06, 2.194313874627193e-06, 2.1899250839445557e-06, 2.185521802023767e-06, 2.181103681217723e-06, 2.176670380922854e-06, 2.1722215668642305e-06, 2.1677569104145447e-06, 2.1632760879465236e-06, 2.158778780218295e-06, 2.154264671791189e-06, 2.1497334504793926e-06, 2.1451848068308635e-06, 2.1406184336388396e-06, 2.1360340254832844e-06, 2.131431278301537e-06, 2.1268098889874397e-06, 2.1221695550181663e-06, 2.1175099741079747e-06, 2.112830843888066e-06, 2.1081318616117277e-06, 2.1034127238839243e-06, 2.098673126414491e-06, 2.093912763794054e-06, 2.089131329291852e-06, 2.084328514674546e-06, 2.079504010045195e-06, 2.074657503701519e-06, 2.0697886820125843e-06, 2.0648972293130925e-06, 2.059982827814395e-06, 2.055045157531448e-06, 2.050083896224875e-06, 2.045098719357353e-06, 2.0400893000635367e-06, 2.0350553091327985e-06, 2.0299964150040114e-06, 2.02491228377171e-06, 2.0198025792029214e-06, 2.0146669627640302e-06, 2.0095050936570457e-06, 2.0043166288646887e-06, 1.9991012232037097e-06, 1.9938585293859496e-06, 1.9885881980865965e-06, 1.9832898780192095e-06, 1.9779632160170613e-06, 1.9726078571204057e-06, 1.9672234446692995e-06, 1.961809620401666e-06, 1.9563660245562847e-06, 1.9508922959804626e-06, 1.9453880722421468e-06, 1.939852989746302e-06, 1.934286683855371e-06, 1.928688789013705e-06, 1.923058938875866e-06, 1.917396766438723e-06, 1.9117019041773153e-06, 1.9059739841844828e-06, 1.900212638314259e-06, 1.8944174983290896e-06, 1.888588196050951e-06, 1.882724363516436e-06, 1.876825633135955e-06, 1.8708916378571669e-06, 1.8649220113327915e-06, 1.8589163880929903e-06, 1.8528744037224842e-06, 1.8467956950426168e-06, 1.8406799002985642e-06, 1.8345266593519257e-06, 1.8283356138788992e-06, 1.8221064075742995e-06, 1.815838686361625e-06, 1.809532098609446e-06, 1.8031862953543138e-06, 1.7968009305304524e-06, 1.7903756612064522e-06, 1.7839101478291854e-06, 1.7774040544751736e-06, 1.770857049109588e-06, 1.7642688038531015e-06, 1.7576389952567558e-06, 1.7509673045850173e-06, 1.7442534181071587e-06, 1.7374970273971045e-06, 1.730697829641839e-06, 1.7238555279584746e-06, 1.716969831720023e-06, 1.7100404568899315e-06, 1.7030671263653747e-06, 1.6960495703293005e-06, 1.6889875266111723e-06, 1.6818807410563515e-06, 1.6747289679040018e-06, 1.6675319701733902e-06, 1.660289520058412e-06, 1.6530013993301438e-06, 1.6456673997472023e-06, 1.6382873234736243e-06, 1.6308609835039926e-06, 1.6233882040954585e-06, 1.6158688212063092e-06, 1.6083026829406764e-06, 1.6006896499989485e-06, 1.593029596133436e-06, 1.5853224086087766e-06, 1.5775679886665646e-06, 1.5697662519936347e-06, 1.561917129193411e-06, 1.5540205662597028e-06, 1.546076525052289e-06, 1.538084983773625e-06, 1.5300459374459534e-06, 1.5219593983881002e-06, 1.5138253966911882e-06, 1.505643980692507e-06, 1.4974152174467242e-06, 1.4891391931936305e-06, 1.4808160138215752e-06, 1.472445805325749e-06, 1.4640287142604278e-06, 1.4555649081843259e-06, 1.4470545760981348e-06, 1.4384979288733835e-06, 1.4298951996716767e-06, 1.4212466443534368e-06, 1.412552541875204e-06, 1.4038131946746044e-06, 1.3950289290420575e-06, 1.3862000954783277e-06, 1.377327069037006e-06, 1.3684102496510267e-06, 1.3594500624423542e-06, 1.350446958013937e-06, 1.3414014127230964e-06, 1.3323139289355022e-06, 1.3231850352589101e-06, 1.3140152867558562e-06, 1.3048052651345507e-06, 1.2955555789171905e-06, 1.2862668635849822e-06, 1.276939781699183e-06, 1.2675750229974698e-06, 1.25817330446503e-06, 1.2487353703797594e-06], \"yaxis\": \"y\"}, {\"legendgroup\": \"2014\", \"marker\": {\"color\": \"rgb(44, 160, 44)\"}, \"mode\": \"lines\", \"name\": \"2014\", \"showlegend\": true, \"type\": \"scatter\", \"x\": [401.0, 702.788, 1004.576, 1306.364, 1608.152, 1909.94, 2211.728, 2513.516, 2815.304, 3117.092, 3418.88, 3720.668, 4022.456, 4324.244000000001, 4626.032, 4927.82, 5229.608, 5531.396, 5833.184, 6134.972, 6436.76, 6738.548, 7040.336, 7342.124, 7643.912, 7945.7, 8247.488000000001, 8549.276, 8851.064, 9152.852, 9454.64, 9756.428, 10058.216, 10360.004, 10661.792, 10963.58, 11265.368, 11567.156, 11868.944, 12170.732, 12472.52, 12774.308, 13076.096, 13377.884, 13679.672, 13981.46, 14283.248, 14585.036, 14886.824, 15188.612, 15490.4, 15792.188, 16093.976, 16395.764, 16697.552, 16999.34, 17301.128, 17602.916, 17904.704, 18206.492, 18508.28, 18810.068, 19111.856, 19413.644, 19715.432, 20017.22, 20319.008, 20620.796, 20922.584, 21224.372, 21526.16, 21827.948, 22129.736, 22431.524, 22733.312, 23035.1, 23336.888, 23638.676, 23940.464, 24242.252, 24544.04, 24845.828, 25147.616, 25449.404, 25751.192, 26052.98, 26354.768, 26656.556, 26958.344, 27260.132, 27561.92, 27863.708, 28165.496, 28467.284, 28769.072, 29070.86, 29372.648, 29674.436, 29976.224, 30278.012, 30579.8, 30881.588, 31183.376, 31485.164, 31786.952, 32088.74, 32390.528, 32692.316, 32994.104, 33295.892, 33597.68, 33899.468, 34201.256, 34503.044, 34804.832, 35106.62, 35408.408, 35710.196, 36011.984, 36313.772, 36615.56, 36917.348, 37219.136, 37520.924, 37822.712, 38124.5, 38426.288, 38728.076, 39029.864, 39331.652, 39633.44, 39935.228, 40237.016, 40538.804, 40840.592, 41142.38, 41444.168, 41745.956, 42047.744, 42349.532, 42651.32, 42953.108, 43254.896, 43556.684, 43858.472, 44160.26, 44462.048, 44763.836, 45065.624, 45367.412, 45669.2, 45970.988, 46272.776, 46574.564, 46876.352, 47178.14, 47479.928, 47781.716, 48083.504, 48385.292, 48687.08, 48988.868, 49290.656, 49592.444, 49894.232, 50196.02, 50497.808, 50799.596, 51101.384, 51403.172, 51704.96, 52006.748, 52308.536, 52610.324, 52912.112, 53213.9, 53515.688, 53817.476, 54119.264, 54421.052, 54722.84, 55024.628, 55326.416, 55628.204, 55929.992, 56231.78, 56533.568, 56835.356, 57137.144, 57438.932, 57740.72, 58042.508, 58344.296, 58646.084, 58947.872, 59249.66, 59551.448, 59853.236, 60155.024, 60456.812, 60758.6, 61060.388, 61362.176, 61663.964, 61965.752, 62267.54, 62569.328, 62871.116, 63172.904, 63474.692, 63776.48, 64078.268, 64380.056, 64681.844, 64983.632, 65285.42, 65587.208, 65888.996, 66190.784, 66492.572, 66794.36, 67096.148, 67397.936, 67699.724, 68001.512, 68303.3, 68605.088, 68906.876, 69208.664, 69510.452, 69812.24, 70114.028, 70415.816, 70717.604, 71019.392, 71321.18, 71622.968, 71924.756, 72226.544, 72528.332, 72830.12, 73131.908, 73433.696, 73735.484, 74037.272, 74339.06, 74640.848, 74942.636, 75244.424, 75546.212, 75848.0, 76149.788, 76451.576, 76753.364, 77055.152, 77356.94, 77658.728, 77960.516, 78262.304, 78564.092, 78865.88, 79167.668, 79469.456, 79771.244, 80073.032, 80374.82, 80676.608, 80978.396, 81280.184, 81581.972, 81883.76, 82185.548, 82487.336, 82789.124, 83090.912, 83392.7, 83694.488, 83996.276, 84298.064, 84599.852, 84901.64, 85203.428, 85505.216, 85807.004, 86108.792, 86410.58, 86712.368, 87014.156, 87315.944, 87617.732, 87919.52, 88221.308, 88523.096, 88824.884, 89126.672, 89428.46, 89730.248, 90032.036, 90333.824, 90635.612, 90937.4, 91239.188, 91540.976, 91842.764, 92144.552, 92446.34, 92748.128, 93049.916, 93351.704, 93653.492, 93955.28, 94257.068, 94558.856, 94860.644, 95162.432, 95464.22, 95766.008, 96067.796, 96369.584, 96671.372, 96973.16, 97274.948, 97576.736, 97878.524, 98180.312, 98482.1, 98783.888, 99085.676, 99387.464, 99689.252, 99991.04, 100292.828, 100594.616, 100896.404, 101198.192, 101499.98, 101801.768, 102103.556, 102405.344, 102707.132, 103008.92, 103310.708, 103612.496, 103914.284, 104216.072, 104517.86, 104819.648, 105121.436, 105423.224, 105725.012, 106026.8, 106328.588, 106630.376, 106932.164, 107233.952, 107535.74, 107837.528, 108139.316, 108441.104, 108742.892, 109044.68, 109346.468, 109648.256, 109950.044, 110251.832, 110553.62, 110855.408, 111157.196, 111458.984, 111760.772, 112062.56, 112364.348, 112666.136, 112967.924, 113269.712, 113571.5, 113873.288, 114175.076, 114476.864, 114778.652, 115080.44, 115382.228, 115684.016, 115985.804, 116287.592, 116589.38, 116891.168, 117192.956, 117494.744, 117796.532, 118098.32, 118400.108, 118701.896, 119003.684, 119305.472, 119607.26, 119909.048, 120210.836, 120512.624, 120814.412, 121116.2, 121417.988, 121719.776, 122021.564, 122323.352, 122625.14, 122926.928, 123228.716, 123530.504, 123832.292, 124134.08, 124435.868, 124737.656, 125039.444, 125341.232, 125643.02, 125944.808, 126246.596, 126548.384, 126850.172, 127151.96, 127453.748, 127755.536, 128057.324, 128359.112, 128660.9, 128962.688, 129264.476, 129566.264, 129868.052, 130169.84, 130471.628, 130773.416, 131075.204, 131376.992, 131678.78, 131980.568, 132282.356, 132584.144, 132885.932, 133187.72, 133489.508, 133791.296, 134093.084, 134394.872, 134696.66, 134998.448, 135300.236, 135602.024, 135903.812, 136205.6, 136507.388, 136809.176, 137110.964, 137412.752, 137714.54, 138016.328, 138318.116, 138619.904, 138921.692, 139223.48, 139525.268, 139827.056, 140128.844, 140430.632, 140732.42, 141034.208, 141335.996, 141637.784, 141939.572, 142241.36, 142543.148, 142844.936, 143146.724, 143448.512, 143750.3, 144052.088, 144353.876, 144655.664, 144957.452, 145259.24, 145561.028, 145862.816, 146164.604, 146466.392, 146768.18, 147069.968, 147371.756, 147673.544, 147975.332, 148277.12, 148578.908, 148880.696, 149182.484, 149484.272, 149786.06, 150087.848, 150389.636, 150691.424, 150993.212], \"xaxis\": \"x\", \"y\": [1.0785319645505674e-05, 1.085120820194088e-05, 1.0915836055359346e-05, 1.0979179195076554e-05, 1.1041214148643845e-05, 1.1101917998159749e-05, 1.116126839615917e-05, 1.1219243581064309e-05, 1.1275822392181513e-05, 1.1330984284228992e-05, 1.138470934138075e-05, 1.143697829081265e-05, 1.1487772515737185e-05, 1.1537074067914055e-05, 1.158486567962437e-05, 1.1631130775096806e-05, 1.1675853481374778e-05, 1.1719018638614431e-05, 1.1760611809803666e-05, 1.1800619289893483e-05, 1.1839028114333301e-05, 1.1875826067002788e-05, 1.1911001687533448e-05, 1.1944544278013883e-05, 1.1976443909073412e-05, 1.2006691425339531e-05, 1.2035278450265282e-05, 1.2062197390323532e-05, 1.208744143856581e-05, 1.2111004577544034e-05, 1.2132881581594446e-05, 1.2153068018483477e-05, 1.217156025041635e-05, 1.2188355434409728e-05, 1.220345152203053e-05, 1.221684725850381e-05, 1.2228542181193246e-05, 1.2238536617458504e-05, 1.2246831681894509e-05, 1.225342927295826e-05, 1.225833206898958e-05, 1.226154352363275e-05, 1.2263067860666868e-05, 1.2262910068253019e-05, 1.2261075892607413e-05, 1.2257571831109897e-05, 1.2252405124858045e-05, 1.2245583750677503e-05, 1.2237116412599863e-05, 1.2227012532819866e-05, 1.2215282242144235e-05, 1.2201936369944914e-05, 1.2186986433630054e-05, 1.2170444627646382e-05, 1.2152323812027151e-05, 1.2132637500500223e-05, 1.2111399848171193e-05, 1.2088625638796851e-05, 1.2064330271664604e-05, 1.2038529748093781e-05, 1.2011240657575037e-05, 1.198248016356432e-05, 1.1952265988948103e-05, 1.192061640119677e-05, 1.1887550197223317e-05, 1.1853086687964507e-05, 1.1817245682701958e-05, 1.1780047473140621e-05, 1.1741512817262186e-05, 1.1701662922971106e-05, 1.1660519431550816e-05, 1.1618104400947934e-05, 1.1574440288901945e-05, 1.152954993593813e-05, 1.1483456548241186e-05, 1.1436183680427024e-05, 1.1387755218230156e-05, 1.1338195361123758e-05, 1.1287528604889663e-05, 1.1235779724155014e-05, 1.1182973754912338e-05, 1.1129135977039597e-05, 1.1074291896836305e-05, 1.1018467229591888e-05, 1.0961687882201899e-05, 1.0903979935847552e-05, 1.0845369628753749e-05, 1.0785883339040358e-05, 1.0725547567681305e-05, 1.0664388921585492e-05, 1.0602434096813423e-05, 1.0539709861942895e-05, 1.0476243041596693e-05, 1.0412060500145005e-05, 1.03471891255947e-05, 1.0281655813677175e-05, 1.0215487452146316e-05, 1.014871090529728e-05, 1.0081352998716694e-05, 1.0013440504274302e-05, 9.945000125365566e-06, 9.876058482414444e-06, 9.806642098644885e-06, 9.736777386129364e-06, 9.666490632122092e-06, 9.59580798568422e-06, 9.524755444607829e-06, 9.453358842645054e-06, 9.381643837048163e-06, 9.30963589642608e-06, 9.237360288922252e-06, 9.16484207071834e-06, 9.092106074867845e-06, 9.019176900463204e-06, 8.946078902139509e-06, 8.872836179917639e-06, 8.799472569388982e-06, 8.726011632243741e-06, 8.652476647144163e-06, 8.578890600943819e-06, 8.505276180253557e-06, 8.431655763354369e-06, 8.358051412457118e-06, 8.284484866308566e-06, 8.210977533142907e-06, 8.137550483977634e-06, 8.064224446252161e-06, 7.99101979780737e-06, 7.917956561203979e-06, 7.84505439837715e-06, 7.772332605624721e-06, 7.699810108925875e-06, 7.6275054595871444e-06, 7.55543683021198e-06, 7.483622010990301e-06, 7.412078406303881e-06, 7.340823031643368e-06, 7.269872510832553e-06, 7.199243073555204e-06, 7.128950553179691e-06, 7.059010384876445e-06, 6.989437604023135e-06, 6.92024684489229e-06, 6.851452339615957e-06, 6.7830679174219985e-06, 6.7151070041362655e-06, 6.647582621945097e-06, 6.580507389412241e-06, 6.513893521744441e-06, 6.447752831299706e-06, 6.382096728332332e-06, 6.316936221968676e-06, 6.252281921407612e-06, 6.188144037339666e-06, 6.124532383578729e-06, 6.061456378900261e-06, 5.998925049080009e-06, 5.9369470291270635e-06, 5.8755305657053325e-06, 5.8146835197373824e-06, 5.754413369184706e-06, 5.6947272119984405e-06, 5.635631769234763e-06, 5.577133388329052e-06, 5.519238046523094e-06, 5.461951354439661e-06, 5.4052785597987745e-06, 5.3492245512701715e-06, 5.293793862456455e-06, 5.238990676001538e-06, 5.1848188278190975e-06, 5.131281811435773e-06, 5.078382782444009e-06, 5.0261245630594815e-06, 4.974509646778158e-06, 4.923540203128117e-06, 4.8732180825114e-06, 4.823544821131182e-06, 4.774521645999724e-06, 4.726149480022586e-06, 4.678428947154778e-06, 4.631360377624502e-06, 4.584943813220317e-06, 4.539179012637641e-06, 4.4940654568805364e-06, 4.449602354714928e-06, 4.4057886481693445e-06, 4.362623018079515e-06, 4.320103889673102e-06, 4.278229438191061e-06, 4.236997594542059e-06, 4.196406050986626e-06, 4.156452266847606e-06, 4.117133474243715e-06, 4.078446683843004e-06, 4.040388690633055e-06, 4.002956079704905e-06, 3.9661452320476666e-06, 3.929952330350938e-06, 3.8943733648120825e-06, 3.8594041389456075e-06, 3.8250402753918115e-06, 3.791277221722021e-06, 3.758110256237728e-06, 3.7255344937609857e-06, 3.6935448914134687e-06, 3.6621362543816757e-06, 3.6313032416657222e-06, 3.6010403718092747e-06, 3.571342028608136e-06, 3.5422024667951323e-06, 3.513615817698842e-06, 3.485576094873839e-06, 3.458077199700131e-06, 3.431112926949452e-06, 3.4046769703161126e-06, 3.3787629279101865e-06, 3.353364307710752e-06, 3.3284745329769554e-06, 3.304086947614726e-06, 3.2801948214969107e-06, 3.2567913557347155e-06, 3.2338696878982313e-06, 3.2114228971839906e-06, 3.189444009527394e-06, 3.1679260026579153e-06, 3.146861811095051e-06, 3.126244331082916e-06, 3.1060664254615e-06, 3.0863209284725395e-06, 3.0670006504980584e-06, 3.0480983827295973e-06, 3.0296069017662172e-06, 3.011518974139363e-06, 2.99382736076273e-06, 2.9765248213052977e-06, 2.959604118485703e-06, 2.9430580222862275e-06, 2.9268793140846254e-06, 2.91106079070214e-06, 2.8955952683660424e-06, 2.8804755865851117e-06, 2.865694611936481e-06, 2.851245241762376e-06, 2.837120407775281e-06, 2.823313079570143e-06, 2.8098162680422868e-06, 2.796623028709757e-06, 2.7837264649388907e-06, 2.7711197310719564e-06, 2.7587960354558103e-06, 2.7467486433705293e-06, 2.7349708798571253e-06, 2.7234561324434535e-06, 2.7121978537675548e-06, 2.7011895640977217e-06, 2.690424853748668e-06, 2.6798973853932915e-06, 2.6696008962695455e-06, 2.659529200282092e-06, 2.6496761899984504e-06, 2.640035838539465e-06, 2.630602201364006e-06, 2.6213694179479022e-06, 2.612331713357237e-06, 2.6034833997161483e-06, 2.5948188775694983e-06, 2.5863326371407276e-06, 2.578019259485456e-06, 2.5698734175413546e-06, 2.561889877075011e-06, 2.5540634975265604e-06, 2.546389232752944e-06, 2.538862131670803e-06, 2.531477338800055e-06, 2.5242300947093376e-06, 2.5171157363645515e-06, 2.5101296973819136e-06, 2.503267508186912e-06, 2.496524796080722e-06, 2.4898972852157265e-06, 2.4833807964818174e-06, 2.476971247305304e-06, 2.4706646513622837e-06, 2.464457118208459e-06, 2.458344852827394e-06, 2.452324155099361e-06, 2.4463914191929222e-06, 2.4405431328815063e-06, 2.434775876787286e-06, 2.4290863235547323e-06, 2.4234712369562456e-06, 2.417927470932389e-06, 2.4124519685692087e-06, 2.4070417610152442e-06, 2.401693966340831e-06, 2.3964057883423625e-06, 2.391174515294174e-06, 2.385997518650806e-06, 2.380872251702335e-06, 2.3757962481855774e-06, 2.370767120853926e-06, 2.365782560008596e-06, 2.360840331994093e-06, 2.3559382776607035e-06, 2.351074310796764e-06, 2.3462464165335735e-06, 2.3414526497256303e-06, 2.3366911333090462e-06, 2.3319600566408184e-06, 2.3272576738217145e-06, 2.3225823020054362e-06, 2.3179323196967374e-06, 2.3133061650411173e-06, 2.308702334108655e-06, 2.3041193791745402e-06, 2.299555906998778e-06, 2.2950105771075027e-06, 2.2904821000783038e-06, 2.285969235831842e-06, 2.2814707919320764e-06, 2.2769856218972364e-06, 2.272512623523717e-06, 2.2680507372249134e-06, 2.2635989443870168e-06, 2.2591562657436335e-06, 2.254721759771103e-06, 2.250294521106219e-06, 2.2458736789880567e-06, 2.2414583957254676e-06, 2.237047865191728e-06, 2.23264131134779e-06, 2.2282379867954063e-06, 2.22383717136141e-06, 2.2194381707142466e-06, 2.215040315013849e-06, 2.210642957595796e-06, 2.2062454736906336e-06, 2.2018472591791405e-06, 2.1974477293842245e-06, 2.1930463179000557e-06, 2.18864247545895e-06, 2.184235668836419e-06, 2.1798253797947313e-06, 2.175411104065233e-06, 2.1709923503695914e-06, 2.166568639480049e-06, 2.162139503318687e-06, 2.157704484095624e-06, 2.1532631334859845e-06, 2.148815011845432e-06, 2.1443596874639324e-06, 2.1398967358573983e-06, 2.135425739096769e-06, 2.130946285174011e-06, 2.1264579674044828e-06, 2.121960383865045e-06, 2.117453136867202e-06, 2.1129358324645807e-06, 2.1084080799939286e-06, 2.103869491648825e-06, 2.099319682085212e-06, 2.0947582680578465e-06, 2.0901848680867104e-06, 2.0855991021524074e-06, 2.081000591419533e-06, 2.0763889579869757e-06, 2.071763824664091e-06, 2.0671248147716806e-06, 2.0624715519666628e-06, 2.0578036600893583e-06, 2.0531207630322486e-06, 2.0484224846291176e-06, 2.0437084485634304e-06, 2.0389782782948594e-06, 2.034231597002822e-06, 2.0294680275459466e-06, 2.0246871924363596e-06, 2.019888713827724e-06, 2.0150722135159696e-06, 2.01023731295167e-06, 2.0053836332630517e-06, 2.0005107952886502e-06, 1.9956184196186348e-06, 1.990706126643874e-06, 1.985773536611859e-06, 1.9808202696885784e-06, 1.9758459460255544e-06, 1.9708501858312215e-06, 1.9658326094459094e-06, 1.9607928374197045e-06, 1.955730490592539e-06, 1.950645190175869e-06, 1.9455365578353623e-06, 1.9404042157740723e-06, 1.935247786815594e-06, 1.9300668944867724e-06, 1.924861163099565e-06, 1.9196302178317123e-06, 1.9143736848059134e-06, 1.909091191167263e-06, 1.9037823651587378e-06, 1.8984468361945802e-06, 1.8930842349314634e-06, 1.887694193337373e-06, 1.8822763447581927e-06, 1.8768303239819983e-06, 1.871355767301147e-06, 1.8658523125722563e-06, 1.8603195992742162e-06, 1.8547572685644357e-06, 1.849164963333529e-06, 1.8435423282587106e-06, 1.8378890098561865e-06, 1.8322046565328637e-06, 1.8264889186377322e-06, 1.8207414485133007e-06, 1.8149619005474834e-06, 1.8091499312263782e-06, 1.8033051991883745e-06, 1.797427365280063e-06, 1.7915160926144314e-06, 1.785571046631839e-06, 1.7795918951642842e-06, 1.7735783085034708e-06, 1.7675299594732135e-06, 1.761446523506685e-06, 1.7553276787290565e-06, 1.7491731060460322e-06, 1.742982489238827e-06, 1.7367555150660761e-06, 1.7304918733731934e-06, 1.7241912572096856e-06, 1.7178533629548735e-06, 1.7114778904525156e-06, 1.7050645431547582e-06, 1.6986130282758464e-06, 1.6921230569560025e-06, 1.6855943444358336e-06, 1.679026610241639e-06, 1.6724195783819224e-06, 1.665772977555412e-06, 1.6590865413708358e-06, 1.65236000857869e-06, 1.6455931233151766e-06, 1.6387856353584724e-06, 1.6319373003974357e-06, 1.6250478803128327e-06, 1.6181171434711151e-06, 1.6111448650307358e-06, 1.6041308272609661e-06, 1.59707481987311e-06, 1.5899766403639883e-06, 1.582836094371512e-06, 1.5756529960421172e-06, 1.5684271684098078e-06, 1.5611584437864696e-06, 1.553846664163134e-06, 1.546491681621764e-06, 1.5390933587571368e-06, 1.531651569108326e-06, 1.5241661975992714e-06, 1.5166371409878554e-06, 1.5090643083228799e-06, 1.5014476214082985e-06, 1.4937870152740162e-06, 1.486082438652534e-06, 1.4783338544606744e-06, 1.4705412402856032e-06, 1.462704588874315e-06, 1.4548239086257294e-06, 1.4468992240845142e-06, 1.4389305764357168e-06, 1.4309180239992755e-06, 1.4228616427234442e-06, 1.4147615266761487e-06, 1.406617788533283e-06, 1.3984305600629129e-06, 1.3901999926043752e-06, 1.38192625754122e-06, 1.3736095467669402e-06, 1.365250073142446e-06, 1.3568480709441973e-06, 1.3484037963019576e-06, 1.3399175276250794e-06, 1.3313895660162793e-06, 1.322820235671835e-06, 1.3142098842671651e-06, 1.3055588833267536e-06, 1.296867628577394e-06, 1.2881365402837459e-06, 1.279366063565228e-06, 1.2705566686932555e-06, 1.2617088513678994e-06, 1.2528231329730405e-06, 1.2439000608091228e-06, 1.234940208302654e-06, 1.225944175191611e-06, 1.2169125876859745e-06, 1.2078460986026108e-06], \"yaxis\": \"y\"}, {\"legendgroup\": \"2015\", \"marker\": {\"color\": \"rgb(214, 39, 40)\"}, \"mode\": \"lines\", \"name\": \"2015\", \"showlegend\": true, \"type\": \"scatter\", \"x\": [406.0, 714.056, 1022.112, 1330.1680000000001, 1638.224, 1946.28, 2254.3360000000002, 2562.392, 2870.448, 3178.504, 3486.56, 3794.616, 4102.6720000000005, 4410.728, 4718.784, 5026.84, 5334.896, 5642.952, 5951.008, 6259.064, 6567.12, 6875.176, 7183.232, 7491.288, 7799.344, 8107.4, 8415.456, 8723.512, 9031.568, 9339.624, 9647.68, 9955.736, 10263.792, 10571.848, 10879.904, 11187.96, 11496.016, 11804.072, 12112.128, 12420.184, 12728.24, 13036.296, 13344.352, 13652.408, 13960.464, 14268.52, 14576.576, 14884.632, 15192.688, 15500.744, 15808.8, 16116.856, 16424.912, 16732.968, 17041.024, 17349.08, 17657.136, 17965.192, 18273.248, 18581.304, 18889.36, 19197.416, 19505.472, 19813.528, 20121.584, 20429.64, 20737.696, 21045.752, 21353.808, 21661.864, 21969.92, 22277.976, 22586.032, 22894.088, 23202.144, 23510.2, 23818.256, 24126.312, 24434.368, 24742.424, 25050.48, 25358.536, 25666.592, 25974.648, 26282.704, 26590.76, 26898.816, 27206.872, 27514.928, 27822.984, 28131.04, 28439.096, 28747.152, 29055.208, 29363.264, 29671.32, 29979.376, 30287.432, 30595.488, 30903.544, 31211.6, 31519.656, 31827.712, 32135.768, 32443.824, 32751.88, 33059.936, 33367.992, 33676.048, 33984.104, 34292.16, 34600.216, 34908.272, 35216.328, 35524.384, 35832.44, 36140.496, 36448.552, 36756.608, 37064.664, 37372.72, 37680.776, 37988.832, 38296.888, 38604.944, 38913.0, 39221.056, 39529.112, 39837.168, 40145.224, 40453.28, 40761.336, 41069.392, 41377.448, 41685.504, 41993.56, 42301.616, 42609.672, 42917.728, 43225.784, 43533.84, 43841.896, 44149.952, 44458.008, 44766.064, 45074.12, 45382.176, 45690.232, 45998.288, 46306.344, 46614.4, 46922.456, 47230.512, 47538.568, 47846.624, 48154.68, 48462.736, 48770.792, 49078.848, 49386.904, 49694.96, 50003.016, 50311.072, 50619.128, 50927.184, 51235.24, 51543.296, 51851.352, 52159.408, 52467.464, 52775.52, 53083.576, 53391.632, 53699.688, 54007.744, 54315.8, 54623.856, 54931.912, 55239.968, 55548.024, 55856.08, 56164.136, 56472.192, 56780.248, 57088.304, 57396.36, 57704.416, 58012.472, 58320.528, 58628.584, 58936.64, 59244.696, 59552.752, 59860.808, 60168.864, 60476.92, 60784.976, 61093.032, 61401.088, 61709.144, 62017.2, 62325.256, 62633.312, 62941.368, 63249.424, 63557.48, 63865.536, 64173.592, 64481.648, 64789.704, 65097.76, 65405.816, 65713.872, 66021.928, 66329.984, 66638.04, 66946.096, 67254.152, 67562.208, 67870.264, 68178.32, 68486.376, 68794.432, 69102.488, 69410.544, 69718.6, 70026.656, 70334.712, 70642.768, 70950.824, 71258.88, 71566.936, 71874.992, 72183.048, 72491.104, 72799.16, 73107.216, 73415.272, 73723.328, 74031.384, 74339.44, 74647.496, 74955.552, 75263.608, 75571.664, 75879.72, 76187.776, 76495.832, 76803.888, 77111.944, 77420.0, 77728.056, 78036.112, 78344.168, 78652.224, 78960.28, 79268.336, 79576.392, 79884.448, 80192.504, 80500.56, 80808.616, 81116.672, 81424.728, 81732.784, 82040.84, 82348.896, 82656.952, 82965.008, 83273.064, 83581.12, 83889.176, 84197.232, 84505.288, 84813.344, 85121.4, 85429.456, 85737.512, 86045.568, 86353.624, 86661.68, 86969.736, 87277.792, 87585.848, 87893.904, 88201.96, 88510.016, 88818.072, 89126.128, 89434.184, 89742.24, 90050.296, 90358.352, 90666.408, 90974.464, 91282.52, 91590.576, 91898.632, 92206.688, 92514.744, 92822.8, 93130.856, 93438.912, 93746.968, 94055.024, 94363.08, 94671.136, 94979.192, 95287.248, 95595.304, 95903.36, 96211.416, 96519.472, 96827.528, 97135.584, 97443.64, 97751.696, 98059.752, 98367.808, 98675.864, 98983.92, 99291.976, 99600.032, 99908.088, 100216.144, 100524.2, 100832.256, 101140.312, 101448.368, 101756.424, 102064.48, 102372.536, 102680.592, 102988.648, 103296.704, 103604.76, 103912.816, 104220.872, 104528.928, 104836.984, 105145.04, 105453.096, 105761.152, 106069.208, 106377.264, 106685.32, 106993.376, 107301.432, 107609.488, 107917.544, 108225.6, 108533.656, 108841.712, 109149.768, 109457.824, 109765.88, 110073.936, 110381.992, 110690.048, 110998.104, 111306.16, 111614.216, 111922.272, 112230.328, 112538.384, 112846.44, 113154.496, 113462.552, 113770.608, 114078.664, 114386.72, 114694.776, 115002.832, 115310.888, 115618.944, 115927.0, 116235.056, 116543.112, 116851.168, 117159.224, 117467.28, 117775.336, 118083.392, 118391.448, 118699.504, 119007.56, 119315.616, 119623.672, 119931.728, 120239.784, 120547.84, 120855.896, 121163.952, 121472.008, 121780.064, 122088.12, 122396.176, 122704.232, 123012.288, 123320.344, 123628.4, 123936.456, 124244.512, 124552.568, 124860.624, 125168.68, 125476.736, 125784.792, 126092.848, 126400.904, 126708.96, 127017.016, 127325.072, 127633.128, 127941.184, 128249.24, 128557.296, 128865.352, 129173.408, 129481.464, 129789.52, 130097.576, 130405.632, 130713.688, 131021.744, 131329.8, 131637.856, 131945.912, 132253.968, 132562.024, 132870.08, 133178.136, 133486.192, 133794.248, 134102.304, 134410.36, 134718.416, 135026.472, 135334.528, 135642.584, 135950.64, 136258.696, 136566.752, 136874.808, 137182.864, 137490.92, 137798.976, 138107.032, 138415.088, 138723.144, 139031.2, 139339.256, 139647.312, 139955.368, 140263.424, 140571.48, 140879.536, 141187.592, 141495.648, 141803.704, 142111.76, 142419.816, 142727.872, 143035.928, 143343.984, 143652.04, 143960.096, 144268.152, 144576.208, 144884.264, 145192.32, 145500.376, 145808.432, 146116.488, 146424.544, 146732.6, 147040.656, 147348.712, 147656.768, 147964.824, 148272.88, 148580.936, 148888.992, 149197.048, 149505.104, 149813.16, 150121.216, 150429.272, 150737.328, 151045.384, 151353.44, 151661.496, 151969.552, 152277.608, 152585.664, 152893.72, 153201.776, 153509.832, 153817.888, 154125.944], \"xaxis\": \"x\", \"y\": [1.0680083646229787e-05, 1.0744849232541821e-05, 1.0808344174140143e-05, 1.0870544495334756e-05, 1.0931426767799318e-05, 1.09909681270962e-05, 1.1049146288772415e-05, 1.1105939564009807e-05, 1.1161326874813506e-05, 1.12152877687231e-05, 1.1267802433031484e-05, 1.131885170849711e-05, 1.1368417102535774e-05, 1.1416480801878685e-05, 1.146302568468441e-05, 1.1508035332092636e-05, 1.155149403920859e-05, 1.1593386825507519e-05, 1.1633699444649326e-05, 1.167241839369427e-05, 1.170953092171114e-05, 1.174502503777033e-05, 1.1778889518314619e-05, 1.1811113913901626e-05, 1.1841688555312223e-05, 1.1870604559020278e-05, 1.1897853832019695e-05, 1.1923429076005504e-05, 1.1947323790906589e-05, 1.196953227776822e-05, 1.1990049640983639e-05, 1.2008871789874358e-05, 1.2025995439619796e-05, 1.2041418111537692e-05, 1.2055138132717198e-05, 1.2067154635007659e-05, 1.2077467553366549e-05, 1.2086077623570917e-05, 1.209298637929731e-05, 1.2098196148575923e-05, 1.2101710049625435e-05, 1.210353198607561e-05, 1.2103666641585356e-05, 1.2102119473864862e-05, 1.2098896708110707e-05, 1.2094005329863722e-05, 1.2087453077299907e-05, 1.2079248432965259e-05, 1.2069400614966e-05, 1.205791956762618e-05, 1.2044815951625251e-05, 1.2030101133628542e-05, 1.201378717542432e-05, 1.1995886822581276e-05, 1.1976413492640982e-05, 1.1955381262860101e-05, 1.1932804857517627e-05, 1.1908699634802751e-05, 1.1883081573299332e-05, 1.1855967258083219e-05, 1.1827373866449022e-05, 1.1797319153283161e-05, 1.1765821436100287e-05, 1.173289957976037e-05, 1.1698572980883936e-05, 1.166286155198316e-05, 1.162578570532657e-05, 1.1587366336555315e-05, 1.1547624808068978e-05, 1.1506582932199018e-05, 1.1464262954188015e-05, 1.1420687534992655e-05, 1.137587973392887e-05, 1.1329862991176905e-05, 1.1282661110164583e-05, 1.1234298239846496e-05, 1.1184798856897172e-05, 1.1134187747835721e-05, 1.108248999109969e-05, 1.1029730939085338e-05, 1.0975936200171715e-05, 1.0921131620745333e-05, 1.0865343267242302e-05, 1.0808597408224388e-05, 1.0750920496505149e-05, 1.0692339151342197e-05, 1.0632880140711088e-05, 1.0572570363676253e-05, 1.0511436832873812e-05, 1.0449506657121017e-05, 1.038680702416645e-05, 1.032336518359491e-05, 1.0259208429900434e-05, 1.0194364085740544e-05, 1.0128859485384321e-05, 1.0062721958366587e-05, 9.995978813360022e-06, 9.928657322276439e-06, 9.860784704608282e-06, 9.792388112020697e-06, 9.723494613204204e-06, 9.65413117899751e-06, 9.584324667789469e-06, 9.514101811208853e-06, 9.443489200109965e-06, 9.372513270861805e-06, 9.301200291947893e-06, 9.229576350883464e-06, 9.157667341456235e-06, 9.085498951296487e-06, 9.013096649781728e-06, 8.940485676280727e-06, 8.867691028741256e-06, 8.794737452625435e-06, 8.721649430196067e-06, 8.648451170156984e-06, 8.57516659764988e-06, 8.501819344609767e-06, 8.428432740480719e-06, 8.355029803293136e-06, 8.281633231103413e-06, 8.208265393796361e-06, 8.134948325250542e-06, 8.061703715866086e-06, 7.988552905454343e-06, 7.91551687648827e-06, 7.84261624771211e-06, 7.769871268108675e-06, 7.697301811222081e-06, 7.624927369833535e-06, 7.552767050987509e-06, 7.48083957136524e-06, 7.409163253002337e-06, 7.337756019346901e-06, 7.266635391654358e-06, 7.195818485714997e-06, 7.125322008909896e-06, 7.055162257590736e-06, 6.9853551147788626e-06, 6.9159160481786425e-06, 6.846860108500053e-06, 6.778201928085304e-06, 6.7099557198340625e-06, 6.6421352764217275e-06, 6.574753969805148e-06, 6.507824751009899e-06, 6.441360150193328e-06, 6.375372276977272e-06, 6.309872821044436e-06, 6.244873052992237e-06, 6.180383825437899e-06, 6.116415574368565e-06, 6.052978320730013e-06, 5.990081672247706e-06, 5.927734825473775e-06, 5.865946568053503e-06, 5.804725281204925e-06, 5.7440789424051696e-06, 5.6840151282770915e-06, 5.6245410176698355e-06, 5.5656633949269834e-06, 5.507388653335959e-06, 5.449722798752348e-06, 5.39267145339296e-06, 5.336239859791377e-06, 5.2804328849098275e-06, 5.225255024401359e-06, 5.170710407016216e-06, 5.1168027991464795e-06, 5.063535609503108e-06, 5.01091189391952e-06, 4.958934360276005e-06, 4.9076053735393035e-06, 4.856926960911738e-06, 4.806900817084499e-06, 4.757528309589548e-06, 4.708810484244954e-06, 4.660748070688319e-06, 4.613341487993222e-06, 4.5665908503636474e-06, 4.5204959729013536e-06, 4.475056377441414e-06, 4.430271298451091e-06, 4.386139688987381e-06, 4.342660226708642e-06, 4.2998313199357636e-06, 4.2576511137585205e-06, 4.216117496182699e-06, 4.175228104313837e-06, 4.134980330573343e-06, 4.095371328942954e-06, 4.056398021233533e-06, 4.01805710337428e-06, 3.980345051718497e-06, 3.943258129362192e-06, 3.906792392471783e-06, 3.870943696617271e-06, 3.835707703107423e-06, 3.8010798853233397e-06, 3.7670555350471184e-06, 3.733629768782181e-06, 3.7007975340619994e-06, 3.6685536157439807e-06, 3.6368926422853354e-06, 3.6058090919978064e-06, 3.575297299278184e-06, 3.5453514608116177e-06, 3.5159656417447208e-06, 3.4871337818255794e-06, 3.4588497015077903e-06, 3.431107108015703e-06, 3.4038996013680856e-06, 3.3772206803574764e-06, 3.351063748482556e-06, 3.3254221198308367e-06, 3.300289024909127e-06, 3.275657616419141e-06, 3.2515209749757817e-06, 3.2278721147655474e-06, 3.2047039891426746e-06, 3.1820094961605736e-06, 3.159781484036191e-06, 3.138012756544981e-06, 3.116696078344189e-06, 3.0958241802222167e-06, 3.075389764271831e-06, 3.0553855089850993e-06, 3.035804074267892e-06, 3.016638106371916e-06, 2.997880242742216e-06, 2.9795231167781815e-06, 2.9615593625061576e-06, 2.9439816191617096e-06, 2.926782535679778e-06, 2.9099547750909278e-06, 2.8934910188219533e-06, 2.8773839708992037e-06, 2.861626362053022e-06, 2.8462109537217333e-06, 2.831130541953744e-06, 2.8163779612063057e-06, 2.8019460880396044e-06, 2.78782784470493e-06, 2.774016202625676e-06, 2.7605041857700782e-06, 2.7472848739146224e-06, 2.7343514057971485e-06, 2.721696982158751e-06, 2.7093148686736747e-06, 2.697198398766473e-06, 2.685340976315771e-06, 2.6737360782441044e-06, 2.662377256993352e-06, 2.65125814288539e-06, 2.640372446367688e-06, 2.629713960143677e-06, 2.619276561187749e-06, 2.609054212644974e-06, 2.599040965615551e-06, 2.589230960824268e-06, 2.5796184301752265e-06, 2.5701976981922594e-06, 2.560963183345529e-06, 2.551909399264939e-06, 2.5430309558410302e-06, 2.5343225602141965e-06, 2.525779017653116e-06, 2.517395232323423e-06, 2.5091662079477223e-06, 2.5010870483581557e-06, 2.49315295794283e-06, 2.4853592419875424e-06, 2.4777013069142563e-06, 2.470174660417979e-06, 2.4627749115037077e-06, 2.4554977704252353e-06, 2.448339048527695e-06, 2.4412946579957946e-06, 2.4343606115098193e-06, 2.4275330218114867e-06, 2.4208081011819205e-06, 2.4141821608339757e-06, 2.4076516102213317e-06, 2.401212956266737e-06, 2.3948628025119515e-06, 2.388597848191918e-06, 2.3824148872358014e-06, 2.3763108071975945e-06, 2.3702825881189865e-06, 2.364327301327331e-06, 2.358442108171488e-06, 2.352624258698462e-06, 2.3468710902736987e-06, 2.3411800261480125e-06, 2.335548573974089e-06, 2.3299743242755654e-06, 2.3244549488716824e-06, 2.318988199260546e-06, 2.3135719049640166e-06, 2.308203971837272e-06, 2.3028823803460685e-06, 2.2976051838147276e-06, 2.2923705066479025e-06, 2.2871765425290857e-06, 2.2820215525988707e-06, 2.2769038636159512e-06, 2.271821866103745e-06, 2.266774012485609e-06, 2.2617588152114617e-06, 2.2567748448786908e-06, 2.251820728350077e-06, 2.2468951468715224e-06, 2.241996834192219e-06, 2.2371245746899174e-06, 2.2322772015038427e-06, 2.227453594677741e-06, 2.222652679315542e-06, 2.2178734237519334e-06, 2.213114837740181e-06, 2.2083759706593785e-06, 2.2036559097432733e-06, 2.19895377833271e-06, 2.1942687341536363e-06, 2.189599967622578e-06, 2.1849467001813354e-06, 2.1803081826626245e-06, 2.175683693688233e-06, 2.171072538101226e-06, 2.166474045433585e-06, 2.1618875684106223e-06, 2.15731248149335e-06, 2.1527481794599585e-06, 2.148194076027396e-06, 2.1436496025139803e-06, 2.1391142065438583e-06, 2.1345873507940374e-06, 2.1300685117846083e-06, 2.1255571787126943e-06, 2.12105285233053e-06, 2.1165550438680405e-06, 2.1120632740001165e-06, 2.10757707185876e-06, 2.1030959740901377e-06, 2.0986195239565025e-06, 2.0941472704828674e-06, 2.0896787676482096e-06, 2.0852135736209056e-06, 2.0807512500380415e-06, 2.076291361328108e-06, 2.071833474076574e-06, 2.0673771564337262e-06, 2.0629219775640957e-06, 2.0584675071367313e-06, 2.054013314855507e-06, 2.0495589700286097e-06, 2.0451040411762683e-06, 2.0406480956757587e-06, 2.036190699442642e-06, 2.031731416647175e-06, 2.0272698094647773e-06, 2.022805437859378e-06, 2.018337859398481e-06, 2.0138666290987016e-06, 2.0093912993005354e-06, 2.0049114195710905e-06, 2.0004265366334774e-06, 1.9959361943215524e-06, 1.9914399335586996e-06, 1.986937292359311e-06, 1.982427805851635e-06, 1.9779110063206545e-06, 1.9733864232696707e-06, 1.968853583499247e-06, 1.964312011202217e-06, 1.9597612280734355e-06, 1.9552007534329927e-06, 1.950630104361622e-06, 1.9460487958470526e-06, 1.9414563409400947e-06, 1.936852250919253e-06, 1.9322360354627187e-06, 1.927607202826617e-06, 1.9229652600284025e-06, 1.9183097130343784e-06, 1.9136400669503033e-06, 1.9089558262141345e-06, 1.904256494789988e-06, 1.8995415763624253e-06, 1.8948105745302596e-06, 1.890062992999088e-06, 1.885298335771832e-06, 1.880516107336614e-06, 1.8757158128513425e-06, 1.8708969583244447e-06, 1.8660590507912308e-06, 1.8612015984854277e-06, 1.856324111005493e-06, 1.851426099475343e-06, 1.8465070766992118e-06, 1.8415665573104028e-06, 1.8366040579137458e-06, 1.8316190972216278e-06, 1.8266111961835224e-06, 1.8215798781089906e-06, 1.8165246687841757e-06, 1.8114450965818746e-06, 1.8063406925652962e-06, 1.8012109905856941e-06, 1.796055527374069e-06, 1.7908738426272222e-06, 1.7856654790884386e-06, 1.7804299826231613e-06, 1.7751669022900196e-06, 1.7698757904076385e-06, 1.7645562026176672e-06, 1.7592076979445092e-06, 1.7538298388522709e-06, 1.748422191299436e-06, 1.7429843247918657e-06, 1.7375158124346578e-06, 1.7320162309834918e-06, 1.7264851608960692e-06, 1.7209221863842558e-06, 1.715326895467587e-06, 1.7096988800287657e-06, 1.7040377358717999e-06, 1.6983430627834373e-06, 1.6926144645985406e-06, 1.6868515492700566e-06, 1.6810539289442048e-06, 1.6752212200415363e-06, 1.669353043344459e-06, 1.6634490240918586e-06, 1.6575087920813845e-06, 1.6515319817799726e-06, 1.6455182324431653e-06, 1.639467188243738e-06, 1.6333784984101332e-06, 1.6272518173751762e-06, 1.621086804935501e-06, 1.6148831264221061e-06, 1.6086404528823948e-06, 1.60235846127405e-06, 1.5960368346710342e-06, 1.5896752624819669e-06, 1.5832734406811182e-06, 1.5768310720521645e-06, 1.570347866444859e-06, 1.5638235410447042e-06, 1.557257820655657e-06, 1.5506504379958714e-06, 1.544001134006433e-06, 1.537309658172974e-06, 1.5305757688600455e-06, 1.5237992336580296e-06, 1.5169798297423761e-06, 1.5101173442448592e-06, 1.5032115746365295e-06, 1.496262329121972e-06, 1.489269427044446e-06, 1.4822326993014403e-06, 1.4751519887700984e-06, 1.4680271507419824e-06, 1.460858053366549e-06, 1.45364457810269e-06, 1.4463866201776495e-06, 1.4390840890525884e-06, 1.431736908894035e-06, 1.4243450190503974e-06, 1.4169083745327285e-06, 1.4094269464988411e-06, 1.4019007227399008e-06, 1.3943297081685351e-06, 1.386713925307533e-06, 1.3790534147781258e-06, 1.3713482357868524e-06, 1.3635984666100015e-06, 1.3558042050745526e-06, 1.3479655690346013e-06, 1.340082696842158e-06, 1.3321557478112691e-06, 1.324184902674363e-06, 1.3161703640297172e-06, 1.308112356778977e-06, 1.3000111285536012e-06, 1.2918669501291675e-06, 1.2836801158264361e-06, 1.275450943898099e-06, 1.2671797769001576e-06, 1.2588669820468496e-06, 1.2505129515481148e-06, 1.2421181029285674e-06, 1.2336828793269843e-06, 1.2252077497753174e-06, 1.2166932094563146e-06, 1.208139779938796e-06, 1.1995480093897233e-06, 1.1909184727621867e-06, 1.1822517719585003e-06, 1.1735485359676302e-06], \"yaxis\": \"y\"}, {\"legendgroup\": \"2016\", \"marker\": {\"color\": \"rgb(148, 103, 189)\"}, \"mode\": \"lines\", \"name\": \"2016\", \"showlegend\": true, \"type\": \"scatter\", \"x\": [405.0, 716.95, 1028.9, 1340.85, 1652.8, 1964.75, 2276.7, 2588.65, 2900.6, 3212.55, 3524.5, 3836.45, 4148.4, 4460.35, 4772.3, 5084.25, 5396.2, 5708.15, 6020.1, 6332.05, 6644.0, 6955.95, 7267.9, 7579.85, 7891.8, 8203.75, 8515.7, 8827.65, 9139.6, 9451.55, 9763.5, 10075.45, 10387.4, 10699.35, 11011.3, 11323.25, 11635.2, 11947.15, 12259.1, 12571.05, 12883.0, 13194.95, 13506.9, 13818.85, 14130.8, 14442.75, 14754.7, 15066.65, 15378.6, 15690.55, 16002.5, 16314.45, 16626.4, 16938.35, 17250.3, 17562.25, 17874.2, 18186.15, 18498.1, 18810.05, 19122.0, 19433.95, 19745.9, 20057.85, 20369.8, 20681.75, 20993.7, 21305.65, 21617.6, 21929.55, 22241.5, 22553.45, 22865.4, 23177.35, 23489.3, 23801.25, 24113.2, 24425.15, 24737.1, 25049.05, 25361.0, 25672.95, 25984.9, 26296.85, 26608.8, 26920.75, 27232.7, 27544.65, 27856.6, 28168.55, 28480.5, 28792.45, 29104.4, 29416.35, 29728.3, 30040.25, 30352.2, 30664.15, 30976.1, 31288.05, 31600.0, 31911.95, 32223.9, 32535.85, 32847.8, 33159.75, 33471.7, 33783.65, 34095.6, 34407.55, 34719.5, 35031.45, 35343.4, 35655.35, 35967.3, 36279.25, 36591.2, 36903.15, 37215.1, 37527.05, 37839.0, 38150.95, 38462.9, 38774.85, 39086.8, 39398.75, 39710.7, 40022.65, 40334.6, 40646.55, 40958.5, 41270.45, 41582.4, 41894.35, 42206.3, 42518.25, 42830.2, 43142.15, 43454.1, 43766.05, 44078.0, 44389.95, 44701.9, 45013.85, 45325.8, 45637.75, 45949.7, 46261.65, 46573.6, 46885.55, 47197.5, 47509.45, 47821.4, 48133.35, 48445.3, 48757.25, 49069.2, 49381.15, 49693.1, 50005.05, 50317.0, 50628.95, 50940.9, 51252.85, 51564.8, 51876.75, 52188.7, 52500.65, 52812.6, 53124.55, 53436.5, 53748.45, 54060.4, 54372.35, 54684.3, 54996.25, 55308.2, 55620.15, 55932.1, 56244.05, 56556.0, 56867.95, 57179.9, 57491.85, 57803.8, 58115.75, 58427.7, 58739.65, 59051.6, 59363.55, 59675.5, 59987.45, 60299.4, 60611.35, 60923.3, 61235.25, 61547.2, 61859.15, 62171.1, 62483.05, 62795.0, 63106.95, 63418.9, 63730.85, 64042.8, 64354.75, 64666.7, 64978.65, 65290.6, 65602.55, 65914.5, 66226.45, 66538.4, 66850.35, 67162.3, 67474.25, 67786.2, 68098.15, 68410.1, 68722.05, 69034.0, 69345.95, 69657.9, 69969.85, 70281.8, 70593.75, 70905.7, 71217.65, 71529.6, 71841.55, 72153.5, 72465.45, 72777.4, 73089.35, 73401.3, 73713.25, 74025.2, 74337.15, 74649.1, 74961.05, 75273.0, 75584.95, 75896.9, 76208.85, 76520.8, 76832.75, 77144.7, 77456.65, 77768.6, 78080.55, 78392.5, 78704.45, 79016.4, 79328.35, 79640.3, 79952.25, 80264.2, 80576.15, 80888.1, 81200.05, 81512.0, 81823.95, 82135.9, 82447.85, 82759.8, 83071.75, 83383.7, 83695.65, 84007.6, 84319.55, 84631.5, 84943.45, 85255.4, 85567.35, 85879.3, 86191.25, 86503.2, 86815.15, 87127.1, 87439.05, 87751.0, 88062.95, 88374.9, 88686.85, 88998.8, 89310.75, 89622.7, 89934.65, 90246.6, 90558.55, 90870.5, 91182.45, 91494.4, 91806.35, 92118.3, 92430.25, 92742.2, 93054.15, 93366.1, 93678.05, 93990.0, 94301.95, 94613.9, 94925.85, 95237.8, 95549.75, 95861.7, 96173.65, 96485.6, 96797.55, 97109.5, 97421.45, 97733.4, 98045.35, 98357.3, 98669.25, 98981.2, 99293.15, 99605.1, 99917.05, 100229.0, 100540.95, 100852.9, 101164.85, 101476.8, 101788.75, 102100.7, 102412.65, 102724.6, 103036.55, 103348.5, 103660.45, 103972.4, 104284.35, 104596.3, 104908.25, 105220.2, 105532.15, 105844.1, 106156.05, 106468.0, 106779.95, 107091.9, 107403.85, 107715.8, 108027.75, 108339.7, 108651.65, 108963.6, 109275.55, 109587.5, 109899.45, 110211.4, 110523.35, 110835.3, 111147.25, 111459.2, 111771.15, 112083.1, 112395.05, 112707.0, 113018.95, 113330.9, 113642.85, 113954.8, 114266.75, 114578.7, 114890.65, 115202.6, 115514.55, 115826.5, 116138.45, 116450.4, 116762.35, 117074.3, 117386.25, 117698.2, 118010.15, 118322.1, 118634.05, 118946.0, 119257.95, 119569.9, 119881.85, 120193.8, 120505.75, 120817.7, 121129.65, 121441.6, 121753.55, 122065.5, 122377.45, 122689.4, 123001.35, 123313.3, 123625.25, 123937.2, 124249.15, 124561.1, 124873.05, 125185.0, 125496.95, 125808.9, 126120.85, 126432.8, 126744.75, 127056.7, 127368.65, 127680.6, 127992.55, 128304.5, 128616.45, 128928.4, 129240.35, 129552.3, 129864.25, 130176.2, 130488.15, 130800.1, 131112.05, 131424.0, 131735.95, 132047.9, 132359.85, 132671.8, 132983.75, 133295.7, 133607.65, 133919.6, 134231.55, 134543.5, 134855.45, 135167.4, 135479.35, 135791.3, 136103.25, 136415.2, 136727.15, 137039.1, 137351.05, 137663.0, 137974.95, 138286.9, 138598.85, 138910.8, 139222.75, 139534.7, 139846.65, 140158.6, 140470.55, 140782.5, 141094.45, 141406.4, 141718.35, 142030.3, 142342.25, 142654.2, 142966.15, 143278.1, 143590.05, 143902.0, 144213.95, 144525.9, 144837.85, 145149.8, 145461.75, 145773.7, 146085.65, 146397.6, 146709.55, 147021.5, 147333.45, 147645.4, 147957.35, 148269.3, 148581.25, 148893.2, 149205.15, 149517.1, 149829.05, 150141.0, 150452.95, 150764.9, 151076.85, 151388.8, 151700.75, 152012.7, 152324.65, 152636.6, 152948.55, 153260.5, 153572.45, 153884.4, 154196.35, 154508.3, 154820.25, 155132.2, 155444.15, 155756.1, 156068.05], \"xaxis\": \"x\", \"y\": [1.0608279086844505e-05, 1.0672429323174588e-05, 1.0735304259623928e-05, 1.0796879918404835e-05, 1.0857132874493019e-05, 1.0916040272322629e-05, 1.0973579842048741e-05, 1.102972991536037e-05, 1.1084469440827725e-05, 1.1137777998767921e-05, 1.1189635815613933e-05, 1.124002377777212e-05, 1.1288923444954314e-05, 1.1336317062970986e-05, 1.138218757597275e-05, 1.1426518638127994e-05, 1.146929462472523e-05, 1.1510500642689311e-05, 1.155012254050142e-05, 1.158814691751349e-05, 1.1624561132648336e-05, 1.1659353312477529e-05, 1.1692512358669925e-05, 1.1724027954804268e-05, 1.1753890572540274e-05, 1.1782091477143194e-05, 1.1808622732357708e-05, 1.1833477204627771e-05, 1.185664856665977e-05, 1.1878131300327102e-05, 1.1897920698915155e-05, 1.1916012868706315e-05, 1.1932404729905508e-05, 1.194709401690743e-05, 1.196007927790755e-05, 1.1971359873859478e-05, 1.1980935976782274e-05, 1.1988808567421933e-05, 1.1994979432271856e-05, 1.199945115995813e-05, 1.2002227136995884e-05, 1.2003311542923766e-05, 1.200270934482441e-05, 1.200042629123908e-05, 1.1996468905485817e-05, 1.1990844478390504e-05, 1.1983561060441381e-05, 1.1974627453377727e-05, 1.1964053201224345e-05, 1.1951848580783762e-05, 1.1938024591598831e-05, 1.1922592945398729e-05, 1.1905566055042002e-05, 1.188695702297077e-05, 1.1866779629190463e-05, 1.1845048318790186e-05, 1.1821778189018979e-05, 1.179698497593371e-05, 1.1770685040634696e-05, 1.1742895355105487e-05, 1.1713633487673445e-05, 1.1682917588108265e-05, 1.1650766372375527e-05, 1.1617199107062856e-05, 1.1582235593496389e-05, 1.154589615156533e-05, 1.1508201603272683e-05, 1.1469173256030216e-05, 1.1428832885716016e-05, 1.138720271951281e-05, 1.1344305418545518e-05, 1.1300164060336344e-05, 1.1254802121095862e-05, 1.1208243457868384e-05, 1.116051229054998e-05, 1.1111633183797341e-05, 1.106163102884564e-05, 1.1010531025253422e-05, 1.0958358662592379e-05, 1.0905139702099733e-05, 1.0850900158310778e-05, 1.079566628068883e-05, 1.0739464535269809e-05, 1.0682321586338178e-05, 1.062426427815089e-05, 1.0565319616725667e-05, 1.0505514751709563e-05, 1.0444876958343561e-05, 1.038343361953851e-05, 1.0321212208077463e-05, 1.0258240268959045e-05, 1.0194545401896117e-05, 1.0130155243983678e-05, 1.0065097452549403e-05, 9.999399688200046e-06, 9.933089598076198e-06, 9.866194799327773e-06, 9.798742862821936e-06, 9.730761297094887e-06, 9.662277532558309e-06, 9.59331890597102e-06, 9.523912645185741e-06, 9.454085854180496e-06, 9.383865498383711e-06, 9.313278390301536e-06, 9.242351175455524e-06, 9.171110318638206e-06, 9.099582090493811e-06, 9.027792554430625e-06, 8.955767553871378e-06, 8.88353269984715e-06, 8.811113358940196e-06, 8.738534641580406e-06, 8.665821390699658e-06, 8.592998170748e-06, 8.520089257074996e-06, 8.447118625679172e-06, 8.374109943328138e-06, 8.301086558051366e-06, 8.228071490007304e-06, 8.155087422726102e-06, 8.082156694728651e-06, 8.009301291522437e-06, 7.936542837974217e-06, 7.863902591059064e-06, 7.791401432985196e-06, 7.71905986469333e-06, 7.646897999729208e-06, 7.574935558487481e-06, 7.503191862824786e-06, 7.43168583103965e-06, 7.360435973216345e-06, 7.2894603869298214e-06, 7.2187767533082235e-06, 7.148402333449474e-06, 7.078353965188077e-06, 7.0086480602079554e-06, 6.9393006014970565e-06, 6.8703271411391076e-06, 6.801742798437779e-06, 6.733562258368227e-06, 6.665799770350881e-06, 6.598469147342145e-06, 6.53158376523646e-06, 6.4651565625741114e-06, 6.3992000405489364e-06, 6.333726263310047e-06, 6.26874685855147e-06, 6.2042730183835765e-06, 6.140315500480026e-06, 6.076884629493881e-06, 6.01399029873648e-06, 5.951641972112558e-06, 5.8898486863050984e-06, 5.828619053203266e-06, 5.767961262566836e-06, 5.707883084920428e-06, 5.648391874670837e-06, 5.589494573440788e-06, 5.531197713612351e-06, 5.473507422073369e-06, 5.416429424160111e-06, 5.359969047789516e-06, 5.304131227774333e-06, 5.248920510314482e-06, 5.194341057658073e-06, 5.140396652925436e-06, 5.087090705089669e-06, 5.034426254107202e-06, 4.982405976191892e-06, 4.931032189226341e-06, 4.880306858303986e-06, 4.830231601395847e-06, 4.780807695135563e-06, 4.732036080716696e-06, 4.683917369896184e-06, 4.636451851097941e-06, 4.589639495610725e-06, 4.543479963874343e-06, 4.497972611848533e-06, 4.453116497458716e-06, 4.408910387113092e-06, 4.365352762285499e-06, 4.322441826158588e-06, 4.2801755103219526e-06, 4.2385514815199165e-06, 4.1975671484437564e-06, 4.157219668563241e-06, 4.117505954992449e-06, 4.078422683384855e-06, 4.039966298852856e-06, 4.002133022906858e-06, 3.9649188604092695e-06, 3.928319606538663e-06, 3.892330853759628e-06, 3.8569479987937115e-06, 3.822166249587113e-06, 3.787980632270731e-06, 3.754385998108319e-06, 3.721377030428514e-06, 3.6889482515366616e-06, 3.6570940296023285e-06, 3.625808585518554e-06, 3.595085999728903e-06, 3.5649202190184926e-06, 3.535305063265195e-06, 3.506234232147332e-06, 3.4777013118041845e-06, 3.449699781445792e-06, 3.4222230199084824e-06, 3.3952643121527307e-06, 3.368816855699957e-06, 3.342873767004947e-06, 3.3174280877606865e-06, 3.292472791132383e-06, 3.2680007879176284e-06, 3.244004932629611e-06, 3.2204780295004298e-06, 3.1974128384015943e-06, 3.174802080678906e-06, 3.1526384448988834e-06, 3.13091459250413e-06, 3.1096231633749316e-06, 3.0887567812946017e-06, 3.0683080593160424e-06, 3.0482696050271502e-06, 3.0286340257127293e-06, 3.0093939334106533e-06, 2.9905419498601247e-06, 2.972070711339917e-06, 2.953972873394613e-06, 2.9362411154468917e-06, 2.9188681452940374e-06, 2.901846703486931e-06, 2.8851695675898303e-06, 2.868829556319378e-06, 2.852819533561364e-06, 2.8371324122638586e-06, 2.8217611582053997e-06, 2.8066987936370653e-06, 2.791938400797329e-06, 2.777473125298701e-06, 2.763296179385273e-06, 2.749400845060376e-06, 2.7357804770836737e-06, 2.7224285058371057e-06, 2.7093384400592438e-06, 2.6965038694476835e-06, 2.683918467129235e-06, 2.671575991997795e-06, 2.6594702909198716e-06, 2.647595300807851e-06, 2.635945050561263e-06, 2.624513662876309e-06, 2.6132953559241615e-06, 2.602284444898557e-06, 2.5914753434333794e-06, 2.5808625648910243e-06, 2.570440723522469e-06, 2.560204535500053e-06, 2.550148819824148e-06, 2.5402684991049536e-06, 2.5305586002208026e-06, 2.5210142548544774e-06, 2.511630699909115e-06, 2.502403277805434e-06, 2.4933274366621103e-06, 2.484398730361202e-06, 2.4756128185006936e-06, 2.466965466236278e-06, 2.458452544014633e-06, 2.4500700272005006e-06, 2.4418139956000493e-06, 2.43368063288301e-06, 2.4256662259062208e-06, 2.4177671639412865e-06, 2.409979937809124e-06, 2.4023011389242933e-06, 2.3947274582520186e-06, 2.3872556851809475e-06, 2.3798827063147198e-06, 2.372605504185477e-06, 2.3654211558925563e-06, 2.3583268316695956e-06, 2.3513197933833662e-06, 2.34439739296772e-06, 2.337557070796005e-06, 2.330796353995419e-06, 2.3241128547067505e-06, 2.3175042682929875e-06, 2.3109683715003272e-06, 2.3045030205751062e-06, 2.298106149340165e-06, 2.2917757672342293e-06, 2.2855099573178165e-06, 2.2793068742492167e-06, 2.273164742234066e-06, 2.2670818529520452e-06, 2.2610565634641473e-06, 2.2550872941040276e-06, 2.24917252635682e-06, 2.243310800728838e-06, 2.237500714611514e-06, 2.2317409201428576e-06, 2.2260301220697156e-06, 2.2203670756140007e-06, 2.2147505843460526e-06, 2.209179498068168e-06, 2.20365271071134e-06, 2.1981691582480956e-06, 2.192727816624291e-06, 2.187327699712641e-06, 2.181967857290643e-06, 2.1766473730454986e-06, 2.171365362608514e-06, 2.1661209716213985e-06, 2.16091337383674e-06, 2.1557417692548724e-06, 2.1506053822992165e-06, 2.1455034600320868e-06, 2.140435270412838e-06, 2.1354001006001168e-06, 2.1303972552998715e-06, 2.1254260551606595e-06, 2.12048583521766e-06, 2.115575943386724e-06, 2.110695739009621e-06, 2.1058445914515625e-06, 2.1010218787519635e-06, 2.096226986329246e-06, 2.0914593057404363e-06, 2.0867182334961024e-06, 2.082003169931166e-06, 2.0773135181318967e-06, 2.0726486829193755e-06, 2.068008069889534e-06, 2.0633910845097985e-06, 2.058797131272248e-06, 2.054225612903087e-06, 2.049675929628117e-06, 2.0451474784938123e-06, 2.0406396527434686e-06, 2.036151841247826e-06, 2.031683427989462e-06, 2.0272337916001374e-06, 2.0228023049502306e-06, 2.018388334789255e-06, 2.0139912414364363e-06, 2.009610378520184e-06, 2.0052450927652604e-06, 2.0008947238263672e-06, 1.9965586041667904e-06, 1.9922360589807086e-06, 1.9879264061576747e-06, 1.9836289562877714e-06, 1.9793430127058487e-06, 1.975067871573241e-06, 1.9708028219952923e-06, 1.9665471461730063e-06, 1.962300119587104e-06, 1.958061011212704e-06, 1.953829083762901e-06, 1.9496035939594145e-06, 1.9453837928285144e-06, 1.9411689260204214e-06, 1.936958234150357e-06, 1.932750953159425e-06, 1.928546314693533e-06, 1.924343546498527e-06, 1.9201418728297805e-06, 1.9159405148744484e-06, 1.911738691184646e-06, 1.9075356181198405e-06, 1.9033305102967474e-06, 1.8991225810450927e-06, 1.8949110428675977e-06, 1.890695107902635e-06, 1.8864739883879893e-06, 1.8822468971242575e-06, 1.87801304793643e-06, 1.8737716561322772e-06, 1.8695219389562138e-06, 1.8652631160373425e-06, 1.8609944098304974e-06, 1.856715046049108e-06, 1.8524242540888096e-06, 1.8481212674407723e-06, 1.8438053240937963e-06, 1.8394756669242925e-06, 1.8351315440733218e-06, 1.830772209309955e-06, 1.8263969223802831e-06, 1.8220049493414605e-06, 1.8175955628802707e-06, 1.8131680426157537e-06, 1.8087216753854888e-06, 1.8042557555152596e-06, 1.7997695850718223e-06, 1.7952624740986393e-06, 1.7907337408344529e-06, 1.786182711914694e-06, 1.7816087225557452e-06, 1.777011116722176e-06, 1.7723892472771174e-06, 1.7677424761160075e-06, 1.7630701742840158e-06, 1.7583717220774869e-06, 1.7536465091298341e-06, 1.7488939344823396e-06, 1.744113406640398e-06, 1.7393043436157597e-06, 1.7344661729554186e-06, 1.7295983317577876e-06, 1.724700266676892e-06, 1.7197714339153128e-06, 1.7148112992066783e-06, 1.7098193377885206e-06, 1.7047950343663428e-06, 1.6997378830697672e-06, 1.6946473874016885e-06, 1.6895230601813242e-06, 1.6843644234821192e-06, 1.6791710085654506e-06, 1.673942355811093e-06, 1.6686780146454218e-06, 1.6633775434683156e-06, 1.6580405095797497e-06, 1.652666489107029e-06, 1.6472550669336465e-06, 1.6418058366307146e-06, 1.6363184003919056e-06, 1.6307923689728444e-06, 1.6252273616358498e-06, 1.6196230061009108e-06, 1.6139789385037766e-06, 1.608294803361974e-06, 1.6025702535495697e-06, 1.5968049502814518e-06, 1.5909985631078513e-06, 1.5851507699198292e-06, 1.5792612569663544e-06, 1.5733297188836242e-06, 1.567355858737171e-06, 1.5613393880772961e-06, 1.5552800270083113e-06, 1.549177504272005e-06, 1.5430315573457227e-06, 1.5368419325553801e-06, 1.5306083852036848e-06, 1.5243306797137862e-06, 1.5180085897885051e-06, 1.5116418985852631e-06, 1.5052303989067585e-06, 1.4987738934073678e-06, 1.492272194815234e-06, 1.4857251261698885e-06, 1.4791325210752649e-06, 1.4724942239678323e-06, 1.465810090399579e-06, 1.4590799873354988e-06, 1.4523037934651606e-06, 1.4454813995279261e-06, 1.4386127086512858e-06, 1.4316976367017582e-06, 1.424736112647749e-06, 1.417728078933685e-06, 1.4106734918647416e-06, 1.403572322001376e-06, 1.3964245545628924e-06, 1.389230189839181e-06, 1.3819892436097552e-06, 1.374701747569157e-06, 1.3673677497577932e-06, 1.3599873149971776e-06, 1.3525605253286063e-06, 1.3450874804541659e-06, 1.33756829817904e-06, 1.330003114853988e-06, 1.3223920858168945e-06, 1.314735385832242e-06, 1.3070332095273606e-06, 1.2992857718242905e-06, 1.2914933083660848e-06, 1.2836560759363675e-06, 1.2757743528709797e-06, 1.267848439460512e-06, 1.2598786583425624e-06, 1.2518653548825322e-06, 1.2438088975417939e-06, 1.2357096782320955e-06, 1.2275681126550316e-06, 1.2193846406254848e-06, 1.2111597263779183e-06, 1.202893858854447e-06, 1.1945875519736254e-06, 1.1862413448789346e-06, 1.1778558021659606e-06, 1.1694315140873083e-06, 1.1609690967343127e-06, 1.1524691921946774e-06], \"yaxis\": \"y\"}, {\"legendgroup\": \"2017\", \"marker\": {\"color\": \"rgb(140, 86, 75)\"}, \"mode\": \"lines\", \"name\": \"2017\", \"showlegend\": true, \"type\": \"scatter\", \"x\": [401.0, 718.2180000000001, 1035.4360000000001, 1352.654, 1669.872, 1987.09, 2304.308, 2621.526, 2938.744, 3255.962, 3573.18, 3890.398, 4207.616, 4524.834, 4842.052, 5159.27, 5476.488, 5793.706, 6110.924, 6428.142, 6745.36, 7062.578, 7379.796, 7697.014, 8014.232, 8331.45, 8648.668, 8965.886, 9283.104, 9600.322, 9917.54, 10234.758, 10551.976, 10869.194, 11186.412, 11503.63, 11820.848, 12138.066, 12455.284, 12772.502, 13089.72, 13406.938, 13724.156, 14041.374, 14358.592, 14675.81, 14993.028, 15310.246, 15627.464, 15944.682, 16261.9, 16579.118000000002, 16896.336, 17213.554, 17530.772, 17847.99, 18165.208, 18482.426, 18799.644, 19116.862, 19434.08, 19751.298, 20068.516, 20385.734, 20702.952, 21020.17, 21337.388, 21654.606, 21971.824, 22289.042, 22606.26, 22923.478, 23240.696, 23557.914, 23875.132, 24192.35, 24509.568, 24826.786, 25144.004, 25461.222, 25778.44, 26095.658, 26412.876, 26730.094, 27047.312, 27364.53, 27681.748, 27998.966, 28316.184, 28633.402, 28950.62, 29267.838, 29585.056, 29902.274, 30219.492, 30536.71, 30853.928, 31171.146, 31488.364, 31805.582, 32122.8, 32440.018, 32757.236, 33074.454, 33391.672, 33708.89, 34026.108, 34343.326, 34660.544, 34977.762, 35294.98, 35612.198, 35929.416, 36246.634, 36563.852, 36881.07, 37198.288, 37515.506, 37832.724, 38149.942, 38467.16, 38784.378, 39101.596, 39418.814, 39736.032, 40053.25, 40370.468, 40687.686, 41004.904, 41322.122, 41639.34, 41956.558, 42273.776, 42590.994, 42908.212, 43225.43, 43542.648, 43859.866, 44177.084, 44494.302, 44811.52, 45128.738, 45445.956, 45763.174, 46080.392, 46397.61, 46714.828, 47032.046, 47349.264, 47666.482, 47983.7, 48300.918, 48618.136, 48935.354, 49252.572, 49569.79, 49887.008, 50204.226, 50521.444, 50838.662, 51155.88, 51473.098, 51790.316, 52107.534, 52424.752, 52741.97, 53059.188, 53376.406, 53693.624, 54010.842, 54328.06, 54645.278, 54962.496, 55279.714, 55596.932, 55914.15, 56231.368, 56548.586, 56865.804, 57183.022, 57500.24, 57817.458, 58134.676, 58451.894, 58769.112, 59086.33, 59403.548, 59720.766, 60037.984, 60355.202, 60672.42, 60989.638, 61306.856, 61624.074, 61941.292, 62258.51, 62575.728, 62892.946, 63210.164, 63527.382, 63844.6, 64161.818, 64479.036, 64796.254, 65113.472, 65430.69, 65747.908, 66065.126, 66382.344, 66699.562, 67016.78, 67333.998, 67651.216, 67968.434, 68285.652, 68602.87, 68920.088, 69237.306, 69554.524, 69871.742, 70188.96, 70506.178, 70823.396, 71140.614, 71457.832, 71775.05, 72092.268, 72409.486, 72726.704, 73043.922, 73361.14, 73678.358, 73995.576, 74312.794, 74630.012, 74947.23, 75264.448, 75581.666, 75898.884, 76216.102, 76533.32, 76850.538, 77167.756, 77484.974, 77802.192, 78119.41, 78436.628, 78753.846, 79071.064, 79388.282, 79705.5, 80022.718, 80339.936, 80657.154, 80974.372, 81291.59, 81608.808, 81926.026, 82243.244, 82560.462, 82877.68, 83194.898, 83512.116, 83829.334, 84146.552, 84463.77, 84780.988, 85098.206, 85415.424, 85732.642, 86049.86, 86367.078, 86684.296, 87001.514, 87318.732, 87635.95, 87953.168, 88270.386, 88587.604, 88904.822, 89222.04, 89539.258, 89856.476, 90173.694, 90490.912, 90808.13, 91125.348, 91442.566, 91759.784, 92077.002, 92394.22, 92711.438, 93028.656, 93345.874, 93663.092, 93980.31, 94297.528, 94614.746, 94931.964, 95249.182, 95566.4, 95883.618, 96200.836, 96518.054, 96835.272, 97152.49, 97469.708, 97786.926, 98104.144, 98421.362, 98738.58, 99055.798, 99373.016, 99690.234, 100007.452, 100324.67, 100641.888, 100959.106, 101276.324, 101593.542, 101910.76, 102227.978, 102545.196, 102862.414, 103179.632, 103496.85, 103814.068, 104131.286, 104448.504, 104765.722, 105082.94, 105400.158, 105717.376, 106034.594, 106351.812, 106669.03, 106986.248, 107303.466, 107620.684, 107937.902, 108255.12, 108572.338, 108889.556, 109206.774, 109523.992, 109841.21, 110158.428, 110475.646, 110792.864, 111110.082, 111427.3, 111744.518, 112061.736, 112378.954, 112696.172, 113013.39, 113330.608, 113647.826, 113965.044, 114282.262, 114599.48, 114916.698, 115233.916, 115551.134, 115868.352, 116185.57, 116502.788, 116820.006, 117137.224, 117454.442, 117771.66, 118088.878, 118406.096, 118723.314, 119040.532, 119357.75, 119674.968, 119992.186, 120309.404, 120626.622, 120943.84, 121261.058, 121578.276, 121895.494, 122212.712, 122529.93, 122847.148, 123164.366, 123481.584, 123798.802, 124116.02, 124433.238, 124750.456, 125067.674, 125384.892, 125702.11, 126019.328, 126336.546, 126653.764, 126970.982, 127288.2, 127605.418, 127922.636, 128239.854, 128557.072, 128874.29, 129191.508, 129508.726, 129825.944, 130143.162, 130460.38, 130777.598, 131094.816, 131412.03399999999, 131729.252, 132046.47, 132363.688, 132680.906, 132998.124, 133315.342, 133632.56, 133949.778, 134266.996, 134584.214, 134901.432, 135218.65, 135535.868, 135853.086, 136170.304, 136487.522, 136804.74, 137121.958, 137439.176, 137756.394, 138073.612, 138390.83, 138708.048, 139025.266, 139342.484, 139659.702, 139976.92, 140294.138, 140611.356, 140928.574, 141245.792, 141563.01, 141880.228, 142197.446, 142514.664, 142831.882, 143149.1, 143466.318, 143783.536, 144100.754, 144417.972, 144735.19, 145052.408, 145369.626, 145686.844, 146004.062, 146321.28, 146638.498, 146955.716, 147272.934, 147590.152, 147907.37, 148224.588, 148541.806, 148859.024, 149176.242, 149493.46, 149810.678, 150127.896, 150445.114, 150762.332, 151079.55, 151396.768, 151713.986, 152031.204, 152348.422, 152665.64, 152982.858, 153300.076, 153617.294, 153934.512, 154251.73, 154568.948, 154886.166, 155203.384, 155520.602, 155837.82, 156155.038, 156472.256, 156789.474, 157106.692, 157423.91, 157741.128, 158058.346, 158375.564, 158692.782], \"xaxis\": \"x\", \"y\": [1.0513562071687556e-05, 1.057697030557041e-05, 1.0639094716473359e-05, 1.0699911326570574e-05, 1.0759396723183091e-05, 1.0817528075729242e-05, 1.08742831522286e-05, 1.0929640335342079e-05, 1.098357863793145e-05, 1.1036077718122005e-05, 1.1087117893852696e-05, 1.1136680156898735e-05, 1.1184746186352182e-05, 1.1231298361546706e-05, 1.1276319774413415e-05, 1.1319794241255278e-05, 1.1361706313928318e-05, 1.1402041290418577e-05, 1.1440785224804485e-05, 1.1477924936594987e-05, 1.1513448019434609e-05, 1.1547342849167328e-05, 1.1579598591251975e-05, 1.1610205207522496e-05, 1.1639153462287388e-05, 1.1666434927763329e-05, 1.169204198883871e-05, 1.1715967847163787e-05, 1.1738206524564794e-05, 1.1758752865780226e-05, 1.177760254051833e-05, 1.1794752044835564e-05, 1.1810198701836654e-05, 1.1823940661697642e-05, 1.1835976901014088e-05, 1.1846307221477377e-05, 1.185493224788292e-05, 1.1861853425474664e-05, 1.1867073016631209e-05, 1.1870594096899539e-05, 1.1872420550383035e-05, 1.18725570644913e-05, 1.1871009124059813e-05, 1.1867783004848386e-05, 1.1862885766427812e-05, 1.1856325244464968e-05, 1.1848110042417047e-05, 1.1838249522646483e-05, 1.1826753796968414e-05, 1.1813633716643448e-05, 1.1798900861828722e-05, 1.1782567530501022e-05, 1.1764646726866163e-05, 1.1745152149269266e-05, 1.1724098177621077e-05, 1.170149986035594e-05, 1.1677372900937473e-05, 1.1651733643928173e-05, 1.1624599060639933e-05, 1.159598673438236e-05, 1.1565914845326439e-05, 1.1534402155001173e-05, 1.1501467990441186e-05, 1.1467132228003426e-05, 1.143141527687143e-05, 1.1394338062265672e-05, 1.135592200837873e-05, 1.131618902105416e-05, 1.1275161470227947e-05, 1.1232862172151647e-05, 1.1189314371416256e-05, 1.1144541722795837e-05, 1.1098568272930104e-05, 1.1051418441864928e-05, 1.1003117004469786e-05, 1.0953689071751087e-05, 1.090316007208021e-05, 1.0851555732354864e-05, 1.0798902059112376e-05, 1.0745225319613254e-05, 1.0690552022913164e-05, 1.0634908900941298e-05, 1.0578322889602814e-05, 1.0520821109922855e-05, 1.0462430849249226e-05, 1.0403179542530715e-05, 1.0343094753687541e-05, 1.0282204157090213e-05, 1.0220535519162643e-05, 1.0158116680125072e-05, 1.0094975535891929e-05, 1.0031140020139402e-05, 9.966638086557041e-06, 9.901497691297334e-06, 9.835746775636774e-06, 9.769413248861475e-06, 9.702524971389933e-06, 9.63510973814512e-06, 9.567195262187604e-06, 9.498809158620917e-06, 9.429978928779873e-06, 9.360731944712192e-06, 9.291095433963112e-06, 9.221096464672346e-06, 9.150761930992119e-06, 9.080118538834608e-06, 9.009192791956615e-06, 8.938010978388713e-06, 8.866599157215703e-06, 8.79498314571471e-06, 8.723188506856715e-06, 8.65124053717686e-06, 8.579164255018333e-06, 8.506984389154283e-06, 8.434725367791503e-06, 8.362411307959473e-06, 8.290066005287492e-06, 8.217712924172594e-06, 8.145375188340081e-06, 8.073075571798436e-06, 8.000836490189601e-06, 7.928679992535466e-06, 7.856627753380793e-06, 7.784701065332496e-06, 7.71292083199474e-06, 7.641307561298998e-06, 7.569881359227756e-06, 7.4986619239302285e-06, 7.42766854022809e-06, 7.356920074508838e-06, 7.2864349700041604e-06, 7.216231242450266e-06, 7.146326476126845e-06, 7.076737820271094e-06, 7.00748198586286e-06, 6.938575242776778e-06, 6.87003341729691e-06, 6.801871889989251e-06, 6.734105593927141e-06, 6.666749013264502e-06, 6.599816182151447e-06, 6.533320683986779e-06, 6.4672756510016345e-06, 6.401693764168292e-06, 6.336587253428112e-06, 6.271967898232351e-06, 6.207847028389481e-06, 6.144235525212474e-06, 6.0811438229594775e-06, 6.018581910561088e-06, 5.956559333627397e-06, 5.89508519672797e-06, 5.834168165937605e-06, 5.773816471640969e-06, 5.7140379115888825e-06, 5.6548398541990904e-06, 5.59622924209438e-06, 5.5382125958707006e-06, 5.480796018088116e-06, 5.423985197477217e-06, 5.3677854133537904e-06, 5.31220154023441e-06, 5.257238052645647e-06, 5.2028990301197136e-06, 5.149188162369192e-06, 5.096108754633725e-06, 5.043663733191375e-06, 4.991855651027599e-06, 4.94068669365466e-06, 4.89015868507444e-06, 4.840273093877632e-06, 4.791031039472349e-06, 4.7424332984352724e-06, 4.6944803109784675e-06, 4.647172187525123e-06, 4.600508715387514e-06, 4.554489365540519e-06, 4.509113299484189e-06, 4.464379376188845e-06, 4.4202861591163215e-06, 4.376831923311023e-06, 4.334014662554555e-06, 4.2918320965777846e-06, 4.250281678324218e-06, 4.20936060125876e-06, 4.169065806715896e-06, 4.129393991281523e-06, 4.09034161420268e-06, 4.051904904819529e-06, 4.014079870014054e-06, 3.976862301669995e-06, 3.940247784138652e-06, 3.9042317017052595e-06, 3.86880924605075e-06, 3.8339754237037696e-06, 3.7997250634779487e-06, 3.7660528238894938e-06, 3.7329532005502256e-06, 3.7004205335313616e-06, 3.6684490146933096e-06, 3.6370326949769537e-06, 3.606165491651911e-06, 3.5758411955173476e-06, 3.5460534780510717e-06, 3.5167958985026417e-06, 3.4880619109263807e-06, 3.4598448711502303e-06, 3.4321380436764805e-06, 3.4049346085105275e-06, 3.3782276679138276e-06, 3.352010253077423e-06, 3.3262753307123584e-06, 3.3010158095535376e-06, 3.27622454677356e-06, 3.251894354303213e-06, 3.2280180050554055e-06, 3.2045882390493443e-06, 3.181597769431964e-06, 3.159039288393602e-06, 3.136905472975086e-06, 3.115188990763457e-06, 3.0938825054736745e-06, 3.0729786824137045e-06, 3.0524701938305766e-06, 3.032349724134998e-06, 3.0126099750022748e-06, 2.9932436703474044e-06, 2.9742435611722626e-06, 2.955602430282944e-06, 2.9373130968754377e-06, 2.9193684209878994e-06, 2.9017613078178987e-06, 2.884484711903162e-06, 2.8675316411644074e-06, 2.8508951608090104e-06, 2.8345683970943416e-06, 2.818544540949749e-06, 2.8028168514562627e-06, 2.787378659183238e-06, 2.7722233693812625e-06, 2.757344465030761e-06, 2.742735509745929e-06, 2.728390150533623e-06, 2.7143021204071104e-06, 2.7004652408545774e-06, 2.6868734241625145e-06, 2.6735206755941814e-06, 2.6604010954234777e-06, 2.647508880824736e-06, 2.6348383276189566e-06, 2.622383831877301e-06, 2.6101398913826397e-06, 2.5981011069501543e-06, 2.5862621836081305e-06, 2.574617931640141e-06, 2.5631632674900273e-06, 2.55189321453114e-06, 2.5408029037014732e-06, 2.5298875740064304e-06, 2.519142572891064e-06, 2.5085633564838016e-06, 2.4981454897137244e-06, 2.487884646303627e-06, 2.4777766086411786e-06, 2.4678172675306284e-06, 2.458002621827594e-06, 2.4483287779595736e-06, 2.4387919493349462e-06, 2.4293884556433047e-06, 2.4201147220500607e-06, 2.410967278288346e-06, 2.4019427576513775e-06, 2.3930378958884115e-06, 2.3842495300076714e-06, 2.3755745969895157e-06, 2.3670101324133456e-06, 2.3585532690017105e-06, 2.350201235085186e-06, 2.3419513529916273e-06, 2.333801037363487e-06, 2.3257477934068766e-06, 2.3177892150761495e-06, 2.3099229831977934e-06, 2.3021468635374308e-06, 2.2944587048138076e-06, 2.286856436663594e-06, 2.279338067560916e-06, 2.271901682695465e-06, 2.264545441813114e-06, 2.2572675770228923e-06, 2.250066390574215e-06, 2.2429402526082447e-06, 2.2358875988871808e-06, 2.2289069285053654e-06, 2.2219968015859204e-06, 2.215155836966724e-06, 2.208382709879405e-06, 2.2016761496250263e-06, 2.1950349372500604e-06, 2.1884579032262206e-06, 2.1819439251376143e-06, 2.1754919253786724e-06, 2.1691008688661504e-06, 2.1627697607685353e-06, 2.156497644255982e-06, 2.1502835982739266e-06, 2.1441267353433635e-06, 2.138026199390707e-06, 2.1319811636100548e-06, 2.12599082836056e-06, 2.120054419101538e-06, 2.1141711843677767e-06, 2.108340393787469e-06, 2.1025613361450137e-06, 2.0968333174908493e-06, 2.091155659300355e-06, 2.0855276966837172e-06, 2.07994877664857e-06, 2.0744182564170453e-06, 2.068935501798784e-06, 2.0634998856213035e-06, 2.058110786219002e-06, 2.052767585981936e-06, 2.047469669965404e-06, 2.0422164245611923e-06, 2.0370072362312698e-06, 2.0318414903045208e-06, 2.026718569837039e-06, 2.0216378545363304e-06, 2.0165987197496665e-06, 2.0116005355167014e-06, 2.0066426656863343e-06, 2.0017244670976927e-06, 1.9968452888249614e-06, 1.9920044714856946e-06, 1.9872013466121166e-06, 1.982435236084809e-06, 1.9777054516280547e-06, 1.973011294366042e-06, 1.9683520544389736e-06, 1.963727010678076e-06, 1.959135430338372e-06, 1.954576568888007e-06, 1.950049669852818e-06, 1.945553964714757e-06, 1.9410886728627026e-06, 1.9366530015940993e-06, 1.932246146165819e-06, 1.9278672898925504e-06, 1.92351560429097e-06, 1.9191902492678884e-06, 1.914890373350512e-06, 1.910615113956918e-06, 1.906363597704779e-06, 1.9021349407563683e-06, 1.8979282491978143e-06, 1.8937426194505547e-06, 1.8895771387129243e-06, 1.8854308854297878e-06, 1.8813029297881085e-06, 1.8771923342363552e-06, 1.8730981540256282e-06, 1.8690194377703952e-06, 1.8649552280267315e-06, 1.8609045618859865e-06, 1.8568664715817829e-06, 1.8528399851083115e-06, 1.8488241268478817e-06, 1.8448179182057393e-06, 1.8408203782501752e-06, 1.8368305243560161e-06, 1.8328473728495956e-06, 1.8288699396533738e-06, 1.8248972409284295e-06, 1.8209282937130707e-06, 1.8169621165558922e-06, 1.8129977301416746e-06, 1.8090341579085397e-06, 1.8050704266549055e-06, 1.8011055671347898e-06, 1.7971386146401265e-06, 1.79316860956881e-06, 1.7891945979772627e-06, 1.7852156321164014e-06, 1.781230770949942e-06, 1.777239080654086e-06, 1.773239635097692e-06, 1.769231516302115e-06, 1.7652138148800086e-06, 1.7611856304524244e-06, 1.7571460720436679e-06, 1.7530942584534183e-06, 1.7490293186057282e-06, 1.7449503918745958e-06, 1.7408566283858717e-06, 1.7367471892953615e-06, 1.7326212470430558e-06, 1.7284779855835002e-06, 1.7243166005924115e-06, 1.7201362996496824e-06, 1.7159363023990475e-06, 1.7117158406847138e-06, 1.7074741586653474e-06, 1.7032105129058734e-06, 1.6989241724476296e-06, 1.6946144188574305e-06, 1.6902805462562381e-06, 1.6859218613281088e-06, 1.6815376833102092e-06, 1.6771273439647167e-06, 1.672690187533458e-06, 1.6682255706762321e-06, 1.6637328623937486e-06, 1.6592114439362052e-06, 1.6546607086985241e-06, 1.6500800621033268e-06, 1.6454689214727524e-06, 1.640826715890227e-06, 1.6361528860533566e-06, 1.6314468841190848e-06, 1.6267081735423231e-06, 1.6219362289092232e-06, 1.6171305357663078e-06, 1.6122905904466536e-06, 1.6074158998943385e-06, 1.602505981488348e-06, 1.5975603628671353e-06, 1.592578581755018e-06, 1.587560185791582e-06, 1.5825047323652333e-06, 1.577411788452038e-06, 1.5722809304609516e-06, 1.5671117440865105e-06, 1.5619038241700268e-06, 1.5566567745703233e-06, 1.5513702080449432e-06, 1.546043746142812e-06, 1.5406770191092155e-06, 1.5352696658039528e-06, 1.5298213336334656e-06, 1.5243316784976965e-06, 1.5188003647523779e-06, 1.5132270651873825e-06, 1.5076114610217484e-06, 1.5019532419159019e-06, 1.4962521060015495e-06, 1.4905077599296608e-06, 1.4847199189368938e-06, 1.4788883069307508e-06, 1.4730126565937047e-06, 1.4670927095064463e-06, 1.4611282162903624e-06, 1.4551189367692816e-06, 1.449064640150451e-06, 1.442965105224663e-06, 1.4368201205853657e-06, 1.4306294848665324e-06, 1.4243930069990175e-06, 1.4181105064850382e-06, 1.4117818136903807e-06, 1.4054067701538488e-06, 1.3989852289134309e-06, 1.3925170548486021e-06, 1.3860021250380942e-06, 1.3794403291324547e-06, 1.372831569740613e-06, 1.3661757628296737e-06, 1.3594728381370544e-06, 1.352722739594073e-06, 1.345925425760037e-06, 1.339080870265827e-06, 1.3321890622659519e-06, 1.3252500068980033e-06, 1.3182637257483792e-06, 1.3112302573231695e-06, 1.3041496575230034e-06, 1.2970220001206728e-06, 1.2898473772403133e-06, 1.28262589983689e-06, 1.275357698174732e-06, 1.2680429223038447e-06, 1.260681742532709e-06, 1.2532743498962612e-06, 1.245820956617773e-06, 1.238321796563316e-06, 1.230777125687505e-06, 1.2231872224692347e-06, 1.2155523883361056e-06, 1.2078729480762728e-06, 1.2001492502364381e-06, 1.1923816675047502e-06, 1.184570597077365e-06, 1.1767164610074789e-06, 1.1688197065356362e-06, 1.1608808064001697e-06, 1.1529002591266498e-06, 1.1448785892952422e-06, 1.1368163477849458e-06, 1.1287141119936752e-06, 1.1205724860332387e-06], \"yaxis\": \"y\"}, {\"legendgroup\": \"2018\", \"marker\": {\"color\": \"rgb(227, 119, 194)\"}, \"mode\": \"lines\", \"name\": \"2018\", \"showlegend\": true, \"type\": \"scatter\", \"x\": [400.0, 722.2919999999999, 1044.5839999999998, 1366.876, 1689.168, 2011.46, 2333.752, 2656.044, 2978.336, 3300.628, 3622.92, 3945.212, 4267.504, 4589.796, 4912.088, 5234.38, 5556.672, 5878.964, 6201.256, 6523.548, 6845.84, 7168.132, 7490.424, 7812.716, 8135.008, 8457.3, 8779.592, 9101.884, 9424.176, 9746.468, 10068.76, 10391.052, 10713.344, 11035.636, 11357.928, 11680.22, 12002.512, 12324.804, 12647.096, 12969.388, 13291.68, 13613.972, 13936.264, 14258.556, 14580.848, 14903.14, 15225.432, 15547.724, 15870.016, 16192.308, 16514.6, 16836.892, 17159.184, 17481.476, 17803.768, 18126.06, 18448.352, 18770.644, 19092.936, 19415.228, 19737.52, 20059.812, 20382.104, 20704.396, 21026.688, 21348.98, 21671.272, 21993.564, 22315.856, 22638.148, 22960.44, 23282.732, 23605.024, 23927.316, 24249.608, 24571.9, 24894.192, 25216.484, 25538.776, 25861.068, 26183.36, 26505.652, 26827.944, 27150.236, 27472.528, 27794.82, 28117.112, 28439.404, 28761.696, 29083.988, 29406.28, 29728.572, 30050.864, 30373.156, 30695.448, 31017.74, 31340.032, 31662.324, 31984.616, 32306.908, 32629.2, 32951.492, 33273.784, 33596.076, 33918.368, 34240.66, 34562.952, 34885.244, 35207.536, 35529.828, 35852.12, 36174.412, 36496.704, 36818.996, 37141.288, 37463.58, 37785.872, 38108.164, 38430.456, 38752.748, 39075.04, 39397.332, 39719.624, 40041.916, 40364.208, 40686.5, 41008.792, 41331.084, 41653.376, 41975.668, 42297.96, 42620.252, 42942.544, 43264.836, 43587.128, 43909.42, 44231.712, 44554.004, 44876.296, 45198.588, 45520.88, 45843.172, 46165.464, 46487.756, 46810.048, 47132.34, 47454.632, 47776.924, 48099.216, 48421.508, 48743.8, 49066.092, 49388.384, 49710.676, 50032.968, 50355.26, 50677.552, 50999.844, 51322.136, 51644.428, 51966.72, 52289.012, 52611.304, 52933.596, 53255.888, 53578.18, 53900.472, 54222.764, 54545.056, 54867.348, 55189.64, 55511.932, 55834.224, 56156.516, 56478.808, 56801.1, 57123.392, 57445.684, 57767.976, 58090.268, 58412.56, 58734.852, 59057.144, 59379.436, 59701.728, 60024.02, 60346.312, 60668.604, 60990.896, 61313.188, 61635.48, 61957.772, 62280.064, 62602.356, 62924.648, 63246.94, 63569.232, 63891.524, 64213.816, 64536.108, 64858.4, 65180.692, 65502.984, 65825.276, 66147.568, 66469.86, 66792.152, 67114.444, 67436.736, 67759.028, 68081.32, 68403.612, 68725.904, 69048.196, 69370.488, 69692.78, 70015.072, 70337.364, 70659.656, 70981.948, 71304.24, 71626.532, 71948.824, 72271.116, 72593.408, 72915.7, 73237.992, 73560.284, 73882.576, 74204.868, 74527.16, 74849.452, 75171.744, 75494.036, 75816.328, 76138.62, 76460.912, 76783.204, 77105.496, 77427.788, 77750.08, 78072.372, 78394.664, 78716.956, 79039.248, 79361.54, 79683.832, 80006.124, 80328.416, 80650.708, 80973.0, 81295.292, 81617.584, 81939.876, 82262.168, 82584.46, 82906.752, 83229.044, 83551.336, 83873.628, 84195.92, 84518.212, 84840.504, 85162.796, 85485.088, 85807.38, 86129.672, 86451.964, 86774.256, 87096.548, 87418.84, 87741.132, 88063.424, 88385.716, 88708.008, 89030.3, 89352.592, 89674.884, 89997.176, 90319.468, 90641.76, 90964.052, 91286.344, 91608.636, 91930.928, 92253.22, 92575.512, 92897.804, 93220.096, 93542.388, 93864.68, 94186.972, 94509.264, 94831.556, 95153.848, 95476.14, 95798.432, 96120.724, 96443.016, 96765.308, 97087.6, 97409.892, 97732.184, 98054.476, 98376.768, 98699.06, 99021.352, 99343.644, 99665.936, 99988.228, 100310.52, 100632.812, 100955.104, 101277.396, 101599.688, 101921.98, 102244.272, 102566.564, 102888.856, 103211.148, 103533.44, 103855.732, 104178.024, 104500.316, 104822.608, 105144.9, 105467.192, 105789.484, 106111.776, 106434.068, 106756.36, 107078.652, 107400.944, 107723.236, 108045.528, 108367.82, 108690.112, 109012.404, 109334.696, 109656.988, 109979.28, 110301.572, 110623.864, 110946.156, 111268.448, 111590.74, 111913.032, 112235.324, 112557.616, 112879.908, 113202.2, 113524.492, 113846.784, 114169.076, 114491.368, 114813.66, 115135.952, 115458.244, 115780.536, 116102.828, 116425.12, 116747.412, 117069.704, 117391.996, 117714.288, 118036.58, 118358.872, 118681.164, 119003.456, 119325.748, 119648.04, 119970.332, 120292.624, 120614.916, 120937.208, 121259.5, 121581.792, 121904.084, 122226.376, 122548.668, 122870.96, 123193.252, 123515.544, 123837.836, 124160.128, 124482.42, 124804.712, 125127.004, 125449.296, 125771.588, 126093.88, 126416.172, 126738.464, 127060.756, 127383.048, 127705.34, 128027.632, 128349.924, 128672.216, 128994.508, 129316.8, 129639.092, 129961.384, 130283.676, 130605.968, 130928.26, 131250.552, 131572.844, 131895.136, 132217.428, 132539.72, 132862.012, 133184.304, 133506.596, 133828.888, 134151.18, 134473.472, 134795.764, 135118.056, 135440.348, 135762.64, 136084.932, 136407.224, 136729.516, 137051.808, 137374.1, 137696.392, 138018.684, 138340.976, 138663.268, 138985.56, 139307.852, 139630.144, 139952.436, 140274.728, 140597.02, 140919.312, 141241.604, 141563.896, 141886.188, 142208.48, 142530.772, 142853.064, 143175.356, 143497.648, 143819.94, 144142.232, 144464.524, 144786.816, 145109.108, 145431.4, 145753.692, 146075.984, 146398.276, 146720.568, 147042.86, 147365.152, 147687.444, 148009.736, 148332.028, 148654.32, 148976.612, 149298.904, 149621.196, 149943.488, 150265.78, 150588.072, 150910.364, 151232.656, 151554.948, 151877.24, 152199.532, 152521.824, 152844.116, 153166.408, 153488.7, 153810.992, 154133.284, 154455.576, 154777.868, 155100.16, 155422.452, 155744.744, 156067.036, 156389.328, 156711.62, 157033.912, 157356.204, 157678.496, 158000.788, 158323.08, 158645.372, 158967.664, 159289.956, 159612.248, 159934.54, 160256.832, 160579.124, 160901.416, 161223.708], \"xaxis\": \"x\", \"y\": [1.040918897000255e-05, 1.0471627350853277e-05, 1.0532775374551944e-05, 1.059260924865944e-05, 1.0651105759379809e-05, 1.0708242288613863e-05, 1.0763996830549416e-05, 1.0818348007770435e-05, 1.0871275086868013e-05, 1.0922757993536602e-05, 1.0972777327139565e-05, 1.1021314374728781e-05, 1.1068351124503569e-05, 1.1113870278694978e-05, 1.1157855265862147e-05, 1.1200290252588042e-05, 1.1241160154562773e-05, 1.1280450647043313e-05, 1.1318148174679169e-05, 1.1354239960694442e-05, 1.138871401541737e-05, 1.1421559144149292e-05, 1.1452764954365777e-05, 1.1482321862243434e-05, 1.1510221098506753e-05, 1.153645471359013e-05, 1.1561015582111092e-05, 1.1583897406651525e-05, 1.1605094720844563e-05, 1.162460289176552e-05, 1.1642418121626347e-05, 1.1658537448773581e-05, 1.1672958747990803e-05, 1.1685680730107373e-05, 1.1696702940916058e-05, 1.1706025759402863e-05, 1.171365039529334e-05, 1.1719578885920296e-05, 1.1723814092418697e-05, 1.1726359695254241e-05, 1.172722018909293e-05, 1.172640087701959e-05, 1.1723907864114165e-05, 1.1719748050395101e-05, 1.1713929123140094e-05, 1.170645954859491e-05, 1.1697348563081778e-05, 1.1686606163519447e-05, 1.1674243097367598e-05, 1.1660270852008912e-05, 1.1644701643582684e-05, 1.1627548405284347e-05, 1.1608824775145883e-05, 1.1588545083312523e-05, 1.1566724338831627e-05, 1.1543378215970137e-05, 1.1518523040077321e-05, 1.1492175773010011e-05, 1.1464353998137814e-05, 1.1435075904946258e-05, 1.1404360273255957e-05, 1.1372226457076309e-05, 1.1338694368112508e-05, 1.1303784458944724e-05, 1.1267517705898723e-05, 1.122991559162715e-05, 1.1191000087421076e-05, 1.1150793635271337e-05, 1.1109319129699365e-05, 1.1066599899377294e-05, 1.1022659688557152e-05, 1.097752263832883e-05, 1.0931213267726815e-05, 1.088375645470523e-05, 1.0835177417000977e-05, 1.0785501692904538e-05, 1.0734755121957858e-05, 1.068296382559867e-05, 1.0630154187770416e-05, 1.057635283551667e-05, 1.0521586619578854e-05, 1.046588259501573e-05, 1.0409268001862945e-05, 1.0351770245850574e-05, 1.0293416879196354e-05, 1.0234235581491937e-05, 1.0174254140699251e-05, 1.0113500434273569e-05, 1.0052002410429611e-05, 9.98978806956663e-06, 9.926885445867934e-06, 9.863322589089996e-06, 9.799127546555825e-06, 9.734328345366772e-06, 9.668952974846655e-06, 9.603029369231411e-06, 9.536585390617236e-06, 9.469648812179464e-06, 9.402247301674192e-06, 9.334408405233915e-06, 9.266159531468148e-06, 9.197527935879372e-06, 9.128540705604166e-06, 9.05922474448889e-06, 8.98960675850876e-06, 8.91971324153863e-06, 8.849570461483267e-06, 8.779204446774413e-06, 8.708640973241394e-06, 8.637905551361519e-06, 8.567023413895991e-06, 8.496019503916555e-06, 8.42491846322759e-06, 8.353744621187856e-06, 8.2825219839356e-06, 8.211274224020234e-06, 8.140024670443316e-06, 8.068796299111071e-06, 7.997611723700276e-06, 7.926493186938733e-06, 7.855462552301308e-06, 7.784541296121826e-06, 7.713750500120877e-06, 7.643110844349068e-06, 7.572642600544829e-06, 7.502365625905515e-06, 7.432299357270138e-06, 7.362462805711677e-06, 7.292874551536517e-06, 7.22355273968826e-06, 7.1545150755527945e-06, 7.0857788211610795e-06, 7.017360791785934e-06, 6.949277352928666e-06, 6.8815444176912e-06, 6.814177444528931e-06, 6.747191435379441e-06, 6.68060093416177e-06, 6.614420025640844e-06, 6.5486623346512705e-06, 6.483341025674683e-06, 6.4184688027643945e-06, 6.3540579098110895e-06, 6.290120131143018e-06, 6.226666792453957e-06, 6.163708762052206e-06, 6.10125645242342e-06, 6.039319822100367e-06, 5.97790837783214e-06, 5.9170311770455875e-06, 5.856696830591395e-06, 5.796913505767281e-06, 5.737688929610627e-06, 5.679030392452827e-06, 5.620944751727558e-06, 5.563438436025093e-06, 5.506517449384845e-06, 5.450187375818106e-06, 5.394453384053138e-06, 5.3393202324945906e-06, 5.28479227438928e-06, 5.230873463190349e-06, 5.1775673581118615e-06, 5.124877129865832e-06, 5.072805566573803e-06, 5.0213550798450146e-06, 4.970527711013308e-06, 4.920325137524953e-06, 4.870748679469538e-06, 4.821799306246241e-06, 4.773477643357785e-06, 4.7257839793243824e-06, 4.678718272710206e-06, 4.632280159254803e-06, 4.586468959102071e-06, 4.541283684119413e-06, 4.4967230452998515e-06, 4.452785460239841e-06, 4.409469060685742e-06, 4.366771700141891e-06, 4.324690961533359e-06, 4.283224164916574e-06, 4.242368375231042e-06, 4.202120410085538e-06, 4.1624768475722274e-06, 4.123434034102256e-06, 4.084988092256464e-06, 4.047134928645005e-06, 4.009870241769703e-06, 3.973189529883136e-06, 3.93708809883848e-06, 3.901561069924369e-06, 3.866603387678943e-06, 3.832209827677606e-06, 3.7983750042888957e-06, 3.765093378393124e-06, 3.7323592650585062e-06, 3.700166841169612e-06, 3.6685101530030806e-06, 3.6373831237456566e-06, 3.606779560949718e-06, 3.5766931639215747e-06, 3.5471175310379476e-06, 3.518046166986119e-06, 3.489472489923387e-06, 3.4613898385515567e-06, 3.4337914791023417e-06, 3.4066706122296324e-06, 3.3800203798046933e-06, 3.3538338716105614e-06, 3.3281041319318974e-06, 3.302824166036776e-06, 3.2779869465469525e-06, 3.2535854196933217e-06, 3.229612511453313e-06, 3.206061133567222e-06, 3.1829241894304567e-06, 3.160194579858915e-06, 3.13786520872478e-06, 3.1159289884601488e-06, 3.094378845426038e-06, 3.073207725144466e-06, 3.0524085973914007e-06, 3.0319744611484963e-06, 3.011898349411727e-06, 2.9921733338550455e-06, 2.97279252934749e-06, 2.9537490983221014e-06, 2.9350362549953224e-06, 2.916647269435587e-06, 2.898575471479957e-06, 2.8808142544978307e-06, 2.863357079000865e-06, 2.8461974760983775e-06, 2.8293290507976656e-06, 2.8127454851488045e-06, 2.7964405412336096e-06, 2.780408063998626e-06, 2.7646419839320942e-06, 2.7491363195850645e-06, 2.7338851799368696e-06, 2.7188827666054014e-06, 2.704123375902711e-06, 2.6896014007366388e-06, 2.675311332359272e-06, 2.6612477619632335e-06, 2.647405382126862e-06, 2.6337789881095583e-06, 2.620363478998663e-06, 2.607153858709366e-06, 2.594145236839326e-06, 2.581332829379738e-06, 2.568711959284801e-06, 2.5562780569015963e-06, 2.544026660262547e-06, 2.5319534152427615e-06, 2.5200540755846532e-06, 2.508324502792391e-06, 2.4967606658988026e-06, 2.4853586411075187e-06, 2.474114611313204e-06, 2.463024865502878e-06, 2.4520857980413866e-06, 2.4412939078442274e-06, 2.4306457974409794e-06, 2.4201381719327468e-06, 2.409767837847019e-06, 2.3995317018935585e-06, 2.3894267696248604e-06, 2.379450144004932e-06, 2.3695990238901364e-06, 2.359870702425924e-06, 2.350262565363335e-06, 2.3407720892992334e-06, 2.331396839844229e-06, 2.322134469722356e-06, 2.312982716806543e-06, 2.3039394020940042e-06, 2.295002427625663e-06, 2.286169774353761e-06, 2.2774394999618205e-06, 2.2688097366411272e-06, 2.2602786888279285e-06, 2.251844630905476e-06, 2.243505904875133e-06, 2.2352609180006593e-06, 2.227108140429815e-06, 2.2190461027973845e-06, 2.211073393813699e-06, 2.2031886578426883e-06, 2.1953905924734325e-06, 2.187677946089189e-06, 2.1800495154377505e-06, 2.1725041432069757e-06, 2.1650407156092297e-06, 2.157658159978457e-06, 2.15035544238346e-06, 2.143131565260935e-06, 2.135985565071706e-06, 2.1289165099834935e-06, 2.1219234975835e-06, 2.11500565262394e-06, 2.1081621248035863e-06, 2.1013920865882625e-06, 2.0946947310731257e-06, 2.088069269889438e-06, 2.081514931158436e-06, 2.0750309574947642e-06, 2.068616604061824e-06, 2.062271136681252e-06, 2.0559938299986263e-06, 2.049783965707343e-06, 2.0436408308325016e-06, 2.0375637160764666e-06, 2.0315519142276617e-06, 2.025604718634008e-06, 2.019721421742262e-06, 2.0139013137043853e-06, 2.008143681051939e-06, 2.0024478054393308e-06, 1.9968129624566315e-06, 1.991238420512519e-06, 1.98572343978776e-06, 1.9802672712595308e-06, 1.9748691557967107e-06, 1.9695283233261453e-06, 1.964243992069777e-06, 1.9590153678523563e-06, 1.9538416434793565e-06, 1.948721998184569e-06, 1.943655597146727e-06, 1.9386415910744e-06, 1.933679115858253e-06, 1.9287672922896827e-06, 1.9239052258446957e-06, 1.919092006531811e-06, 1.9143267088026488e-06, 1.9096083915237683e-06, 1.9049360980082258e-06, 1.9003088561052214e-06, 1.8957256783461268e-06, 1.8911855621451015e-06, 1.8866874900523926e-06, 1.8822304300584144e-06, 1.8778133359465477e-06, 1.8734351476925935e-06, 1.8690947919087466e-06, 1.8647911823298782e-06, 1.8605232203398984e-06, 1.856289795535908e-06, 1.8520897863278242e-06, 1.8479220605711146e-06, 1.8437854762302778e-06, 1.839678882070661e-06, 1.8356011183761924e-06, 1.831551017690623e-06, 1.8275274055798411e-06, 1.823529101412818e-06, 1.8195549191587924e-06, 1.815603668198257e-06, 1.811674154145372e-06, 1.807765179679436e-06, 1.8038755453830513e-06, 1.8000040505847007e-06, 1.796149494203442e-06, 1.7923106755934868e-06, 1.7884863953864882e-06, 1.7846754563293812e-06, 1.7808766641157193e-06, 1.7770888282084438e-06, 1.7733107626521615e-06, 1.7695412868730055e-06, 1.7657792264642627e-06, 1.7620234139560117e-06, 1.7582726895670876e-06, 1.7545259019377709e-06, 1.7507819088416882e-06, 1.7470395778754743e-06, 1.7432977871248563e-06, 1.739555425805895e-06, 1.7358113948802028e-06, 1.732064607643061e-06, 1.7283139902834555e-06, 1.7245584824151121e-06, 1.720797037577765e-06, 1.71702862370792e-06, 1.713252223578521e-06, 1.7094668352070087e-06, 1.7056714722313434e-06, 1.7018651642536769e-06, 1.698046957151448e-06, 1.6942159133557717e-06, 1.6903711120970774e-06, 1.6865116496180658e-06, 1.6826366393541096e-06, 1.6787452120813626e-06, 1.6748365160328784e-06, 1.670909716983158e-06, 1.6669639983016322e-06, 1.6629985609756365e-06, 1.6590126236035506e-06, 1.6550054223588337e-06, 1.6509762109257499e-06, 1.6469242604076858e-06, 1.642848859208988e-06, 1.6387493128913309e-06, 1.6346249440057057e-06, 1.6304750919011408e-06, 1.6262991125113493e-06, 1.6220963781205373e-06, 1.6178662771096545e-06, 1.6136082136844076e-06, 1.6093216075864112e-06, 1.605005893788868e-06, 1.6006605221782013e-06, 1.5962849572231216e-06, 1.5918786776325706e-06, 1.587441176004076e-06, 1.5829719584640034e-06, 1.5784705443012482e-06, 1.5739364655958749e-06, 1.5693692668442573e-06, 1.5647685045822245e-06, 1.560133747007757e-06, 1.5554645736047257e-06, 1.5507605747691796e-06, 1.5460213514396607e-06, 1.5412465147329979e-06, 1.5364356855870154e-06, 1.5315884944115477e-06, 1.5267045807491382e-06, 1.5217835929467422e-06, 1.5168251878397292e-06, 1.5118290304494288e-06, 1.5067947936954187e-06, 1.5017221581237073e-06, 1.4966108116519034e-06, 1.4914604493324238e-06, 1.486270773134705e-06, 1.4810414917473674e-06, 1.4757723204011729e-06, 1.4704629807135815e-06, 1.4651132005556335e-06, 1.4597227139418268e-06, 1.4542912609435698e-06, 1.4488185876267406e-06, 1.443304446013803e-06, 1.437748594070835e-06, 1.4321507957198052e-06, 1.4265108208762864e-06, 1.4208284455127937e-06, 1.4151034517477814e-06, 1.409335627960352e-06, 1.403524768930541e-06, 1.3976706760050887e-06, 1.3917731572884165e-06, 1.3858320278585587e-06, 1.3798471100076416e-06, 1.3738182335064868e-06, 1.3677452358928084e-06, 1.3616279627824382e-06, 1.3554662682029074e-06, 1.3492600149486745e-06, 1.3430090749572228e-06, 1.3367133297051628e-06, 1.3303726706234592e-06, 1.3239869995307893e-06, 1.3175562290840416e-06, 1.3110802832448605e-06, 1.3045590977611238e-06, 1.2979926206621826e-06, 1.2913808127666397e-06, 1.2847236482014257e-06, 1.2780211149308545e-06, 1.2712732152943513e-06, 1.2644799665514668e-06, 1.2576414014328063e-06, 1.2507575686954322e-06, 1.2438285336813248e-06, 1.2368543788774218e-06, 1.229835204475773e-06, 1.2227711289323216e-06, 1.215662289522816e-06, 1.2085088428943593e-06, 1.2013109656110812e-06, 1.1940688546924653e-06, 1.1867827281427954e-06, 1.1794528254702843e-06, 1.1720794081943835e-06, 1.164662760339839e-06, 1.1572031889160427e-06, 1.1497010243802912e-06, 1.142156621083548e-06, 1.134570357697361e-06, 1.1269426376206208e-06, 1.1192738893648544e-06, 1.1115645669168245e-06, 1.1038151500772206e-06, 1.0960261447742706e-06, 1.0881980833511665e-06], \"yaxis\": \"y\"}, {\"legendgroup\": \"2019\", \"marker\": {\"color\": \"rgb(127, 127, 127)\"}, \"mode\": \"lines\", \"name\": \"2019\", \"showlegend\": true, \"type\": \"scatter\", \"x\": [404.0, 728.552, 1053.104, 1377.656, 1702.208, 2026.76, 2351.312, 2675.864, 3000.416, 3324.968, 3649.52, 3974.072, 4298.624, 4623.176, 4947.728, 5272.28, 5596.832, 5921.384, 6245.936, 6570.488, 6895.04, 7219.592, 7544.144, 7868.696, 8193.248, 8517.8, 8842.352, 9166.904, 9491.456, 9816.008, 10140.56, 10465.112, 10789.664, 11114.216, 11438.768, 11763.32, 12087.872, 12412.424, 12736.976, 13061.528, 13386.08, 13710.632, 14035.184, 14359.736, 14684.288, 15008.84, 15333.392, 15657.944, 15982.496, 16307.048, 16631.6, 16956.152, 17280.704, 17605.256, 17929.808, 18254.36, 18578.912, 18903.464, 19228.016, 19552.568, 19877.12, 20201.672, 20526.224, 20850.776, 21175.328, 21499.88, 21824.432, 22148.984, 22473.536, 22798.088, 23122.64, 23447.192, 23771.744, 24096.296, 24420.848, 24745.4, 25069.952, 25394.504, 25719.056, 26043.608, 26368.16, 26692.712, 27017.264, 27341.816, 27666.368, 27990.92, 28315.472, 28640.024, 28964.576, 29289.128, 29613.68, 29938.232, 30262.784, 30587.336, 30911.888, 31236.44, 31560.992, 31885.544, 32210.096, 32534.648, 32859.2, 33183.752, 33508.304, 33832.856, 34157.408, 34481.96, 34806.512, 35131.064, 35455.616, 35780.168, 36104.72, 36429.272, 36753.824, 37078.376, 37402.928, 37727.48, 38052.032, 38376.584, 38701.136, 39025.688, 39350.24, 39674.792, 39999.344, 40323.896, 40648.448, 40973.0, 41297.552, 41622.104, 41946.656, 42271.208, 42595.76, 42920.312, 43244.864, 43569.416, 43893.968, 44218.52, 44543.072, 44867.624, 45192.176, 45516.728, 45841.28, 46165.832, 46490.384, 46814.936, 47139.488, 47464.04, 47788.592, 48113.144, 48437.696, 48762.248, 49086.8, 49411.352, 49735.904, 50060.456, 50385.008, 50709.56, 51034.112, 51358.664, 51683.216, 52007.768, 52332.32, 52656.872, 52981.424, 53305.976, 53630.528, 53955.08, 54279.632, 54604.184, 54928.736, 55253.288, 55577.84, 55902.392, 56226.944, 56551.496, 56876.048, 57200.6, 57525.152, 57849.704, 58174.256, 58498.808, 58823.36, 59147.912, 59472.464, 59797.016, 60121.568, 60446.12, 60770.672, 61095.224, 61419.776, 61744.328, 62068.88, 62393.432, 62717.984, 63042.536, 63367.088, 63691.64, 64016.192, 64340.744, 64665.296, 64989.848, 65314.4, 65638.95199999999, 65963.504, 66288.056, 66612.608, 66937.16, 67261.712, 67586.264, 67910.816, 68235.368, 68559.92, 68884.472, 69209.024, 69533.576, 69858.128, 70182.68, 70507.232, 70831.784, 71156.336, 71480.888, 71805.44, 72129.992, 72454.544, 72779.096, 73103.648, 73428.2, 73752.752, 74077.304, 74401.856, 74726.408, 75050.96, 75375.512, 75700.064, 76024.616, 76349.168, 76673.72, 76998.272, 77322.824, 77647.376, 77971.928, 78296.48, 78621.032, 78945.584, 79270.136, 79594.688, 79919.24, 80243.792, 80568.344, 80892.896, 81217.448, 81542.0, 81866.552, 82191.104, 82515.656, 82840.208, 83164.76, 83489.312, 83813.864, 84138.416, 84462.968, 84787.52, 85112.072, 85436.624, 85761.176, 86085.728, 86410.28, 86734.832, 87059.384, 87383.936, 87708.488, 88033.04, 88357.592, 88682.144, 89006.696, 89331.248, 89655.8, 89980.352, 90304.904, 90629.456, 90954.008, 91278.56, 91603.112, 91927.664, 92252.216, 92576.768, 92901.32, 93225.872, 93550.424, 93874.976, 94199.528, 94524.08, 94848.632, 95173.184, 95497.736, 95822.288, 96146.84, 96471.392, 96795.944, 97120.496, 97445.048, 97769.6, 98094.152, 98418.704, 98743.256, 99067.808, 99392.36, 99716.912, 100041.464, 100366.016, 100690.568, 101015.12, 101339.672, 101664.224, 101988.776, 102313.328, 102637.88, 102962.432, 103286.984, 103611.536, 103936.088, 104260.64, 104585.192, 104909.744, 105234.296, 105558.848, 105883.4, 106207.952, 106532.504, 106857.056, 107181.608, 107506.16, 107830.712, 108155.264, 108479.816, 108804.368, 109128.92, 109453.472, 109778.024, 110102.576, 110427.128, 110751.68, 111076.232, 111400.784, 111725.336, 112049.888, 112374.44, 112698.992, 113023.544, 113348.096, 113672.648, 113997.2, 114321.752, 114646.304, 114970.856, 115295.408, 115619.96, 115944.512, 116269.064, 116593.616, 116918.168, 117242.72, 117567.272, 117891.824, 118216.376, 118540.928, 118865.48, 119190.032, 119514.584, 119839.136, 120163.688, 120488.24, 120812.792, 121137.344, 121461.896, 121786.448, 122111.0, 122435.552, 122760.104, 123084.656, 123409.208, 123733.76, 124058.312, 124382.864, 124707.416, 125031.968, 125356.52, 125681.072, 126005.624, 126330.176, 126654.728, 126979.28, 127303.832, 127628.384, 127952.936, 128277.488, 128602.04, 128926.592, 129251.144, 129575.696, 129900.248, 130224.8, 130549.352, 130873.904, 131198.456, 131523.008, 131847.56, 132172.112, 132496.664, 132821.216, 133145.768, 133470.32, 133794.872, 134119.424, 134443.976, 134768.528, 135093.08, 135417.632, 135742.184, 136066.736, 136391.288, 136715.84, 137040.392, 137364.944, 137689.496, 138014.048, 138338.6, 138663.152, 138987.704, 139312.256, 139636.808, 139961.36, 140285.912, 140610.464, 140935.016, 141259.568, 141584.12, 141908.672, 142233.224, 142557.776, 142882.328, 143206.88, 143531.432, 143855.984, 144180.536, 144505.088, 144829.64, 145154.192, 145478.744, 145803.296, 146127.848, 146452.4, 146776.952, 147101.504, 147426.056, 147750.608, 148075.16, 148399.712, 148724.264, 149048.816, 149373.368, 149697.92, 150022.472, 150347.024, 150671.576, 150996.128, 151320.68, 151645.232, 151969.784, 152294.336, 152618.888, 152943.44, 153267.992, 153592.544, 153917.096, 154241.648, 154566.2, 154890.752, 155215.304, 155539.856, 155864.408, 156188.96, 156513.512, 156838.064, 157162.616, 157487.168, 157811.72, 158136.272, 158460.824, 158785.376, 159109.928, 159434.48, 159759.032, 160083.584, 160408.136, 160732.688, 161057.24, 161381.792, 161706.344, 162030.896, 162355.448], \"xaxis\": \"x\", \"y\": [1.0367722102670213e-05, 1.0429797590811245e-05, 1.0490576055455115e-05, 1.0550033702060828e-05, 1.0608147324090262e-05, 1.0664894320241999e-05, 1.0720252711211416e-05, 1.077420115595899e-05, 1.0826718967469262e-05, 1.0877786127983745e-05, 1.092738330369132e-05, 1.0975491858860687e-05, 1.1022093869399765e-05, 1.1067172135827813e-05, 1.1110710195646787e-05, 1.1152692335098913e-05, 1.1193103600298477e-05, 1.1231929807726476e-05, 1.1269157554077471e-05, 1.1304774225448864e-05, 1.1338768005863612e-05, 1.1371127885118179e-05, 1.1401843665948251e-05, 1.1430905970505776e-05, 1.1458306246141527e-05, 1.1484036770488297e-05, 1.1508090655840735e-05, 1.1530461852828554e-05, 1.1551145153380846e-05, 1.1570136192979938e-05, 1.1587431452204146e-05, 1.1603028257559702e-05, 1.161692478160281e-05, 1.1629120042353741e-05, 1.1639613902005724e-05, 1.1648407064932108e-05, 1.1655501074996246e-05, 1.1660898312169151e-05, 1.1664601988461047e-05, 1.166661614317338e-05, 1.1666945637479019e-05, 1.1665596148338752e-05, 1.166257416176321e-05, 1.1657886965429934e-05, 1.165154264066604e-05, 1.1643550053807652e-05, 1.1633918846947861e-05, 1.1622659428085799e-05, 1.1609782960689765e-05, 1.1595301352688241e-05, 1.1579227244903005e-05, 1.1561573998939223e-05, 1.1542355684547855e-05, 1.1521587066476343e-05, 1.1499283590823846e-05, 1.1475461370917976e-05, 1.1450137172730178e-05, 1.1423328399847557e-05, 1.1395053078019022e-05, 1.1365329839294385e-05, 1.1334177905774844e-05, 1.1301617072994147e-05, 1.1267667692949489e-05, 1.1232350656801806e-05, 1.1195687377265096e-05, 1.1157699770704712e-05, 1.1118410238964697e-05, 1.107784165094425e-05, 1.1036017323943718e-05, 1.0992961004800323e-05, 1.0948696850834116e-05, 1.0903249410624403e-05, 1.0856643604637147e-05, 1.0808904705723586e-05, 1.0760058319510319e-05, 1.0710130364701057e-05, 1.065914705331001e-05, 1.0607134870846865e-05, 1.0554120556472998e-05, 1.0500131083148462e-05, 1.0445193637789069e-05, 1.0389335601452576e-05, 1.0332584529572798e-05, 1.027496813226011e-05, 1.0216514254686606e-05, 1.0157250857573712e-05, 1.0097205997799783e-05, 1.0036407809144962e-05, 9.974884483189883e-06, 9.912664250384837e-06, 9.849775361305144e-06, 9.786246068108505e-06, 9.722104606209262e-06, 9.657379176184321e-06, 9.592097925924924e-06, 9.526288933047906e-06, 9.459980187579801e-06, 9.393199574926392e-06, 9.325974859140025e-06, 9.258333666496393e-06, 9.190303469391931e-06, 9.121911570572605e-06, 9.05318508770416e-06, 8.984150938293454e-06, 8.914835824970035e-06, 8.845266221136437e-06, 8.77546835699522e-06, 8.705468205960287e-06, 8.635291471459311e-06, 8.564963574133788e-06, 8.494509639442493e-06, 8.423954485673764e-06, 8.353322612371296e-06, 8.2826381891779e-06, 8.211925045100832e-06, 8.141206658202072e-06, 8.070506145716235e-06, 7.999846254598372e-06, 7.929249352503455e-06, 7.858737419198787e-06, 7.788332038410126e-06, 7.71805439010191e-06, 7.647925243191404e-06, 7.577964948696202e-06, 7.508193433314132e-06, 7.438630193434049e-06, 7.369294289575723e-06, 7.30020434125657e-06, 7.231378522282531e-06, 7.162834556460131e-06, 7.094589713726303e-06, 7.026660806692226e-06, 6.9590641875970665e-06, 6.891815745667285e-06, 6.824930904876638e-06, 6.758424622101966e-06, 6.6923113856693275e-06, 6.626605214284948e-06, 6.561319656345037e-06, 6.496467789618406e-06, 6.432062221295454e-06, 6.368115088396976e-06, 6.304638058535966e-06, 6.241642331025373e-06, 6.179138638324687e-06, 6.117137247817853e-06, 6.055647963915147e-06, 5.99468013047114e-06, 5.934242633511044e-06, 5.874343904257453e-06, 5.814991922449369e-06, 5.756194219945372e-06, 5.697957884602666e-06, 5.640289564423606e-06, 5.583195471961315e-06, 5.526681388975867e-06, 5.470752671332562e-06, 5.415414254133624e-06, 5.3606706570747345e-06, 5.3065259900178194e-06, 5.252983958771331e-06, 5.200047871069463e-06, 5.1477206427415595e-06, 5.096004804063117e-06, 5.044902506279742e-06, 4.9944155282954345e-06, 4.944545283516647e-06, 4.895292826843561e-06, 4.846658861800117e-06, 4.798643747794326e-06, 4.751247507500514e-06, 4.704469834355139e-06, 4.658310100157981e-06, 4.612767362770472e-06, 4.567840373903107e-06, 4.52352758698389e-06, 4.479827165099899e-06, 4.4367369890041365e-06, 4.3942546651798875e-06, 4.352377533954966e-06, 4.311102677658305e-06, 4.270426928811421e-06, 4.230346878347452e-06, 4.190858883850506e-06, 4.151959077808271e-06, 4.1136433758708034e-06, 4.075907485108715e-06, 4.038746912263924e-06, 4.00215697198638e-06, 3.966132795050219e-06, 3.930669336543009e-06, 3.89576138402177e-06, 3.861403565629694e-06, 3.827590358167516e-06, 3.794316095113731e-06, 3.7615749745878385e-06, 3.729361067251091e-06, 3.6976683241392654e-06, 3.6664905844220804e-06, 3.635821583084129e-06, 3.6056549585222533e-06, 3.575984260054439e-06, 3.546802955335466e-06, 3.51810443767469e-06, 3.4898820332514606e-06, 3.462129008223832e-06, 3.4348385757263693e-06, 3.4080039027529778e-06, 3.3816181169208845e-06, 3.355674313111956e-06, 3.3301655599877743e-06, 3.305084906374988e-06, 3.280425387517617e-06, 3.256180031193151e-06, 3.232341863689392e-06, 3.2089039156392276e-06, 3.18585922771054e-06, 3.163200856148772e-06, 3.140921878169645e-06, 3.119015397199854e-06, 3.0974745479635805e-06, 3.076292501412881e-06, 3.055462469500188e-06, 3.0349777097912237e-06, 3.014831529916922e-06, 2.9950172918629363e-06, 2.9755284160956625e-06, 2.956358385523673e-06, 2.9375007492937793e-06, 2.9189491264209714e-06, 2.900697209251716e-06, 2.882738766760238e-06, 2.865067647677527e-06, 2.847677783453038e-06, 2.830563191049126e-06, 2.813717975568519e-06, 2.797136332715157e-06, 2.7808125510890117e-06, 2.7647410143155476e-06, 2.7489162030107316e-06, 2.7333326965825454e-06, 2.7179851748702254e-06, 2.7028684196225056e-06, 2.687977315816325e-06, 2.673306852817629e-06, 2.6588521253860106e-06, 2.6446083345250647e-06, 2.6305707881805207e-06, 2.6167349017883134e-06, 2.6030961986749037e-06, 2.589650310312302e-06, 2.5763929764303333e-06, 2.563320044988905e-06, 2.550427472013051e-06, 2.537711321293712e-06, 2.5251677639573294e-06, 2.512793077907428e-06, 2.500583647141449e-06, 2.4885359609462688e-06, 2.476646612975865e-06, 2.4649123002147377e-06, 2.4533298218307864e-06, 2.4418960779213698e-06, 2.4306080681564776e-06, 2.4194628903228916e-06, 2.408457738773377e-06, 2.3975899027849824e-06, 2.3868567648305745e-06, 2.37625579876784e-06, 2.3657845679499863e-06, 2.3554407232624315e-06, 2.345222001089861e-06, 2.335126221217999e-06, 2.325151284674505e-06, 2.3152951715134405e-06, 2.3055559385477318e-06, 2.2959317170341067e-06, 2.2864207103149508e-06, 2.2770211914215694e-06, 2.2677315006432807e-06, 2.2585500430668195e-06, 2.2494752860904256e-06, 2.2405057569170784e-06, 2.231640040031179e-06, 2.2228767746630597e-06, 2.214214652245569e-06, 2.2056524138669907e-06, 2.1971888477244777e-06, 2.1888227865820836e-06, 2.1805531052375076e-06, 2.172378718001457e-06, 2.1642985761935924e-06, 2.156311665658836e-06, 2.148417004307778e-06, 2.1406136396848256e-06, 2.1329006465676217e-06, 2.1252771246011654e-06, 2.1177421959699755e-06, 2.110295003111479e-06, 2.1029347064737545e-06, 2.095660482320575e-06, 2.0884715205866317e-06, 2.0813670227856325e-06, 2.074346199973887e-06, 2.067408270771834e-06, 2.060552459445818e-06, 2.053777994052323e-06, 2.0470841046466667e-06, 2.040470021558087e-06, 2.0339349737329357e-06, 2.0274781871476237e-06, 2.021098883292713e-06, 2.0147962777295123e-06, 2.0085695787203085e-06, 2.0024179859332177e-06, 1.9963406892225346e-06, 1.9903368674852667e-06, 1.984405687594397e-06, 1.978546303409281e-06, 1.972757854863424e-06, 1.967039467129741e-06, 1.9613902498632414e-06, 1.9558092965209717e-06, 1.9502956837588563e-06, 1.9448484709049766e-06, 1.9394666995086672e-06, 1.934149392964687e-06, 1.9288955562115734e-06, 1.923704175503181e-06, 1.9185742182522515e-06, 1.9135046329447664e-06, 1.908494349123698e-06, 1.9035422774406653e-06, 1.8986473097738939e-06, 1.8938083194107574e-06, 1.889024161293106e-06, 1.8842936723234599e-06, 1.879615671730072e-06, 1.8749889614887729e-06, 1.8704123267994205e-06, 1.8658845366147272e-06, 1.8614043442191301e-06, 1.8569704878553239e-06, 1.852581691396031e-06, 1.8482366650584936e-06, 1.843934106159157e-06, 1.8396726999059427e-06, 1.83545112022551e-06, 1.8312680306228233e-06, 1.8271220850703709e-06, 1.8230119289243213e-06, 1.8189361998649028e-06, 1.8148935288583008e-06, 1.8108825411373366e-06, 1.8069018571982155e-06, 1.8029500938106375e-06, 1.7990258650385726e-06, 1.7951277832690387e-06, 1.7912544602462235e-06, 1.7874045081083466e-06, 1.783576540424683e-06, 1.7797691732302102e-06, 1.7759810260553924e-06, 1.7722107229486603e-06, 1.768456893489233e-06, 1.764718173787919e-06, 1.7609932074736847e-06, 1.7572806466637848e-06, 1.753579152915356e-06, 1.7498873981564305e-06, 1.7462040655944337e-06, 1.7425278506002828e-06, 1.7388574615663232e-06, 1.7351916207364016e-06, 1.7315290650064867e-06, 1.7278685466943451e-06, 1.7242088342768491e-06, 1.7205487130936463e-06, 1.7168869860159658e-06, 1.7132224740794775e-06, 1.7095540170802194e-06, 1.7058804741326902e-06, 1.7022007241893507e-06, 1.698513666520847e-06, 1.6948182211564036e-06, 1.6911133292839252e-06, 1.687397953609466e-06, 1.6836710786758167e-06, 1.6799317111400926e-06, 1.6761788800102791e-06, 1.6724116368408216e-06, 1.668629055887442e-06, 1.6648302342214603e-06, 1.661014291804008e-06, 1.6571803715206149e-06, 1.6533276391767473e-06, 1.6494552834549703e-06, 1.6455625158344954e-06, 1.6416485704739688e-06, 1.6377127040584344e-06, 1.6337541956114893e-06, 1.6297723462737408e-06, 1.6257664790487252e-06, 1.6217359385175496e-06, 1.6176800905235578e-06, 1.6135983218284175e-06, 1.6094900397410507e-06, 1.6053546717209221e-06, 1.601191664957224e-06, 1.5970004859255606e-06, 1.5927806199237745e-06, 1.5885315705885887e-06, 1.5842528593948027e-06, 1.5799440251387557e-06, 1.5756046234078628e-06, 1.5712342260379993e-06, 1.5668324205605478e-06, 1.5623988096409342e-06, 1.5579330105104848e-06, 1.5534346543934277e-06, 1.5489033859308835e-06, 1.54433886260366e-06, 1.5397407541556746e-06, 1.5351087420197931e-06, 1.53044251874788e-06, 1.5257417874467988e-06, 1.521006261222103e-06, 1.516235662631109e-06, 1.5114297231470123e-06, 1.5065881826356593e-06, 1.5017107888465602e-06, 1.4967972969196643e-06, 1.4918474689093728e-06, 1.4868610733272097e-06, 1.4818378847045266e-06, 1.4767776831765249e-06, 1.4716802540888446e-06, 1.4665453876278984e-06, 1.4613728784760333e-06, 1.4561625254925724e-06, 1.4509141314216774e-06, 1.4456275026279193e-06, 1.4403024488603614e-06, 1.4349387830458732e-06, 1.429536321112316e-06, 1.4240948818421695e-06, 1.4186142867570588e-06, 1.41309436003359e-06, 1.4075349284507926e-06, 1.4019358213693844e-06, 1.396296870743011e-06, 1.3906179111614938e-06, 1.3848987799260526e-06, 1.3791393171563918e-06, 1.373339365929433e-06, 1.367498772449407e-06, 1.3616173862489328e-06, 1.355695060420633e-06, 1.349731651878735e-06, 1.3437270216500656e-06, 1.3376810351937165e-06, 1.3315935627486493e-06, 1.3254644797083623e-06, 1.3192936670217273e-06, 1.3130810116190121e-06, 1.306826406862033e-06, 1.3005297530173264e-06, 1.2941909577511697e-06, 1.287809936645217e-06, 1.2813866137314584e-06, 1.27492092204517e-06, 1.2684128041944625e-06, 1.2618622129449886e-06, 1.2552691118183543e-06, 1.2486334757026877e-06, 1.2419552914738504e-06, 1.2352345586256815e-06, 1.2284712899076904e-06, 1.2216655119685477e-06, 1.21481726600374e-06, 1.2079266084057068e-06, 1.200993611414792e-06, 1.194018363769312e-06, 1.1870009713530584e-06, 1.179941557838534e-06, 1.1728402653242439e-06, 1.1656972549643444e-06, 1.158512707588997e-06, 1.1512868243137566e-06, 1.1440198271363645e-06, 1.1367119595193334e-06, 1.129363486956722e-06, 1.121974697523556e-06, 1.1145459024063555e-06, 1.1070774364132827e-06, 1.0995696584624589e-06, 1.0920229520470367e-06, 1.0844377256756652e-06, 1.07681441328704e-06, 1.0691534746372575e-06], \"yaxis\": \"y\"}, {\"legendgroup\": \"2020\", \"marker\": {\"color\": \"rgb(188, 189, 34)\"}, \"mode\": \"lines\", \"name\": \"2020\", \"showlegend\": true, \"type\": \"scatter\", \"x\": [401.0, 730.732, 1060.464, 1390.196, 1719.928, 2049.66, 2379.392, 2709.124, 3038.856, 3368.588, 3698.32, 4028.052, 4357.784, 4687.516, 5017.248, 5346.98, 5676.712, 6006.444, 6336.176, 6665.908, 6995.64, 7325.372, 7655.104, 7984.836, 8314.568, 8644.3, 8974.032, 9303.764, 9633.496, 9963.228, 10292.96, 10622.692, 10952.424, 11282.156, 11611.888, 11941.62, 12271.352, 12601.084, 12930.816, 13260.548, 13590.28, 13920.012, 14249.744, 14579.476, 14909.208, 15238.94, 15568.672, 15898.404, 16228.136, 16557.868000000002, 16887.6, 17217.332, 17547.064, 17876.796, 18206.528, 18536.26, 18865.992, 19195.724, 19525.456, 19855.188, 20184.92, 20514.652, 20844.384, 21174.116, 21503.848, 21833.58, 22163.312, 22493.044, 22822.776, 23152.508, 23482.24, 23811.972, 24141.704, 24471.436, 24801.168, 25130.9, 25460.632, 25790.364, 26120.096, 26449.828, 26779.56, 27109.292, 27439.024, 27768.756, 28098.488, 28428.22, 28757.952, 29087.684, 29417.416, 29747.148, 30076.88, 30406.612, 30736.344, 31066.076, 31395.808, 31725.54, 32055.272, 32385.004, 32714.736, 33044.468, 33374.2, 33703.932, 34033.664, 34363.396, 34693.128, 35022.86, 35352.592, 35682.324, 36012.056, 36341.788, 36671.52, 37001.252, 37330.984, 37660.716, 37990.448, 38320.18, 38649.912, 38979.644, 39309.376, 39639.108, 39968.84, 40298.572, 40628.304, 40958.036, 41287.768, 41617.5, 41947.232, 42276.964, 42606.696, 42936.428, 43266.16, 43595.892, 43925.624, 44255.356, 44585.088, 44914.82, 45244.552, 45574.284, 45904.016, 46233.748, 46563.48, 46893.212, 47222.944, 47552.676, 47882.408, 48212.14, 48541.872, 48871.604, 49201.336, 49531.068, 49860.8, 50190.532, 50520.264, 50849.996, 51179.728, 51509.46, 51839.192, 52168.924, 52498.656, 52828.388, 53158.12, 53487.852, 53817.584, 54147.316, 54477.048, 54806.78, 55136.512, 55466.244, 55795.976, 56125.708, 56455.44, 56785.172, 57114.904, 57444.636, 57774.368, 58104.1, 58433.832, 58763.564, 59093.296, 59423.028, 59752.76, 60082.492, 60412.224, 60741.956, 61071.688, 61401.42, 61731.152, 62060.884, 62390.616, 62720.348, 63050.08, 63379.812, 63709.544, 64039.276, 64369.008, 64698.74, 65028.472, 65358.204, 65687.936, 66017.668, 66347.4, 66677.132, 67006.864, 67336.596, 67666.328, 67996.06, 68325.792, 68655.524, 68985.256, 69314.988, 69644.72, 69974.452, 70304.184, 70633.916, 70963.648, 71293.38, 71623.112, 71952.844, 72282.576, 72612.308, 72942.04, 73271.772, 73601.504, 73931.236, 74260.968, 74590.7, 74920.432, 75250.164, 75579.896, 75909.628, 76239.36, 76569.092, 76898.824, 77228.556, 77558.288, 77888.02, 78217.752, 78547.484, 78877.216, 79206.948, 79536.68, 79866.412, 80196.144, 80525.876, 80855.608, 81185.34, 81515.072, 81844.804, 82174.536, 82504.268, 82834.0, 83163.732, 83493.464, 83823.196, 84152.928, 84482.66, 84812.392, 85142.124, 85471.856, 85801.588, 86131.32, 86461.052, 86790.784, 87120.516, 87450.248, 87779.98, 88109.712, 88439.444, 88769.176, 89098.908, 89428.64, 89758.372, 90088.104, 90417.836, 90747.568, 91077.3, 91407.032, 91736.764, 92066.496, 92396.228, 92725.96, 93055.692, 93385.424, 93715.156, 94044.888, 94374.62, 94704.352, 95034.084, 95363.816, 95693.548, 96023.28, 96353.012, 96682.744, 97012.476, 97342.208, 97671.94, 98001.672, 98331.404, 98661.136, 98990.868, 99320.6, 99650.332, 99980.064, 100309.796, 100639.528, 100969.26, 101298.992, 101628.724, 101958.456, 102288.188, 102617.92, 102947.652, 103277.384, 103607.116, 103936.848, 104266.58, 104596.312, 104926.044, 105255.776, 105585.508, 105915.24, 106244.972, 106574.704, 106904.436, 107234.168, 107563.9, 107893.632, 108223.364, 108553.096, 108882.828, 109212.56, 109542.292, 109872.024, 110201.756, 110531.488, 110861.22, 111190.952, 111520.684, 111850.416, 112180.148, 112509.88, 112839.612, 113169.344, 113499.076, 113828.808, 114158.54, 114488.272, 114818.004, 115147.736, 115477.468, 115807.2, 116136.932, 116466.664, 116796.396, 117126.128, 117455.86, 117785.592, 118115.324, 118445.056, 118774.788, 119104.52, 119434.252, 119763.984, 120093.716, 120423.448, 120753.18, 121082.912, 121412.644, 121742.376, 122072.108, 122401.84, 122731.572, 123061.304, 123391.036, 123720.768, 124050.5, 124380.232, 124709.964, 125039.696, 125369.428, 125699.16, 126028.892, 126358.624, 126688.356, 127018.088, 127347.82, 127677.552, 128007.284, 128337.016, 128666.748, 128996.48, 129326.212, 129655.944, 129985.676, 130315.408, 130645.14, 130974.872, 131304.604, 131634.336, 131964.068, 132293.8, 132623.532, 132953.264, 133282.996, 133612.728, 133942.46, 134272.192, 134601.924, 134931.656, 135261.388, 135591.12, 135920.852, 136250.584, 136580.316, 136910.048, 137239.78, 137569.512, 137899.244, 138228.976, 138558.708, 138888.44, 139218.172, 139547.904, 139877.636, 140207.368, 140537.1, 140866.832, 141196.564, 141526.296, 141856.028, 142185.76, 142515.492, 142845.224, 143174.956, 143504.688, 143834.42, 144164.152, 144493.884, 144823.616, 145153.348, 145483.08, 145812.812, 146142.544, 146472.276, 146802.008, 147131.74, 147461.472, 147791.204, 148120.936, 148450.668, 148780.4, 149110.132, 149439.864, 149769.596, 150099.328, 150429.06, 150758.792, 151088.524, 151418.256, 151747.988, 152077.72, 152407.452, 152737.184, 153066.916, 153396.648, 153726.38, 154056.112, 154385.844, 154715.576, 155045.308, 155375.04, 155704.772, 156034.504, 156364.236, 156693.968, 157023.7, 157353.432, 157683.164, 158012.896, 158342.628, 158672.36, 159002.092, 159331.824, 159661.556, 159991.288, 160321.02, 160650.752, 160980.484, 161310.216, 161639.948, 161969.68, 162299.412, 162629.144, 162958.876, 163288.608, 163618.34, 163948.072, 164277.804, 164607.536, 164937.268], \"xaxis\": \"x\", \"y\": [1.020986556798788e-05, 1.0270373065979022e-05, 1.0329599840732216e-05, 1.0387522793193814e-05, 1.0444119408038746e-05, 1.0499367770405171e-05, 1.0553246582157329e-05, 1.0605735177658986e-05, 1.0656813539040405e-05, 1.0706462310942604e-05, 1.0754662814722997e-05, 1.080139706210734e-05, 1.0846647768273444e-05, 1.0890398364352885e-05, 1.0932633009337557e-05, 1.0973336601378699e-05, 1.1012494788466718e-05, 1.1050093978480779e-05, 1.1086121348598227e-05, 1.1120564854054154e-05, 1.115341323624275e-05, 1.1184656030152489e-05, 1.1214283571128194e-05, 1.1242287000953768e-05, 1.1268658273250255e-05, 1.1293390158184659e-05, 1.131647624648582e-05, 1.1337910952764488e-05, 1.135768951813553e-05, 1.1375808012141078e-05, 1.1392263333974259e-05, 1.140705321300396e-05, 1.1420176208601952e-05, 1.1431631709274443e-05, 1.1441419931101051e-05, 1.1449541915484932e-05, 1.145599952621862e-05, 1.1460795445870912e-05, 1.1463933171500947e-05, 1.1465417009706393e-05, 1.1465252071013374e-05, 1.1463444263616551e-05, 1.1460000286478468e-05, 1.1454927621798069e-05, 1.1448234526858804e-05, 1.143993002526765e-05, 1.143002389759681e-05, 1.1418526671440702e-05, 1.1405449610901178e-05, 1.1390804705514867e-05, 1.1374604658636801e-05, 1.1356862875295142e-05, 1.1337593449532402e-05, 1.1316811151248946e-05, 1.1294531412565134e-05, 1.1270770313718788e-05, 1.1245544568515219e-05, 1.121887150934737e-05, 1.1190769071803952e-05, 1.116125577888395e-05, 1.1130350724835952e-05, 1.1098073558641262e-05, 1.106444446715989e-05, 1.1029484157958739e-05, 1.0993213841841556e-05, 1.095565521510037e-05, 1.0916830441508233e-05, 1.0876762134073281e-05, 1.083547333657415e-05, 1.079298750489684e-05, 1.0749328488193206e-05, 1.0704520509881217e-05, 1.0658588148507082e-05, 1.0611556318489328e-05, 1.0563450250764858e-05, 1.051429547335681e-05, 1.0464117791884089e-05, 1.0412943270032087e-05, 1.0360798210004045e-05, 1.0307709132972374e-05, 1.0253702759548869e-05, 1.0198805990292572e-05, 1.0143045886273865e-05, 1.0086449649712944e-05, 1.0029044604710577e-05, 9.97085817808878e-06, 9.911917880358555e-06, 9.852251286831626e-06, 9.791886018892658e-06, 9.730849725447977e-06, 9.669170064566532e-06, 9.606874685328347e-06, 9.543991209895233e-06, 9.480547215818119e-06, 9.416570218594948e-06, 9.352087654492466e-06, 9.287126863644892e-06, 9.221715073441905e-06, 9.155879382217828e-06, 9.089646743253475e-06, 9.023043949101582e-06, 8.956097616246124e-06, 8.888834170105463e-06, 8.8212798303886e-06, 8.753460596813366e-06, 8.685402235194751e-06, 8.617130263911185e-06, 8.548669940755847e-06, 8.480046250179766e-06, 8.411283890932751e-06, 8.34240726410779e-06, 8.273440461593929e-06, 8.20440725494222e-06, 8.135331084648696e-06, 8.066235049857892e-06, 7.997141898489906e-06, 7.928074017793469e-06, 7.859053425326993e-06, 7.790101760369144e-06, 7.721240275759844e-06, 7.652489830172406e-06, 7.583870880816677e-06, 7.515403476572985e-06, 7.4471072515559555e-06, 7.37900141910698e-06, 7.311104766213616e-06, 7.243435648353906e-06, 7.176011984762982e-06, 7.108851254119208e-06, 7.041970490646491e-06, 6.975386280629176e-06, 6.909114759335555e-06, 6.8431716083455915e-06, 6.777572053278335e-06, 6.712330861913893e-06, 6.6474623427048545e-06, 6.582980343671491e-06, 6.518898251674965e-06, 6.455228992062397e-06, 6.3919850286775335e-06, 6.329178364230292e-06, 6.2668205410185515e-06, 6.2049226419950096e-06, 6.1434952921720154e-06, 6.0825486603568996e-06, 6.0220924612102785e-06, 5.962135957619585e-06, 5.902687963379941e-06, 5.8437568461743924e-06, 5.785350530845326e-06, 5.72747650294885e-06, 5.670141812583809e-06, 5.613353078486952e-06, 5.557116492385787e-06, 5.50143782360051e-06, 5.4463224238864034e-06, 5.391775232508002e-06, 5.337800781536331e-06, 5.28440320136043e-06, 5.231586226404483e-06, 5.179353201041704e-06, 5.127707085696276e-06, 5.076650463124542e-06, 5.026185544866752e-06, 4.9763141778606306e-06, 4.92703785120809e-06, 4.878357703086446e-06, 4.830274527795591e-06, 4.782788782932494e-06, 4.735900596684694e-06, 4.689609775234218e-06, 4.643915810263744e-06, 4.598817886556646e-06, 4.5543148896827855e-06, 4.510405413761992e-06, 4.467087769297179e-06, 4.424359991069298e-06, 4.382219846086225e-06, 4.340664841578004e-06, 4.299692233030798e-06, 4.259299032252142e-06, 4.219482015460091e-06, 4.1802377313891015e-06, 4.14156250940553e-06, 4.103452467625711e-06, 4.065903521029874e-06, 4.0289113895650745e-06, 3.992471606230628e-06, 3.956579525139558e-06, 3.921230329549741e-06, 3.886419039858595e-06, 3.85214052155524e-06, 3.818389493124264e-06, 3.785160533895304e-06, 3.752448091832869e-06, 3.7202464912608914e-06, 3.688549940516728e-06, 3.6573525395294e-06, 3.626648287317048e-06, 3.596431089398763e-06, 3.566694765115969e-06, 3.5374330548588813e-06, 3.5086396271935305e-06, 3.480308085885094e-06, 3.4524319768134143e-06, 3.425004794776695e-06, 3.3980199901795775e-06, 3.371470975601907e-06, 3.3453511322446404e-06, 3.3196538162495723e-06, 3.2943723648896238e-06, 3.2695001026266286e-06, 3.245030347033725e-06, 3.2209564145795787e-06, 3.197271626271835e-06, 3.1739693131573436e-06, 3.151042821676867e-06, 3.128485518872112e-06, 3.106290797443111e-06, 3.0844520806541154e-06, 3.062962827086273e-06, 3.0418165352356295e-06, 3.021006747955023e-06, 3.000527056738659e-06, 2.980371105848303e-06, 2.960532596280152e-06, 2.941005289571643e-06, 2.9217830114475477e-06, 2.9028596553049052e-06, 2.884229185536489e-06, 2.8658856406926023e-06, 2.847823136481223e-06, 2.8300358686066027e-06, 2.812518115446605e-06, 2.795264240569206e-06, 2.7782686950887235e-06, 2.761526019862478e-06, 2.745030847528747e-06, 2.7287779043870135e-06, 2.712762012121618e-06, 2.6969780893701117e-06, 2.681421153137706e-06, 2.666086320059354e-06, 2.650968807511153e-06, 2.636063934572859e-06, 2.6213671228434487e-06, 2.6068738971117923e-06, 2.592579885884612e-06, 2.5784808217740235e-06, 2.5645725417470795e-06, 2.550850987239866e-06, 2.5373122041387707e-06, 2.5239523426316867e-06, 2.5107676569320324e-06, 2.4977545048784923e-06, 2.4849093474136166e-06, 2.4722287479443537e-06, 2.4597093715878207e-06, 2.4473479843056153e-06, 2.4351414519300743e-06, 2.4230867390860077e-06, 2.4111809080114414e-06, 2.399421117281013e-06, 2.3878046204357502e-06, 2.3763287645229545e-06, 2.3649909885500388e-06, 2.3537888218561926e-06, 2.3427198824057605e-06, 2.3317818750073453e-06, 2.3209725894625807e-06, 2.3102898986486355e-06, 2.299731756538492e-06, 2.2892961961630653e-06, 2.2789813275192755e-06, 2.2687853354281528e-06, 2.2587064773471054e-06, 2.2487430811404237e-06, 2.238893542812158e-06, 2.2291563242054463e-06, 2.2195299506723524e-06, 2.2100130087182956e-06, 2.200604143625078e-06, 2.191302057056509e-06, 2.1821055046505906e-06, 2.173013293602175e-06, 2.164024280239962e-06, 2.1551373676016467e-06, 2.146351503011e-06, 2.137665675660539e-06, 2.1290789142034557e-06, 2.120590284358333e-06, 2.112198886530153e-06, 2.1039038534509826e-06, 2.095704347843654e-06, 2.087599560111683e-06, 2.07958870605855e-06, 2.0716710246393713e-06, 2.063845775747926e-06, 2.056112238041845e-06, 2.048469706808715e-06, 2.040917491875696e-06, 2.033454915565162e-06, 2.026081310698761e-06, 2.018796018652159e-06, 2.0115983874626114e-06, 2.0044877699914034e-06, 1.9974635221430507e-06, 1.9905250011430387e-06, 1.9836715638757525e-06, 1.9769025652841096e-06, 1.9702173568322976e-06, 1.963615285032855e-06, 1.957095690039253e-06, 1.9506579043049306e-06, 1.944301251309697e-06, 1.938025044354191e-06, 1.9318285854230253e-06, 1.925711164117075e-06, 1.9196720566552413e-06, 1.91371052494594e-06, 1.907825815728346e-06, 1.902017159783395e-06, 1.8962837712143504e-06, 1.8906248467966763e-06, 1.8850395653967644e-06, 1.8795270874590337e-06, 1.8740865545607315e-06, 1.868717089033693e-06, 1.8634177936521953e-06, 1.8581877513859277e-06, 1.8530260252170136e-06, 1.8479316580198962e-06, 1.8429036725028415e-06, 1.8379410712096557e-06, 1.8330428365802062e-06, 1.8282079310681764e-06, 1.8234352973144513e-06, 1.8187238583744398e-06, 1.8140725179975542e-06, 1.8094801609570206e-06, 1.8049456534281243e-06, 1.800467843412921e-06, 1.7960455612094128e-06, 1.7916776199231255e-06, 1.787362816018975e-06, 1.7830999299112914e-06, 1.7788877265898055e-06, 1.774724956279399e-06, 1.7706103551313772e-06, 1.766542645944011e-06, 1.7625205389100783e-06, 1.7585427323891178e-06, 1.754607913702121e-06, 1.7507147599463546e-06, 1.7468619388280524e-06, 1.7430481095106793e-06, 1.7392719234765188e-06, 1.7355320253993398e-06, 1.7318270540259067e-06, 1.7281556430641479e-06, 1.7245164220758182e-06, 1.7209080173715147e-06, 1.7173290529059633e-06, 1.7137781511715194e-06, 1.710253934087889e-06, 1.7067550238861111e-06, 1.7032800439849028e-06, 1.6998276198575319e-06, 1.6963963798874267e-06, 1.6929849562108155e-06, 1.689591985544734e-06, 1.686216109998826e-06, 1.6828559778694214e-06, 1.6795102444144529e-06, 1.6761775726078515e-06, 1.672856633872141e-06, 1.669546108788014e-06, 1.6662446877797856e-06, 1.662951071775658e-06, 1.6596639728418685e-06, 1.6563821147898257e-06, 1.6531042337554538e-06, 1.6498290787500556e-06, 1.6465554121820588e-06, 1.6432820103491378e-06, 1.6400076639002623e-06, 1.6367311782673208e-06, 1.6334513740660452e-06, 1.6301670874660706e-06, 1.6268771705300142e-06, 1.623580491521577e-06, 1.6202759351827268e-06, 1.6169624029801263e-06, 1.613638813321026e-06, 1.6103041017389435e-06, 1.6069572210495084e-06, 1.6035971414769478e-06, 1.6002228507517267e-06, 1.5968333541799767e-06, 1.5934276746853656e-06, 1.5900048528241517e-06, 1.5865639467742381e-06, 1.5831040322990722e-06, 1.579624202687325e-06, 1.5761235686693155e-06, 1.5726012583112142e-06, 1.5690564168880865e-06, 1.5654882067369162e-06, 1.5618958070907422e-06, 1.5582784138951337e-06, 1.5546352396082107e-06, 1.5509655129854982e-06, 1.5472684788508831e-06, 1.5435433978550026e-06, 1.5397895462223947e-06, 1.5360062154887598e-06, 1.5321927122297002e-06, 1.5283483577823105e-06, 1.524472487960994e-06, 1.5205644527688915e-06, 1.5166236161062947e-06, 1.5126493554774175e-06, 1.5086410616968936e-06, 1.504598138597348e-06, 1.500520002739375e-06, 1.4964060831252405e-06, 1.4922558209176047e-06, 1.4880686691645217e-06, 1.4838440925319614e-06, 1.4795815670450532e-06, 1.4752805798392223e-06, 1.4709406289223509e-06, 1.466561222949044e-06, 1.4621418810080573e-06, 1.457682132423877e-06, 1.4531815165734085e-06, 1.448639582718662e-06, 1.4440558898562902e-06, 1.4394300065847631e-06, 1.434761510989915e-06, 1.4300499905495274e-06, 1.4252950420575802e-06, 1.4204962715686976e-06, 1.4156532943632914e-06, 1.410765734933825e-06, 1.4058332269925386e-06, 1.4008554135009513e-06, 1.395831946721342e-06, 1.3907624882903724e-06, 1.3856467093149474e-06, 1.3804842904903289e-06, 1.3752749222404448e-06, 1.3700183048803045e-06, 1.3647141488003063e-06, 1.3593621746722177e-06, 1.3539621136764926e-06, 1.3485137077505533e-06, 1.3430167098575925e-06, 1.3374708842753877e-06, 1.3318760069045496e-06, 1.326231865595589e-06, 1.320538260494097e-06, 1.3147950044033029e-06, 1.3090019231632006e-06, 1.3031588560453943e-06, 1.297265656162746e-06, 1.2913221908928823e-06, 1.2853283423145405e-06, 1.279284007655732e-06, 1.2731890997525942e-06, 1.267043547517845e-06, 1.2608472964176483e-06, 1.254600308955692e-06, 1.2483025651632608e-06, 1.2419540630940393e-06, 1.235554819322354e-06, 1.2291048694435683e-06, 1.2226042685752838e-06, 1.2160530918580252e-06, 1.2094514349540556e-06, 1.2027994145429423e-06, 1.1960971688125318e-06, 1.1893448579439428e-06, 1.1825426645892114e-06, 1.1756907943402312e-06, 1.1687894761876086e-06, 1.1618389629681046e-06, 1.1548395317993017e-06, 1.1477914845001953e-06, 1.140695147996391e-06, 1.1335508747086357e-06, 1.1263590429234207e-06, 1.1191200571444348e-06, 1.111834348423665e-06, 1.104502374670983e-06, 1.0971246209410926e-06, 1.0897015996967425e-06, 1.0822338510471633e-06, 1.0747219429607215e-06, 1.0671664714508328e-06], \"yaxis\": \"y\"}],\n",
              "                        {\"barmode\": \"overlay\", \"hovermode\": \"closest\", \"legend\": {\"traceorder\": \"reversed\"}, \"template\": {\"data\": {\"bar\": [{\"error_x\": {\"color\": \"#2a3f5f\"}, \"error_y\": {\"color\": \"#2a3f5f\"}, \"marker\": {\"line\": {\"color\": \"#E5ECF6\", \"width\": 0.5}}, \"type\": \"bar\"}], \"barpolar\": [{\"marker\": {\"line\": {\"color\": \"#E5ECF6\", \"width\": 0.5}}, \"type\": \"barpolar\"}], \"carpet\": [{\"aaxis\": {\"endlinecolor\": \"#2a3f5f\", \"gridcolor\": \"white\", \"linecolor\": \"white\", \"minorgridcolor\": \"white\", \"startlinecolor\": \"#2a3f5f\"}, \"baxis\": {\"endlinecolor\": \"#2a3f5f\", \"gridcolor\": \"white\", \"linecolor\": \"white\", \"minorgridcolor\": \"white\", \"startlinecolor\": \"#2a3f5f\"}, \"type\": \"carpet\"}], \"choropleth\": [{\"colorbar\": {\"outlinewidth\": 0, \"ticks\": \"\"}, \"type\": \"choropleth\"}], \"contour\": [{\"colorbar\": {\"outlinewidth\": 0, \"ticks\": \"\"}, \"colorscale\": [[0.0, \"#0d0887\"], [0.1111111111111111, \"#46039f\"], [0.2222222222222222, \"#7201a8\"], [0.3333333333333333, \"#9c179e\"], [0.4444444444444444, \"#bd3786\"], [0.5555555555555556, \"#d8576b\"], [0.6666666666666666, \"#ed7953\"], [0.7777777777777778, \"#fb9f3a\"], [0.8888888888888888, \"#fdca26\"], [1.0, \"#f0f921\"]], \"type\": \"contour\"}], \"contourcarpet\": [{\"colorbar\": {\"outlinewidth\": 0, \"ticks\": \"\"}, \"type\": \"contourcarpet\"}], \"heatmap\": [{\"colorbar\": {\"outlinewidth\": 0, \"ticks\": \"\"}, \"colorscale\": [[0.0, \"#0d0887\"], [0.1111111111111111, \"#46039f\"], [0.2222222222222222, \"#7201a8\"], [0.3333333333333333, \"#9c179e\"], [0.4444444444444444, \"#bd3786\"], [0.5555555555555556, \"#d8576b\"], [0.6666666666666666, \"#ed7953\"], [0.7777777777777778, \"#fb9f3a\"], [0.8888888888888888, \"#fdca26\"], [1.0, \"#f0f921\"]], \"type\": \"heatmap\"}], \"heatmapgl\": [{\"colorbar\": {\"outlinewidth\": 0, \"ticks\": \"\"}, \"colorscale\": [[0.0, \"#0d0887\"], [0.1111111111111111, \"#46039f\"], [0.2222222222222222, \"#7201a8\"], [0.3333333333333333, \"#9c179e\"], [0.4444444444444444, \"#bd3786\"], [0.5555555555555556, \"#d8576b\"], [0.6666666666666666, \"#ed7953\"], [0.7777777777777778, \"#fb9f3a\"], [0.8888888888888888, \"#fdca26\"], [1.0, \"#f0f921\"]], \"type\": \"heatmapgl\"}], \"histogram\": [{\"marker\": {\"colorbar\": {\"outlinewidth\": 0, \"ticks\": \"\"}}, \"type\": \"histogram\"}], \"histogram2d\": [{\"colorbar\": {\"outlinewidth\": 0, \"ticks\": \"\"}, \"colorscale\": [[0.0, \"#0d0887\"], [0.1111111111111111, \"#46039f\"], [0.2222222222222222, \"#7201a8\"], [0.3333333333333333, \"#9c179e\"], [0.4444444444444444, \"#bd3786\"], [0.5555555555555556, \"#d8576b\"], [0.6666666666666666, \"#ed7953\"], [0.7777777777777778, \"#fb9f3a\"], [0.8888888888888888, \"#fdca26\"], [1.0, \"#f0f921\"]], \"type\": \"histogram2d\"}], \"histogram2dcontour\": [{\"colorbar\": {\"outlinewidth\": 0, \"ticks\": \"\"}, \"colorscale\": [[0.0, \"#0d0887\"], [0.1111111111111111, \"#46039f\"], [0.2222222222222222, \"#7201a8\"], [0.3333333333333333, \"#9c179e\"], [0.4444444444444444, \"#bd3786\"], [0.5555555555555556, \"#d8576b\"], [0.6666666666666666, \"#ed7953\"], [0.7777777777777778, \"#fb9f3a\"], [0.8888888888888888, \"#fdca26\"], [1.0, \"#f0f921\"]], \"type\": \"histogram2dcontour\"}], \"mesh3d\": [{\"colorbar\": {\"outlinewidth\": 0, \"ticks\": \"\"}, \"type\": \"mesh3d\"}], \"parcoords\": [{\"line\": {\"colorbar\": {\"outlinewidth\": 0, \"ticks\": \"\"}}, \"type\": \"parcoords\"}], \"pie\": [{\"automargin\": true, \"type\": \"pie\"}], \"scatter\": [{\"marker\": {\"colorbar\": {\"outlinewidth\": 0, \"ticks\": \"\"}}, \"type\": \"scatter\"}], \"scatter3d\": [{\"line\": {\"colorbar\": {\"outlinewidth\": 0, \"ticks\": \"\"}}, \"marker\": {\"colorbar\": {\"outlinewidth\": 0, \"ticks\": \"\"}}, \"type\": \"scatter3d\"}], \"scattercarpet\": [{\"marker\": {\"colorbar\": {\"outlinewidth\": 0, \"ticks\": \"\"}}, \"type\": \"scattercarpet\"}], \"scattergeo\": [{\"marker\": {\"colorbar\": {\"outlinewidth\": 0, \"ticks\": \"\"}}, \"type\": \"scattergeo\"}], \"scattergl\": [{\"marker\": {\"colorbar\": {\"outlinewidth\": 0, \"ticks\": \"\"}}, \"type\": \"scattergl\"}], \"scattermapbox\": [{\"marker\": {\"colorbar\": {\"outlinewidth\": 0, \"ticks\": \"\"}}, \"type\": \"scattermapbox\"}], \"scatterpolar\": [{\"marker\": {\"colorbar\": {\"outlinewidth\": 0, \"ticks\": \"\"}}, \"type\": \"scatterpolar\"}], \"scatterpolargl\": [{\"marker\": {\"colorbar\": {\"outlinewidth\": 0, \"ticks\": \"\"}}, \"type\": \"scatterpolargl\"}], \"scatterternary\": [{\"marker\": {\"colorbar\": {\"outlinewidth\": 0, \"ticks\": \"\"}}, \"type\": \"scatterternary\"}], \"surface\": [{\"colorbar\": {\"outlinewidth\": 0, \"ticks\": \"\"}, \"colorscale\": [[0.0, \"#0d0887\"], [0.1111111111111111, \"#46039f\"], [0.2222222222222222, \"#7201a8\"], [0.3333333333333333, \"#9c179e\"], [0.4444444444444444, \"#bd3786\"], [0.5555555555555556, \"#d8576b\"], [0.6666666666666666, \"#ed7953\"], [0.7777777777777778, \"#fb9f3a\"], [0.8888888888888888, \"#fdca26\"], [1.0, \"#f0f921\"]], \"type\": \"surface\"}], \"table\": [{\"cells\": {\"fill\": {\"color\": \"#EBF0F8\"}, \"line\": {\"color\": \"white\"}}, \"header\": {\"fill\": {\"color\": \"#C8D4E3\"}, \"line\": {\"color\": \"white\"}}, \"type\": \"table\"}]}, \"layout\": {\"annotationdefaults\": {\"arrowcolor\": \"#2a3f5f\", \"arrowhead\": 0, \"arrowwidth\": 1}, \"coloraxis\": {\"colorbar\": {\"outlinewidth\": 0, \"ticks\": \"\"}}, \"colorscale\": {\"diverging\": [[0, \"#8e0152\"], [0.1, \"#c51b7d\"], [0.2, \"#de77ae\"], [0.3, \"#f1b6da\"], [0.4, \"#fde0ef\"], [0.5, \"#f7f7f7\"], [0.6, \"#e6f5d0\"], [0.7, \"#b8e186\"], [0.8, \"#7fbc41\"], [0.9, \"#4d9221\"], [1, \"#276419\"]], \"sequential\": [[0.0, \"#0d0887\"], [0.1111111111111111, \"#46039f\"], [0.2222222222222222, \"#7201a8\"], [0.3333333333333333, \"#9c179e\"], [0.4444444444444444, \"#bd3786\"], [0.5555555555555556, \"#d8576b\"], [0.6666666666666666, \"#ed7953\"], [0.7777777777777778, \"#fb9f3a\"], [0.8888888888888888, \"#fdca26\"], [1.0, \"#f0f921\"]], \"sequentialminus\": [[0.0, \"#0d0887\"], [0.1111111111111111, \"#46039f\"], [0.2222222222222222, \"#7201a8\"], [0.3333333333333333, \"#9c179e\"], [0.4444444444444444, \"#bd3786\"], [0.5555555555555556, \"#d8576b\"], [0.6666666666666666, \"#ed7953\"], [0.7777777777777778, \"#fb9f3a\"], [0.8888888888888888, \"#fdca26\"], [1.0, \"#f0f921\"]]}, \"colorway\": [\"#636efa\", \"#EF553B\", \"#00cc96\", \"#ab63fa\", \"#FFA15A\", \"#19d3f3\", \"#FF6692\", \"#B6E880\", \"#FF97FF\", \"#FECB52\"], \"font\": {\"color\": \"#2a3f5f\"}, \"geo\": {\"bgcolor\": \"white\", \"lakecolor\": \"white\", \"landcolor\": \"#E5ECF6\", \"showlakes\": true, \"showland\": true, \"subunitcolor\": \"white\"}, \"hoverlabel\": {\"align\": \"left\"}, \"hovermode\": \"closest\", \"mapbox\": {\"style\": \"light\"}, \"paper_bgcolor\": \"white\", \"plot_bgcolor\": \"#E5ECF6\", \"polar\": {\"angularaxis\": {\"gridcolor\": \"white\", \"linecolor\": \"white\", \"ticks\": \"\"}, \"bgcolor\": \"#E5ECF6\", \"radialaxis\": {\"gridcolor\": \"white\", \"linecolor\": \"white\", \"ticks\": \"\"}}, \"scene\": {\"xaxis\": {\"backgroundcolor\": \"#E5ECF6\", \"gridcolor\": \"white\", \"gridwidth\": 2, \"linecolor\": \"white\", \"showbackground\": true, \"ticks\": \"\", \"zerolinecolor\": \"white\"}, \"yaxis\": {\"backgroundcolor\": \"#E5ECF6\", \"gridcolor\": \"white\", \"gridwidth\": 2, \"linecolor\": \"white\", \"showbackground\": true, \"ticks\": \"\", \"zerolinecolor\": \"white\"}, \"zaxis\": {\"backgroundcolor\": \"#E5ECF6\", \"gridcolor\": \"white\", \"gridwidth\": 2, \"linecolor\": \"white\", \"showbackground\": true, \"ticks\": \"\", \"zerolinecolor\": \"white\"}}, \"shapedefaults\": {\"line\": {\"color\": \"#2a3f5f\"}}, \"ternary\": {\"aaxis\": {\"gridcolor\": \"white\", \"linecolor\": \"white\", \"ticks\": \"\"}, \"baxis\": {\"gridcolor\": \"white\", \"linecolor\": \"white\", \"ticks\": \"\"}, \"bgcolor\": \"#E5ECF6\", \"caxis\": {\"gridcolor\": \"white\", \"linecolor\": \"white\", \"ticks\": \"\"}}, \"title\": {\"x\": 0.05}, \"xaxis\": {\"automargin\": true, \"gridcolor\": \"white\", \"linecolor\": \"white\", \"ticks\": \"\", \"title\": {\"standoff\": 15}, \"zerolinecolor\": \"white\", \"zerolinewidth\": 2}, \"yaxis\": {\"automargin\": true, \"gridcolor\": \"white\", \"linecolor\": \"white\", \"ticks\": \"\", \"title\": {\"standoff\": 15}, \"zerolinecolor\": \"white\", \"zerolinewidth\": 2}}}, \"xaxis\": {\"anchor\": \"y2\", \"domain\": [0.0, 1.0], \"zeroline\": false}, \"yaxis\": {\"anchor\": \"free\", \"domain\": [0.0, 1], \"position\": 0.0}},\n",
              "                        {\"responsive\": true}\n",
              "                    ).then(function(){\n",
              "                            \n",
              "var gd = document.getElementById('bab8c670-8803-4c9f-8033-00953efd6b08');\n",
              "var x = new MutationObserver(function (mutations, observer) {{\n",
              "        var display = window.getComputedStyle(gd).display;\n",
              "        if (!display || display === 'none') {{\n",
              "            console.log([gd, 'removed!']);\n",
              "            Plotly.purge(gd);\n",
              "            observer.disconnect();\n",
              "        }}\n",
              "}});\n",
              "\n",
              "// Listen for the removal of the full notebook cells\n",
              "var notebookContainer = gd.closest('#notebook-container');\n",
              "if (notebookContainer) {{\n",
              "    x.observe(notebookContainer, {childList: true});\n",
              "}}\n",
              "\n",
              "// Listen for the clearing of the current output cell\n",
              "var outputEl = gd.closest('.output');\n",
              "if (outputEl) {{\n",
              "    x.observe(outputEl, {childList: true});\n",
              "}}\n",
              "\n",
              "                        })\n",
              "                };\n",
              "                \n",
              "            </script>\n",
              "        </div>\n",
              "</body>\n",
              "</html>"
            ]
          },
          "metadata": {
            "tags": []
          }
        }
      ]
    },
    {
      "cell_type": "code",
      "metadata": {
        "colab": {
          "base_uri": "https://localhost:8080/",
          "height": 542
        },
        "id": "kVMHX3xydDNo",
        "outputId": "27a60116-8d37-4993-c5b5-a2f811b5a2a4"
      },
      "source": [
        "distplot.update_layout(title_text=\"Distribution of Enrolled Count in Maryland Public Schools\") # update the figure to add a title\n",
        "distplot.update_xaxes(title = \"Enrolled Count\") # update the figure to add an x-axis label\n",
        "distplot.update_yaxes(title = \"Density\") # update the figure to add a y axis label"
      ],
      "execution_count": 48,
      "outputs": [
        {
          "output_type": "display_data",
          "data": {
            "text/html": [
              "<html>\n",
              "<head><meta charset=\"utf-8\" /></head>\n",
              "<body>\n",
              "    <div>\n",
              "            <script src=\"https://cdnjs.cloudflare.com/ajax/libs/mathjax/2.7.5/MathJax.js?config=TeX-AMS-MML_SVG\"></script><script type=\"text/javascript\">if (window.MathJax) {MathJax.Hub.Config({SVG: {font: \"STIX-Web\"}});}</script>\n",
              "                <script type=\"text/javascript\">window.PlotlyConfig = {MathJaxConfig: 'local'};</script>\n",
              "        <script src=\"https://cdn.plot.ly/plotly-latest.min.js\"></script>    \n",
              "            <div id=\"7fdea762-d5ff-4d0a-83e9-27e2a5634a90\" class=\"plotly-graph-div\" style=\"height:525px; width:100%;\"></div>\n",
              "            <script type=\"text/javascript\">\n",
              "                \n",
              "                    window.PLOTLYENV=window.PLOTLYENV || {};\n",
              "                    \n",
              "                if (document.getElementById(\"7fdea762-d5ff-4d0a-83e9-27e2a5634a90\")) {\n",
              "                    Plotly.newPlot(\n",
              "                        '7fdea762-d5ff-4d0a-83e9-27e2a5634a90',\n",
              "                        [{\"legendgroup\": \"2012\", \"marker\": {\"color\": \"rgb(31, 119, 180)\"}, \"mode\": \"lines\", \"name\": \"2012\", \"showlegend\": true, \"type\": \"scatter\", \"x\": [308.0, 600.302, 892.604, 1184.906, 1477.208, 1769.51, 2061.812, 2354.114, 2646.416, 2938.718, 3231.02, 3523.322, 3815.624, 4107.9259999999995, 4400.228, 4692.53, 4984.832, 5277.134, 5569.436, 5861.738, 6154.04, 6446.342, 6738.644, 7030.946, 7323.248, 7615.55, 7907.852, 8200.154, 8492.456, 8784.758, 9077.06, 9369.362, 9661.664, 9953.966, 10246.268, 10538.57, 10830.872, 11123.174, 11415.476, 11707.778, 12000.08, 12292.382, 12584.684, 12876.986, 13169.288, 13461.59, 13753.892, 14046.194, 14338.496, 14630.798, 14923.1, 15215.402, 15507.704, 15800.006, 16092.308, 16384.61, 16676.912, 16969.214, 17261.516, 17553.818, 17846.12, 18138.422, 18430.724, 18723.026, 19015.328, 19307.63, 19599.932, 19892.234, 20184.536, 20476.838, 20769.14, 21061.442, 21353.744, 21646.046, 21938.348, 22230.65, 22522.952, 22815.254, 23107.556, 23399.858, 23692.16, 23984.462, 24276.764, 24569.066, 24861.368, 25153.67, 25445.972, 25738.274, 26030.576, 26322.878, 26615.18, 26907.482, 27199.784, 27492.086, 27784.388, 28076.69, 28368.992, 28661.294, 28953.596, 29245.898, 29538.2, 29830.502, 30122.804, 30415.106, 30707.408, 30999.71, 31292.012, 31584.314, 31876.616, 32168.918, 32461.22, 32753.522, 33045.824, 33338.126, 33630.428, 33922.73, 34215.032, 34507.334, 34799.636, 35091.938, 35384.24, 35676.542, 35968.844, 36261.146, 36553.448, 36845.75, 37138.052, 37430.354, 37722.656, 38014.958, 38307.26, 38599.562, 38891.864, 39184.166, 39476.468, 39768.77, 40061.072, 40353.374, 40645.676, 40937.978, 41230.28, 41522.582, 41814.884, 42107.186, 42399.488, 42691.79, 42984.092, 43276.394, 43568.696, 43860.998, 44153.3, 44445.602, 44737.904, 45030.206, 45322.508, 45614.81, 45907.112, 46199.414, 46491.716, 46784.018, 47076.32, 47368.622, 47660.924, 47953.226, 48245.528, 48537.83, 48830.132, 49122.434, 49414.736, 49707.038, 49999.34, 50291.642, 50583.944, 50876.246, 51168.548, 51460.85, 51753.152, 52045.454, 52337.756, 52630.058, 52922.36, 53214.662, 53506.964, 53799.266, 54091.568, 54383.87, 54676.172, 54968.474, 55260.776, 55553.078, 55845.38, 56137.682, 56429.984, 56722.286, 57014.588, 57306.89, 57599.192, 57891.494, 58183.796, 58476.098, 58768.4, 59060.702, 59353.004, 59645.306, 59937.608, 60229.91, 60522.212, 60814.514, 61106.816, 61399.118, 61691.42, 61983.722, 62276.024, 62568.326, 62860.628, 63152.93, 63445.232, 63737.534, 64029.836, 64322.138, 64614.44, 64906.742, 65199.044, 65491.346, 65783.648, 66075.95, 66368.252, 66660.554, 66952.856, 67245.158, 67537.46, 67829.762, 68122.064, 68414.366, 68706.668, 68998.97, 69291.272, 69583.574, 69875.876, 70168.178, 70460.48, 70752.782, 71045.084, 71337.386, 71629.688, 71921.99, 72214.292, 72506.594, 72798.896, 73091.198, 73383.5, 73675.802, 73968.104, 74260.406, 74552.708, 74845.01, 75137.312, 75429.614, 75721.916, 76014.218, 76306.52, 76598.822, 76891.124, 77183.426, 77475.728, 77768.03, 78060.332, 78352.634, 78644.936, 78937.238, 79229.54, 79521.842, 79814.144, 80106.446, 80398.748, 80691.05, 80983.352, 81275.654, 81567.956, 81860.258, 82152.56, 82444.862, 82737.164, 83029.466, 83321.768, 83614.07, 83906.372, 84198.674, 84490.976, 84783.278, 85075.58, 85367.882, 85660.184, 85952.486, 86244.788, 86537.09, 86829.392, 87121.694, 87413.996, 87706.298, 87998.6, 88290.902, 88583.204, 88875.506, 89167.808, 89460.11, 89752.412, 90044.714, 90337.016, 90629.318, 90921.62, 91213.922, 91506.224, 91798.526, 92090.828, 92383.13, 92675.432, 92967.734, 93260.036, 93552.338, 93844.64, 94136.942, 94429.244, 94721.546, 95013.848, 95306.15, 95598.452, 95890.754, 96183.056, 96475.358, 96767.66, 97059.962, 97352.264, 97644.566, 97936.868, 98229.17, 98521.472, 98813.774, 99106.076, 99398.378, 99690.68, 99982.982, 100275.284, 100567.586, 100859.888, 101152.19, 101444.492, 101736.794, 102029.096, 102321.398, 102613.7, 102906.002, 103198.304, 103490.606, 103782.908, 104075.21, 104367.512, 104659.814, 104952.116, 105244.418, 105536.72, 105829.022, 106121.324, 106413.626, 106705.928, 106998.23, 107290.532, 107582.834, 107875.136, 108167.438, 108459.74, 108752.042, 109044.344, 109336.646, 109628.948, 109921.25, 110213.552, 110505.854, 110798.156, 111090.458, 111382.76, 111675.062, 111967.364, 112259.666, 112551.968, 112844.27, 113136.572, 113428.874, 113721.176, 114013.478, 114305.78, 114598.082, 114890.384, 115182.686, 115474.988, 115767.29, 116059.592, 116351.894, 116644.196, 116936.498, 117228.8, 117521.102, 117813.404, 118105.706, 118398.008, 118690.31, 118982.612, 119274.914, 119567.216, 119859.518, 120151.82, 120444.122, 120736.424, 121028.726, 121321.028, 121613.33, 121905.632, 122197.934, 122490.236, 122782.538, 123074.84, 123367.142, 123659.444, 123951.746, 124244.048, 124536.35, 124828.652, 125120.954, 125413.256, 125705.558, 125997.86, 126290.162, 126582.464, 126874.766, 127167.068, 127459.37, 127751.672, 128043.974, 128336.276, 128628.578, 128920.88, 129213.182, 129505.484, 129797.786, 130090.088, 130382.39, 130674.692, 130966.994, 131259.296, 131551.598, 131843.9, 132136.202, 132428.504, 132720.806, 133013.108, 133305.41, 133597.712, 133890.014, 134182.316, 134474.618, 134766.92, 135059.222, 135351.524, 135643.826, 135936.128, 136228.43, 136520.732, 136813.034, 137105.336, 137397.638, 137689.94, 137982.242, 138274.544, 138566.846, 138859.148, 139151.45, 139443.752, 139736.054, 140028.356, 140320.658, 140612.96, 140905.262, 141197.564, 141489.866, 141782.168, 142074.47, 142366.772, 142659.074, 142951.376, 143243.678, 143535.98, 143828.282, 144120.584, 144412.886, 144705.188, 144997.49, 145289.792, 145582.094, 145874.396, 146166.698], \"xaxis\": \"x\", \"y\": [1.0917027593454616e-05, 1.0984605364745999e-05, 1.1050950477557086e-05, 1.111603896170288e-05, 1.1179847362581025e-05, 1.1242352757096706e-05, 1.1303532769186793e-05, 1.136336558492748e-05, 1.142182996721049e-05, 1.1478905269973095e-05, 1.153457145196789e-05, 1.1588809090058794e-05, 1.1641599392030207e-05, 1.1692924208896934e-05, 1.1742766046702992e-05, 1.1791108077798052e-05, 1.1837934151580956e-05, 1.1883228804700173e-05, 1.1926977270701982e-05, 1.196916548911762e-05, 1.2009780113981338e-05, 1.2048808521772073e-05, 1.2086238818772017e-05, 1.2122059847836156e-05, 1.21562611945674e-05, 1.2188833192892871e-05, 1.221976693003734e-05, 1.2249054250890754e-05, 1.2276687761767377e-05, 1.2302660833554761e-05, 1.2326967604251623e-05, 1.2349602980894248e-05, 1.2370562640871866e-05, 1.2389843032632035e-05, 1.2407441375777934e-05, 1.2423355660560025e-05, 1.2437584646765241e-05, 1.2450127862007646e-05, 1.246098559942501e-05, 1.2470158914786636e-05, 1.2477649623018172e-05, 1.2483460294149922e-05, 1.2487594248695901e-05, 1.2490055552471183e-05, 1.2490849010856013e-05, 1.2489980162515515e-05, 1.2487455272584564e-05, 1.2483281325327758e-05, 1.2477466016285093e-05, 1.247001774391452e-05, 1.2460945600742721e-05, 1.245025936403644e-05, 1.243796948600665e-05, 1.2424087083558597e-05, 1.2408623927601074e-05, 1.2391592431928668e-05, 1.2373005641691009e-05, 1.2352877221463639e-05, 1.2331221442935147e-05, 1.2308053172225747e-05, 1.2283387856852567e-05, 1.2257241512357383e-05, 1.2229630708612569e-05, 1.2200572555821297e-05, 1.2170084690228307e-05, 1.2138185259557569e-05, 1.2104892908193364e-05, 1.2070226762121446e-05, 1.2034206413647058e-05, 1.1996851905906404e-05, 1.1958183717188655e-05, 1.1918222745085092e-05, 1.1876990290482374e-05, 1.1834508041416632e-05, 1.1790798056805182e-05, 1.174588275007254e-05, 1.1699784872687208e-05, 1.1652527497625854e-05, 1.1604134002781e-05, 1.1554628054328555e-05, 1.1504033590071002e-05, 1.1452374802772133e-05, 1.1399676123498821e-05, 1.134596220498516e-05, 1.1291257905034059e-05, 1.1235588269971037e-05, 1.117897851816475e-05, 1.1121454023628503e-05, 1.1063040299716539e-05, 1.1003762982928729e-05, 1.0943647816836861e-05, 1.0882720636145413e-05, 1.0821007350899188e-05, 1.0758533930850121e-05, 1.0695326389994772e-05, 1.063141077129394e-05, 1.056681313158534e-05, 1.050155952669973e-05, 1.0435675996790723e-05, 1.0369188551887767e-05, 1.0302123157681675e-05, 1.0234505721551395e-05, 1.0166362078840376e-05, 1.0097717979390463e-05, 1.0028599074340782e-05, 9.959030903198536e-06, 9.889038881188413e-06, 9.8186482868866e-06, 9.747884250145175e-06, 9.676771740311986e-06, 9.605335554750925e-06, 9.53360030766686e-06, 9.461590419239149e-06, 9.389330105067263e-06, 9.316843365931497e-06, 9.244153977871487e-06, 9.171285482584683e-06, 9.098261178146623e-06, 9.025104110054478e-06, 8.951837062594768e-06, 8.878482550536002e-06, 8.80506281114649e-06, 8.731599796537185e-06, 8.658115166329124e-06, 8.584630280644719e-06, 8.511166193421662e-06, 8.437743646048122e-06, 8.364383061317331e-06, 8.291104537699563e-06, 8.217927843929175e-06, 8.14487241390397e-06, 8.071957341894045e-06, 7.999201378056972e-06, 7.926622924255862e-06, 7.8542400301767e-06, 7.782070389741132e-06, 7.710131337810564e-06, 7.638439847177407e-06, 7.567012525839019e-06, 7.49586561454968e-06, 7.425014984645936e-06, 7.354476136140357e-06, 7.284264196078706e-06, 7.214393917155316e-06, 7.144879676581517e-06, 7.07573547520165e-06, 7.006974936851286e-06, 6.938611307952151e-06, 6.8706574573381214e-06, 6.803125876306726e-06, 6.736028678890445e-06, 6.669377602342119e-06, 6.603184007828746e-06, 6.537458881327939e-06, 6.4722128347212784e-06, 6.4074561070788784e-06, 6.343198566129392e-06, 6.279449709909814e-06, 6.21621866858942e-06, 6.153514206462134e-06, 6.091344724101885e-06, 6.029718260675267e-06, 5.96864249640621e-06, 5.908124755187076e-06, 5.848172007330987e-06, 5.788790872460066e-06, 5.729987622524368e-06, 5.671768184946513e-06, 5.614138145886899e-06, 5.55710275362464e-06, 5.500666922049401e-06, 5.4448352342593425e-06, 5.389611946260645e-06, 5.335000990763991e-06, 5.281005981073624e-06, 5.22763021506468e-06, 5.174876679244505e-06, 5.1227480528939555e-06, 5.071246712284536e-06, 5.0203747349676406e-06, 4.970133904131933e-06, 4.920525713025315e-06, 4.871551369437805e-06, 4.8232118002418985e-06, 4.775507655986992e-06, 4.7284393155446065e-06, 4.682006890801217e-06, 4.6362102313956e-06, 4.591048929497691e-06, 4.546522324626062e-06, 4.502629508501197e-06, 4.459369329931777e-06, 4.416740399731442e-06, 4.374741095663285e-06, 4.333369567409763e-06, 4.29262374156544e-06, 4.252501326650295e-06, 4.212999818141283e-06, 4.17411650351989e-06, 4.135848467333559e-06, 4.098192596268809e-06, 4.061145584234034e-06, 4.0247039374499295e-06, 3.988863979545587e-06, 3.953621856658315e-06, 3.918973542535302e-06, 3.884914843635231e-06, 3.85144140422806e-06, 3.818548711491114e-06, 3.786232100599754e-06, 3.7544867598108267e-06, 3.723307735537188e-06, 3.6926899374115607e-06, 3.6626281433379983e-06, 3.633117004529329e-06, 3.6041510505287657e-06, 3.575724694214137e-06, 3.547832236782952e-06, 3.5204678727166834e-06, 3.493625694722562e-06, 3.4672996986512284e-06, 3.441483788388541e-06, 3.4161717807198883e-06, 3.3913574101652842e-06, 3.3670343337836e-06, 3.343196135944191e-06, 3.3198363330642664e-06, 3.2969483783102488e-06, 3.2745256662614595e-06, 3.25256153753437e-06, 3.231049283365723e-06, 3.2099821501527895e-06, 3.189353343949041e-06, 3.169156034913465e-06, 3.1493833617118503e-06, 3.1300284358682456e-06, 3.111084346064895e-06, 3.0925441623888965e-06, 3.0744009405238634e-06, 3.0566477258848537e-06, 3.039277557694863e-06, 3.0222834730011633e-06, 3.005658510629797e-06, 2.989395715076537e-06, 2.973488140332659e-06, 2.957928853643867e-06, 2.9427109392007512e-06, 2.927827501759171e-06, 2.9132716701889947e-06, 2.8990366009496475e-06, 2.8851154814909478e-06, 2.871501533577742e-06, 2.858188016536925e-06, 2.845168230425414e-06, 2.8324355191177143e-06, 2.819983273311791e-06, 2.807804933451948e-06, 2.7958939925675206e-06, 2.7842439990262042e-06, 2.772848559200919e-06, 2.7617013400491846e-06, 2.750796071603978e-06, 2.7401265493751914e-06, 2.7296866366608124e-06, 2.719470266767073e-06, 2.709471445136787e-06, 2.699684251385316e-06, 2.690102841243533e-06, 2.6807214484073177e-06, 2.6715343862931663e-06, 2.662536049699595e-06, 2.6537209163740554e-06, 2.6450835484852274e-06, 2.6366185940005736e-06, 2.6283207879691823e-06, 2.6201849537099587e-06, 2.6122060039053508e-06, 2.6043789416008603e-06, 2.5966988611106865e-06, 2.589160948829944e-06, 2.581760483953939e-06, 2.5744928391051647e-06, 2.56735348086866e-06, 2.5603379702365354e-06, 2.5534419629625313e-06, 2.546661209827546e-06, 2.5399915568171934e-06, 2.533428945212457e-06, 2.526969411594711e-06, 2.5206090877663104e-06, 2.514344200588177e-06, 2.5081710717357495e-06, 2.502086117374864e-06, 2.4960858477590975e-06, 2.4901668667502647e-06, 2.484325871263753e-06, 2.4785596506405134e-06, 2.4728650859475228e-06, 2.467239149208654e-06, 2.4616789025678894e-06, 2.456181497386942e-06, 2.450744173279313e-06, 2.4453642570829103e-06, 2.4400391617734355e-06, 2.4347663853206933e-06, 2.429543509490112e-06, 2.4243681985917204e-06, 2.4192381981789335e-06, 2.414151333699451e-06, 2.4091055091006694e-06, 2.4040987053919732e-06, 2.3991289791663177e-06, 2.394194461083531e-06, 2.3892933543177534e-06, 2.384423932971477e-06, 2.3795845404585827e-06, 2.3747735878588725e-06, 2.369989552246495e-06, 2.365230974994697e-06, 2.360496460059359e-06, 2.3557846722436734e-06, 2.3510943354463806e-06, 2.346424230895943e-06, 2.341773195372982e-06, 2.337140119423296e-06, 2.3325239455637682e-06, 2.3279236664834147e-06, 2.3233383232417763e-06, 2.318767003466864e-06, 2.3142088395547776e-06, 2.309663006873114e-06, 2.3051287219702018e-06, 2.300605240792181e-06, 2.296091856909873e-06, 2.291587899757341e-06, 2.287092732884002e-06, 2.282605752222064e-06, 2.278126384371033e-06, 2.27365408490096e-06, 2.2691883366760478e-06, 2.2647286482001525e-06, 2.2602745519856942e-06, 2.2558256029473754e-06, 2.251381376822074e-06, 2.2469414686162297e-06, 2.2425054910819066e-06, 2.238073073222728e-06, 2.23364385883077e-06, 2.2292175050554286e-06, 2.2247936810052424e-06, 2.220372066383541e-06, 2.2159523501587634e-06, 2.2115342292702047e-06, 2.2071174073698753e-06, 2.202701593601118e-06, 2.1982865014145284e-06, 2.1938718474217118e-06, 2.189457350287277e-06, 2.1850427296594737e-06, 2.180627705139784e-06, 2.176211995291718e-06, 2.1717953166890237e-06, 2.1673773830034436e-06, 2.1629579041321258e-06, 2.158536585364703e-06, 2.1541131265900375e-06, 2.149687221542565e-06, 2.1452585570881125e-06, 2.1408268125490457e-06, 2.1363916590685253e-06, 2.131952759013628e-06, 2.127509765417054e-06, 2.123062321457073e-06, 2.1186100599753585e-06, 2.1141526030323128e-06, 2.1096895614994314e-06, 2.105220534688268e-06, 2.100745110015479e-06, 2.096262862703466e-06, 2.0917733555160227e-06, 2.0872761385284693e-06, 2.0827707489316435e-06, 2.0782567108691743e-06, 2.0737335353073878e-06, 2.069200719937218e-06, 2.0646577491074697e-06, 2.060104093788759e-06, 2.055539211567474e-06, 2.0509625466690347e-06, 2.0463735300098158e-06, 2.0417715792769895e-06, 2.0371560990356023e-06, 2.0325264808622045e-06, 2.027882103504295e-06, 2.023222333064909e-06, 2.0185465232116266e-06, 2.0138540154093245e-06, 2.009144139175948e-06, 2.004416212360648e-06, 1.9996695414435747e-06, 1.994903421856651e-06, 1.9901171383246795e-06, 1.985309965226093e-06, 1.980481166972706e-06, 1.9756299984078328e-06, 1.9707557052221276e-06, 1.9658575243865166e-06, 1.9609346846016244e-06, 1.9559864067630784e-06, 1.951011904442104e-06, 1.9460103843808252e-06, 1.940981047001701e-06, 1.935923086930539e-06, 1.930835693532528e-06, 1.925718051460766e-06, 1.9205693412167324e-06, 1.9153887397222e-06, 1.910175420902079e-06, 1.904928556277673e-06, 1.8996473155698783e-06, 1.8943308673118198e-06, 1.888978379470469e-06, 1.8835890200767476e-06, 1.878161957863682e-06, 1.8726963629121262e-06, 1.8671914073036183e-06, 1.8616462657799057e-06, 1.8560601164087146e-06, 1.8504321412552999e-06, 1.8447615270593524e-06, 1.8390474659168198e-06, 1.8332891559661972e-06, 1.8274858020788688e-06, 1.8216366165530313e-06, 1.8157408198107981e-06, 1.809797641098008e-06, 1.8038063191863156e-06, 1.7977661030771034e-06, 1.7916762527067738e-06, 1.7855360396529456e-06, 1.7793447478411207e-06, 1.773101674251322e-06, 1.7668061296242466e-06, 1.76045743916645e-06, 1.7540549432540618e-06, 1.7475979981345507e-06, 1.741085976626015e-06, 1.7345182688135083e-06, 1.7278942827418503e-06, 1.721213445104417e-06, 1.714475201927352e-06, 1.7076790192486573e-06, 1.7008243837916047e-06, 1.6939108036318962e-06, 1.6869378088580052e-06, 1.6799049522240976e-06, 1.67281180979496e-06, 1.665657981582308e-06, 1.6584430921718923e-06, 1.651166791340759e-06, 1.6438287546640526e-06, 1.6364286841107318e-06, 1.6289663086275501e-06, 1.6214413847106704e-06, 1.6138536969642577e-06, 1.606203058645405e-06, 1.598489312194727e-06, 1.5907123297519844e-06, 1.5828720136560568e-06, 1.5749682969286282e-06, 1.5670011437409105e-06, 1.5589705498627615e-06, 1.5508765430935342e-06, 1.5427191836740168e-06, 1.5344985646788153e-06, 1.5262148123885372e-06, 1.5178680866411556e-06, 1.509458581161917e-06, 1.5009865238711988e-06, 1.4924521771697062e-06, 1.4838558382004116e-06, 1.4751978390866851e-06, 1.4664785471460364e-06, 1.4576983650789347e-06, 1.4488577311321777e-06, 1.4399571192363124e-06, 1.4309970391166105e-06, 1.4219780363771413e-06, 1.4129006925575023e-06, 1.4037656251617877e-06, 1.394573487659407e-06, 1.3853249694573749e-06, 1.376020795843767e-06, 1.3666617279019952e-06, 1.3572485623956515e-06, 1.3477821316236675e-06, 1.3382633032455603e-06, 1.328692980076604e-06, 1.319072099852769e-06, 1.3094016349653091e-06], \"yaxis\": \"y\"}, {\"legendgroup\": \"2013\", \"marker\": {\"color\": \"rgb(255, 127, 14)\"}, \"mode\": \"lines\", \"name\": \"2013\", \"showlegend\": true, \"type\": \"scatter\", \"x\": [386.0, 682.788, 979.576, 1276.364, 1573.152, 1869.94, 2166.728, 2463.516, 2760.304, 3057.092, 3353.88, 3650.668, 3947.456, 4244.244000000001, 4541.032, 4837.82, 5134.608, 5431.396, 5728.184, 6024.972, 6321.76, 6618.548, 6915.336, 7212.124, 7508.912, 7805.7, 8102.488, 8399.276, 8696.064, 8992.852, 9289.64, 9586.428, 9883.216, 10180.004, 10476.792, 10773.58, 11070.368, 11367.156, 11663.944, 11960.732, 12257.52, 12554.308, 12851.096, 13147.884, 13444.672, 13741.46, 14038.248, 14335.036, 14631.824, 14928.612, 15225.4, 15522.188, 15818.976, 16115.764, 16412.552, 16709.34, 17006.128, 17302.916, 17599.704, 17896.492, 18193.28, 18490.068, 18786.856, 19083.644, 19380.432, 19677.22, 19974.008, 20270.796, 20567.584, 20864.372, 21161.16, 21457.948, 21754.736, 22051.524, 22348.312, 22645.1, 22941.888, 23238.676, 23535.464, 23832.252, 24129.04, 24425.828, 24722.616, 25019.404, 25316.192, 25612.98, 25909.768, 26206.556, 26503.344, 26800.132, 27096.92, 27393.708, 27690.496, 27987.284, 28284.072, 28580.86, 28877.648, 29174.436, 29471.224, 29768.012, 30064.8, 30361.588, 30658.376, 30955.164, 31251.952, 31548.74, 31845.528, 32142.316, 32439.104, 32735.892, 33032.68, 33329.468, 33626.256, 33923.044, 34219.832, 34516.62, 34813.408, 35110.196, 35406.984, 35703.772, 36000.56, 36297.348, 36594.136, 36890.924, 37187.712, 37484.5, 37781.288, 38078.076, 38374.864, 38671.652, 38968.44, 39265.228, 39562.016, 39858.804, 40155.592, 40452.38, 40749.168, 41045.956, 41342.744, 41639.532, 41936.32, 42233.108, 42529.896, 42826.684, 43123.472, 43420.26, 43717.048, 44013.836, 44310.624, 44607.412, 44904.2, 45200.988, 45497.776, 45794.564, 46091.352, 46388.14, 46684.928, 46981.716, 47278.504, 47575.292, 47872.08, 48168.868, 48465.656, 48762.444, 49059.232, 49356.02, 49652.808, 49949.596, 50246.384, 50543.172, 50839.96, 51136.748, 51433.536, 51730.324, 52027.112, 52323.9, 52620.688, 52917.476, 53214.264, 53511.052, 53807.84, 54104.628, 54401.416, 54698.204, 54994.992, 55291.78, 55588.568, 55885.356, 56182.144, 56478.932, 56775.72, 57072.508, 57369.296, 57666.084, 57962.872, 58259.66, 58556.448, 58853.236, 59150.024, 59446.812, 59743.6, 60040.388, 60337.176, 60633.964, 60930.752, 61227.54, 61524.328, 61821.116, 62117.904, 62414.692, 62711.48, 63008.268, 63305.056, 63601.844, 63898.632, 64195.42, 64492.208, 64788.996, 65085.784, 65382.572, 65679.36, 65976.148, 66272.936, 66569.724, 66866.512, 67163.3, 67460.088, 67756.876, 68053.664, 68350.452, 68647.24, 68944.028, 69240.816, 69537.604, 69834.392, 70131.18, 70427.968, 70724.756, 71021.544, 71318.332, 71615.12, 71911.908, 72208.696, 72505.484, 72802.272, 73099.06, 73395.848, 73692.636, 73989.424, 74286.212, 74583.0, 74879.788, 75176.576, 75473.364, 75770.152, 76066.94, 76363.728, 76660.516, 76957.304, 77254.092, 77550.88, 77847.668, 78144.456, 78441.244, 78738.032, 79034.82, 79331.608, 79628.396, 79925.184, 80221.972, 80518.76, 80815.548, 81112.336, 81409.124, 81705.912, 82002.7, 82299.488, 82596.276, 82893.064, 83189.852, 83486.64, 83783.428, 84080.216, 84377.004, 84673.792, 84970.58, 85267.368, 85564.156, 85860.944, 86157.732, 86454.52, 86751.308, 87048.096, 87344.884, 87641.672, 87938.46, 88235.248, 88532.036, 88828.824, 89125.612, 89422.4, 89719.188, 90015.976, 90312.764, 90609.552, 90906.34, 91203.128, 91499.916, 91796.704, 92093.492, 92390.28, 92687.068, 92983.856, 93280.644, 93577.432, 93874.22, 94171.008, 94467.796, 94764.584, 95061.372, 95358.16, 95654.948, 95951.736, 96248.524, 96545.312, 96842.1, 97138.888, 97435.676, 97732.464, 98029.252, 98326.04, 98622.828, 98919.616, 99216.404, 99513.192, 99809.98, 100106.768, 100403.556, 100700.344, 100997.132, 101293.92, 101590.708, 101887.496, 102184.284, 102481.072, 102777.86, 103074.648, 103371.436, 103668.224, 103965.012, 104261.8, 104558.588, 104855.376, 105152.164, 105448.952, 105745.74, 106042.528, 106339.316, 106636.104, 106932.892, 107229.68, 107526.468, 107823.256, 108120.044, 108416.832, 108713.62, 109010.408, 109307.196, 109603.984, 109900.772, 110197.56, 110494.348, 110791.136, 111087.924, 111384.712, 111681.5, 111978.288, 112275.076, 112571.864, 112868.652, 113165.44, 113462.228, 113759.016, 114055.804, 114352.592, 114649.38, 114946.168, 115242.956, 115539.744, 115836.532, 116133.32, 116430.108, 116726.896, 117023.684, 117320.472, 117617.26, 117914.048, 118210.836, 118507.624, 118804.412, 119101.2, 119397.988, 119694.776, 119991.564, 120288.352, 120585.14, 120881.928, 121178.716, 121475.504, 121772.292, 122069.08, 122365.868, 122662.656, 122959.444, 123256.232, 123553.02, 123849.808, 124146.596, 124443.384, 124740.172, 125036.96, 125333.748, 125630.536, 125927.324, 126224.112, 126520.9, 126817.688, 127114.476, 127411.264, 127708.052, 128004.84, 128301.628, 128598.416, 128895.204, 129191.992, 129488.78, 129785.568, 130082.356, 130379.144, 130675.932, 130972.72, 131269.508, 131566.296, 131863.084, 132159.872, 132456.66, 132753.448, 133050.236, 133347.024, 133643.812, 133940.6, 134237.388, 134534.176, 134830.964, 135127.752, 135424.54, 135721.328, 136018.116, 136314.904, 136611.692, 136908.48, 137205.268, 137502.056, 137798.844, 138095.632, 138392.42, 138689.208, 138985.996, 139282.784, 139579.572, 139876.36, 140173.148, 140469.936, 140766.724, 141063.512, 141360.3, 141657.088, 141953.876, 142250.664, 142547.452, 142844.24, 143141.028, 143437.816, 143734.604, 144031.392, 144328.18, 144624.968, 144921.756, 145218.544, 145515.332, 145812.12, 146108.908, 146405.696, 146702.484, 146999.272, 147296.06, 147592.848, 147889.636, 148186.424, 148483.212], \"xaxis\": \"x\", \"y\": [1.0872883771618525e-05, 1.093961552098622e-05, 1.1005095312075246e-05, 1.1069299121082496e-05, 1.113220345355936e-05, 1.1193785360548016e-05, 1.1254022454303793e-05, 1.13128929235877e-05, 1.1370375548513787e-05, 1.1426449714936335e-05, 1.1481095428362577e-05, 1.153429332737713e-05, 1.1586024696564869e-05, 1.1636271478919655e-05, 1.1685016287726851e-05, 1.173224241790822e-05, 1.1777933856818424e-05, 1.1822075294483045e-05, 1.1864652133268624e-05, 1.1905650496976007e-05, 1.194505723934882e-05, 1.1982859951989823e-05, 1.2019046971678291e-05, 1.2053607387082639e-05, 1.2086531044862865e-05, 1.2117808555158436e-05, 1.2147431296457757e-05, 1.2175391419846132e-05, 1.2201681852629968e-05, 1.2226296301335579e-05, 1.2249229254081736e-05, 1.2270475982325863e-05, 1.2290032541984423e-05, 1.2307895773928906e-05, 1.2324063303859394e-05, 1.2338533541558483e-05, 1.2351305679529084e-05, 1.236237969102016e-05, 1.2371756327445358e-05, 1.2379437115200026e-05, 1.2385424351882783e-05, 1.238972110192858e-05, 1.239233119166064e-05, 1.2393259203769495e-05, 1.2392510471227808e-05, 1.2390091070650302e-05, 1.2386007815108713e-05, 1.2380268246412267e-05, 1.2372880626864639e-05, 1.2363853930508962e-05, 1.2353197833872963e-05, 1.2340922706226607e-05, 1.2327039599365449e-05, 1.2311560236932937e-05, 1.2294497003295589e-05, 1.2275862931985298e-05, 1.2255671693723325e-05, 1.2233937584041009e-05, 1.2210675510512429e-05, 1.2185900979614662e-05, 1.2159630083231446e-05, 1.213187948481643e-05, 1.210266640523234e-05, 1.2072008608282616e-05, 1.2039924385952255e-05, 1.2006432543374761e-05, 1.1971552383542224e-05, 1.1935303691775632e-05, 1.189770671997266e-05, 1.185878217065016e-05, 1.1818551180798674e-05, 1.1777035305566236e-05, 1.1734256501788806e-05, 1.1690237111384536e-05, 1.1644999844629044e-05, 1.1598567763328837e-05, 1.155096426390983e-05, 1.1502213060437861e-05, 1.1452338167587862e-05, 1.1401363883578275e-05, 1.134931477308702e-05, 1.1296215650165172e-05, 1.124209156116425e-05, 1.1186967767692746e-05, 1.1130869729617317e-05, 1.107382308812372e-05, 1.1015853648852342e-05, 1.0956987365122686e-05, 1.0897250321261152e-05, 1.0836668716045819e-05, 1.0775268846281628e-05, 1.0713077090519212e-05, 1.065011989292994e-05, 1.0586423747349538e-05, 1.0522015181502204e-05, 1.0456920741416686e-05, 1.0391166976045405e-05, 1.0324780422097282e-05, 1.0257787589094484e-05, 1.0190214944662835e-05, 1.012208890006523e-05, 1.0053435795986944e-05, 9.984281888581228e-06, 9.914653335783203e-06, 9.844576183899486e-06, 9.774076354480698e-06, 9.703179631483338e-06, 9.631911648727257e-06, 9.560297877654317e-06, 9.488363615393527e-06, 9.416133973137386e-06, 9.343633864833751e-06, 9.270887996197122e-06, 9.197920854042787e-06, 9.124756695946783e-06, 9.051419540234312e-06, 8.977933156298681e-06, 8.904321055252592e-06, 8.830606480913055e-06, 8.756812401120845e-06, 8.682961499395087e-06, 8.609076166923144e-06, 8.535178494885492e-06, 8.461290267115154e-06, 8.387432953090674e-06, 8.313627701261416e-06, 8.239895332703574e-06, 8.16625633510502e-06, 8.092730857076734e-06, 8.019338702788381e-06, 7.946099326925162e-06, 7.873031829962952e-06, 7.800154953758414e-06, 7.727487077450465e-06, 7.655046213669388e-06, 7.5828500050495485e-06, 7.510915721041475e-06, 7.439260255018956e-06, 7.36790012167651e-06, 7.296851454712512e-06, 7.226130004793035e-06, 7.155751137791352e-06, 7.085729833297948e-06, 7.01608068339566e-06, 6.946817891694629e-06, 6.877955272621435e-06, 6.809506250956931e-06, 6.741483861617033e-06, 6.67390074967076e-06, 6.606769170589754e-06, 6.540100990723431e-06, 6.473907687993935e-06, 6.408200352805008e-06, 6.342989689158885e-06, 6.278286015975346e-06, 6.2140992686070395e-06, 6.1504390005451974e-06, 6.087314385309908e-06, 6.0247342185191595e-06, 5.962706920130854e-06, 5.901240536852065e-06, 5.8403427447099126e-06, 5.780020851778352e-06, 5.720281801055425e-06, 5.661132173485418e-06, 5.6025781911205605e-06, 5.544625720416883e-06, 5.487280275659082e-06, 5.430547022509109e-06, 5.374430781673526e-06, 5.318936032684579e-06, 5.264066917790128e-06, 5.209827245947667e-06, 5.156220496917714e-06, 5.10324982545202e-06, 5.050918065572096e-06, 4.999227734933685e-06, 4.948181039272891e-06, 4.897779876929818e-06, 4.848025843445619e-06, 4.798920236229011e-06, 4.750464059288364e-06, 4.702658028025631e-06, 4.655502574088429e-06, 4.608997850276709e-06, 4.563143735500542e-06, 4.517939839785644e-06, 4.473385509323365e-06, 4.429479831561912e-06, 4.386221640335744e-06, 4.3436095210300565e-06, 4.301641815777459e-06, 4.260316628683965e-06, 4.219631831081481e-06, 4.1795850668041015e-06, 4.140173757485556e-06, 4.101395107875213e-06, 4.06324611117013e-06, 4.025723554360675e-06, 3.9888240235873244e-06, 3.952543909506283e-06, 3.916879412661595e-06, 3.881826548861525e-06, 3.847381154556956e-06, 3.8135388922196518e-06, 3.7802952557182203e-06, 3.747645575689679e-06, 3.715585024904547e-06, 3.6841086236233956e-06, 3.6532112449428478e-06, 3.6228876201290057e-06, 3.593132343936325e-06, 3.5639398799099775e-06, 3.5353045656697077e-06, 3.5072206181733043e-06, 3.4796821389576903e-06, 3.4526831193557575e-06, 3.426217445686995e-06, 3.4002789044200297e-06, 3.3748611873051695e-06, 3.3499578964750252e-06, 3.3255625495113563e-06, 3.30166858447621e-06, 3.278269364905491e-06, 3.2553581847630388e-06, 3.232928273353367e-06, 3.2109728001911375e-06, 3.189484879825521e-06, 3.1684575766175388e-06, 3.1478839094685112e-06, 3.1277568564977675e-06, 3.1080693596677032e-06, 3.088814329354375e-06, 3.0699846488617273e-06, 3.0515731788776642e-06, 3.0335727618700848e-06, 3.0159762264210863e-06, 2.998776391497537e-06, 2.9819660706562027e-06, 2.9655380761816986e-06, 2.949485223155479e-06, 2.9338003334541626e-06, 2.9184762396755e-06, 2.903505788990295e-06, 2.8888818469186614e-06, 2.8745973010290005e-06, 2.8606450645581377e-06, 2.8470180799510834e-06, 2.8337093223189484e-06, 2.820711802813555e-06, 2.808018571917369e-06, 2.795622722647397e-06, 2.783517393671774e-06, 2.771695772337803e-06, 2.760151097610281e-06, 2.748876662918987e-06, 2.737865818914315e-06, 2.727111976130038e-06, 2.7166086075523302e-06, 2.7063492510941823e-06, 2.6963275119744643e-06, 2.6865370650009607e-06, 2.67697165675673e-06, 2.667625107689328e-06, 2.6584913141023877e-06, 2.6495642500492517e-06, 2.640837969128345e-06, 2.6323066061801366e-06, 2.62396437888557e-06, 2.615805589265974e-06, 2.6078246250845526e-06, 2.6000159611495753e-06, 2.5923741605196355e-06, 2.5848938756112413e-06, 2.57756984920927e-06, 2.570396915380801e-06, 2.563370000292987e-06, 2.5564841229356913e-06, 2.5497343957497345e-06, 2.5431160251616734e-06, 2.5366243120261044e-06, 2.530254651976636e-06, 2.524002535686684e-06, 2.5178635490414096e-06, 2.511833373222123e-06, 2.5059077847046584e-06, 2.50008265517321e-06, 2.494353951351272e-06, 2.488717734751351e-06, 2.4831701613452645e-06, 2.4777074811568137e-06, 2.4723260377787718e-06, 2.467022267816181e-06, 2.4617927002579673e-06, 2.456633955779013e-06, 2.451542745974829e-06, 2.446515872531054e-06, 2.441550226330056e-06, 2.436642786496934e-06, 2.431790619387311e-06, 2.4269908775192825e-06, 2.422240798451993e-06, 2.4175377036132898e-06, 2.4128789970789428e-06, 2.408262164305991e-06, 2.4036847708226994e-06, 2.3991444608777374e-06, 2.3946389560511144e-06, 2.3901660538294684e-06, 2.3857236261482687e-06, 2.3813096179035305e-06, 2.376922045435609e-06, 2.3725589949876384e-06, 2.368218621141164e-06, 2.3638991452315175e-06, 2.3595988537454333e-06, 2.355316096703415e-06, 2.3510492860292903e-06, 2.346796893909416e-06, 2.3425574511438924e-06, 2.3383295454921677e-06, 2.3341118200153274e-06, 2.329902971417353e-06, 2.3257017483875417e-06, 2.3215069499462686e-06, 2.317317423796199e-06, 2.3131320646809893e-06, 2.308949812753485e-06, 2.3047696519553202e-06, 2.3005906084098037e-06, 2.296411748829863e-06, 2.2922321789427874e-06, 2.2880510419334146e-06, 2.283867516907336e-06, 2.279680817375649e-06, 2.2754901897626388e-06, 2.271294911937804e-06, 2.267094291773447e-06, 2.2628876657290463e-06, 2.2586743974635446e-06, 2.254453876476542e-06, 2.2502255167794176e-06, 2.2459887555971846e-06, 2.241743052101945e-06, 2.237487886178601e-06, 2.2332227572235205e-06, 2.2289471829766576e-06, 2.2246606983876743e-06, 2.2203628545164174e-06, 2.2160532174681113e-06, 2.2117313673635244e-06, 2.207396897344283e-06, 2.2030494126134556e-06, 2.1986885295114466e-06, 2.194313874627193e-06, 2.1899250839445557e-06, 2.185521802023767e-06, 2.181103681217723e-06, 2.176670380922854e-06, 2.1722215668642305e-06, 2.1677569104145447e-06, 2.1632760879465236e-06, 2.158778780218295e-06, 2.154264671791189e-06, 2.1497334504793926e-06, 2.1451848068308635e-06, 2.1406184336388396e-06, 2.1360340254832844e-06, 2.131431278301537e-06, 2.1268098889874397e-06, 2.1221695550181663e-06, 2.1175099741079747e-06, 2.112830843888066e-06, 2.1081318616117277e-06, 2.1034127238839243e-06, 2.098673126414491e-06, 2.093912763794054e-06, 2.089131329291852e-06, 2.084328514674546e-06, 2.079504010045195e-06, 2.074657503701519e-06, 2.0697886820125843e-06, 2.0648972293130925e-06, 2.059982827814395e-06, 2.055045157531448e-06, 2.050083896224875e-06, 2.045098719357353e-06, 2.0400893000635367e-06, 2.0350553091327985e-06, 2.0299964150040114e-06, 2.02491228377171e-06, 2.0198025792029214e-06, 2.0146669627640302e-06, 2.0095050936570457e-06, 2.0043166288646887e-06, 1.9991012232037097e-06, 1.9938585293859496e-06, 1.9885881980865965e-06, 1.9832898780192095e-06, 1.9779632160170613e-06, 1.9726078571204057e-06, 1.9672234446692995e-06, 1.961809620401666e-06, 1.9563660245562847e-06, 1.9508922959804626e-06, 1.9453880722421468e-06, 1.939852989746302e-06, 1.934286683855371e-06, 1.928688789013705e-06, 1.923058938875866e-06, 1.917396766438723e-06, 1.9117019041773153e-06, 1.9059739841844828e-06, 1.900212638314259e-06, 1.8944174983290896e-06, 1.888588196050951e-06, 1.882724363516436e-06, 1.876825633135955e-06, 1.8708916378571669e-06, 1.8649220113327915e-06, 1.8589163880929903e-06, 1.8528744037224842e-06, 1.8467956950426168e-06, 1.8406799002985642e-06, 1.8345266593519257e-06, 1.8283356138788992e-06, 1.8221064075742995e-06, 1.815838686361625e-06, 1.809532098609446e-06, 1.8031862953543138e-06, 1.7968009305304524e-06, 1.7903756612064522e-06, 1.7839101478291854e-06, 1.7774040544751736e-06, 1.770857049109588e-06, 1.7642688038531015e-06, 1.7576389952567558e-06, 1.7509673045850173e-06, 1.7442534181071587e-06, 1.7374970273971045e-06, 1.730697829641839e-06, 1.7238555279584746e-06, 1.716969831720023e-06, 1.7100404568899315e-06, 1.7030671263653747e-06, 1.6960495703293005e-06, 1.6889875266111723e-06, 1.6818807410563515e-06, 1.6747289679040018e-06, 1.6675319701733902e-06, 1.660289520058412e-06, 1.6530013993301438e-06, 1.6456673997472023e-06, 1.6382873234736243e-06, 1.6308609835039926e-06, 1.6233882040954585e-06, 1.6158688212063092e-06, 1.6083026829406764e-06, 1.6006896499989485e-06, 1.593029596133436e-06, 1.5853224086087766e-06, 1.5775679886665646e-06, 1.5697662519936347e-06, 1.561917129193411e-06, 1.5540205662597028e-06, 1.546076525052289e-06, 1.538084983773625e-06, 1.5300459374459534e-06, 1.5219593983881002e-06, 1.5138253966911882e-06, 1.505643980692507e-06, 1.4974152174467242e-06, 1.4891391931936305e-06, 1.4808160138215752e-06, 1.472445805325749e-06, 1.4640287142604278e-06, 1.4555649081843259e-06, 1.4470545760981348e-06, 1.4384979288733835e-06, 1.4298951996716767e-06, 1.4212466443534368e-06, 1.412552541875204e-06, 1.4038131946746044e-06, 1.3950289290420575e-06, 1.3862000954783277e-06, 1.377327069037006e-06, 1.3684102496510267e-06, 1.3594500624423542e-06, 1.350446958013937e-06, 1.3414014127230964e-06, 1.3323139289355022e-06, 1.3231850352589101e-06, 1.3140152867558562e-06, 1.3048052651345507e-06, 1.2955555789171905e-06, 1.2862668635849822e-06, 1.276939781699183e-06, 1.2675750229974698e-06, 1.25817330446503e-06, 1.2487353703797594e-06], \"yaxis\": \"y\"}, {\"legendgroup\": \"2014\", \"marker\": {\"color\": \"rgb(44, 160, 44)\"}, \"mode\": \"lines\", \"name\": \"2014\", \"showlegend\": true, \"type\": \"scatter\", \"x\": [401.0, 702.788, 1004.576, 1306.364, 1608.152, 1909.94, 2211.728, 2513.516, 2815.304, 3117.092, 3418.88, 3720.668, 4022.456, 4324.244000000001, 4626.032, 4927.82, 5229.608, 5531.396, 5833.184, 6134.972, 6436.76, 6738.548, 7040.336, 7342.124, 7643.912, 7945.7, 8247.488000000001, 8549.276, 8851.064, 9152.852, 9454.64, 9756.428, 10058.216, 10360.004, 10661.792, 10963.58, 11265.368, 11567.156, 11868.944, 12170.732, 12472.52, 12774.308, 13076.096, 13377.884, 13679.672, 13981.46, 14283.248, 14585.036, 14886.824, 15188.612, 15490.4, 15792.188, 16093.976, 16395.764, 16697.552, 16999.34, 17301.128, 17602.916, 17904.704, 18206.492, 18508.28, 18810.068, 19111.856, 19413.644, 19715.432, 20017.22, 20319.008, 20620.796, 20922.584, 21224.372, 21526.16, 21827.948, 22129.736, 22431.524, 22733.312, 23035.1, 23336.888, 23638.676, 23940.464, 24242.252, 24544.04, 24845.828, 25147.616, 25449.404, 25751.192, 26052.98, 26354.768, 26656.556, 26958.344, 27260.132, 27561.92, 27863.708, 28165.496, 28467.284, 28769.072, 29070.86, 29372.648, 29674.436, 29976.224, 30278.012, 30579.8, 30881.588, 31183.376, 31485.164, 31786.952, 32088.74, 32390.528, 32692.316, 32994.104, 33295.892, 33597.68, 33899.468, 34201.256, 34503.044, 34804.832, 35106.62, 35408.408, 35710.196, 36011.984, 36313.772, 36615.56, 36917.348, 37219.136, 37520.924, 37822.712, 38124.5, 38426.288, 38728.076, 39029.864, 39331.652, 39633.44, 39935.228, 40237.016, 40538.804, 40840.592, 41142.38, 41444.168, 41745.956, 42047.744, 42349.532, 42651.32, 42953.108, 43254.896, 43556.684, 43858.472, 44160.26, 44462.048, 44763.836, 45065.624, 45367.412, 45669.2, 45970.988, 46272.776, 46574.564, 46876.352, 47178.14, 47479.928, 47781.716, 48083.504, 48385.292, 48687.08, 48988.868, 49290.656, 49592.444, 49894.232, 50196.02, 50497.808, 50799.596, 51101.384, 51403.172, 51704.96, 52006.748, 52308.536, 52610.324, 52912.112, 53213.9, 53515.688, 53817.476, 54119.264, 54421.052, 54722.84, 55024.628, 55326.416, 55628.204, 55929.992, 56231.78, 56533.568, 56835.356, 57137.144, 57438.932, 57740.72, 58042.508, 58344.296, 58646.084, 58947.872, 59249.66, 59551.448, 59853.236, 60155.024, 60456.812, 60758.6, 61060.388, 61362.176, 61663.964, 61965.752, 62267.54, 62569.328, 62871.116, 63172.904, 63474.692, 63776.48, 64078.268, 64380.056, 64681.844, 64983.632, 65285.42, 65587.208, 65888.996, 66190.784, 66492.572, 66794.36, 67096.148, 67397.936, 67699.724, 68001.512, 68303.3, 68605.088, 68906.876, 69208.664, 69510.452, 69812.24, 70114.028, 70415.816, 70717.604, 71019.392, 71321.18, 71622.968, 71924.756, 72226.544, 72528.332, 72830.12, 73131.908, 73433.696, 73735.484, 74037.272, 74339.06, 74640.848, 74942.636, 75244.424, 75546.212, 75848.0, 76149.788, 76451.576, 76753.364, 77055.152, 77356.94, 77658.728, 77960.516, 78262.304, 78564.092, 78865.88, 79167.668, 79469.456, 79771.244, 80073.032, 80374.82, 80676.608, 80978.396, 81280.184, 81581.972, 81883.76, 82185.548, 82487.336, 82789.124, 83090.912, 83392.7, 83694.488, 83996.276, 84298.064, 84599.852, 84901.64, 85203.428, 85505.216, 85807.004, 86108.792, 86410.58, 86712.368, 87014.156, 87315.944, 87617.732, 87919.52, 88221.308, 88523.096, 88824.884, 89126.672, 89428.46, 89730.248, 90032.036, 90333.824, 90635.612, 90937.4, 91239.188, 91540.976, 91842.764, 92144.552, 92446.34, 92748.128, 93049.916, 93351.704, 93653.492, 93955.28, 94257.068, 94558.856, 94860.644, 95162.432, 95464.22, 95766.008, 96067.796, 96369.584, 96671.372, 96973.16, 97274.948, 97576.736, 97878.524, 98180.312, 98482.1, 98783.888, 99085.676, 99387.464, 99689.252, 99991.04, 100292.828, 100594.616, 100896.404, 101198.192, 101499.98, 101801.768, 102103.556, 102405.344, 102707.132, 103008.92, 103310.708, 103612.496, 103914.284, 104216.072, 104517.86, 104819.648, 105121.436, 105423.224, 105725.012, 106026.8, 106328.588, 106630.376, 106932.164, 107233.952, 107535.74, 107837.528, 108139.316, 108441.104, 108742.892, 109044.68, 109346.468, 109648.256, 109950.044, 110251.832, 110553.62, 110855.408, 111157.196, 111458.984, 111760.772, 112062.56, 112364.348, 112666.136, 112967.924, 113269.712, 113571.5, 113873.288, 114175.076, 114476.864, 114778.652, 115080.44, 115382.228, 115684.016, 115985.804, 116287.592, 116589.38, 116891.168, 117192.956, 117494.744, 117796.532, 118098.32, 118400.108, 118701.896, 119003.684, 119305.472, 119607.26, 119909.048, 120210.836, 120512.624, 120814.412, 121116.2, 121417.988, 121719.776, 122021.564, 122323.352, 122625.14, 122926.928, 123228.716, 123530.504, 123832.292, 124134.08, 124435.868, 124737.656, 125039.444, 125341.232, 125643.02, 125944.808, 126246.596, 126548.384, 126850.172, 127151.96, 127453.748, 127755.536, 128057.324, 128359.112, 128660.9, 128962.688, 129264.476, 129566.264, 129868.052, 130169.84, 130471.628, 130773.416, 131075.204, 131376.992, 131678.78, 131980.568, 132282.356, 132584.144, 132885.932, 133187.72, 133489.508, 133791.296, 134093.084, 134394.872, 134696.66, 134998.448, 135300.236, 135602.024, 135903.812, 136205.6, 136507.388, 136809.176, 137110.964, 137412.752, 137714.54, 138016.328, 138318.116, 138619.904, 138921.692, 139223.48, 139525.268, 139827.056, 140128.844, 140430.632, 140732.42, 141034.208, 141335.996, 141637.784, 141939.572, 142241.36, 142543.148, 142844.936, 143146.724, 143448.512, 143750.3, 144052.088, 144353.876, 144655.664, 144957.452, 145259.24, 145561.028, 145862.816, 146164.604, 146466.392, 146768.18, 147069.968, 147371.756, 147673.544, 147975.332, 148277.12, 148578.908, 148880.696, 149182.484, 149484.272, 149786.06, 150087.848, 150389.636, 150691.424, 150993.212], \"xaxis\": \"x\", \"y\": [1.0785319645505674e-05, 1.085120820194088e-05, 1.0915836055359346e-05, 1.0979179195076554e-05, 1.1041214148643845e-05, 1.1101917998159749e-05, 1.116126839615917e-05, 1.1219243581064309e-05, 1.1275822392181513e-05, 1.1330984284228992e-05, 1.138470934138075e-05, 1.143697829081265e-05, 1.1487772515737185e-05, 1.1537074067914055e-05, 1.158486567962437e-05, 1.1631130775096806e-05, 1.1675853481374778e-05, 1.1719018638614431e-05, 1.1760611809803666e-05, 1.1800619289893483e-05, 1.1839028114333301e-05, 1.1875826067002788e-05, 1.1911001687533448e-05, 1.1944544278013883e-05, 1.1976443909073412e-05, 1.2006691425339531e-05, 1.2035278450265282e-05, 1.2062197390323532e-05, 1.208744143856581e-05, 1.2111004577544034e-05, 1.2132881581594446e-05, 1.2153068018483477e-05, 1.217156025041635e-05, 1.2188355434409728e-05, 1.220345152203053e-05, 1.221684725850381e-05, 1.2228542181193246e-05, 1.2238536617458504e-05, 1.2246831681894509e-05, 1.225342927295826e-05, 1.225833206898958e-05, 1.226154352363275e-05, 1.2263067860666868e-05, 1.2262910068253019e-05, 1.2261075892607413e-05, 1.2257571831109897e-05, 1.2252405124858045e-05, 1.2245583750677503e-05, 1.2237116412599863e-05, 1.2227012532819866e-05, 1.2215282242144235e-05, 1.2201936369944914e-05, 1.2186986433630054e-05, 1.2170444627646382e-05, 1.2152323812027151e-05, 1.2132637500500223e-05, 1.2111399848171193e-05, 1.2088625638796851e-05, 1.2064330271664604e-05, 1.2038529748093781e-05, 1.2011240657575037e-05, 1.198248016356432e-05, 1.1952265988948103e-05, 1.192061640119677e-05, 1.1887550197223317e-05, 1.1853086687964507e-05, 1.1817245682701958e-05, 1.1780047473140621e-05, 1.1741512817262186e-05, 1.1701662922971106e-05, 1.1660519431550816e-05, 1.1618104400947934e-05, 1.1574440288901945e-05, 1.152954993593813e-05, 1.1483456548241186e-05, 1.1436183680427024e-05, 1.1387755218230156e-05, 1.1338195361123758e-05, 1.1287528604889663e-05, 1.1235779724155014e-05, 1.1182973754912338e-05, 1.1129135977039597e-05, 1.1074291896836305e-05, 1.1018467229591888e-05, 1.0961687882201899e-05, 1.0903979935847552e-05, 1.0845369628753749e-05, 1.0785883339040358e-05, 1.0725547567681305e-05, 1.0664388921585492e-05, 1.0602434096813423e-05, 1.0539709861942895e-05, 1.0476243041596693e-05, 1.0412060500145005e-05, 1.03471891255947e-05, 1.0281655813677175e-05, 1.0215487452146316e-05, 1.014871090529728e-05, 1.0081352998716694e-05, 1.0013440504274302e-05, 9.945000125365566e-06, 9.876058482414444e-06, 9.806642098644885e-06, 9.736777386129364e-06, 9.666490632122092e-06, 9.59580798568422e-06, 9.524755444607829e-06, 9.453358842645054e-06, 9.381643837048163e-06, 9.30963589642608e-06, 9.237360288922252e-06, 9.16484207071834e-06, 9.092106074867845e-06, 9.019176900463204e-06, 8.946078902139509e-06, 8.872836179917639e-06, 8.799472569388982e-06, 8.726011632243741e-06, 8.652476647144163e-06, 8.578890600943819e-06, 8.505276180253557e-06, 8.431655763354369e-06, 8.358051412457118e-06, 8.284484866308566e-06, 8.210977533142907e-06, 8.137550483977634e-06, 8.064224446252161e-06, 7.99101979780737e-06, 7.917956561203979e-06, 7.84505439837715e-06, 7.772332605624721e-06, 7.699810108925875e-06, 7.6275054595871444e-06, 7.55543683021198e-06, 7.483622010990301e-06, 7.412078406303881e-06, 7.340823031643368e-06, 7.269872510832553e-06, 7.199243073555204e-06, 7.128950553179691e-06, 7.059010384876445e-06, 6.989437604023135e-06, 6.92024684489229e-06, 6.851452339615957e-06, 6.7830679174219985e-06, 6.7151070041362655e-06, 6.647582621945097e-06, 6.580507389412241e-06, 6.513893521744441e-06, 6.447752831299706e-06, 6.382096728332332e-06, 6.316936221968676e-06, 6.252281921407612e-06, 6.188144037339666e-06, 6.124532383578729e-06, 6.061456378900261e-06, 5.998925049080009e-06, 5.9369470291270635e-06, 5.8755305657053325e-06, 5.8146835197373824e-06, 5.754413369184706e-06, 5.6947272119984405e-06, 5.635631769234763e-06, 5.577133388329052e-06, 5.519238046523094e-06, 5.461951354439661e-06, 5.4052785597987745e-06, 5.3492245512701715e-06, 5.293793862456455e-06, 5.238990676001538e-06, 5.1848188278190975e-06, 5.131281811435773e-06, 5.078382782444009e-06, 5.0261245630594815e-06, 4.974509646778158e-06, 4.923540203128117e-06, 4.8732180825114e-06, 4.823544821131182e-06, 4.774521645999724e-06, 4.726149480022586e-06, 4.678428947154778e-06, 4.631360377624502e-06, 4.584943813220317e-06, 4.539179012637641e-06, 4.4940654568805364e-06, 4.449602354714928e-06, 4.4057886481693445e-06, 4.362623018079515e-06, 4.320103889673102e-06, 4.278229438191061e-06, 4.236997594542059e-06, 4.196406050986626e-06, 4.156452266847606e-06, 4.117133474243715e-06, 4.078446683843004e-06, 4.040388690633055e-06, 4.002956079704905e-06, 3.9661452320476666e-06, 3.929952330350938e-06, 3.8943733648120825e-06, 3.8594041389456075e-06, 3.8250402753918115e-06, 3.791277221722021e-06, 3.758110256237728e-06, 3.7255344937609857e-06, 3.6935448914134687e-06, 3.6621362543816757e-06, 3.6313032416657222e-06, 3.6010403718092747e-06, 3.571342028608136e-06, 3.5422024667951323e-06, 3.513615817698842e-06, 3.485576094873839e-06, 3.458077199700131e-06, 3.431112926949452e-06, 3.4046769703161126e-06, 3.3787629279101865e-06, 3.353364307710752e-06, 3.3284745329769554e-06, 3.304086947614726e-06, 3.2801948214969107e-06, 3.2567913557347155e-06, 3.2338696878982313e-06, 3.2114228971839906e-06, 3.189444009527394e-06, 3.1679260026579153e-06, 3.146861811095051e-06, 3.126244331082916e-06, 3.1060664254615e-06, 3.0863209284725395e-06, 3.0670006504980584e-06, 3.0480983827295973e-06, 3.0296069017662172e-06, 3.011518974139363e-06, 2.99382736076273e-06, 2.9765248213052977e-06, 2.959604118485703e-06, 2.9430580222862275e-06, 2.9268793140846254e-06, 2.91106079070214e-06, 2.8955952683660424e-06, 2.8804755865851117e-06, 2.865694611936481e-06, 2.851245241762376e-06, 2.837120407775281e-06, 2.823313079570143e-06, 2.8098162680422868e-06, 2.796623028709757e-06, 2.7837264649388907e-06, 2.7711197310719564e-06, 2.7587960354558103e-06, 2.7467486433705293e-06, 2.7349708798571253e-06, 2.7234561324434535e-06, 2.7121978537675548e-06, 2.7011895640977217e-06, 2.690424853748668e-06, 2.6798973853932915e-06, 2.6696008962695455e-06, 2.659529200282092e-06, 2.6496761899984504e-06, 2.640035838539465e-06, 2.630602201364006e-06, 2.6213694179479022e-06, 2.612331713357237e-06, 2.6034833997161483e-06, 2.5948188775694983e-06, 2.5863326371407276e-06, 2.578019259485456e-06, 2.5698734175413546e-06, 2.561889877075011e-06, 2.5540634975265604e-06, 2.546389232752944e-06, 2.538862131670803e-06, 2.531477338800055e-06, 2.5242300947093376e-06, 2.5171157363645515e-06, 2.5101296973819136e-06, 2.503267508186912e-06, 2.496524796080722e-06, 2.4898972852157265e-06, 2.4833807964818174e-06, 2.476971247305304e-06, 2.4706646513622837e-06, 2.464457118208459e-06, 2.458344852827394e-06, 2.452324155099361e-06, 2.4463914191929222e-06, 2.4405431328815063e-06, 2.434775876787286e-06, 2.4290863235547323e-06, 2.4234712369562456e-06, 2.417927470932389e-06, 2.4124519685692087e-06, 2.4070417610152442e-06, 2.401693966340831e-06, 2.3964057883423625e-06, 2.391174515294174e-06, 2.385997518650806e-06, 2.380872251702335e-06, 2.3757962481855774e-06, 2.370767120853926e-06, 2.365782560008596e-06, 2.360840331994093e-06, 2.3559382776607035e-06, 2.351074310796764e-06, 2.3462464165335735e-06, 2.3414526497256303e-06, 2.3366911333090462e-06, 2.3319600566408184e-06, 2.3272576738217145e-06, 2.3225823020054362e-06, 2.3179323196967374e-06, 2.3133061650411173e-06, 2.308702334108655e-06, 2.3041193791745402e-06, 2.299555906998778e-06, 2.2950105771075027e-06, 2.2904821000783038e-06, 2.285969235831842e-06, 2.2814707919320764e-06, 2.2769856218972364e-06, 2.272512623523717e-06, 2.2680507372249134e-06, 2.2635989443870168e-06, 2.2591562657436335e-06, 2.254721759771103e-06, 2.250294521106219e-06, 2.2458736789880567e-06, 2.2414583957254676e-06, 2.237047865191728e-06, 2.23264131134779e-06, 2.2282379867954063e-06, 2.22383717136141e-06, 2.2194381707142466e-06, 2.215040315013849e-06, 2.210642957595796e-06, 2.2062454736906336e-06, 2.2018472591791405e-06, 2.1974477293842245e-06, 2.1930463179000557e-06, 2.18864247545895e-06, 2.184235668836419e-06, 2.1798253797947313e-06, 2.175411104065233e-06, 2.1709923503695914e-06, 2.166568639480049e-06, 2.162139503318687e-06, 2.157704484095624e-06, 2.1532631334859845e-06, 2.148815011845432e-06, 2.1443596874639324e-06, 2.1398967358573983e-06, 2.135425739096769e-06, 2.130946285174011e-06, 2.1264579674044828e-06, 2.121960383865045e-06, 2.117453136867202e-06, 2.1129358324645807e-06, 2.1084080799939286e-06, 2.103869491648825e-06, 2.099319682085212e-06, 2.0947582680578465e-06, 2.0901848680867104e-06, 2.0855991021524074e-06, 2.081000591419533e-06, 2.0763889579869757e-06, 2.071763824664091e-06, 2.0671248147716806e-06, 2.0624715519666628e-06, 2.0578036600893583e-06, 2.0531207630322486e-06, 2.0484224846291176e-06, 2.0437084485634304e-06, 2.0389782782948594e-06, 2.034231597002822e-06, 2.0294680275459466e-06, 2.0246871924363596e-06, 2.019888713827724e-06, 2.0150722135159696e-06, 2.01023731295167e-06, 2.0053836332630517e-06, 2.0005107952886502e-06, 1.9956184196186348e-06, 1.990706126643874e-06, 1.985773536611859e-06, 1.9808202696885784e-06, 1.9758459460255544e-06, 1.9708501858312215e-06, 1.9658326094459094e-06, 1.9607928374197045e-06, 1.955730490592539e-06, 1.950645190175869e-06, 1.9455365578353623e-06, 1.9404042157740723e-06, 1.935247786815594e-06, 1.9300668944867724e-06, 1.924861163099565e-06, 1.9196302178317123e-06, 1.9143736848059134e-06, 1.909091191167263e-06, 1.9037823651587378e-06, 1.8984468361945802e-06, 1.8930842349314634e-06, 1.887694193337373e-06, 1.8822763447581927e-06, 1.8768303239819983e-06, 1.871355767301147e-06, 1.8658523125722563e-06, 1.8603195992742162e-06, 1.8547572685644357e-06, 1.849164963333529e-06, 1.8435423282587106e-06, 1.8378890098561865e-06, 1.8322046565328637e-06, 1.8264889186377322e-06, 1.8207414485133007e-06, 1.8149619005474834e-06, 1.8091499312263782e-06, 1.8033051991883745e-06, 1.797427365280063e-06, 1.7915160926144314e-06, 1.785571046631839e-06, 1.7795918951642842e-06, 1.7735783085034708e-06, 1.7675299594732135e-06, 1.761446523506685e-06, 1.7553276787290565e-06, 1.7491731060460322e-06, 1.742982489238827e-06, 1.7367555150660761e-06, 1.7304918733731934e-06, 1.7241912572096856e-06, 1.7178533629548735e-06, 1.7114778904525156e-06, 1.7050645431547582e-06, 1.6986130282758464e-06, 1.6921230569560025e-06, 1.6855943444358336e-06, 1.679026610241639e-06, 1.6724195783819224e-06, 1.665772977555412e-06, 1.6590865413708358e-06, 1.65236000857869e-06, 1.6455931233151766e-06, 1.6387856353584724e-06, 1.6319373003974357e-06, 1.6250478803128327e-06, 1.6181171434711151e-06, 1.6111448650307358e-06, 1.6041308272609661e-06, 1.59707481987311e-06, 1.5899766403639883e-06, 1.582836094371512e-06, 1.5756529960421172e-06, 1.5684271684098078e-06, 1.5611584437864696e-06, 1.553846664163134e-06, 1.546491681621764e-06, 1.5390933587571368e-06, 1.531651569108326e-06, 1.5241661975992714e-06, 1.5166371409878554e-06, 1.5090643083228799e-06, 1.5014476214082985e-06, 1.4937870152740162e-06, 1.486082438652534e-06, 1.4783338544606744e-06, 1.4705412402856032e-06, 1.462704588874315e-06, 1.4548239086257294e-06, 1.4468992240845142e-06, 1.4389305764357168e-06, 1.4309180239992755e-06, 1.4228616427234442e-06, 1.4147615266761487e-06, 1.406617788533283e-06, 1.3984305600629129e-06, 1.3901999926043752e-06, 1.38192625754122e-06, 1.3736095467669402e-06, 1.365250073142446e-06, 1.3568480709441973e-06, 1.3484037963019576e-06, 1.3399175276250794e-06, 1.3313895660162793e-06, 1.322820235671835e-06, 1.3142098842671651e-06, 1.3055588833267536e-06, 1.296867628577394e-06, 1.2881365402837459e-06, 1.279366063565228e-06, 1.2705566686932555e-06, 1.2617088513678994e-06, 1.2528231329730405e-06, 1.2439000608091228e-06, 1.234940208302654e-06, 1.225944175191611e-06, 1.2169125876859745e-06, 1.2078460986026108e-06], \"yaxis\": \"y\"}, {\"legendgroup\": \"2015\", \"marker\": {\"color\": \"rgb(214, 39, 40)\"}, \"mode\": \"lines\", \"name\": \"2015\", \"showlegend\": true, \"type\": \"scatter\", \"x\": [406.0, 714.056, 1022.112, 1330.1680000000001, 1638.224, 1946.28, 2254.3360000000002, 2562.392, 2870.448, 3178.504, 3486.56, 3794.616, 4102.6720000000005, 4410.728, 4718.784, 5026.84, 5334.896, 5642.952, 5951.008, 6259.064, 6567.12, 6875.176, 7183.232, 7491.288, 7799.344, 8107.4, 8415.456, 8723.512, 9031.568, 9339.624, 9647.68, 9955.736, 10263.792, 10571.848, 10879.904, 11187.96, 11496.016, 11804.072, 12112.128, 12420.184, 12728.24, 13036.296, 13344.352, 13652.408, 13960.464, 14268.52, 14576.576, 14884.632, 15192.688, 15500.744, 15808.8, 16116.856, 16424.912, 16732.968, 17041.024, 17349.08, 17657.136, 17965.192, 18273.248, 18581.304, 18889.36, 19197.416, 19505.472, 19813.528, 20121.584, 20429.64, 20737.696, 21045.752, 21353.808, 21661.864, 21969.92, 22277.976, 22586.032, 22894.088, 23202.144, 23510.2, 23818.256, 24126.312, 24434.368, 24742.424, 25050.48, 25358.536, 25666.592, 25974.648, 26282.704, 26590.76, 26898.816, 27206.872, 27514.928, 27822.984, 28131.04, 28439.096, 28747.152, 29055.208, 29363.264, 29671.32, 29979.376, 30287.432, 30595.488, 30903.544, 31211.6, 31519.656, 31827.712, 32135.768, 32443.824, 32751.88, 33059.936, 33367.992, 33676.048, 33984.104, 34292.16, 34600.216, 34908.272, 35216.328, 35524.384, 35832.44, 36140.496, 36448.552, 36756.608, 37064.664, 37372.72, 37680.776, 37988.832, 38296.888, 38604.944, 38913.0, 39221.056, 39529.112, 39837.168, 40145.224, 40453.28, 40761.336, 41069.392, 41377.448, 41685.504, 41993.56, 42301.616, 42609.672, 42917.728, 43225.784, 43533.84, 43841.896, 44149.952, 44458.008, 44766.064, 45074.12, 45382.176, 45690.232, 45998.288, 46306.344, 46614.4, 46922.456, 47230.512, 47538.568, 47846.624, 48154.68, 48462.736, 48770.792, 49078.848, 49386.904, 49694.96, 50003.016, 50311.072, 50619.128, 50927.184, 51235.24, 51543.296, 51851.352, 52159.408, 52467.464, 52775.52, 53083.576, 53391.632, 53699.688, 54007.744, 54315.8, 54623.856, 54931.912, 55239.968, 55548.024, 55856.08, 56164.136, 56472.192, 56780.248, 57088.304, 57396.36, 57704.416, 58012.472, 58320.528, 58628.584, 58936.64, 59244.696, 59552.752, 59860.808, 60168.864, 60476.92, 60784.976, 61093.032, 61401.088, 61709.144, 62017.2, 62325.256, 62633.312, 62941.368, 63249.424, 63557.48, 63865.536, 64173.592, 64481.648, 64789.704, 65097.76, 65405.816, 65713.872, 66021.928, 66329.984, 66638.04, 66946.096, 67254.152, 67562.208, 67870.264, 68178.32, 68486.376, 68794.432, 69102.488, 69410.544, 69718.6, 70026.656, 70334.712, 70642.768, 70950.824, 71258.88, 71566.936, 71874.992, 72183.048, 72491.104, 72799.16, 73107.216, 73415.272, 73723.328, 74031.384, 74339.44, 74647.496, 74955.552, 75263.608, 75571.664, 75879.72, 76187.776, 76495.832, 76803.888, 77111.944, 77420.0, 77728.056, 78036.112, 78344.168, 78652.224, 78960.28, 79268.336, 79576.392, 79884.448, 80192.504, 80500.56, 80808.616, 81116.672, 81424.728, 81732.784, 82040.84, 82348.896, 82656.952, 82965.008, 83273.064, 83581.12, 83889.176, 84197.232, 84505.288, 84813.344, 85121.4, 85429.456, 85737.512, 86045.568, 86353.624, 86661.68, 86969.736, 87277.792, 87585.848, 87893.904, 88201.96, 88510.016, 88818.072, 89126.128, 89434.184, 89742.24, 90050.296, 90358.352, 90666.408, 90974.464, 91282.52, 91590.576, 91898.632, 92206.688, 92514.744, 92822.8, 93130.856, 93438.912, 93746.968, 94055.024, 94363.08, 94671.136, 94979.192, 95287.248, 95595.304, 95903.36, 96211.416, 96519.472, 96827.528, 97135.584, 97443.64, 97751.696, 98059.752, 98367.808, 98675.864, 98983.92, 99291.976, 99600.032, 99908.088, 100216.144, 100524.2, 100832.256, 101140.312, 101448.368, 101756.424, 102064.48, 102372.536, 102680.592, 102988.648, 103296.704, 103604.76, 103912.816, 104220.872, 104528.928, 104836.984, 105145.04, 105453.096, 105761.152, 106069.208, 106377.264, 106685.32, 106993.376, 107301.432, 107609.488, 107917.544, 108225.6, 108533.656, 108841.712, 109149.768, 109457.824, 109765.88, 110073.936, 110381.992, 110690.048, 110998.104, 111306.16, 111614.216, 111922.272, 112230.328, 112538.384, 112846.44, 113154.496, 113462.552, 113770.608, 114078.664, 114386.72, 114694.776, 115002.832, 115310.888, 115618.944, 115927.0, 116235.056, 116543.112, 116851.168, 117159.224, 117467.28, 117775.336, 118083.392, 118391.448, 118699.504, 119007.56, 119315.616, 119623.672, 119931.728, 120239.784, 120547.84, 120855.896, 121163.952, 121472.008, 121780.064, 122088.12, 122396.176, 122704.232, 123012.288, 123320.344, 123628.4, 123936.456, 124244.512, 124552.568, 124860.624, 125168.68, 125476.736, 125784.792, 126092.848, 126400.904, 126708.96, 127017.016, 127325.072, 127633.128, 127941.184, 128249.24, 128557.296, 128865.352, 129173.408, 129481.464, 129789.52, 130097.576, 130405.632, 130713.688, 131021.744, 131329.8, 131637.856, 131945.912, 132253.968, 132562.024, 132870.08, 133178.136, 133486.192, 133794.248, 134102.304, 134410.36, 134718.416, 135026.472, 135334.528, 135642.584, 135950.64, 136258.696, 136566.752, 136874.808, 137182.864, 137490.92, 137798.976, 138107.032, 138415.088, 138723.144, 139031.2, 139339.256, 139647.312, 139955.368, 140263.424, 140571.48, 140879.536, 141187.592, 141495.648, 141803.704, 142111.76, 142419.816, 142727.872, 143035.928, 143343.984, 143652.04, 143960.096, 144268.152, 144576.208, 144884.264, 145192.32, 145500.376, 145808.432, 146116.488, 146424.544, 146732.6, 147040.656, 147348.712, 147656.768, 147964.824, 148272.88, 148580.936, 148888.992, 149197.048, 149505.104, 149813.16, 150121.216, 150429.272, 150737.328, 151045.384, 151353.44, 151661.496, 151969.552, 152277.608, 152585.664, 152893.72, 153201.776, 153509.832, 153817.888, 154125.944], \"xaxis\": \"x\", \"y\": [1.0680083646229787e-05, 1.0744849232541821e-05, 1.0808344174140143e-05, 1.0870544495334756e-05, 1.0931426767799318e-05, 1.09909681270962e-05, 1.1049146288772415e-05, 1.1105939564009807e-05, 1.1161326874813506e-05, 1.12152877687231e-05, 1.1267802433031484e-05, 1.131885170849711e-05, 1.1368417102535774e-05, 1.1416480801878685e-05, 1.146302568468441e-05, 1.1508035332092636e-05, 1.155149403920859e-05, 1.1593386825507519e-05, 1.1633699444649326e-05, 1.167241839369427e-05, 1.170953092171114e-05, 1.174502503777033e-05, 1.1778889518314619e-05, 1.1811113913901626e-05, 1.1841688555312223e-05, 1.1870604559020278e-05, 1.1897853832019695e-05, 1.1923429076005504e-05, 1.1947323790906589e-05, 1.196953227776822e-05, 1.1990049640983639e-05, 1.2008871789874358e-05, 1.2025995439619796e-05, 1.2041418111537692e-05, 1.2055138132717198e-05, 1.2067154635007659e-05, 1.2077467553366549e-05, 1.2086077623570917e-05, 1.209298637929731e-05, 1.2098196148575923e-05, 1.2101710049625435e-05, 1.210353198607561e-05, 1.2103666641585356e-05, 1.2102119473864862e-05, 1.2098896708110707e-05, 1.2094005329863722e-05, 1.2087453077299907e-05, 1.2079248432965259e-05, 1.2069400614966e-05, 1.205791956762618e-05, 1.2044815951625251e-05, 1.2030101133628542e-05, 1.201378717542432e-05, 1.1995886822581276e-05, 1.1976413492640982e-05, 1.1955381262860101e-05, 1.1932804857517627e-05, 1.1908699634802751e-05, 1.1883081573299332e-05, 1.1855967258083219e-05, 1.1827373866449022e-05, 1.1797319153283161e-05, 1.1765821436100287e-05, 1.173289957976037e-05, 1.1698572980883936e-05, 1.166286155198316e-05, 1.162578570532657e-05, 1.1587366336555315e-05, 1.1547624808068978e-05, 1.1506582932199018e-05, 1.1464262954188015e-05, 1.1420687534992655e-05, 1.137587973392887e-05, 1.1329862991176905e-05, 1.1282661110164583e-05, 1.1234298239846496e-05, 1.1184798856897172e-05, 1.1134187747835721e-05, 1.108248999109969e-05, 1.1029730939085338e-05, 1.0975936200171715e-05, 1.0921131620745333e-05, 1.0865343267242302e-05, 1.0808597408224388e-05, 1.0750920496505149e-05, 1.0692339151342197e-05, 1.0632880140711088e-05, 1.0572570363676253e-05, 1.0511436832873812e-05, 1.0449506657121017e-05, 1.038680702416645e-05, 1.032336518359491e-05, 1.0259208429900434e-05, 1.0194364085740544e-05, 1.0128859485384321e-05, 1.0062721958366587e-05, 9.995978813360022e-06, 9.928657322276439e-06, 9.860784704608282e-06, 9.792388112020697e-06, 9.723494613204204e-06, 9.65413117899751e-06, 9.584324667789469e-06, 9.514101811208853e-06, 9.443489200109965e-06, 9.372513270861805e-06, 9.301200291947893e-06, 9.229576350883464e-06, 9.157667341456235e-06, 9.085498951296487e-06, 9.013096649781728e-06, 8.940485676280727e-06, 8.867691028741256e-06, 8.794737452625435e-06, 8.721649430196067e-06, 8.648451170156984e-06, 8.57516659764988e-06, 8.501819344609767e-06, 8.428432740480719e-06, 8.355029803293136e-06, 8.281633231103413e-06, 8.208265393796361e-06, 8.134948325250542e-06, 8.061703715866086e-06, 7.988552905454343e-06, 7.91551687648827e-06, 7.84261624771211e-06, 7.769871268108675e-06, 7.697301811222081e-06, 7.624927369833535e-06, 7.552767050987509e-06, 7.48083957136524e-06, 7.409163253002337e-06, 7.337756019346901e-06, 7.266635391654358e-06, 7.195818485714997e-06, 7.125322008909896e-06, 7.055162257590736e-06, 6.9853551147788626e-06, 6.9159160481786425e-06, 6.846860108500053e-06, 6.778201928085304e-06, 6.7099557198340625e-06, 6.6421352764217275e-06, 6.574753969805148e-06, 6.507824751009899e-06, 6.441360150193328e-06, 6.375372276977272e-06, 6.309872821044436e-06, 6.244873052992237e-06, 6.180383825437899e-06, 6.116415574368565e-06, 6.052978320730013e-06, 5.990081672247706e-06, 5.927734825473775e-06, 5.865946568053503e-06, 5.804725281204925e-06, 5.7440789424051696e-06, 5.6840151282770915e-06, 5.6245410176698355e-06, 5.5656633949269834e-06, 5.507388653335959e-06, 5.449722798752348e-06, 5.39267145339296e-06, 5.336239859791377e-06, 5.2804328849098275e-06, 5.225255024401359e-06, 5.170710407016216e-06, 5.1168027991464795e-06, 5.063535609503108e-06, 5.01091189391952e-06, 4.958934360276005e-06, 4.9076053735393035e-06, 4.856926960911738e-06, 4.806900817084499e-06, 4.757528309589548e-06, 4.708810484244954e-06, 4.660748070688319e-06, 4.613341487993222e-06, 4.5665908503636474e-06, 4.5204959729013536e-06, 4.475056377441414e-06, 4.430271298451091e-06, 4.386139688987381e-06, 4.342660226708642e-06, 4.2998313199357636e-06, 4.2576511137585205e-06, 4.216117496182699e-06, 4.175228104313837e-06, 4.134980330573343e-06, 4.095371328942954e-06, 4.056398021233533e-06, 4.01805710337428e-06, 3.980345051718497e-06, 3.943258129362192e-06, 3.906792392471783e-06, 3.870943696617271e-06, 3.835707703107423e-06, 3.8010798853233397e-06, 3.7670555350471184e-06, 3.733629768782181e-06, 3.7007975340619994e-06, 3.6685536157439807e-06, 3.6368926422853354e-06, 3.6058090919978064e-06, 3.575297299278184e-06, 3.5453514608116177e-06, 3.5159656417447208e-06, 3.4871337818255794e-06, 3.4588497015077903e-06, 3.431107108015703e-06, 3.4038996013680856e-06, 3.3772206803574764e-06, 3.351063748482556e-06, 3.3254221198308367e-06, 3.300289024909127e-06, 3.275657616419141e-06, 3.2515209749757817e-06, 3.2278721147655474e-06, 3.2047039891426746e-06, 3.1820094961605736e-06, 3.159781484036191e-06, 3.138012756544981e-06, 3.116696078344189e-06, 3.0958241802222167e-06, 3.075389764271831e-06, 3.0553855089850993e-06, 3.035804074267892e-06, 3.016638106371916e-06, 2.997880242742216e-06, 2.9795231167781815e-06, 2.9615593625061576e-06, 2.9439816191617096e-06, 2.926782535679778e-06, 2.9099547750909278e-06, 2.8934910188219533e-06, 2.8773839708992037e-06, 2.861626362053022e-06, 2.8462109537217333e-06, 2.831130541953744e-06, 2.8163779612063057e-06, 2.8019460880396044e-06, 2.78782784470493e-06, 2.774016202625676e-06, 2.7605041857700782e-06, 2.7472848739146224e-06, 2.7343514057971485e-06, 2.721696982158751e-06, 2.7093148686736747e-06, 2.697198398766473e-06, 2.685340976315771e-06, 2.6737360782441044e-06, 2.662377256993352e-06, 2.65125814288539e-06, 2.640372446367688e-06, 2.629713960143677e-06, 2.619276561187749e-06, 2.609054212644974e-06, 2.599040965615551e-06, 2.589230960824268e-06, 2.5796184301752265e-06, 2.5701976981922594e-06, 2.560963183345529e-06, 2.551909399264939e-06, 2.5430309558410302e-06, 2.5343225602141965e-06, 2.525779017653116e-06, 2.517395232323423e-06, 2.5091662079477223e-06, 2.5010870483581557e-06, 2.49315295794283e-06, 2.4853592419875424e-06, 2.4777013069142563e-06, 2.470174660417979e-06, 2.4627749115037077e-06, 2.4554977704252353e-06, 2.448339048527695e-06, 2.4412946579957946e-06, 2.4343606115098193e-06, 2.4275330218114867e-06, 2.4208081011819205e-06, 2.4141821608339757e-06, 2.4076516102213317e-06, 2.401212956266737e-06, 2.3948628025119515e-06, 2.388597848191918e-06, 2.3824148872358014e-06, 2.3763108071975945e-06, 2.3702825881189865e-06, 2.364327301327331e-06, 2.358442108171488e-06, 2.352624258698462e-06, 2.3468710902736987e-06, 2.3411800261480125e-06, 2.335548573974089e-06, 2.3299743242755654e-06, 2.3244549488716824e-06, 2.318988199260546e-06, 2.3135719049640166e-06, 2.308203971837272e-06, 2.3028823803460685e-06, 2.2976051838147276e-06, 2.2923705066479025e-06, 2.2871765425290857e-06, 2.2820215525988707e-06, 2.2769038636159512e-06, 2.271821866103745e-06, 2.266774012485609e-06, 2.2617588152114617e-06, 2.2567748448786908e-06, 2.251820728350077e-06, 2.2468951468715224e-06, 2.241996834192219e-06, 2.2371245746899174e-06, 2.2322772015038427e-06, 2.227453594677741e-06, 2.222652679315542e-06, 2.2178734237519334e-06, 2.213114837740181e-06, 2.2083759706593785e-06, 2.2036559097432733e-06, 2.19895377833271e-06, 2.1942687341536363e-06, 2.189599967622578e-06, 2.1849467001813354e-06, 2.1803081826626245e-06, 2.175683693688233e-06, 2.171072538101226e-06, 2.166474045433585e-06, 2.1618875684106223e-06, 2.15731248149335e-06, 2.1527481794599585e-06, 2.148194076027396e-06, 2.1436496025139803e-06, 2.1391142065438583e-06, 2.1345873507940374e-06, 2.1300685117846083e-06, 2.1255571787126943e-06, 2.12105285233053e-06, 2.1165550438680405e-06, 2.1120632740001165e-06, 2.10757707185876e-06, 2.1030959740901377e-06, 2.0986195239565025e-06, 2.0941472704828674e-06, 2.0896787676482096e-06, 2.0852135736209056e-06, 2.0807512500380415e-06, 2.076291361328108e-06, 2.071833474076574e-06, 2.0673771564337262e-06, 2.0629219775640957e-06, 2.0584675071367313e-06, 2.054013314855507e-06, 2.0495589700286097e-06, 2.0451040411762683e-06, 2.0406480956757587e-06, 2.036190699442642e-06, 2.031731416647175e-06, 2.0272698094647773e-06, 2.022805437859378e-06, 2.018337859398481e-06, 2.0138666290987016e-06, 2.0093912993005354e-06, 2.0049114195710905e-06, 2.0004265366334774e-06, 1.9959361943215524e-06, 1.9914399335586996e-06, 1.986937292359311e-06, 1.982427805851635e-06, 1.9779110063206545e-06, 1.9733864232696707e-06, 1.968853583499247e-06, 1.964312011202217e-06, 1.9597612280734355e-06, 1.9552007534329927e-06, 1.950630104361622e-06, 1.9460487958470526e-06, 1.9414563409400947e-06, 1.936852250919253e-06, 1.9322360354627187e-06, 1.927607202826617e-06, 1.9229652600284025e-06, 1.9183097130343784e-06, 1.9136400669503033e-06, 1.9089558262141345e-06, 1.904256494789988e-06, 1.8995415763624253e-06, 1.8948105745302596e-06, 1.890062992999088e-06, 1.885298335771832e-06, 1.880516107336614e-06, 1.8757158128513425e-06, 1.8708969583244447e-06, 1.8660590507912308e-06, 1.8612015984854277e-06, 1.856324111005493e-06, 1.851426099475343e-06, 1.8465070766992118e-06, 1.8415665573104028e-06, 1.8366040579137458e-06, 1.8316190972216278e-06, 1.8266111961835224e-06, 1.8215798781089906e-06, 1.8165246687841757e-06, 1.8114450965818746e-06, 1.8063406925652962e-06, 1.8012109905856941e-06, 1.796055527374069e-06, 1.7908738426272222e-06, 1.7856654790884386e-06, 1.7804299826231613e-06, 1.7751669022900196e-06, 1.7698757904076385e-06, 1.7645562026176672e-06, 1.7592076979445092e-06, 1.7538298388522709e-06, 1.748422191299436e-06, 1.7429843247918657e-06, 1.7375158124346578e-06, 1.7320162309834918e-06, 1.7264851608960692e-06, 1.7209221863842558e-06, 1.715326895467587e-06, 1.7096988800287657e-06, 1.7040377358717999e-06, 1.6983430627834373e-06, 1.6926144645985406e-06, 1.6868515492700566e-06, 1.6810539289442048e-06, 1.6752212200415363e-06, 1.669353043344459e-06, 1.6634490240918586e-06, 1.6575087920813845e-06, 1.6515319817799726e-06, 1.6455182324431653e-06, 1.639467188243738e-06, 1.6333784984101332e-06, 1.6272518173751762e-06, 1.621086804935501e-06, 1.6148831264221061e-06, 1.6086404528823948e-06, 1.60235846127405e-06, 1.5960368346710342e-06, 1.5896752624819669e-06, 1.5832734406811182e-06, 1.5768310720521645e-06, 1.570347866444859e-06, 1.5638235410447042e-06, 1.557257820655657e-06, 1.5506504379958714e-06, 1.544001134006433e-06, 1.537309658172974e-06, 1.5305757688600455e-06, 1.5237992336580296e-06, 1.5169798297423761e-06, 1.5101173442448592e-06, 1.5032115746365295e-06, 1.496262329121972e-06, 1.489269427044446e-06, 1.4822326993014403e-06, 1.4751519887700984e-06, 1.4680271507419824e-06, 1.460858053366549e-06, 1.45364457810269e-06, 1.4463866201776495e-06, 1.4390840890525884e-06, 1.431736908894035e-06, 1.4243450190503974e-06, 1.4169083745327285e-06, 1.4094269464988411e-06, 1.4019007227399008e-06, 1.3943297081685351e-06, 1.386713925307533e-06, 1.3790534147781258e-06, 1.3713482357868524e-06, 1.3635984666100015e-06, 1.3558042050745526e-06, 1.3479655690346013e-06, 1.340082696842158e-06, 1.3321557478112691e-06, 1.324184902674363e-06, 1.3161703640297172e-06, 1.308112356778977e-06, 1.3000111285536012e-06, 1.2918669501291675e-06, 1.2836801158264361e-06, 1.275450943898099e-06, 1.2671797769001576e-06, 1.2588669820468496e-06, 1.2505129515481148e-06, 1.2421181029285674e-06, 1.2336828793269843e-06, 1.2252077497753174e-06, 1.2166932094563146e-06, 1.208139779938796e-06, 1.1995480093897233e-06, 1.1909184727621867e-06, 1.1822517719585003e-06, 1.1735485359676302e-06], \"yaxis\": \"y\"}, {\"legendgroup\": \"2016\", \"marker\": {\"color\": \"rgb(148, 103, 189)\"}, \"mode\": \"lines\", \"name\": \"2016\", \"showlegend\": true, \"type\": \"scatter\", \"x\": [405.0, 716.95, 1028.9, 1340.85, 1652.8, 1964.75, 2276.7, 2588.65, 2900.6, 3212.55, 3524.5, 3836.45, 4148.4, 4460.35, 4772.3, 5084.25, 5396.2, 5708.15, 6020.1, 6332.05, 6644.0, 6955.95, 7267.9, 7579.85, 7891.8, 8203.75, 8515.7, 8827.65, 9139.6, 9451.55, 9763.5, 10075.45, 10387.4, 10699.35, 11011.3, 11323.25, 11635.2, 11947.15, 12259.1, 12571.05, 12883.0, 13194.95, 13506.9, 13818.85, 14130.8, 14442.75, 14754.7, 15066.65, 15378.6, 15690.55, 16002.5, 16314.45, 16626.4, 16938.35, 17250.3, 17562.25, 17874.2, 18186.15, 18498.1, 18810.05, 19122.0, 19433.95, 19745.9, 20057.85, 20369.8, 20681.75, 20993.7, 21305.65, 21617.6, 21929.55, 22241.5, 22553.45, 22865.4, 23177.35, 23489.3, 23801.25, 24113.2, 24425.15, 24737.1, 25049.05, 25361.0, 25672.95, 25984.9, 26296.85, 26608.8, 26920.75, 27232.7, 27544.65, 27856.6, 28168.55, 28480.5, 28792.45, 29104.4, 29416.35, 29728.3, 30040.25, 30352.2, 30664.15, 30976.1, 31288.05, 31600.0, 31911.95, 32223.9, 32535.85, 32847.8, 33159.75, 33471.7, 33783.65, 34095.6, 34407.55, 34719.5, 35031.45, 35343.4, 35655.35, 35967.3, 36279.25, 36591.2, 36903.15, 37215.1, 37527.05, 37839.0, 38150.95, 38462.9, 38774.85, 39086.8, 39398.75, 39710.7, 40022.65, 40334.6, 40646.55, 40958.5, 41270.45, 41582.4, 41894.35, 42206.3, 42518.25, 42830.2, 43142.15, 43454.1, 43766.05, 44078.0, 44389.95, 44701.9, 45013.85, 45325.8, 45637.75, 45949.7, 46261.65, 46573.6, 46885.55, 47197.5, 47509.45, 47821.4, 48133.35, 48445.3, 48757.25, 49069.2, 49381.15, 49693.1, 50005.05, 50317.0, 50628.95, 50940.9, 51252.85, 51564.8, 51876.75, 52188.7, 52500.65, 52812.6, 53124.55, 53436.5, 53748.45, 54060.4, 54372.35, 54684.3, 54996.25, 55308.2, 55620.15, 55932.1, 56244.05, 56556.0, 56867.95, 57179.9, 57491.85, 57803.8, 58115.75, 58427.7, 58739.65, 59051.6, 59363.55, 59675.5, 59987.45, 60299.4, 60611.35, 60923.3, 61235.25, 61547.2, 61859.15, 62171.1, 62483.05, 62795.0, 63106.95, 63418.9, 63730.85, 64042.8, 64354.75, 64666.7, 64978.65, 65290.6, 65602.55, 65914.5, 66226.45, 66538.4, 66850.35, 67162.3, 67474.25, 67786.2, 68098.15, 68410.1, 68722.05, 69034.0, 69345.95, 69657.9, 69969.85, 70281.8, 70593.75, 70905.7, 71217.65, 71529.6, 71841.55, 72153.5, 72465.45, 72777.4, 73089.35, 73401.3, 73713.25, 74025.2, 74337.15, 74649.1, 74961.05, 75273.0, 75584.95, 75896.9, 76208.85, 76520.8, 76832.75, 77144.7, 77456.65, 77768.6, 78080.55, 78392.5, 78704.45, 79016.4, 79328.35, 79640.3, 79952.25, 80264.2, 80576.15, 80888.1, 81200.05, 81512.0, 81823.95, 82135.9, 82447.85, 82759.8, 83071.75, 83383.7, 83695.65, 84007.6, 84319.55, 84631.5, 84943.45, 85255.4, 85567.35, 85879.3, 86191.25, 86503.2, 86815.15, 87127.1, 87439.05, 87751.0, 88062.95, 88374.9, 88686.85, 88998.8, 89310.75, 89622.7, 89934.65, 90246.6, 90558.55, 90870.5, 91182.45, 91494.4, 91806.35, 92118.3, 92430.25, 92742.2, 93054.15, 93366.1, 93678.05, 93990.0, 94301.95, 94613.9, 94925.85, 95237.8, 95549.75, 95861.7, 96173.65, 96485.6, 96797.55, 97109.5, 97421.45, 97733.4, 98045.35, 98357.3, 98669.25, 98981.2, 99293.15, 99605.1, 99917.05, 100229.0, 100540.95, 100852.9, 101164.85, 101476.8, 101788.75, 102100.7, 102412.65, 102724.6, 103036.55, 103348.5, 103660.45, 103972.4, 104284.35, 104596.3, 104908.25, 105220.2, 105532.15, 105844.1, 106156.05, 106468.0, 106779.95, 107091.9, 107403.85, 107715.8, 108027.75, 108339.7, 108651.65, 108963.6, 109275.55, 109587.5, 109899.45, 110211.4, 110523.35, 110835.3, 111147.25, 111459.2, 111771.15, 112083.1, 112395.05, 112707.0, 113018.95, 113330.9, 113642.85, 113954.8, 114266.75, 114578.7, 114890.65, 115202.6, 115514.55, 115826.5, 116138.45, 116450.4, 116762.35, 117074.3, 117386.25, 117698.2, 118010.15, 118322.1, 118634.05, 118946.0, 119257.95, 119569.9, 119881.85, 120193.8, 120505.75, 120817.7, 121129.65, 121441.6, 121753.55, 122065.5, 122377.45, 122689.4, 123001.35, 123313.3, 123625.25, 123937.2, 124249.15, 124561.1, 124873.05, 125185.0, 125496.95, 125808.9, 126120.85, 126432.8, 126744.75, 127056.7, 127368.65, 127680.6, 127992.55, 128304.5, 128616.45, 128928.4, 129240.35, 129552.3, 129864.25, 130176.2, 130488.15, 130800.1, 131112.05, 131424.0, 131735.95, 132047.9, 132359.85, 132671.8, 132983.75, 133295.7, 133607.65, 133919.6, 134231.55, 134543.5, 134855.45, 135167.4, 135479.35, 135791.3, 136103.25, 136415.2, 136727.15, 137039.1, 137351.05, 137663.0, 137974.95, 138286.9, 138598.85, 138910.8, 139222.75, 139534.7, 139846.65, 140158.6, 140470.55, 140782.5, 141094.45, 141406.4, 141718.35, 142030.3, 142342.25, 142654.2, 142966.15, 143278.1, 143590.05, 143902.0, 144213.95, 144525.9, 144837.85, 145149.8, 145461.75, 145773.7, 146085.65, 146397.6, 146709.55, 147021.5, 147333.45, 147645.4, 147957.35, 148269.3, 148581.25, 148893.2, 149205.15, 149517.1, 149829.05, 150141.0, 150452.95, 150764.9, 151076.85, 151388.8, 151700.75, 152012.7, 152324.65, 152636.6, 152948.55, 153260.5, 153572.45, 153884.4, 154196.35, 154508.3, 154820.25, 155132.2, 155444.15, 155756.1, 156068.05], \"xaxis\": \"x\", \"y\": [1.0608279086844505e-05, 1.0672429323174588e-05, 1.0735304259623928e-05, 1.0796879918404835e-05, 1.0857132874493019e-05, 1.0916040272322629e-05, 1.0973579842048741e-05, 1.102972991536037e-05, 1.1084469440827725e-05, 1.1137777998767921e-05, 1.1189635815613933e-05, 1.124002377777212e-05, 1.1288923444954314e-05, 1.1336317062970986e-05, 1.138218757597275e-05, 1.1426518638127994e-05, 1.146929462472523e-05, 1.1510500642689311e-05, 1.155012254050142e-05, 1.158814691751349e-05, 1.1624561132648336e-05, 1.1659353312477529e-05, 1.1692512358669925e-05, 1.1724027954804268e-05, 1.1753890572540274e-05, 1.1782091477143194e-05, 1.1808622732357708e-05, 1.1833477204627771e-05, 1.185664856665977e-05, 1.1878131300327102e-05, 1.1897920698915155e-05, 1.1916012868706315e-05, 1.1932404729905508e-05, 1.194709401690743e-05, 1.196007927790755e-05, 1.1971359873859478e-05, 1.1980935976782274e-05, 1.1988808567421933e-05, 1.1994979432271856e-05, 1.199945115995813e-05, 1.2002227136995884e-05, 1.2003311542923766e-05, 1.200270934482441e-05, 1.200042629123908e-05, 1.1996468905485817e-05, 1.1990844478390504e-05, 1.1983561060441381e-05, 1.1974627453377727e-05, 1.1964053201224345e-05, 1.1951848580783762e-05, 1.1938024591598831e-05, 1.1922592945398729e-05, 1.1905566055042002e-05, 1.188695702297077e-05, 1.1866779629190463e-05, 1.1845048318790186e-05, 1.1821778189018979e-05, 1.179698497593371e-05, 1.1770685040634696e-05, 1.1742895355105487e-05, 1.1713633487673445e-05, 1.1682917588108265e-05, 1.1650766372375527e-05, 1.1617199107062856e-05, 1.1582235593496389e-05, 1.154589615156533e-05, 1.1508201603272683e-05, 1.1469173256030216e-05, 1.1428832885716016e-05, 1.138720271951281e-05, 1.1344305418545518e-05, 1.1300164060336344e-05, 1.1254802121095862e-05, 1.1208243457868384e-05, 1.116051229054998e-05, 1.1111633183797341e-05, 1.106163102884564e-05, 1.1010531025253422e-05, 1.0958358662592379e-05, 1.0905139702099733e-05, 1.0850900158310778e-05, 1.079566628068883e-05, 1.0739464535269809e-05, 1.0682321586338178e-05, 1.062426427815089e-05, 1.0565319616725667e-05, 1.0505514751709563e-05, 1.0444876958343561e-05, 1.038343361953851e-05, 1.0321212208077463e-05, 1.0258240268959045e-05, 1.0194545401896117e-05, 1.0130155243983678e-05, 1.0065097452549403e-05, 9.999399688200046e-06, 9.933089598076198e-06, 9.866194799327773e-06, 9.798742862821936e-06, 9.730761297094887e-06, 9.662277532558309e-06, 9.59331890597102e-06, 9.523912645185741e-06, 9.454085854180496e-06, 9.383865498383711e-06, 9.313278390301536e-06, 9.242351175455524e-06, 9.171110318638206e-06, 9.099582090493811e-06, 9.027792554430625e-06, 8.955767553871378e-06, 8.88353269984715e-06, 8.811113358940196e-06, 8.738534641580406e-06, 8.665821390699658e-06, 8.592998170748e-06, 8.520089257074996e-06, 8.447118625679172e-06, 8.374109943328138e-06, 8.301086558051366e-06, 8.228071490007304e-06, 8.155087422726102e-06, 8.082156694728651e-06, 8.009301291522437e-06, 7.936542837974217e-06, 7.863902591059064e-06, 7.791401432985196e-06, 7.71905986469333e-06, 7.646897999729208e-06, 7.574935558487481e-06, 7.503191862824786e-06, 7.43168583103965e-06, 7.360435973216345e-06, 7.2894603869298214e-06, 7.2187767533082235e-06, 7.148402333449474e-06, 7.078353965188077e-06, 7.0086480602079554e-06, 6.9393006014970565e-06, 6.8703271411391076e-06, 6.801742798437779e-06, 6.733562258368227e-06, 6.665799770350881e-06, 6.598469147342145e-06, 6.53158376523646e-06, 6.4651565625741114e-06, 6.3992000405489364e-06, 6.333726263310047e-06, 6.26874685855147e-06, 6.2042730183835765e-06, 6.140315500480026e-06, 6.076884629493881e-06, 6.01399029873648e-06, 5.951641972112558e-06, 5.8898486863050984e-06, 5.828619053203266e-06, 5.767961262566836e-06, 5.707883084920428e-06, 5.648391874670837e-06, 5.589494573440788e-06, 5.531197713612351e-06, 5.473507422073369e-06, 5.416429424160111e-06, 5.359969047789516e-06, 5.304131227774333e-06, 5.248920510314482e-06, 5.194341057658073e-06, 5.140396652925436e-06, 5.087090705089669e-06, 5.034426254107202e-06, 4.982405976191892e-06, 4.931032189226341e-06, 4.880306858303986e-06, 4.830231601395847e-06, 4.780807695135563e-06, 4.732036080716696e-06, 4.683917369896184e-06, 4.636451851097941e-06, 4.589639495610725e-06, 4.543479963874343e-06, 4.497972611848533e-06, 4.453116497458716e-06, 4.408910387113092e-06, 4.365352762285499e-06, 4.322441826158588e-06, 4.2801755103219526e-06, 4.2385514815199165e-06, 4.1975671484437564e-06, 4.157219668563241e-06, 4.117505954992449e-06, 4.078422683384855e-06, 4.039966298852856e-06, 4.002133022906858e-06, 3.9649188604092695e-06, 3.928319606538663e-06, 3.892330853759628e-06, 3.8569479987937115e-06, 3.822166249587113e-06, 3.787980632270731e-06, 3.754385998108319e-06, 3.721377030428514e-06, 3.6889482515366616e-06, 3.6570940296023285e-06, 3.625808585518554e-06, 3.595085999728903e-06, 3.5649202190184926e-06, 3.535305063265195e-06, 3.506234232147332e-06, 3.4777013118041845e-06, 3.449699781445792e-06, 3.4222230199084824e-06, 3.3952643121527307e-06, 3.368816855699957e-06, 3.342873767004947e-06, 3.3174280877606865e-06, 3.292472791132383e-06, 3.2680007879176284e-06, 3.244004932629611e-06, 3.2204780295004298e-06, 3.1974128384015943e-06, 3.174802080678906e-06, 3.1526384448988834e-06, 3.13091459250413e-06, 3.1096231633749316e-06, 3.0887567812946017e-06, 3.0683080593160424e-06, 3.0482696050271502e-06, 3.0286340257127293e-06, 3.0093939334106533e-06, 2.9905419498601247e-06, 2.972070711339917e-06, 2.953972873394613e-06, 2.9362411154468917e-06, 2.9188681452940374e-06, 2.901846703486931e-06, 2.8851695675898303e-06, 2.868829556319378e-06, 2.852819533561364e-06, 2.8371324122638586e-06, 2.8217611582053997e-06, 2.8066987936370653e-06, 2.791938400797329e-06, 2.777473125298701e-06, 2.763296179385273e-06, 2.749400845060376e-06, 2.7357804770836737e-06, 2.7224285058371057e-06, 2.7093384400592438e-06, 2.6965038694476835e-06, 2.683918467129235e-06, 2.671575991997795e-06, 2.6594702909198716e-06, 2.647595300807851e-06, 2.635945050561263e-06, 2.624513662876309e-06, 2.6132953559241615e-06, 2.602284444898557e-06, 2.5914753434333794e-06, 2.5808625648910243e-06, 2.570440723522469e-06, 2.560204535500053e-06, 2.550148819824148e-06, 2.5402684991049536e-06, 2.5305586002208026e-06, 2.5210142548544774e-06, 2.511630699909115e-06, 2.502403277805434e-06, 2.4933274366621103e-06, 2.484398730361202e-06, 2.4756128185006936e-06, 2.466965466236278e-06, 2.458452544014633e-06, 2.4500700272005006e-06, 2.4418139956000493e-06, 2.43368063288301e-06, 2.4256662259062208e-06, 2.4177671639412865e-06, 2.409979937809124e-06, 2.4023011389242933e-06, 2.3947274582520186e-06, 2.3872556851809475e-06, 2.3798827063147198e-06, 2.372605504185477e-06, 2.3654211558925563e-06, 2.3583268316695956e-06, 2.3513197933833662e-06, 2.34439739296772e-06, 2.337557070796005e-06, 2.330796353995419e-06, 2.3241128547067505e-06, 2.3175042682929875e-06, 2.3109683715003272e-06, 2.3045030205751062e-06, 2.298106149340165e-06, 2.2917757672342293e-06, 2.2855099573178165e-06, 2.2793068742492167e-06, 2.273164742234066e-06, 2.2670818529520452e-06, 2.2610565634641473e-06, 2.2550872941040276e-06, 2.24917252635682e-06, 2.243310800728838e-06, 2.237500714611514e-06, 2.2317409201428576e-06, 2.2260301220697156e-06, 2.2203670756140007e-06, 2.2147505843460526e-06, 2.209179498068168e-06, 2.20365271071134e-06, 2.1981691582480956e-06, 2.192727816624291e-06, 2.187327699712641e-06, 2.181967857290643e-06, 2.1766473730454986e-06, 2.171365362608514e-06, 2.1661209716213985e-06, 2.16091337383674e-06, 2.1557417692548724e-06, 2.1506053822992165e-06, 2.1455034600320868e-06, 2.140435270412838e-06, 2.1354001006001168e-06, 2.1303972552998715e-06, 2.1254260551606595e-06, 2.12048583521766e-06, 2.115575943386724e-06, 2.110695739009621e-06, 2.1058445914515625e-06, 2.1010218787519635e-06, 2.096226986329246e-06, 2.0914593057404363e-06, 2.0867182334961024e-06, 2.082003169931166e-06, 2.0773135181318967e-06, 2.0726486829193755e-06, 2.068008069889534e-06, 2.0633910845097985e-06, 2.058797131272248e-06, 2.054225612903087e-06, 2.049675929628117e-06, 2.0451474784938123e-06, 2.0406396527434686e-06, 2.036151841247826e-06, 2.031683427989462e-06, 2.0272337916001374e-06, 2.0228023049502306e-06, 2.018388334789255e-06, 2.0139912414364363e-06, 2.009610378520184e-06, 2.0052450927652604e-06, 2.0008947238263672e-06, 1.9965586041667904e-06, 1.9922360589807086e-06, 1.9879264061576747e-06, 1.9836289562877714e-06, 1.9793430127058487e-06, 1.975067871573241e-06, 1.9708028219952923e-06, 1.9665471461730063e-06, 1.962300119587104e-06, 1.958061011212704e-06, 1.953829083762901e-06, 1.9496035939594145e-06, 1.9453837928285144e-06, 1.9411689260204214e-06, 1.936958234150357e-06, 1.932750953159425e-06, 1.928546314693533e-06, 1.924343546498527e-06, 1.9201418728297805e-06, 1.9159405148744484e-06, 1.911738691184646e-06, 1.9075356181198405e-06, 1.9033305102967474e-06, 1.8991225810450927e-06, 1.8949110428675977e-06, 1.890695107902635e-06, 1.8864739883879893e-06, 1.8822468971242575e-06, 1.87801304793643e-06, 1.8737716561322772e-06, 1.8695219389562138e-06, 1.8652631160373425e-06, 1.8609944098304974e-06, 1.856715046049108e-06, 1.8524242540888096e-06, 1.8481212674407723e-06, 1.8438053240937963e-06, 1.8394756669242925e-06, 1.8351315440733218e-06, 1.830772209309955e-06, 1.8263969223802831e-06, 1.8220049493414605e-06, 1.8175955628802707e-06, 1.8131680426157537e-06, 1.8087216753854888e-06, 1.8042557555152596e-06, 1.7997695850718223e-06, 1.7952624740986393e-06, 1.7907337408344529e-06, 1.786182711914694e-06, 1.7816087225557452e-06, 1.777011116722176e-06, 1.7723892472771174e-06, 1.7677424761160075e-06, 1.7630701742840158e-06, 1.7583717220774869e-06, 1.7536465091298341e-06, 1.7488939344823396e-06, 1.744113406640398e-06, 1.7393043436157597e-06, 1.7344661729554186e-06, 1.7295983317577876e-06, 1.724700266676892e-06, 1.7197714339153128e-06, 1.7148112992066783e-06, 1.7098193377885206e-06, 1.7047950343663428e-06, 1.6997378830697672e-06, 1.6946473874016885e-06, 1.6895230601813242e-06, 1.6843644234821192e-06, 1.6791710085654506e-06, 1.673942355811093e-06, 1.6686780146454218e-06, 1.6633775434683156e-06, 1.6580405095797497e-06, 1.652666489107029e-06, 1.6472550669336465e-06, 1.6418058366307146e-06, 1.6363184003919056e-06, 1.6307923689728444e-06, 1.6252273616358498e-06, 1.6196230061009108e-06, 1.6139789385037766e-06, 1.608294803361974e-06, 1.6025702535495697e-06, 1.5968049502814518e-06, 1.5909985631078513e-06, 1.5851507699198292e-06, 1.5792612569663544e-06, 1.5733297188836242e-06, 1.567355858737171e-06, 1.5613393880772961e-06, 1.5552800270083113e-06, 1.549177504272005e-06, 1.5430315573457227e-06, 1.5368419325553801e-06, 1.5306083852036848e-06, 1.5243306797137862e-06, 1.5180085897885051e-06, 1.5116418985852631e-06, 1.5052303989067585e-06, 1.4987738934073678e-06, 1.492272194815234e-06, 1.4857251261698885e-06, 1.4791325210752649e-06, 1.4724942239678323e-06, 1.465810090399579e-06, 1.4590799873354988e-06, 1.4523037934651606e-06, 1.4454813995279261e-06, 1.4386127086512858e-06, 1.4316976367017582e-06, 1.424736112647749e-06, 1.417728078933685e-06, 1.4106734918647416e-06, 1.403572322001376e-06, 1.3964245545628924e-06, 1.389230189839181e-06, 1.3819892436097552e-06, 1.374701747569157e-06, 1.3673677497577932e-06, 1.3599873149971776e-06, 1.3525605253286063e-06, 1.3450874804541659e-06, 1.33756829817904e-06, 1.330003114853988e-06, 1.3223920858168945e-06, 1.314735385832242e-06, 1.3070332095273606e-06, 1.2992857718242905e-06, 1.2914933083660848e-06, 1.2836560759363675e-06, 1.2757743528709797e-06, 1.267848439460512e-06, 1.2598786583425624e-06, 1.2518653548825322e-06, 1.2438088975417939e-06, 1.2357096782320955e-06, 1.2275681126550316e-06, 1.2193846406254848e-06, 1.2111597263779183e-06, 1.202893858854447e-06, 1.1945875519736254e-06, 1.1862413448789346e-06, 1.1778558021659606e-06, 1.1694315140873083e-06, 1.1609690967343127e-06, 1.1524691921946774e-06], \"yaxis\": \"y\"}, {\"legendgroup\": \"2017\", \"marker\": {\"color\": \"rgb(140, 86, 75)\"}, \"mode\": \"lines\", \"name\": \"2017\", \"showlegend\": true, \"type\": \"scatter\", \"x\": [401.0, 718.2180000000001, 1035.4360000000001, 1352.654, 1669.872, 1987.09, 2304.308, 2621.526, 2938.744, 3255.962, 3573.18, 3890.398, 4207.616, 4524.834, 4842.052, 5159.27, 5476.488, 5793.706, 6110.924, 6428.142, 6745.36, 7062.578, 7379.796, 7697.014, 8014.232, 8331.45, 8648.668, 8965.886, 9283.104, 9600.322, 9917.54, 10234.758, 10551.976, 10869.194, 11186.412, 11503.63, 11820.848, 12138.066, 12455.284, 12772.502, 13089.72, 13406.938, 13724.156, 14041.374, 14358.592, 14675.81, 14993.028, 15310.246, 15627.464, 15944.682, 16261.9, 16579.118000000002, 16896.336, 17213.554, 17530.772, 17847.99, 18165.208, 18482.426, 18799.644, 19116.862, 19434.08, 19751.298, 20068.516, 20385.734, 20702.952, 21020.17, 21337.388, 21654.606, 21971.824, 22289.042, 22606.26, 22923.478, 23240.696, 23557.914, 23875.132, 24192.35, 24509.568, 24826.786, 25144.004, 25461.222, 25778.44, 26095.658, 26412.876, 26730.094, 27047.312, 27364.53, 27681.748, 27998.966, 28316.184, 28633.402, 28950.62, 29267.838, 29585.056, 29902.274, 30219.492, 30536.71, 30853.928, 31171.146, 31488.364, 31805.582, 32122.8, 32440.018, 32757.236, 33074.454, 33391.672, 33708.89, 34026.108, 34343.326, 34660.544, 34977.762, 35294.98, 35612.198, 35929.416, 36246.634, 36563.852, 36881.07, 37198.288, 37515.506, 37832.724, 38149.942, 38467.16, 38784.378, 39101.596, 39418.814, 39736.032, 40053.25, 40370.468, 40687.686, 41004.904, 41322.122, 41639.34, 41956.558, 42273.776, 42590.994, 42908.212, 43225.43, 43542.648, 43859.866, 44177.084, 44494.302, 44811.52, 45128.738, 45445.956, 45763.174, 46080.392, 46397.61, 46714.828, 47032.046, 47349.264, 47666.482, 47983.7, 48300.918, 48618.136, 48935.354, 49252.572, 49569.79, 49887.008, 50204.226, 50521.444, 50838.662, 51155.88, 51473.098, 51790.316, 52107.534, 52424.752, 52741.97, 53059.188, 53376.406, 53693.624, 54010.842, 54328.06, 54645.278, 54962.496, 55279.714, 55596.932, 55914.15, 56231.368, 56548.586, 56865.804, 57183.022, 57500.24, 57817.458, 58134.676, 58451.894, 58769.112, 59086.33, 59403.548, 59720.766, 60037.984, 60355.202, 60672.42, 60989.638, 61306.856, 61624.074, 61941.292, 62258.51, 62575.728, 62892.946, 63210.164, 63527.382, 63844.6, 64161.818, 64479.036, 64796.254, 65113.472, 65430.69, 65747.908, 66065.126, 66382.344, 66699.562, 67016.78, 67333.998, 67651.216, 67968.434, 68285.652, 68602.87, 68920.088, 69237.306, 69554.524, 69871.742, 70188.96, 70506.178, 70823.396, 71140.614, 71457.832, 71775.05, 72092.268, 72409.486, 72726.704, 73043.922, 73361.14, 73678.358, 73995.576, 74312.794, 74630.012, 74947.23, 75264.448, 75581.666, 75898.884, 76216.102, 76533.32, 76850.538, 77167.756, 77484.974, 77802.192, 78119.41, 78436.628, 78753.846, 79071.064, 79388.282, 79705.5, 80022.718, 80339.936, 80657.154, 80974.372, 81291.59, 81608.808, 81926.026, 82243.244, 82560.462, 82877.68, 83194.898, 83512.116, 83829.334, 84146.552, 84463.77, 84780.988, 85098.206, 85415.424, 85732.642, 86049.86, 86367.078, 86684.296, 87001.514, 87318.732, 87635.95, 87953.168, 88270.386, 88587.604, 88904.822, 89222.04, 89539.258, 89856.476, 90173.694, 90490.912, 90808.13, 91125.348, 91442.566, 91759.784, 92077.002, 92394.22, 92711.438, 93028.656, 93345.874, 93663.092, 93980.31, 94297.528, 94614.746, 94931.964, 95249.182, 95566.4, 95883.618, 96200.836, 96518.054, 96835.272, 97152.49, 97469.708, 97786.926, 98104.144, 98421.362, 98738.58, 99055.798, 99373.016, 99690.234, 100007.452, 100324.67, 100641.888, 100959.106, 101276.324, 101593.542, 101910.76, 102227.978, 102545.196, 102862.414, 103179.632, 103496.85, 103814.068, 104131.286, 104448.504, 104765.722, 105082.94, 105400.158, 105717.376, 106034.594, 106351.812, 106669.03, 106986.248, 107303.466, 107620.684, 107937.902, 108255.12, 108572.338, 108889.556, 109206.774, 109523.992, 109841.21, 110158.428, 110475.646, 110792.864, 111110.082, 111427.3, 111744.518, 112061.736, 112378.954, 112696.172, 113013.39, 113330.608, 113647.826, 113965.044, 114282.262, 114599.48, 114916.698, 115233.916, 115551.134, 115868.352, 116185.57, 116502.788, 116820.006, 117137.224, 117454.442, 117771.66, 118088.878, 118406.096, 118723.314, 119040.532, 119357.75, 119674.968, 119992.186, 120309.404, 120626.622, 120943.84, 121261.058, 121578.276, 121895.494, 122212.712, 122529.93, 122847.148, 123164.366, 123481.584, 123798.802, 124116.02, 124433.238, 124750.456, 125067.674, 125384.892, 125702.11, 126019.328, 126336.546, 126653.764, 126970.982, 127288.2, 127605.418, 127922.636, 128239.854, 128557.072, 128874.29, 129191.508, 129508.726, 129825.944, 130143.162, 130460.38, 130777.598, 131094.816, 131412.03399999999, 131729.252, 132046.47, 132363.688, 132680.906, 132998.124, 133315.342, 133632.56, 133949.778, 134266.996, 134584.214, 134901.432, 135218.65, 135535.868, 135853.086, 136170.304, 136487.522, 136804.74, 137121.958, 137439.176, 137756.394, 138073.612, 138390.83, 138708.048, 139025.266, 139342.484, 139659.702, 139976.92, 140294.138, 140611.356, 140928.574, 141245.792, 141563.01, 141880.228, 142197.446, 142514.664, 142831.882, 143149.1, 143466.318, 143783.536, 144100.754, 144417.972, 144735.19, 145052.408, 145369.626, 145686.844, 146004.062, 146321.28, 146638.498, 146955.716, 147272.934, 147590.152, 147907.37, 148224.588, 148541.806, 148859.024, 149176.242, 149493.46, 149810.678, 150127.896, 150445.114, 150762.332, 151079.55, 151396.768, 151713.986, 152031.204, 152348.422, 152665.64, 152982.858, 153300.076, 153617.294, 153934.512, 154251.73, 154568.948, 154886.166, 155203.384, 155520.602, 155837.82, 156155.038, 156472.256, 156789.474, 157106.692, 157423.91, 157741.128, 158058.346, 158375.564, 158692.782], \"xaxis\": \"x\", \"y\": [1.0513562071687556e-05, 1.057697030557041e-05, 1.0639094716473359e-05, 1.0699911326570574e-05, 1.0759396723183091e-05, 1.0817528075729242e-05, 1.08742831522286e-05, 1.0929640335342079e-05, 1.098357863793145e-05, 1.1036077718122005e-05, 1.1087117893852696e-05, 1.1136680156898735e-05, 1.1184746186352182e-05, 1.1231298361546706e-05, 1.1276319774413415e-05, 1.1319794241255278e-05, 1.1361706313928318e-05, 1.1402041290418577e-05, 1.1440785224804485e-05, 1.1477924936594987e-05, 1.1513448019434609e-05, 1.1547342849167328e-05, 1.1579598591251975e-05, 1.1610205207522496e-05, 1.1639153462287388e-05, 1.1666434927763329e-05, 1.169204198883871e-05, 1.1715967847163787e-05, 1.1738206524564794e-05, 1.1758752865780226e-05, 1.177760254051833e-05, 1.1794752044835564e-05, 1.1810198701836654e-05, 1.1823940661697642e-05, 1.1835976901014088e-05, 1.1846307221477377e-05, 1.185493224788292e-05, 1.1861853425474664e-05, 1.1867073016631209e-05, 1.1870594096899539e-05, 1.1872420550383035e-05, 1.18725570644913e-05, 1.1871009124059813e-05, 1.1867783004848386e-05, 1.1862885766427812e-05, 1.1856325244464968e-05, 1.1848110042417047e-05, 1.1838249522646483e-05, 1.1826753796968414e-05, 1.1813633716643448e-05, 1.1798900861828722e-05, 1.1782567530501022e-05, 1.1764646726866163e-05, 1.1745152149269266e-05, 1.1724098177621077e-05, 1.170149986035594e-05, 1.1677372900937473e-05, 1.1651733643928173e-05, 1.1624599060639933e-05, 1.159598673438236e-05, 1.1565914845326439e-05, 1.1534402155001173e-05, 1.1501467990441186e-05, 1.1467132228003426e-05, 1.143141527687143e-05, 1.1394338062265672e-05, 1.135592200837873e-05, 1.131618902105416e-05, 1.1275161470227947e-05, 1.1232862172151647e-05, 1.1189314371416256e-05, 1.1144541722795837e-05, 1.1098568272930104e-05, 1.1051418441864928e-05, 1.1003117004469786e-05, 1.0953689071751087e-05, 1.090316007208021e-05, 1.0851555732354864e-05, 1.0798902059112376e-05, 1.0745225319613254e-05, 1.0690552022913164e-05, 1.0634908900941298e-05, 1.0578322889602814e-05, 1.0520821109922855e-05, 1.0462430849249226e-05, 1.0403179542530715e-05, 1.0343094753687541e-05, 1.0282204157090213e-05, 1.0220535519162643e-05, 1.0158116680125072e-05, 1.0094975535891929e-05, 1.0031140020139402e-05, 9.966638086557041e-06, 9.901497691297334e-06, 9.835746775636774e-06, 9.769413248861475e-06, 9.702524971389933e-06, 9.63510973814512e-06, 9.567195262187604e-06, 9.498809158620917e-06, 9.429978928779873e-06, 9.360731944712192e-06, 9.291095433963112e-06, 9.221096464672346e-06, 9.150761930992119e-06, 9.080118538834608e-06, 9.009192791956615e-06, 8.938010978388713e-06, 8.866599157215703e-06, 8.79498314571471e-06, 8.723188506856715e-06, 8.65124053717686e-06, 8.579164255018333e-06, 8.506984389154283e-06, 8.434725367791503e-06, 8.362411307959473e-06, 8.290066005287492e-06, 8.217712924172594e-06, 8.145375188340081e-06, 8.073075571798436e-06, 8.000836490189601e-06, 7.928679992535466e-06, 7.856627753380793e-06, 7.784701065332496e-06, 7.71292083199474e-06, 7.641307561298998e-06, 7.569881359227756e-06, 7.4986619239302285e-06, 7.42766854022809e-06, 7.356920074508838e-06, 7.2864349700041604e-06, 7.216231242450266e-06, 7.146326476126845e-06, 7.076737820271094e-06, 7.00748198586286e-06, 6.938575242776778e-06, 6.87003341729691e-06, 6.801871889989251e-06, 6.734105593927141e-06, 6.666749013264502e-06, 6.599816182151447e-06, 6.533320683986779e-06, 6.4672756510016345e-06, 6.401693764168292e-06, 6.336587253428112e-06, 6.271967898232351e-06, 6.207847028389481e-06, 6.144235525212474e-06, 6.0811438229594775e-06, 6.018581910561088e-06, 5.956559333627397e-06, 5.89508519672797e-06, 5.834168165937605e-06, 5.773816471640969e-06, 5.7140379115888825e-06, 5.6548398541990904e-06, 5.59622924209438e-06, 5.5382125958707006e-06, 5.480796018088116e-06, 5.423985197477217e-06, 5.3677854133537904e-06, 5.31220154023441e-06, 5.257238052645647e-06, 5.2028990301197136e-06, 5.149188162369192e-06, 5.096108754633725e-06, 5.043663733191375e-06, 4.991855651027599e-06, 4.94068669365466e-06, 4.89015868507444e-06, 4.840273093877632e-06, 4.791031039472349e-06, 4.7424332984352724e-06, 4.6944803109784675e-06, 4.647172187525123e-06, 4.600508715387514e-06, 4.554489365540519e-06, 4.509113299484189e-06, 4.464379376188845e-06, 4.4202861591163215e-06, 4.376831923311023e-06, 4.334014662554555e-06, 4.2918320965777846e-06, 4.250281678324218e-06, 4.20936060125876e-06, 4.169065806715896e-06, 4.129393991281523e-06, 4.09034161420268e-06, 4.051904904819529e-06, 4.014079870014054e-06, 3.976862301669995e-06, 3.940247784138652e-06, 3.9042317017052595e-06, 3.86880924605075e-06, 3.8339754237037696e-06, 3.7997250634779487e-06, 3.7660528238894938e-06, 3.7329532005502256e-06, 3.7004205335313616e-06, 3.6684490146933096e-06, 3.6370326949769537e-06, 3.606165491651911e-06, 3.5758411955173476e-06, 3.5460534780510717e-06, 3.5167958985026417e-06, 3.4880619109263807e-06, 3.4598448711502303e-06, 3.4321380436764805e-06, 3.4049346085105275e-06, 3.3782276679138276e-06, 3.352010253077423e-06, 3.3262753307123584e-06, 3.3010158095535376e-06, 3.27622454677356e-06, 3.251894354303213e-06, 3.2280180050554055e-06, 3.2045882390493443e-06, 3.181597769431964e-06, 3.159039288393602e-06, 3.136905472975086e-06, 3.115188990763457e-06, 3.0938825054736745e-06, 3.0729786824137045e-06, 3.0524701938305766e-06, 3.032349724134998e-06, 3.0126099750022748e-06, 2.9932436703474044e-06, 2.9742435611722626e-06, 2.955602430282944e-06, 2.9373130968754377e-06, 2.9193684209878994e-06, 2.9017613078178987e-06, 2.884484711903162e-06, 2.8675316411644074e-06, 2.8508951608090104e-06, 2.8345683970943416e-06, 2.818544540949749e-06, 2.8028168514562627e-06, 2.787378659183238e-06, 2.7722233693812625e-06, 2.757344465030761e-06, 2.742735509745929e-06, 2.728390150533623e-06, 2.7143021204071104e-06, 2.7004652408545774e-06, 2.6868734241625145e-06, 2.6735206755941814e-06, 2.6604010954234777e-06, 2.647508880824736e-06, 2.6348383276189566e-06, 2.622383831877301e-06, 2.6101398913826397e-06, 2.5981011069501543e-06, 2.5862621836081305e-06, 2.574617931640141e-06, 2.5631632674900273e-06, 2.55189321453114e-06, 2.5408029037014732e-06, 2.5298875740064304e-06, 2.519142572891064e-06, 2.5085633564838016e-06, 2.4981454897137244e-06, 2.487884646303627e-06, 2.4777766086411786e-06, 2.4678172675306284e-06, 2.458002621827594e-06, 2.4483287779595736e-06, 2.4387919493349462e-06, 2.4293884556433047e-06, 2.4201147220500607e-06, 2.410967278288346e-06, 2.4019427576513775e-06, 2.3930378958884115e-06, 2.3842495300076714e-06, 2.3755745969895157e-06, 2.3670101324133456e-06, 2.3585532690017105e-06, 2.350201235085186e-06, 2.3419513529916273e-06, 2.333801037363487e-06, 2.3257477934068766e-06, 2.3177892150761495e-06, 2.3099229831977934e-06, 2.3021468635374308e-06, 2.2944587048138076e-06, 2.286856436663594e-06, 2.279338067560916e-06, 2.271901682695465e-06, 2.264545441813114e-06, 2.2572675770228923e-06, 2.250066390574215e-06, 2.2429402526082447e-06, 2.2358875988871808e-06, 2.2289069285053654e-06, 2.2219968015859204e-06, 2.215155836966724e-06, 2.208382709879405e-06, 2.2016761496250263e-06, 2.1950349372500604e-06, 2.1884579032262206e-06, 2.1819439251376143e-06, 2.1754919253786724e-06, 2.1691008688661504e-06, 2.1627697607685353e-06, 2.156497644255982e-06, 2.1502835982739266e-06, 2.1441267353433635e-06, 2.138026199390707e-06, 2.1319811636100548e-06, 2.12599082836056e-06, 2.120054419101538e-06, 2.1141711843677767e-06, 2.108340393787469e-06, 2.1025613361450137e-06, 2.0968333174908493e-06, 2.091155659300355e-06, 2.0855276966837172e-06, 2.07994877664857e-06, 2.0744182564170453e-06, 2.068935501798784e-06, 2.0634998856213035e-06, 2.058110786219002e-06, 2.052767585981936e-06, 2.047469669965404e-06, 2.0422164245611923e-06, 2.0370072362312698e-06, 2.0318414903045208e-06, 2.026718569837039e-06, 2.0216378545363304e-06, 2.0165987197496665e-06, 2.0116005355167014e-06, 2.0066426656863343e-06, 2.0017244670976927e-06, 1.9968452888249614e-06, 1.9920044714856946e-06, 1.9872013466121166e-06, 1.982435236084809e-06, 1.9777054516280547e-06, 1.973011294366042e-06, 1.9683520544389736e-06, 1.963727010678076e-06, 1.959135430338372e-06, 1.954576568888007e-06, 1.950049669852818e-06, 1.945553964714757e-06, 1.9410886728627026e-06, 1.9366530015940993e-06, 1.932246146165819e-06, 1.9278672898925504e-06, 1.92351560429097e-06, 1.9191902492678884e-06, 1.914890373350512e-06, 1.910615113956918e-06, 1.906363597704779e-06, 1.9021349407563683e-06, 1.8979282491978143e-06, 1.8937426194505547e-06, 1.8895771387129243e-06, 1.8854308854297878e-06, 1.8813029297881085e-06, 1.8771923342363552e-06, 1.8730981540256282e-06, 1.8690194377703952e-06, 1.8649552280267315e-06, 1.8609045618859865e-06, 1.8568664715817829e-06, 1.8528399851083115e-06, 1.8488241268478817e-06, 1.8448179182057393e-06, 1.8408203782501752e-06, 1.8368305243560161e-06, 1.8328473728495956e-06, 1.8288699396533738e-06, 1.8248972409284295e-06, 1.8209282937130707e-06, 1.8169621165558922e-06, 1.8129977301416746e-06, 1.8090341579085397e-06, 1.8050704266549055e-06, 1.8011055671347898e-06, 1.7971386146401265e-06, 1.79316860956881e-06, 1.7891945979772627e-06, 1.7852156321164014e-06, 1.781230770949942e-06, 1.777239080654086e-06, 1.773239635097692e-06, 1.769231516302115e-06, 1.7652138148800086e-06, 1.7611856304524244e-06, 1.7571460720436679e-06, 1.7530942584534183e-06, 1.7490293186057282e-06, 1.7449503918745958e-06, 1.7408566283858717e-06, 1.7367471892953615e-06, 1.7326212470430558e-06, 1.7284779855835002e-06, 1.7243166005924115e-06, 1.7201362996496824e-06, 1.7159363023990475e-06, 1.7117158406847138e-06, 1.7074741586653474e-06, 1.7032105129058734e-06, 1.6989241724476296e-06, 1.6946144188574305e-06, 1.6902805462562381e-06, 1.6859218613281088e-06, 1.6815376833102092e-06, 1.6771273439647167e-06, 1.672690187533458e-06, 1.6682255706762321e-06, 1.6637328623937486e-06, 1.6592114439362052e-06, 1.6546607086985241e-06, 1.6500800621033268e-06, 1.6454689214727524e-06, 1.640826715890227e-06, 1.6361528860533566e-06, 1.6314468841190848e-06, 1.6267081735423231e-06, 1.6219362289092232e-06, 1.6171305357663078e-06, 1.6122905904466536e-06, 1.6074158998943385e-06, 1.602505981488348e-06, 1.5975603628671353e-06, 1.592578581755018e-06, 1.587560185791582e-06, 1.5825047323652333e-06, 1.577411788452038e-06, 1.5722809304609516e-06, 1.5671117440865105e-06, 1.5619038241700268e-06, 1.5566567745703233e-06, 1.5513702080449432e-06, 1.546043746142812e-06, 1.5406770191092155e-06, 1.5352696658039528e-06, 1.5298213336334656e-06, 1.5243316784976965e-06, 1.5188003647523779e-06, 1.5132270651873825e-06, 1.5076114610217484e-06, 1.5019532419159019e-06, 1.4962521060015495e-06, 1.4905077599296608e-06, 1.4847199189368938e-06, 1.4788883069307508e-06, 1.4730126565937047e-06, 1.4670927095064463e-06, 1.4611282162903624e-06, 1.4551189367692816e-06, 1.449064640150451e-06, 1.442965105224663e-06, 1.4368201205853657e-06, 1.4306294848665324e-06, 1.4243930069990175e-06, 1.4181105064850382e-06, 1.4117818136903807e-06, 1.4054067701538488e-06, 1.3989852289134309e-06, 1.3925170548486021e-06, 1.3860021250380942e-06, 1.3794403291324547e-06, 1.372831569740613e-06, 1.3661757628296737e-06, 1.3594728381370544e-06, 1.352722739594073e-06, 1.345925425760037e-06, 1.339080870265827e-06, 1.3321890622659519e-06, 1.3252500068980033e-06, 1.3182637257483792e-06, 1.3112302573231695e-06, 1.3041496575230034e-06, 1.2970220001206728e-06, 1.2898473772403133e-06, 1.28262589983689e-06, 1.275357698174732e-06, 1.2680429223038447e-06, 1.260681742532709e-06, 1.2532743498962612e-06, 1.245820956617773e-06, 1.238321796563316e-06, 1.230777125687505e-06, 1.2231872224692347e-06, 1.2155523883361056e-06, 1.2078729480762728e-06, 1.2001492502364381e-06, 1.1923816675047502e-06, 1.184570597077365e-06, 1.1767164610074789e-06, 1.1688197065356362e-06, 1.1608808064001697e-06, 1.1529002591266498e-06, 1.1448785892952422e-06, 1.1368163477849458e-06, 1.1287141119936752e-06, 1.1205724860332387e-06], \"yaxis\": \"y\"}, {\"legendgroup\": \"2018\", \"marker\": {\"color\": \"rgb(227, 119, 194)\"}, \"mode\": \"lines\", \"name\": \"2018\", \"showlegend\": true, \"type\": \"scatter\", \"x\": [400.0, 722.2919999999999, 1044.5839999999998, 1366.876, 1689.168, 2011.46, 2333.752, 2656.044, 2978.336, 3300.628, 3622.92, 3945.212, 4267.504, 4589.796, 4912.088, 5234.38, 5556.672, 5878.964, 6201.256, 6523.548, 6845.84, 7168.132, 7490.424, 7812.716, 8135.008, 8457.3, 8779.592, 9101.884, 9424.176, 9746.468, 10068.76, 10391.052, 10713.344, 11035.636, 11357.928, 11680.22, 12002.512, 12324.804, 12647.096, 12969.388, 13291.68, 13613.972, 13936.264, 14258.556, 14580.848, 14903.14, 15225.432, 15547.724, 15870.016, 16192.308, 16514.6, 16836.892, 17159.184, 17481.476, 17803.768, 18126.06, 18448.352, 18770.644, 19092.936, 19415.228, 19737.52, 20059.812, 20382.104, 20704.396, 21026.688, 21348.98, 21671.272, 21993.564, 22315.856, 22638.148, 22960.44, 23282.732, 23605.024, 23927.316, 24249.608, 24571.9, 24894.192, 25216.484, 25538.776, 25861.068, 26183.36, 26505.652, 26827.944, 27150.236, 27472.528, 27794.82, 28117.112, 28439.404, 28761.696, 29083.988, 29406.28, 29728.572, 30050.864, 30373.156, 30695.448, 31017.74, 31340.032, 31662.324, 31984.616, 32306.908, 32629.2, 32951.492, 33273.784, 33596.076, 33918.368, 34240.66, 34562.952, 34885.244, 35207.536, 35529.828, 35852.12, 36174.412, 36496.704, 36818.996, 37141.288, 37463.58, 37785.872, 38108.164, 38430.456, 38752.748, 39075.04, 39397.332, 39719.624, 40041.916, 40364.208, 40686.5, 41008.792, 41331.084, 41653.376, 41975.668, 42297.96, 42620.252, 42942.544, 43264.836, 43587.128, 43909.42, 44231.712, 44554.004, 44876.296, 45198.588, 45520.88, 45843.172, 46165.464, 46487.756, 46810.048, 47132.34, 47454.632, 47776.924, 48099.216, 48421.508, 48743.8, 49066.092, 49388.384, 49710.676, 50032.968, 50355.26, 50677.552, 50999.844, 51322.136, 51644.428, 51966.72, 52289.012, 52611.304, 52933.596, 53255.888, 53578.18, 53900.472, 54222.764, 54545.056, 54867.348, 55189.64, 55511.932, 55834.224, 56156.516, 56478.808, 56801.1, 57123.392, 57445.684, 57767.976, 58090.268, 58412.56, 58734.852, 59057.144, 59379.436, 59701.728, 60024.02, 60346.312, 60668.604, 60990.896, 61313.188, 61635.48, 61957.772, 62280.064, 62602.356, 62924.648, 63246.94, 63569.232, 63891.524, 64213.816, 64536.108, 64858.4, 65180.692, 65502.984, 65825.276, 66147.568, 66469.86, 66792.152, 67114.444, 67436.736, 67759.028, 68081.32, 68403.612, 68725.904, 69048.196, 69370.488, 69692.78, 70015.072, 70337.364, 70659.656, 70981.948, 71304.24, 71626.532, 71948.824, 72271.116, 72593.408, 72915.7, 73237.992, 73560.284, 73882.576, 74204.868, 74527.16, 74849.452, 75171.744, 75494.036, 75816.328, 76138.62, 76460.912, 76783.204, 77105.496, 77427.788, 77750.08, 78072.372, 78394.664, 78716.956, 79039.248, 79361.54, 79683.832, 80006.124, 80328.416, 80650.708, 80973.0, 81295.292, 81617.584, 81939.876, 82262.168, 82584.46, 82906.752, 83229.044, 83551.336, 83873.628, 84195.92, 84518.212, 84840.504, 85162.796, 85485.088, 85807.38, 86129.672, 86451.964, 86774.256, 87096.548, 87418.84, 87741.132, 88063.424, 88385.716, 88708.008, 89030.3, 89352.592, 89674.884, 89997.176, 90319.468, 90641.76, 90964.052, 91286.344, 91608.636, 91930.928, 92253.22, 92575.512, 92897.804, 93220.096, 93542.388, 93864.68, 94186.972, 94509.264, 94831.556, 95153.848, 95476.14, 95798.432, 96120.724, 96443.016, 96765.308, 97087.6, 97409.892, 97732.184, 98054.476, 98376.768, 98699.06, 99021.352, 99343.644, 99665.936, 99988.228, 100310.52, 100632.812, 100955.104, 101277.396, 101599.688, 101921.98, 102244.272, 102566.564, 102888.856, 103211.148, 103533.44, 103855.732, 104178.024, 104500.316, 104822.608, 105144.9, 105467.192, 105789.484, 106111.776, 106434.068, 106756.36, 107078.652, 107400.944, 107723.236, 108045.528, 108367.82, 108690.112, 109012.404, 109334.696, 109656.988, 109979.28, 110301.572, 110623.864, 110946.156, 111268.448, 111590.74, 111913.032, 112235.324, 112557.616, 112879.908, 113202.2, 113524.492, 113846.784, 114169.076, 114491.368, 114813.66, 115135.952, 115458.244, 115780.536, 116102.828, 116425.12, 116747.412, 117069.704, 117391.996, 117714.288, 118036.58, 118358.872, 118681.164, 119003.456, 119325.748, 119648.04, 119970.332, 120292.624, 120614.916, 120937.208, 121259.5, 121581.792, 121904.084, 122226.376, 122548.668, 122870.96, 123193.252, 123515.544, 123837.836, 124160.128, 124482.42, 124804.712, 125127.004, 125449.296, 125771.588, 126093.88, 126416.172, 126738.464, 127060.756, 127383.048, 127705.34, 128027.632, 128349.924, 128672.216, 128994.508, 129316.8, 129639.092, 129961.384, 130283.676, 130605.968, 130928.26, 131250.552, 131572.844, 131895.136, 132217.428, 132539.72, 132862.012, 133184.304, 133506.596, 133828.888, 134151.18, 134473.472, 134795.764, 135118.056, 135440.348, 135762.64, 136084.932, 136407.224, 136729.516, 137051.808, 137374.1, 137696.392, 138018.684, 138340.976, 138663.268, 138985.56, 139307.852, 139630.144, 139952.436, 140274.728, 140597.02, 140919.312, 141241.604, 141563.896, 141886.188, 142208.48, 142530.772, 142853.064, 143175.356, 143497.648, 143819.94, 144142.232, 144464.524, 144786.816, 145109.108, 145431.4, 145753.692, 146075.984, 146398.276, 146720.568, 147042.86, 147365.152, 147687.444, 148009.736, 148332.028, 148654.32, 148976.612, 149298.904, 149621.196, 149943.488, 150265.78, 150588.072, 150910.364, 151232.656, 151554.948, 151877.24, 152199.532, 152521.824, 152844.116, 153166.408, 153488.7, 153810.992, 154133.284, 154455.576, 154777.868, 155100.16, 155422.452, 155744.744, 156067.036, 156389.328, 156711.62, 157033.912, 157356.204, 157678.496, 158000.788, 158323.08, 158645.372, 158967.664, 159289.956, 159612.248, 159934.54, 160256.832, 160579.124, 160901.416, 161223.708], \"xaxis\": \"x\", \"y\": [1.040918897000255e-05, 1.0471627350853277e-05, 1.0532775374551944e-05, 1.059260924865944e-05, 1.0651105759379809e-05, 1.0708242288613863e-05, 1.0763996830549416e-05, 1.0818348007770435e-05, 1.0871275086868013e-05, 1.0922757993536602e-05, 1.0972777327139565e-05, 1.1021314374728781e-05, 1.1068351124503569e-05, 1.1113870278694978e-05, 1.1157855265862147e-05, 1.1200290252588042e-05, 1.1241160154562773e-05, 1.1280450647043313e-05, 1.1318148174679169e-05, 1.1354239960694442e-05, 1.138871401541737e-05, 1.1421559144149292e-05, 1.1452764954365777e-05, 1.1482321862243434e-05, 1.1510221098506753e-05, 1.153645471359013e-05, 1.1561015582111092e-05, 1.1583897406651525e-05, 1.1605094720844563e-05, 1.162460289176552e-05, 1.1642418121626347e-05, 1.1658537448773581e-05, 1.1672958747990803e-05, 1.1685680730107373e-05, 1.1696702940916058e-05, 1.1706025759402863e-05, 1.171365039529334e-05, 1.1719578885920296e-05, 1.1723814092418697e-05, 1.1726359695254241e-05, 1.172722018909293e-05, 1.172640087701959e-05, 1.1723907864114165e-05, 1.1719748050395101e-05, 1.1713929123140094e-05, 1.170645954859491e-05, 1.1697348563081778e-05, 1.1686606163519447e-05, 1.1674243097367598e-05, 1.1660270852008912e-05, 1.1644701643582684e-05, 1.1627548405284347e-05, 1.1608824775145883e-05, 1.1588545083312523e-05, 1.1566724338831627e-05, 1.1543378215970137e-05, 1.1518523040077321e-05, 1.1492175773010011e-05, 1.1464353998137814e-05, 1.1435075904946258e-05, 1.1404360273255957e-05, 1.1372226457076309e-05, 1.1338694368112508e-05, 1.1303784458944724e-05, 1.1267517705898723e-05, 1.122991559162715e-05, 1.1191000087421076e-05, 1.1150793635271337e-05, 1.1109319129699365e-05, 1.1066599899377294e-05, 1.1022659688557152e-05, 1.097752263832883e-05, 1.0931213267726815e-05, 1.088375645470523e-05, 1.0835177417000977e-05, 1.0785501692904538e-05, 1.0734755121957858e-05, 1.068296382559867e-05, 1.0630154187770416e-05, 1.057635283551667e-05, 1.0521586619578854e-05, 1.046588259501573e-05, 1.0409268001862945e-05, 1.0351770245850574e-05, 1.0293416879196354e-05, 1.0234235581491937e-05, 1.0174254140699251e-05, 1.0113500434273569e-05, 1.0052002410429611e-05, 9.98978806956663e-06, 9.926885445867934e-06, 9.863322589089996e-06, 9.799127546555825e-06, 9.734328345366772e-06, 9.668952974846655e-06, 9.603029369231411e-06, 9.536585390617236e-06, 9.469648812179464e-06, 9.402247301674192e-06, 9.334408405233915e-06, 9.266159531468148e-06, 9.197527935879372e-06, 9.128540705604166e-06, 9.05922474448889e-06, 8.98960675850876e-06, 8.91971324153863e-06, 8.849570461483267e-06, 8.779204446774413e-06, 8.708640973241394e-06, 8.637905551361519e-06, 8.567023413895991e-06, 8.496019503916555e-06, 8.42491846322759e-06, 8.353744621187856e-06, 8.2825219839356e-06, 8.211274224020234e-06, 8.140024670443316e-06, 8.068796299111071e-06, 7.997611723700276e-06, 7.926493186938733e-06, 7.855462552301308e-06, 7.784541296121826e-06, 7.713750500120877e-06, 7.643110844349068e-06, 7.572642600544829e-06, 7.502365625905515e-06, 7.432299357270138e-06, 7.362462805711677e-06, 7.292874551536517e-06, 7.22355273968826e-06, 7.1545150755527945e-06, 7.0857788211610795e-06, 7.017360791785934e-06, 6.949277352928666e-06, 6.8815444176912e-06, 6.814177444528931e-06, 6.747191435379441e-06, 6.68060093416177e-06, 6.614420025640844e-06, 6.5486623346512705e-06, 6.483341025674683e-06, 6.4184688027643945e-06, 6.3540579098110895e-06, 6.290120131143018e-06, 6.226666792453957e-06, 6.163708762052206e-06, 6.10125645242342e-06, 6.039319822100367e-06, 5.97790837783214e-06, 5.9170311770455875e-06, 5.856696830591395e-06, 5.796913505767281e-06, 5.737688929610627e-06, 5.679030392452827e-06, 5.620944751727558e-06, 5.563438436025093e-06, 5.506517449384845e-06, 5.450187375818106e-06, 5.394453384053138e-06, 5.3393202324945906e-06, 5.28479227438928e-06, 5.230873463190349e-06, 5.1775673581118615e-06, 5.124877129865832e-06, 5.072805566573803e-06, 5.0213550798450146e-06, 4.970527711013308e-06, 4.920325137524953e-06, 4.870748679469538e-06, 4.821799306246241e-06, 4.773477643357785e-06, 4.7257839793243824e-06, 4.678718272710206e-06, 4.632280159254803e-06, 4.586468959102071e-06, 4.541283684119413e-06, 4.4967230452998515e-06, 4.452785460239841e-06, 4.409469060685742e-06, 4.366771700141891e-06, 4.324690961533359e-06, 4.283224164916574e-06, 4.242368375231042e-06, 4.202120410085538e-06, 4.1624768475722274e-06, 4.123434034102256e-06, 4.084988092256464e-06, 4.047134928645005e-06, 4.009870241769703e-06, 3.973189529883136e-06, 3.93708809883848e-06, 3.901561069924369e-06, 3.866603387678943e-06, 3.832209827677606e-06, 3.7983750042888957e-06, 3.765093378393124e-06, 3.7323592650585062e-06, 3.700166841169612e-06, 3.6685101530030806e-06, 3.6373831237456566e-06, 3.606779560949718e-06, 3.5766931639215747e-06, 3.5471175310379476e-06, 3.518046166986119e-06, 3.489472489923387e-06, 3.4613898385515567e-06, 3.4337914791023417e-06, 3.4066706122296324e-06, 3.3800203798046933e-06, 3.3538338716105614e-06, 3.3281041319318974e-06, 3.302824166036776e-06, 3.2779869465469525e-06, 3.2535854196933217e-06, 3.229612511453313e-06, 3.206061133567222e-06, 3.1829241894304567e-06, 3.160194579858915e-06, 3.13786520872478e-06, 3.1159289884601488e-06, 3.094378845426038e-06, 3.073207725144466e-06, 3.0524085973914007e-06, 3.0319744611484963e-06, 3.011898349411727e-06, 2.9921733338550455e-06, 2.97279252934749e-06, 2.9537490983221014e-06, 2.9350362549953224e-06, 2.916647269435587e-06, 2.898575471479957e-06, 2.8808142544978307e-06, 2.863357079000865e-06, 2.8461974760983775e-06, 2.8293290507976656e-06, 2.8127454851488045e-06, 2.7964405412336096e-06, 2.780408063998626e-06, 2.7646419839320942e-06, 2.7491363195850645e-06, 2.7338851799368696e-06, 2.7188827666054014e-06, 2.704123375902711e-06, 2.6896014007366388e-06, 2.675311332359272e-06, 2.6612477619632335e-06, 2.647405382126862e-06, 2.6337789881095583e-06, 2.620363478998663e-06, 2.607153858709366e-06, 2.594145236839326e-06, 2.581332829379738e-06, 2.568711959284801e-06, 2.5562780569015963e-06, 2.544026660262547e-06, 2.5319534152427615e-06, 2.5200540755846532e-06, 2.508324502792391e-06, 2.4967606658988026e-06, 2.4853586411075187e-06, 2.474114611313204e-06, 2.463024865502878e-06, 2.4520857980413866e-06, 2.4412939078442274e-06, 2.4306457974409794e-06, 2.4201381719327468e-06, 2.409767837847019e-06, 2.3995317018935585e-06, 2.3894267696248604e-06, 2.379450144004932e-06, 2.3695990238901364e-06, 2.359870702425924e-06, 2.350262565363335e-06, 2.3407720892992334e-06, 2.331396839844229e-06, 2.322134469722356e-06, 2.312982716806543e-06, 2.3039394020940042e-06, 2.295002427625663e-06, 2.286169774353761e-06, 2.2774394999618205e-06, 2.2688097366411272e-06, 2.2602786888279285e-06, 2.251844630905476e-06, 2.243505904875133e-06, 2.2352609180006593e-06, 2.227108140429815e-06, 2.2190461027973845e-06, 2.211073393813699e-06, 2.2031886578426883e-06, 2.1953905924734325e-06, 2.187677946089189e-06, 2.1800495154377505e-06, 2.1725041432069757e-06, 2.1650407156092297e-06, 2.157658159978457e-06, 2.15035544238346e-06, 2.143131565260935e-06, 2.135985565071706e-06, 2.1289165099834935e-06, 2.1219234975835e-06, 2.11500565262394e-06, 2.1081621248035863e-06, 2.1013920865882625e-06, 2.0946947310731257e-06, 2.088069269889438e-06, 2.081514931158436e-06, 2.0750309574947642e-06, 2.068616604061824e-06, 2.062271136681252e-06, 2.0559938299986263e-06, 2.049783965707343e-06, 2.0436408308325016e-06, 2.0375637160764666e-06, 2.0315519142276617e-06, 2.025604718634008e-06, 2.019721421742262e-06, 2.0139013137043853e-06, 2.008143681051939e-06, 2.0024478054393308e-06, 1.9968129624566315e-06, 1.991238420512519e-06, 1.98572343978776e-06, 1.9802672712595308e-06, 1.9748691557967107e-06, 1.9695283233261453e-06, 1.964243992069777e-06, 1.9590153678523563e-06, 1.9538416434793565e-06, 1.948721998184569e-06, 1.943655597146727e-06, 1.9386415910744e-06, 1.933679115858253e-06, 1.9287672922896827e-06, 1.9239052258446957e-06, 1.919092006531811e-06, 1.9143267088026488e-06, 1.9096083915237683e-06, 1.9049360980082258e-06, 1.9003088561052214e-06, 1.8957256783461268e-06, 1.8911855621451015e-06, 1.8866874900523926e-06, 1.8822304300584144e-06, 1.8778133359465477e-06, 1.8734351476925935e-06, 1.8690947919087466e-06, 1.8647911823298782e-06, 1.8605232203398984e-06, 1.856289795535908e-06, 1.8520897863278242e-06, 1.8479220605711146e-06, 1.8437854762302778e-06, 1.839678882070661e-06, 1.8356011183761924e-06, 1.831551017690623e-06, 1.8275274055798411e-06, 1.823529101412818e-06, 1.8195549191587924e-06, 1.815603668198257e-06, 1.811674154145372e-06, 1.807765179679436e-06, 1.8038755453830513e-06, 1.8000040505847007e-06, 1.796149494203442e-06, 1.7923106755934868e-06, 1.7884863953864882e-06, 1.7846754563293812e-06, 1.7808766641157193e-06, 1.7770888282084438e-06, 1.7733107626521615e-06, 1.7695412868730055e-06, 1.7657792264642627e-06, 1.7620234139560117e-06, 1.7582726895670876e-06, 1.7545259019377709e-06, 1.7507819088416882e-06, 1.7470395778754743e-06, 1.7432977871248563e-06, 1.739555425805895e-06, 1.7358113948802028e-06, 1.732064607643061e-06, 1.7283139902834555e-06, 1.7245584824151121e-06, 1.720797037577765e-06, 1.71702862370792e-06, 1.713252223578521e-06, 1.7094668352070087e-06, 1.7056714722313434e-06, 1.7018651642536769e-06, 1.698046957151448e-06, 1.6942159133557717e-06, 1.6903711120970774e-06, 1.6865116496180658e-06, 1.6826366393541096e-06, 1.6787452120813626e-06, 1.6748365160328784e-06, 1.670909716983158e-06, 1.6669639983016322e-06, 1.6629985609756365e-06, 1.6590126236035506e-06, 1.6550054223588337e-06, 1.6509762109257499e-06, 1.6469242604076858e-06, 1.642848859208988e-06, 1.6387493128913309e-06, 1.6346249440057057e-06, 1.6304750919011408e-06, 1.6262991125113493e-06, 1.6220963781205373e-06, 1.6178662771096545e-06, 1.6136082136844076e-06, 1.6093216075864112e-06, 1.605005893788868e-06, 1.6006605221782013e-06, 1.5962849572231216e-06, 1.5918786776325706e-06, 1.587441176004076e-06, 1.5829719584640034e-06, 1.5784705443012482e-06, 1.5739364655958749e-06, 1.5693692668442573e-06, 1.5647685045822245e-06, 1.560133747007757e-06, 1.5554645736047257e-06, 1.5507605747691796e-06, 1.5460213514396607e-06, 1.5412465147329979e-06, 1.5364356855870154e-06, 1.5315884944115477e-06, 1.5267045807491382e-06, 1.5217835929467422e-06, 1.5168251878397292e-06, 1.5118290304494288e-06, 1.5067947936954187e-06, 1.5017221581237073e-06, 1.4966108116519034e-06, 1.4914604493324238e-06, 1.486270773134705e-06, 1.4810414917473674e-06, 1.4757723204011729e-06, 1.4704629807135815e-06, 1.4651132005556335e-06, 1.4597227139418268e-06, 1.4542912609435698e-06, 1.4488185876267406e-06, 1.443304446013803e-06, 1.437748594070835e-06, 1.4321507957198052e-06, 1.4265108208762864e-06, 1.4208284455127937e-06, 1.4151034517477814e-06, 1.409335627960352e-06, 1.403524768930541e-06, 1.3976706760050887e-06, 1.3917731572884165e-06, 1.3858320278585587e-06, 1.3798471100076416e-06, 1.3738182335064868e-06, 1.3677452358928084e-06, 1.3616279627824382e-06, 1.3554662682029074e-06, 1.3492600149486745e-06, 1.3430090749572228e-06, 1.3367133297051628e-06, 1.3303726706234592e-06, 1.3239869995307893e-06, 1.3175562290840416e-06, 1.3110802832448605e-06, 1.3045590977611238e-06, 1.2979926206621826e-06, 1.2913808127666397e-06, 1.2847236482014257e-06, 1.2780211149308545e-06, 1.2712732152943513e-06, 1.2644799665514668e-06, 1.2576414014328063e-06, 1.2507575686954322e-06, 1.2438285336813248e-06, 1.2368543788774218e-06, 1.229835204475773e-06, 1.2227711289323216e-06, 1.215662289522816e-06, 1.2085088428943593e-06, 1.2013109656110812e-06, 1.1940688546924653e-06, 1.1867827281427954e-06, 1.1794528254702843e-06, 1.1720794081943835e-06, 1.164662760339839e-06, 1.1572031889160427e-06, 1.1497010243802912e-06, 1.142156621083548e-06, 1.134570357697361e-06, 1.1269426376206208e-06, 1.1192738893648544e-06, 1.1115645669168245e-06, 1.1038151500772206e-06, 1.0960261447742706e-06, 1.0881980833511665e-06], \"yaxis\": \"y\"}, {\"legendgroup\": \"2019\", \"marker\": {\"color\": \"rgb(127, 127, 127)\"}, \"mode\": \"lines\", \"name\": \"2019\", \"showlegend\": true, \"type\": \"scatter\", \"x\": [404.0, 728.552, 1053.104, 1377.656, 1702.208, 2026.76, 2351.312, 2675.864, 3000.416, 3324.968, 3649.52, 3974.072, 4298.624, 4623.176, 4947.728, 5272.28, 5596.832, 5921.384, 6245.936, 6570.488, 6895.04, 7219.592, 7544.144, 7868.696, 8193.248, 8517.8, 8842.352, 9166.904, 9491.456, 9816.008, 10140.56, 10465.112, 10789.664, 11114.216, 11438.768, 11763.32, 12087.872, 12412.424, 12736.976, 13061.528, 13386.08, 13710.632, 14035.184, 14359.736, 14684.288, 15008.84, 15333.392, 15657.944, 15982.496, 16307.048, 16631.6, 16956.152, 17280.704, 17605.256, 17929.808, 18254.36, 18578.912, 18903.464, 19228.016, 19552.568, 19877.12, 20201.672, 20526.224, 20850.776, 21175.328, 21499.88, 21824.432, 22148.984, 22473.536, 22798.088, 23122.64, 23447.192, 23771.744, 24096.296, 24420.848, 24745.4, 25069.952, 25394.504, 25719.056, 26043.608, 26368.16, 26692.712, 27017.264, 27341.816, 27666.368, 27990.92, 28315.472, 28640.024, 28964.576, 29289.128, 29613.68, 29938.232, 30262.784, 30587.336, 30911.888, 31236.44, 31560.992, 31885.544, 32210.096, 32534.648, 32859.2, 33183.752, 33508.304, 33832.856, 34157.408, 34481.96, 34806.512, 35131.064, 35455.616, 35780.168, 36104.72, 36429.272, 36753.824, 37078.376, 37402.928, 37727.48, 38052.032, 38376.584, 38701.136, 39025.688, 39350.24, 39674.792, 39999.344, 40323.896, 40648.448, 40973.0, 41297.552, 41622.104, 41946.656, 42271.208, 42595.76, 42920.312, 43244.864, 43569.416, 43893.968, 44218.52, 44543.072, 44867.624, 45192.176, 45516.728, 45841.28, 46165.832, 46490.384, 46814.936, 47139.488, 47464.04, 47788.592, 48113.144, 48437.696, 48762.248, 49086.8, 49411.352, 49735.904, 50060.456, 50385.008, 50709.56, 51034.112, 51358.664, 51683.216, 52007.768, 52332.32, 52656.872, 52981.424, 53305.976, 53630.528, 53955.08, 54279.632, 54604.184, 54928.736, 55253.288, 55577.84, 55902.392, 56226.944, 56551.496, 56876.048, 57200.6, 57525.152, 57849.704, 58174.256, 58498.808, 58823.36, 59147.912, 59472.464, 59797.016, 60121.568, 60446.12, 60770.672, 61095.224, 61419.776, 61744.328, 62068.88, 62393.432, 62717.984, 63042.536, 63367.088, 63691.64, 64016.192, 64340.744, 64665.296, 64989.848, 65314.4, 65638.95199999999, 65963.504, 66288.056, 66612.608, 66937.16, 67261.712, 67586.264, 67910.816, 68235.368, 68559.92, 68884.472, 69209.024, 69533.576, 69858.128, 70182.68, 70507.232, 70831.784, 71156.336, 71480.888, 71805.44, 72129.992, 72454.544, 72779.096, 73103.648, 73428.2, 73752.752, 74077.304, 74401.856, 74726.408, 75050.96, 75375.512, 75700.064, 76024.616, 76349.168, 76673.72, 76998.272, 77322.824, 77647.376, 77971.928, 78296.48, 78621.032, 78945.584, 79270.136, 79594.688, 79919.24, 80243.792, 80568.344, 80892.896, 81217.448, 81542.0, 81866.552, 82191.104, 82515.656, 82840.208, 83164.76, 83489.312, 83813.864, 84138.416, 84462.968, 84787.52, 85112.072, 85436.624, 85761.176, 86085.728, 86410.28, 86734.832, 87059.384, 87383.936, 87708.488, 88033.04, 88357.592, 88682.144, 89006.696, 89331.248, 89655.8, 89980.352, 90304.904, 90629.456, 90954.008, 91278.56, 91603.112, 91927.664, 92252.216, 92576.768, 92901.32, 93225.872, 93550.424, 93874.976, 94199.528, 94524.08, 94848.632, 95173.184, 95497.736, 95822.288, 96146.84, 96471.392, 96795.944, 97120.496, 97445.048, 97769.6, 98094.152, 98418.704, 98743.256, 99067.808, 99392.36, 99716.912, 100041.464, 100366.016, 100690.568, 101015.12, 101339.672, 101664.224, 101988.776, 102313.328, 102637.88, 102962.432, 103286.984, 103611.536, 103936.088, 104260.64, 104585.192, 104909.744, 105234.296, 105558.848, 105883.4, 106207.952, 106532.504, 106857.056, 107181.608, 107506.16, 107830.712, 108155.264, 108479.816, 108804.368, 109128.92, 109453.472, 109778.024, 110102.576, 110427.128, 110751.68, 111076.232, 111400.784, 111725.336, 112049.888, 112374.44, 112698.992, 113023.544, 113348.096, 113672.648, 113997.2, 114321.752, 114646.304, 114970.856, 115295.408, 115619.96, 115944.512, 116269.064, 116593.616, 116918.168, 117242.72, 117567.272, 117891.824, 118216.376, 118540.928, 118865.48, 119190.032, 119514.584, 119839.136, 120163.688, 120488.24, 120812.792, 121137.344, 121461.896, 121786.448, 122111.0, 122435.552, 122760.104, 123084.656, 123409.208, 123733.76, 124058.312, 124382.864, 124707.416, 125031.968, 125356.52, 125681.072, 126005.624, 126330.176, 126654.728, 126979.28, 127303.832, 127628.384, 127952.936, 128277.488, 128602.04, 128926.592, 129251.144, 129575.696, 129900.248, 130224.8, 130549.352, 130873.904, 131198.456, 131523.008, 131847.56, 132172.112, 132496.664, 132821.216, 133145.768, 133470.32, 133794.872, 134119.424, 134443.976, 134768.528, 135093.08, 135417.632, 135742.184, 136066.736, 136391.288, 136715.84, 137040.392, 137364.944, 137689.496, 138014.048, 138338.6, 138663.152, 138987.704, 139312.256, 139636.808, 139961.36, 140285.912, 140610.464, 140935.016, 141259.568, 141584.12, 141908.672, 142233.224, 142557.776, 142882.328, 143206.88, 143531.432, 143855.984, 144180.536, 144505.088, 144829.64, 145154.192, 145478.744, 145803.296, 146127.848, 146452.4, 146776.952, 147101.504, 147426.056, 147750.608, 148075.16, 148399.712, 148724.264, 149048.816, 149373.368, 149697.92, 150022.472, 150347.024, 150671.576, 150996.128, 151320.68, 151645.232, 151969.784, 152294.336, 152618.888, 152943.44, 153267.992, 153592.544, 153917.096, 154241.648, 154566.2, 154890.752, 155215.304, 155539.856, 155864.408, 156188.96, 156513.512, 156838.064, 157162.616, 157487.168, 157811.72, 158136.272, 158460.824, 158785.376, 159109.928, 159434.48, 159759.032, 160083.584, 160408.136, 160732.688, 161057.24, 161381.792, 161706.344, 162030.896, 162355.448], \"xaxis\": \"x\", \"y\": [1.0367722102670213e-05, 1.0429797590811245e-05, 1.0490576055455115e-05, 1.0550033702060828e-05, 1.0608147324090262e-05, 1.0664894320241999e-05, 1.0720252711211416e-05, 1.077420115595899e-05, 1.0826718967469262e-05, 1.0877786127983745e-05, 1.092738330369132e-05, 1.0975491858860687e-05, 1.1022093869399765e-05, 1.1067172135827813e-05, 1.1110710195646787e-05, 1.1152692335098913e-05, 1.1193103600298477e-05, 1.1231929807726476e-05, 1.1269157554077471e-05, 1.1304774225448864e-05, 1.1338768005863612e-05, 1.1371127885118179e-05, 1.1401843665948251e-05, 1.1430905970505776e-05, 1.1458306246141527e-05, 1.1484036770488297e-05, 1.1508090655840735e-05, 1.1530461852828554e-05, 1.1551145153380846e-05, 1.1570136192979938e-05, 1.1587431452204146e-05, 1.1603028257559702e-05, 1.161692478160281e-05, 1.1629120042353741e-05, 1.1639613902005724e-05, 1.1648407064932108e-05, 1.1655501074996246e-05, 1.1660898312169151e-05, 1.1664601988461047e-05, 1.166661614317338e-05, 1.1666945637479019e-05, 1.1665596148338752e-05, 1.166257416176321e-05, 1.1657886965429934e-05, 1.165154264066604e-05, 1.1643550053807652e-05, 1.1633918846947861e-05, 1.1622659428085799e-05, 1.1609782960689765e-05, 1.1595301352688241e-05, 1.1579227244903005e-05, 1.1561573998939223e-05, 1.1542355684547855e-05, 1.1521587066476343e-05, 1.1499283590823846e-05, 1.1475461370917976e-05, 1.1450137172730178e-05, 1.1423328399847557e-05, 1.1395053078019022e-05, 1.1365329839294385e-05, 1.1334177905774844e-05, 1.1301617072994147e-05, 1.1267667692949489e-05, 1.1232350656801806e-05, 1.1195687377265096e-05, 1.1157699770704712e-05, 1.1118410238964697e-05, 1.107784165094425e-05, 1.1036017323943718e-05, 1.0992961004800323e-05, 1.0948696850834116e-05, 1.0903249410624403e-05, 1.0856643604637147e-05, 1.0808904705723586e-05, 1.0760058319510319e-05, 1.0710130364701057e-05, 1.065914705331001e-05, 1.0607134870846865e-05, 1.0554120556472998e-05, 1.0500131083148462e-05, 1.0445193637789069e-05, 1.0389335601452576e-05, 1.0332584529572798e-05, 1.027496813226011e-05, 1.0216514254686606e-05, 1.0157250857573712e-05, 1.0097205997799783e-05, 1.0036407809144962e-05, 9.974884483189883e-06, 9.912664250384837e-06, 9.849775361305144e-06, 9.786246068108505e-06, 9.722104606209262e-06, 9.657379176184321e-06, 9.592097925924924e-06, 9.526288933047906e-06, 9.459980187579801e-06, 9.393199574926392e-06, 9.325974859140025e-06, 9.258333666496393e-06, 9.190303469391931e-06, 9.121911570572605e-06, 9.05318508770416e-06, 8.984150938293454e-06, 8.914835824970035e-06, 8.845266221136437e-06, 8.77546835699522e-06, 8.705468205960287e-06, 8.635291471459311e-06, 8.564963574133788e-06, 8.494509639442493e-06, 8.423954485673764e-06, 8.353322612371296e-06, 8.2826381891779e-06, 8.211925045100832e-06, 8.141206658202072e-06, 8.070506145716235e-06, 7.999846254598372e-06, 7.929249352503455e-06, 7.858737419198787e-06, 7.788332038410126e-06, 7.71805439010191e-06, 7.647925243191404e-06, 7.577964948696202e-06, 7.508193433314132e-06, 7.438630193434049e-06, 7.369294289575723e-06, 7.30020434125657e-06, 7.231378522282531e-06, 7.162834556460131e-06, 7.094589713726303e-06, 7.026660806692226e-06, 6.9590641875970665e-06, 6.891815745667285e-06, 6.824930904876638e-06, 6.758424622101966e-06, 6.6923113856693275e-06, 6.626605214284948e-06, 6.561319656345037e-06, 6.496467789618406e-06, 6.432062221295454e-06, 6.368115088396976e-06, 6.304638058535966e-06, 6.241642331025373e-06, 6.179138638324687e-06, 6.117137247817853e-06, 6.055647963915147e-06, 5.99468013047114e-06, 5.934242633511044e-06, 5.874343904257453e-06, 5.814991922449369e-06, 5.756194219945372e-06, 5.697957884602666e-06, 5.640289564423606e-06, 5.583195471961315e-06, 5.526681388975867e-06, 5.470752671332562e-06, 5.415414254133624e-06, 5.3606706570747345e-06, 5.3065259900178194e-06, 5.252983958771331e-06, 5.200047871069463e-06, 5.1477206427415595e-06, 5.096004804063117e-06, 5.044902506279742e-06, 4.9944155282954345e-06, 4.944545283516647e-06, 4.895292826843561e-06, 4.846658861800117e-06, 4.798643747794326e-06, 4.751247507500514e-06, 4.704469834355139e-06, 4.658310100157981e-06, 4.612767362770472e-06, 4.567840373903107e-06, 4.52352758698389e-06, 4.479827165099899e-06, 4.4367369890041365e-06, 4.3942546651798875e-06, 4.352377533954966e-06, 4.311102677658305e-06, 4.270426928811421e-06, 4.230346878347452e-06, 4.190858883850506e-06, 4.151959077808271e-06, 4.1136433758708034e-06, 4.075907485108715e-06, 4.038746912263924e-06, 4.00215697198638e-06, 3.966132795050219e-06, 3.930669336543009e-06, 3.89576138402177e-06, 3.861403565629694e-06, 3.827590358167516e-06, 3.794316095113731e-06, 3.7615749745878385e-06, 3.729361067251091e-06, 3.6976683241392654e-06, 3.6664905844220804e-06, 3.635821583084129e-06, 3.6056549585222533e-06, 3.575984260054439e-06, 3.546802955335466e-06, 3.51810443767469e-06, 3.4898820332514606e-06, 3.462129008223832e-06, 3.4348385757263693e-06, 3.4080039027529778e-06, 3.3816181169208845e-06, 3.355674313111956e-06, 3.3301655599877743e-06, 3.305084906374988e-06, 3.280425387517617e-06, 3.256180031193151e-06, 3.232341863689392e-06, 3.2089039156392276e-06, 3.18585922771054e-06, 3.163200856148772e-06, 3.140921878169645e-06, 3.119015397199854e-06, 3.0974745479635805e-06, 3.076292501412881e-06, 3.055462469500188e-06, 3.0349777097912237e-06, 3.014831529916922e-06, 2.9950172918629363e-06, 2.9755284160956625e-06, 2.956358385523673e-06, 2.9375007492937793e-06, 2.9189491264209714e-06, 2.900697209251716e-06, 2.882738766760238e-06, 2.865067647677527e-06, 2.847677783453038e-06, 2.830563191049126e-06, 2.813717975568519e-06, 2.797136332715157e-06, 2.7808125510890117e-06, 2.7647410143155476e-06, 2.7489162030107316e-06, 2.7333326965825454e-06, 2.7179851748702254e-06, 2.7028684196225056e-06, 2.687977315816325e-06, 2.673306852817629e-06, 2.6588521253860106e-06, 2.6446083345250647e-06, 2.6305707881805207e-06, 2.6167349017883134e-06, 2.6030961986749037e-06, 2.589650310312302e-06, 2.5763929764303333e-06, 2.563320044988905e-06, 2.550427472013051e-06, 2.537711321293712e-06, 2.5251677639573294e-06, 2.512793077907428e-06, 2.500583647141449e-06, 2.4885359609462688e-06, 2.476646612975865e-06, 2.4649123002147377e-06, 2.4533298218307864e-06, 2.4418960779213698e-06, 2.4306080681564776e-06, 2.4194628903228916e-06, 2.408457738773377e-06, 2.3975899027849824e-06, 2.3868567648305745e-06, 2.37625579876784e-06, 2.3657845679499863e-06, 2.3554407232624315e-06, 2.345222001089861e-06, 2.335126221217999e-06, 2.325151284674505e-06, 2.3152951715134405e-06, 2.3055559385477318e-06, 2.2959317170341067e-06, 2.2864207103149508e-06, 2.2770211914215694e-06, 2.2677315006432807e-06, 2.2585500430668195e-06, 2.2494752860904256e-06, 2.2405057569170784e-06, 2.231640040031179e-06, 2.2228767746630597e-06, 2.214214652245569e-06, 2.2056524138669907e-06, 2.1971888477244777e-06, 2.1888227865820836e-06, 2.1805531052375076e-06, 2.172378718001457e-06, 2.1642985761935924e-06, 2.156311665658836e-06, 2.148417004307778e-06, 2.1406136396848256e-06, 2.1329006465676217e-06, 2.1252771246011654e-06, 2.1177421959699755e-06, 2.110295003111479e-06, 2.1029347064737545e-06, 2.095660482320575e-06, 2.0884715205866317e-06, 2.0813670227856325e-06, 2.074346199973887e-06, 2.067408270771834e-06, 2.060552459445818e-06, 2.053777994052323e-06, 2.0470841046466667e-06, 2.040470021558087e-06, 2.0339349737329357e-06, 2.0274781871476237e-06, 2.021098883292713e-06, 2.0147962777295123e-06, 2.0085695787203085e-06, 2.0024179859332177e-06, 1.9963406892225346e-06, 1.9903368674852667e-06, 1.984405687594397e-06, 1.978546303409281e-06, 1.972757854863424e-06, 1.967039467129741e-06, 1.9613902498632414e-06, 1.9558092965209717e-06, 1.9502956837588563e-06, 1.9448484709049766e-06, 1.9394666995086672e-06, 1.934149392964687e-06, 1.9288955562115734e-06, 1.923704175503181e-06, 1.9185742182522515e-06, 1.9135046329447664e-06, 1.908494349123698e-06, 1.9035422774406653e-06, 1.8986473097738939e-06, 1.8938083194107574e-06, 1.889024161293106e-06, 1.8842936723234599e-06, 1.879615671730072e-06, 1.8749889614887729e-06, 1.8704123267994205e-06, 1.8658845366147272e-06, 1.8614043442191301e-06, 1.8569704878553239e-06, 1.852581691396031e-06, 1.8482366650584936e-06, 1.843934106159157e-06, 1.8396726999059427e-06, 1.83545112022551e-06, 1.8312680306228233e-06, 1.8271220850703709e-06, 1.8230119289243213e-06, 1.8189361998649028e-06, 1.8148935288583008e-06, 1.8108825411373366e-06, 1.8069018571982155e-06, 1.8029500938106375e-06, 1.7990258650385726e-06, 1.7951277832690387e-06, 1.7912544602462235e-06, 1.7874045081083466e-06, 1.783576540424683e-06, 1.7797691732302102e-06, 1.7759810260553924e-06, 1.7722107229486603e-06, 1.768456893489233e-06, 1.764718173787919e-06, 1.7609932074736847e-06, 1.7572806466637848e-06, 1.753579152915356e-06, 1.7498873981564305e-06, 1.7462040655944337e-06, 1.7425278506002828e-06, 1.7388574615663232e-06, 1.7351916207364016e-06, 1.7315290650064867e-06, 1.7278685466943451e-06, 1.7242088342768491e-06, 1.7205487130936463e-06, 1.7168869860159658e-06, 1.7132224740794775e-06, 1.7095540170802194e-06, 1.7058804741326902e-06, 1.7022007241893507e-06, 1.698513666520847e-06, 1.6948182211564036e-06, 1.6911133292839252e-06, 1.687397953609466e-06, 1.6836710786758167e-06, 1.6799317111400926e-06, 1.6761788800102791e-06, 1.6724116368408216e-06, 1.668629055887442e-06, 1.6648302342214603e-06, 1.661014291804008e-06, 1.6571803715206149e-06, 1.6533276391767473e-06, 1.6494552834549703e-06, 1.6455625158344954e-06, 1.6416485704739688e-06, 1.6377127040584344e-06, 1.6337541956114893e-06, 1.6297723462737408e-06, 1.6257664790487252e-06, 1.6217359385175496e-06, 1.6176800905235578e-06, 1.6135983218284175e-06, 1.6094900397410507e-06, 1.6053546717209221e-06, 1.601191664957224e-06, 1.5970004859255606e-06, 1.5927806199237745e-06, 1.5885315705885887e-06, 1.5842528593948027e-06, 1.5799440251387557e-06, 1.5756046234078628e-06, 1.5712342260379993e-06, 1.5668324205605478e-06, 1.5623988096409342e-06, 1.5579330105104848e-06, 1.5534346543934277e-06, 1.5489033859308835e-06, 1.54433886260366e-06, 1.5397407541556746e-06, 1.5351087420197931e-06, 1.53044251874788e-06, 1.5257417874467988e-06, 1.521006261222103e-06, 1.516235662631109e-06, 1.5114297231470123e-06, 1.5065881826356593e-06, 1.5017107888465602e-06, 1.4967972969196643e-06, 1.4918474689093728e-06, 1.4868610733272097e-06, 1.4818378847045266e-06, 1.4767776831765249e-06, 1.4716802540888446e-06, 1.4665453876278984e-06, 1.4613728784760333e-06, 1.4561625254925724e-06, 1.4509141314216774e-06, 1.4456275026279193e-06, 1.4403024488603614e-06, 1.4349387830458732e-06, 1.429536321112316e-06, 1.4240948818421695e-06, 1.4186142867570588e-06, 1.41309436003359e-06, 1.4075349284507926e-06, 1.4019358213693844e-06, 1.396296870743011e-06, 1.3906179111614938e-06, 1.3848987799260526e-06, 1.3791393171563918e-06, 1.373339365929433e-06, 1.367498772449407e-06, 1.3616173862489328e-06, 1.355695060420633e-06, 1.349731651878735e-06, 1.3437270216500656e-06, 1.3376810351937165e-06, 1.3315935627486493e-06, 1.3254644797083623e-06, 1.3192936670217273e-06, 1.3130810116190121e-06, 1.306826406862033e-06, 1.3005297530173264e-06, 1.2941909577511697e-06, 1.287809936645217e-06, 1.2813866137314584e-06, 1.27492092204517e-06, 1.2684128041944625e-06, 1.2618622129449886e-06, 1.2552691118183543e-06, 1.2486334757026877e-06, 1.2419552914738504e-06, 1.2352345586256815e-06, 1.2284712899076904e-06, 1.2216655119685477e-06, 1.21481726600374e-06, 1.2079266084057068e-06, 1.200993611414792e-06, 1.194018363769312e-06, 1.1870009713530584e-06, 1.179941557838534e-06, 1.1728402653242439e-06, 1.1656972549643444e-06, 1.158512707588997e-06, 1.1512868243137566e-06, 1.1440198271363645e-06, 1.1367119595193334e-06, 1.129363486956722e-06, 1.121974697523556e-06, 1.1145459024063555e-06, 1.1070774364132827e-06, 1.0995696584624589e-06, 1.0920229520470367e-06, 1.0844377256756652e-06, 1.07681441328704e-06, 1.0691534746372575e-06], \"yaxis\": \"y\"}, {\"legendgroup\": \"2020\", \"marker\": {\"color\": \"rgb(188, 189, 34)\"}, \"mode\": \"lines\", \"name\": \"2020\", \"showlegend\": true, \"type\": \"scatter\", \"x\": [401.0, 730.732, 1060.464, 1390.196, 1719.928, 2049.66, 2379.392, 2709.124, 3038.856, 3368.588, 3698.32, 4028.052, 4357.784, 4687.516, 5017.248, 5346.98, 5676.712, 6006.444, 6336.176, 6665.908, 6995.64, 7325.372, 7655.104, 7984.836, 8314.568, 8644.3, 8974.032, 9303.764, 9633.496, 9963.228, 10292.96, 10622.692, 10952.424, 11282.156, 11611.888, 11941.62, 12271.352, 12601.084, 12930.816, 13260.548, 13590.28, 13920.012, 14249.744, 14579.476, 14909.208, 15238.94, 15568.672, 15898.404, 16228.136, 16557.868000000002, 16887.6, 17217.332, 17547.064, 17876.796, 18206.528, 18536.26, 18865.992, 19195.724, 19525.456, 19855.188, 20184.92, 20514.652, 20844.384, 21174.116, 21503.848, 21833.58, 22163.312, 22493.044, 22822.776, 23152.508, 23482.24, 23811.972, 24141.704, 24471.436, 24801.168, 25130.9, 25460.632, 25790.364, 26120.096, 26449.828, 26779.56, 27109.292, 27439.024, 27768.756, 28098.488, 28428.22, 28757.952, 29087.684, 29417.416, 29747.148, 30076.88, 30406.612, 30736.344, 31066.076, 31395.808, 31725.54, 32055.272, 32385.004, 32714.736, 33044.468, 33374.2, 33703.932, 34033.664, 34363.396, 34693.128, 35022.86, 35352.592, 35682.324, 36012.056, 36341.788, 36671.52, 37001.252, 37330.984, 37660.716, 37990.448, 38320.18, 38649.912, 38979.644, 39309.376, 39639.108, 39968.84, 40298.572, 40628.304, 40958.036, 41287.768, 41617.5, 41947.232, 42276.964, 42606.696, 42936.428, 43266.16, 43595.892, 43925.624, 44255.356, 44585.088, 44914.82, 45244.552, 45574.284, 45904.016, 46233.748, 46563.48, 46893.212, 47222.944, 47552.676, 47882.408, 48212.14, 48541.872, 48871.604, 49201.336, 49531.068, 49860.8, 50190.532, 50520.264, 50849.996, 51179.728, 51509.46, 51839.192, 52168.924, 52498.656, 52828.388, 53158.12, 53487.852, 53817.584, 54147.316, 54477.048, 54806.78, 55136.512, 55466.244, 55795.976, 56125.708, 56455.44, 56785.172, 57114.904, 57444.636, 57774.368, 58104.1, 58433.832, 58763.564, 59093.296, 59423.028, 59752.76, 60082.492, 60412.224, 60741.956, 61071.688, 61401.42, 61731.152, 62060.884, 62390.616, 62720.348, 63050.08, 63379.812, 63709.544, 64039.276, 64369.008, 64698.74, 65028.472, 65358.204, 65687.936, 66017.668, 66347.4, 66677.132, 67006.864, 67336.596, 67666.328, 67996.06, 68325.792, 68655.524, 68985.256, 69314.988, 69644.72, 69974.452, 70304.184, 70633.916, 70963.648, 71293.38, 71623.112, 71952.844, 72282.576, 72612.308, 72942.04, 73271.772, 73601.504, 73931.236, 74260.968, 74590.7, 74920.432, 75250.164, 75579.896, 75909.628, 76239.36, 76569.092, 76898.824, 77228.556, 77558.288, 77888.02, 78217.752, 78547.484, 78877.216, 79206.948, 79536.68, 79866.412, 80196.144, 80525.876, 80855.608, 81185.34, 81515.072, 81844.804, 82174.536, 82504.268, 82834.0, 83163.732, 83493.464, 83823.196, 84152.928, 84482.66, 84812.392, 85142.124, 85471.856, 85801.588, 86131.32, 86461.052, 86790.784, 87120.516, 87450.248, 87779.98, 88109.712, 88439.444, 88769.176, 89098.908, 89428.64, 89758.372, 90088.104, 90417.836, 90747.568, 91077.3, 91407.032, 91736.764, 92066.496, 92396.228, 92725.96, 93055.692, 93385.424, 93715.156, 94044.888, 94374.62, 94704.352, 95034.084, 95363.816, 95693.548, 96023.28, 96353.012, 96682.744, 97012.476, 97342.208, 97671.94, 98001.672, 98331.404, 98661.136, 98990.868, 99320.6, 99650.332, 99980.064, 100309.796, 100639.528, 100969.26, 101298.992, 101628.724, 101958.456, 102288.188, 102617.92, 102947.652, 103277.384, 103607.116, 103936.848, 104266.58, 104596.312, 104926.044, 105255.776, 105585.508, 105915.24, 106244.972, 106574.704, 106904.436, 107234.168, 107563.9, 107893.632, 108223.364, 108553.096, 108882.828, 109212.56, 109542.292, 109872.024, 110201.756, 110531.488, 110861.22, 111190.952, 111520.684, 111850.416, 112180.148, 112509.88, 112839.612, 113169.344, 113499.076, 113828.808, 114158.54, 114488.272, 114818.004, 115147.736, 115477.468, 115807.2, 116136.932, 116466.664, 116796.396, 117126.128, 117455.86, 117785.592, 118115.324, 118445.056, 118774.788, 119104.52, 119434.252, 119763.984, 120093.716, 120423.448, 120753.18, 121082.912, 121412.644, 121742.376, 122072.108, 122401.84, 122731.572, 123061.304, 123391.036, 123720.768, 124050.5, 124380.232, 124709.964, 125039.696, 125369.428, 125699.16, 126028.892, 126358.624, 126688.356, 127018.088, 127347.82, 127677.552, 128007.284, 128337.016, 128666.748, 128996.48, 129326.212, 129655.944, 129985.676, 130315.408, 130645.14, 130974.872, 131304.604, 131634.336, 131964.068, 132293.8, 132623.532, 132953.264, 133282.996, 133612.728, 133942.46, 134272.192, 134601.924, 134931.656, 135261.388, 135591.12, 135920.852, 136250.584, 136580.316, 136910.048, 137239.78, 137569.512, 137899.244, 138228.976, 138558.708, 138888.44, 139218.172, 139547.904, 139877.636, 140207.368, 140537.1, 140866.832, 141196.564, 141526.296, 141856.028, 142185.76, 142515.492, 142845.224, 143174.956, 143504.688, 143834.42, 144164.152, 144493.884, 144823.616, 145153.348, 145483.08, 145812.812, 146142.544, 146472.276, 146802.008, 147131.74, 147461.472, 147791.204, 148120.936, 148450.668, 148780.4, 149110.132, 149439.864, 149769.596, 150099.328, 150429.06, 150758.792, 151088.524, 151418.256, 151747.988, 152077.72, 152407.452, 152737.184, 153066.916, 153396.648, 153726.38, 154056.112, 154385.844, 154715.576, 155045.308, 155375.04, 155704.772, 156034.504, 156364.236, 156693.968, 157023.7, 157353.432, 157683.164, 158012.896, 158342.628, 158672.36, 159002.092, 159331.824, 159661.556, 159991.288, 160321.02, 160650.752, 160980.484, 161310.216, 161639.948, 161969.68, 162299.412, 162629.144, 162958.876, 163288.608, 163618.34, 163948.072, 164277.804, 164607.536, 164937.268], \"xaxis\": \"x\", \"y\": [1.020986556798788e-05, 1.0270373065979022e-05, 1.0329599840732216e-05, 1.0387522793193814e-05, 1.0444119408038746e-05, 1.0499367770405171e-05, 1.0553246582157329e-05, 1.0605735177658986e-05, 1.0656813539040405e-05, 1.0706462310942604e-05, 1.0754662814722997e-05, 1.080139706210734e-05, 1.0846647768273444e-05, 1.0890398364352885e-05, 1.0932633009337557e-05, 1.0973336601378699e-05, 1.1012494788466718e-05, 1.1050093978480779e-05, 1.1086121348598227e-05, 1.1120564854054154e-05, 1.115341323624275e-05, 1.1184656030152489e-05, 1.1214283571128194e-05, 1.1242287000953768e-05, 1.1268658273250255e-05, 1.1293390158184659e-05, 1.131647624648582e-05, 1.1337910952764488e-05, 1.135768951813553e-05, 1.1375808012141078e-05, 1.1392263333974259e-05, 1.140705321300396e-05, 1.1420176208601952e-05, 1.1431631709274443e-05, 1.1441419931101051e-05, 1.1449541915484932e-05, 1.145599952621862e-05, 1.1460795445870912e-05, 1.1463933171500947e-05, 1.1465417009706393e-05, 1.1465252071013374e-05, 1.1463444263616551e-05, 1.1460000286478468e-05, 1.1454927621798069e-05, 1.1448234526858804e-05, 1.143993002526765e-05, 1.143002389759681e-05, 1.1418526671440702e-05, 1.1405449610901178e-05, 1.1390804705514867e-05, 1.1374604658636801e-05, 1.1356862875295142e-05, 1.1337593449532402e-05, 1.1316811151248946e-05, 1.1294531412565134e-05, 1.1270770313718788e-05, 1.1245544568515219e-05, 1.121887150934737e-05, 1.1190769071803952e-05, 1.116125577888395e-05, 1.1130350724835952e-05, 1.1098073558641262e-05, 1.106444446715989e-05, 1.1029484157958739e-05, 1.0993213841841556e-05, 1.095565521510037e-05, 1.0916830441508233e-05, 1.0876762134073281e-05, 1.083547333657415e-05, 1.079298750489684e-05, 1.0749328488193206e-05, 1.0704520509881217e-05, 1.0658588148507082e-05, 1.0611556318489328e-05, 1.0563450250764858e-05, 1.051429547335681e-05, 1.0464117791884089e-05, 1.0412943270032087e-05, 1.0360798210004045e-05, 1.0307709132972374e-05, 1.0253702759548869e-05, 1.0198805990292572e-05, 1.0143045886273865e-05, 1.0086449649712944e-05, 1.0029044604710577e-05, 9.97085817808878e-06, 9.911917880358555e-06, 9.852251286831626e-06, 9.791886018892658e-06, 9.730849725447977e-06, 9.669170064566532e-06, 9.606874685328347e-06, 9.543991209895233e-06, 9.480547215818119e-06, 9.416570218594948e-06, 9.352087654492466e-06, 9.287126863644892e-06, 9.221715073441905e-06, 9.155879382217828e-06, 9.089646743253475e-06, 9.023043949101582e-06, 8.956097616246124e-06, 8.888834170105463e-06, 8.8212798303886e-06, 8.753460596813366e-06, 8.685402235194751e-06, 8.617130263911185e-06, 8.548669940755847e-06, 8.480046250179766e-06, 8.411283890932751e-06, 8.34240726410779e-06, 8.273440461593929e-06, 8.20440725494222e-06, 8.135331084648696e-06, 8.066235049857892e-06, 7.997141898489906e-06, 7.928074017793469e-06, 7.859053425326993e-06, 7.790101760369144e-06, 7.721240275759844e-06, 7.652489830172406e-06, 7.583870880816677e-06, 7.515403476572985e-06, 7.4471072515559555e-06, 7.37900141910698e-06, 7.311104766213616e-06, 7.243435648353906e-06, 7.176011984762982e-06, 7.108851254119208e-06, 7.041970490646491e-06, 6.975386280629176e-06, 6.909114759335555e-06, 6.8431716083455915e-06, 6.777572053278335e-06, 6.712330861913893e-06, 6.6474623427048545e-06, 6.582980343671491e-06, 6.518898251674965e-06, 6.455228992062397e-06, 6.3919850286775335e-06, 6.329178364230292e-06, 6.2668205410185515e-06, 6.2049226419950096e-06, 6.1434952921720154e-06, 6.0825486603568996e-06, 6.0220924612102785e-06, 5.962135957619585e-06, 5.902687963379941e-06, 5.8437568461743924e-06, 5.785350530845326e-06, 5.72747650294885e-06, 5.670141812583809e-06, 5.613353078486952e-06, 5.557116492385787e-06, 5.50143782360051e-06, 5.4463224238864034e-06, 5.391775232508002e-06, 5.337800781536331e-06, 5.28440320136043e-06, 5.231586226404483e-06, 5.179353201041704e-06, 5.127707085696276e-06, 5.076650463124542e-06, 5.026185544866752e-06, 4.9763141778606306e-06, 4.92703785120809e-06, 4.878357703086446e-06, 4.830274527795591e-06, 4.782788782932494e-06, 4.735900596684694e-06, 4.689609775234218e-06, 4.643915810263744e-06, 4.598817886556646e-06, 4.5543148896827855e-06, 4.510405413761992e-06, 4.467087769297179e-06, 4.424359991069298e-06, 4.382219846086225e-06, 4.340664841578004e-06, 4.299692233030798e-06, 4.259299032252142e-06, 4.219482015460091e-06, 4.1802377313891015e-06, 4.14156250940553e-06, 4.103452467625711e-06, 4.065903521029874e-06, 4.0289113895650745e-06, 3.992471606230628e-06, 3.956579525139558e-06, 3.921230329549741e-06, 3.886419039858595e-06, 3.85214052155524e-06, 3.818389493124264e-06, 3.785160533895304e-06, 3.752448091832869e-06, 3.7202464912608914e-06, 3.688549940516728e-06, 3.6573525395294e-06, 3.626648287317048e-06, 3.596431089398763e-06, 3.566694765115969e-06, 3.5374330548588813e-06, 3.5086396271935305e-06, 3.480308085885094e-06, 3.4524319768134143e-06, 3.425004794776695e-06, 3.3980199901795775e-06, 3.371470975601907e-06, 3.3453511322446404e-06, 3.3196538162495723e-06, 3.2943723648896238e-06, 3.2695001026266286e-06, 3.245030347033725e-06, 3.2209564145795787e-06, 3.197271626271835e-06, 3.1739693131573436e-06, 3.151042821676867e-06, 3.128485518872112e-06, 3.106290797443111e-06, 3.0844520806541154e-06, 3.062962827086273e-06, 3.0418165352356295e-06, 3.021006747955023e-06, 3.000527056738659e-06, 2.980371105848303e-06, 2.960532596280152e-06, 2.941005289571643e-06, 2.9217830114475477e-06, 2.9028596553049052e-06, 2.884229185536489e-06, 2.8658856406926023e-06, 2.847823136481223e-06, 2.8300358686066027e-06, 2.812518115446605e-06, 2.795264240569206e-06, 2.7782686950887235e-06, 2.761526019862478e-06, 2.745030847528747e-06, 2.7287779043870135e-06, 2.712762012121618e-06, 2.6969780893701117e-06, 2.681421153137706e-06, 2.666086320059354e-06, 2.650968807511153e-06, 2.636063934572859e-06, 2.6213671228434487e-06, 2.6068738971117923e-06, 2.592579885884612e-06, 2.5784808217740235e-06, 2.5645725417470795e-06, 2.550850987239866e-06, 2.5373122041387707e-06, 2.5239523426316867e-06, 2.5107676569320324e-06, 2.4977545048784923e-06, 2.4849093474136166e-06, 2.4722287479443537e-06, 2.4597093715878207e-06, 2.4473479843056153e-06, 2.4351414519300743e-06, 2.4230867390860077e-06, 2.4111809080114414e-06, 2.399421117281013e-06, 2.3878046204357502e-06, 2.3763287645229545e-06, 2.3649909885500388e-06, 2.3537888218561926e-06, 2.3427198824057605e-06, 2.3317818750073453e-06, 2.3209725894625807e-06, 2.3102898986486355e-06, 2.299731756538492e-06, 2.2892961961630653e-06, 2.2789813275192755e-06, 2.2687853354281528e-06, 2.2587064773471054e-06, 2.2487430811404237e-06, 2.238893542812158e-06, 2.2291563242054463e-06, 2.2195299506723524e-06, 2.2100130087182956e-06, 2.200604143625078e-06, 2.191302057056509e-06, 2.1821055046505906e-06, 2.173013293602175e-06, 2.164024280239962e-06, 2.1551373676016467e-06, 2.146351503011e-06, 2.137665675660539e-06, 2.1290789142034557e-06, 2.120590284358333e-06, 2.112198886530153e-06, 2.1039038534509826e-06, 2.095704347843654e-06, 2.087599560111683e-06, 2.07958870605855e-06, 2.0716710246393713e-06, 2.063845775747926e-06, 2.056112238041845e-06, 2.048469706808715e-06, 2.040917491875696e-06, 2.033454915565162e-06, 2.026081310698761e-06, 2.018796018652159e-06, 2.0115983874626114e-06, 2.0044877699914034e-06, 1.9974635221430507e-06, 1.9905250011430387e-06, 1.9836715638757525e-06, 1.9769025652841096e-06, 1.9702173568322976e-06, 1.963615285032855e-06, 1.957095690039253e-06, 1.9506579043049306e-06, 1.944301251309697e-06, 1.938025044354191e-06, 1.9318285854230253e-06, 1.925711164117075e-06, 1.9196720566552413e-06, 1.91371052494594e-06, 1.907825815728346e-06, 1.902017159783395e-06, 1.8962837712143504e-06, 1.8906248467966763e-06, 1.8850395653967644e-06, 1.8795270874590337e-06, 1.8740865545607315e-06, 1.868717089033693e-06, 1.8634177936521953e-06, 1.8581877513859277e-06, 1.8530260252170136e-06, 1.8479316580198962e-06, 1.8429036725028415e-06, 1.8379410712096557e-06, 1.8330428365802062e-06, 1.8282079310681764e-06, 1.8234352973144513e-06, 1.8187238583744398e-06, 1.8140725179975542e-06, 1.8094801609570206e-06, 1.8049456534281243e-06, 1.800467843412921e-06, 1.7960455612094128e-06, 1.7916776199231255e-06, 1.787362816018975e-06, 1.7830999299112914e-06, 1.7788877265898055e-06, 1.774724956279399e-06, 1.7706103551313772e-06, 1.766542645944011e-06, 1.7625205389100783e-06, 1.7585427323891178e-06, 1.754607913702121e-06, 1.7507147599463546e-06, 1.7468619388280524e-06, 1.7430481095106793e-06, 1.7392719234765188e-06, 1.7355320253993398e-06, 1.7318270540259067e-06, 1.7281556430641479e-06, 1.7245164220758182e-06, 1.7209080173715147e-06, 1.7173290529059633e-06, 1.7137781511715194e-06, 1.710253934087889e-06, 1.7067550238861111e-06, 1.7032800439849028e-06, 1.6998276198575319e-06, 1.6963963798874267e-06, 1.6929849562108155e-06, 1.689591985544734e-06, 1.686216109998826e-06, 1.6828559778694214e-06, 1.6795102444144529e-06, 1.6761775726078515e-06, 1.672856633872141e-06, 1.669546108788014e-06, 1.6662446877797856e-06, 1.662951071775658e-06, 1.6596639728418685e-06, 1.6563821147898257e-06, 1.6531042337554538e-06, 1.6498290787500556e-06, 1.6465554121820588e-06, 1.6432820103491378e-06, 1.6400076639002623e-06, 1.6367311782673208e-06, 1.6334513740660452e-06, 1.6301670874660706e-06, 1.6268771705300142e-06, 1.623580491521577e-06, 1.6202759351827268e-06, 1.6169624029801263e-06, 1.613638813321026e-06, 1.6103041017389435e-06, 1.6069572210495084e-06, 1.6035971414769478e-06, 1.6002228507517267e-06, 1.5968333541799767e-06, 1.5934276746853656e-06, 1.5900048528241517e-06, 1.5865639467742381e-06, 1.5831040322990722e-06, 1.579624202687325e-06, 1.5761235686693155e-06, 1.5726012583112142e-06, 1.5690564168880865e-06, 1.5654882067369162e-06, 1.5618958070907422e-06, 1.5582784138951337e-06, 1.5546352396082107e-06, 1.5509655129854982e-06, 1.5472684788508831e-06, 1.5435433978550026e-06, 1.5397895462223947e-06, 1.5360062154887598e-06, 1.5321927122297002e-06, 1.5283483577823105e-06, 1.524472487960994e-06, 1.5205644527688915e-06, 1.5166236161062947e-06, 1.5126493554774175e-06, 1.5086410616968936e-06, 1.504598138597348e-06, 1.500520002739375e-06, 1.4964060831252405e-06, 1.4922558209176047e-06, 1.4880686691645217e-06, 1.4838440925319614e-06, 1.4795815670450532e-06, 1.4752805798392223e-06, 1.4709406289223509e-06, 1.466561222949044e-06, 1.4621418810080573e-06, 1.457682132423877e-06, 1.4531815165734085e-06, 1.448639582718662e-06, 1.4440558898562902e-06, 1.4394300065847631e-06, 1.434761510989915e-06, 1.4300499905495274e-06, 1.4252950420575802e-06, 1.4204962715686976e-06, 1.4156532943632914e-06, 1.410765734933825e-06, 1.4058332269925386e-06, 1.4008554135009513e-06, 1.395831946721342e-06, 1.3907624882903724e-06, 1.3856467093149474e-06, 1.3804842904903289e-06, 1.3752749222404448e-06, 1.3700183048803045e-06, 1.3647141488003063e-06, 1.3593621746722177e-06, 1.3539621136764926e-06, 1.3485137077505533e-06, 1.3430167098575925e-06, 1.3374708842753877e-06, 1.3318760069045496e-06, 1.326231865595589e-06, 1.320538260494097e-06, 1.3147950044033029e-06, 1.3090019231632006e-06, 1.3031588560453943e-06, 1.297265656162746e-06, 1.2913221908928823e-06, 1.2853283423145405e-06, 1.279284007655732e-06, 1.2731890997525942e-06, 1.267043547517845e-06, 1.2608472964176483e-06, 1.254600308955692e-06, 1.2483025651632608e-06, 1.2419540630940393e-06, 1.235554819322354e-06, 1.2291048694435683e-06, 1.2226042685752838e-06, 1.2160530918580252e-06, 1.2094514349540556e-06, 1.2027994145429423e-06, 1.1960971688125318e-06, 1.1893448579439428e-06, 1.1825426645892114e-06, 1.1756907943402312e-06, 1.1687894761876086e-06, 1.1618389629681046e-06, 1.1548395317993017e-06, 1.1477914845001953e-06, 1.140695147996391e-06, 1.1335508747086357e-06, 1.1263590429234207e-06, 1.1191200571444348e-06, 1.111834348423665e-06, 1.104502374670983e-06, 1.0971246209410926e-06, 1.0897015996967425e-06, 1.0822338510471633e-06, 1.0747219429607215e-06, 1.0671664714508328e-06], \"yaxis\": \"y\"}],\n",
              "                        {\"barmode\": \"overlay\", \"hovermode\": \"closest\", \"legend\": {\"traceorder\": \"reversed\"}, \"template\": {\"data\": {\"bar\": [{\"error_x\": {\"color\": \"#2a3f5f\"}, \"error_y\": {\"color\": \"#2a3f5f\"}, \"marker\": {\"line\": {\"color\": \"#E5ECF6\", \"width\": 0.5}}, \"type\": \"bar\"}], \"barpolar\": [{\"marker\": {\"line\": {\"color\": \"#E5ECF6\", \"width\": 0.5}}, \"type\": \"barpolar\"}], \"carpet\": [{\"aaxis\": {\"endlinecolor\": \"#2a3f5f\", \"gridcolor\": \"white\", \"linecolor\": \"white\", \"minorgridcolor\": \"white\", \"startlinecolor\": \"#2a3f5f\"}, \"baxis\": {\"endlinecolor\": \"#2a3f5f\", \"gridcolor\": \"white\", \"linecolor\": \"white\", \"minorgridcolor\": \"white\", \"startlinecolor\": \"#2a3f5f\"}, \"type\": \"carpet\"}], \"choropleth\": [{\"colorbar\": {\"outlinewidth\": 0, \"ticks\": \"\"}, \"type\": \"choropleth\"}], \"contour\": [{\"colorbar\": {\"outlinewidth\": 0, \"ticks\": \"\"}, \"colorscale\": [[0.0, \"#0d0887\"], [0.1111111111111111, \"#46039f\"], [0.2222222222222222, \"#7201a8\"], [0.3333333333333333, \"#9c179e\"], [0.4444444444444444, \"#bd3786\"], [0.5555555555555556, \"#d8576b\"], [0.6666666666666666, \"#ed7953\"], [0.7777777777777778, \"#fb9f3a\"], [0.8888888888888888, \"#fdca26\"], [1.0, \"#f0f921\"]], \"type\": \"contour\"}], \"contourcarpet\": [{\"colorbar\": {\"outlinewidth\": 0, \"ticks\": \"\"}, \"type\": \"contourcarpet\"}], \"heatmap\": [{\"colorbar\": {\"outlinewidth\": 0, \"ticks\": \"\"}, \"colorscale\": [[0.0, \"#0d0887\"], [0.1111111111111111, \"#46039f\"], [0.2222222222222222, \"#7201a8\"], [0.3333333333333333, \"#9c179e\"], [0.4444444444444444, \"#bd3786\"], [0.5555555555555556, \"#d8576b\"], [0.6666666666666666, \"#ed7953\"], [0.7777777777777778, \"#fb9f3a\"], [0.8888888888888888, \"#fdca26\"], [1.0, \"#f0f921\"]], \"type\": \"heatmap\"}], \"heatmapgl\": [{\"colorbar\": {\"outlinewidth\": 0, \"ticks\": \"\"}, \"colorscale\": [[0.0, \"#0d0887\"], [0.1111111111111111, \"#46039f\"], [0.2222222222222222, \"#7201a8\"], [0.3333333333333333, \"#9c179e\"], [0.4444444444444444, \"#bd3786\"], [0.5555555555555556, \"#d8576b\"], [0.6666666666666666, \"#ed7953\"], [0.7777777777777778, \"#fb9f3a\"], [0.8888888888888888, \"#fdca26\"], [1.0, \"#f0f921\"]], \"type\": \"heatmapgl\"}], \"histogram\": [{\"marker\": {\"colorbar\": {\"outlinewidth\": 0, \"ticks\": \"\"}}, \"type\": \"histogram\"}], \"histogram2d\": [{\"colorbar\": {\"outlinewidth\": 0, \"ticks\": \"\"}, \"colorscale\": [[0.0, \"#0d0887\"], [0.1111111111111111, \"#46039f\"], [0.2222222222222222, \"#7201a8\"], [0.3333333333333333, \"#9c179e\"], [0.4444444444444444, \"#bd3786\"], [0.5555555555555556, \"#d8576b\"], [0.6666666666666666, \"#ed7953\"], [0.7777777777777778, \"#fb9f3a\"], [0.8888888888888888, \"#fdca26\"], [1.0, \"#f0f921\"]], \"type\": \"histogram2d\"}], \"histogram2dcontour\": [{\"colorbar\": {\"outlinewidth\": 0, \"ticks\": \"\"}, \"colorscale\": [[0.0, \"#0d0887\"], [0.1111111111111111, \"#46039f\"], [0.2222222222222222, \"#7201a8\"], [0.3333333333333333, \"#9c179e\"], [0.4444444444444444, \"#bd3786\"], [0.5555555555555556, \"#d8576b\"], [0.6666666666666666, \"#ed7953\"], [0.7777777777777778, \"#fb9f3a\"], [0.8888888888888888, \"#fdca26\"], [1.0, \"#f0f921\"]], \"type\": \"histogram2dcontour\"}], \"mesh3d\": [{\"colorbar\": {\"outlinewidth\": 0, \"ticks\": \"\"}, \"type\": \"mesh3d\"}], \"parcoords\": [{\"line\": {\"colorbar\": {\"outlinewidth\": 0, \"ticks\": \"\"}}, \"type\": \"parcoords\"}], \"pie\": [{\"automargin\": true, \"type\": \"pie\"}], \"scatter\": [{\"marker\": {\"colorbar\": {\"outlinewidth\": 0, \"ticks\": \"\"}}, \"type\": \"scatter\"}], \"scatter3d\": [{\"line\": {\"colorbar\": {\"outlinewidth\": 0, \"ticks\": \"\"}}, \"marker\": {\"colorbar\": {\"outlinewidth\": 0, \"ticks\": \"\"}}, \"type\": \"scatter3d\"}], \"scattercarpet\": [{\"marker\": {\"colorbar\": {\"outlinewidth\": 0, \"ticks\": \"\"}}, \"type\": \"scattercarpet\"}], \"scattergeo\": [{\"marker\": {\"colorbar\": {\"outlinewidth\": 0, \"ticks\": \"\"}}, \"type\": \"scattergeo\"}], \"scattergl\": [{\"marker\": {\"colorbar\": {\"outlinewidth\": 0, \"ticks\": \"\"}}, \"type\": \"scattergl\"}], \"scattermapbox\": [{\"marker\": {\"colorbar\": {\"outlinewidth\": 0, \"ticks\": \"\"}}, \"type\": \"scattermapbox\"}], \"scatterpolar\": [{\"marker\": {\"colorbar\": {\"outlinewidth\": 0, \"ticks\": \"\"}}, \"type\": \"scatterpolar\"}], \"scatterpolargl\": [{\"marker\": {\"colorbar\": {\"outlinewidth\": 0, \"ticks\": \"\"}}, \"type\": \"scatterpolargl\"}], \"scatterternary\": [{\"marker\": {\"colorbar\": {\"outlinewidth\": 0, \"ticks\": \"\"}}, \"type\": \"scatterternary\"}], \"surface\": [{\"colorbar\": {\"outlinewidth\": 0, \"ticks\": \"\"}, \"colorscale\": [[0.0, \"#0d0887\"], [0.1111111111111111, \"#46039f\"], [0.2222222222222222, \"#7201a8\"], [0.3333333333333333, \"#9c179e\"], [0.4444444444444444, \"#bd3786\"], [0.5555555555555556, \"#d8576b\"], [0.6666666666666666, \"#ed7953\"], [0.7777777777777778, \"#fb9f3a\"], [0.8888888888888888, \"#fdca26\"], [1.0, \"#f0f921\"]], \"type\": \"surface\"}], \"table\": [{\"cells\": {\"fill\": {\"color\": \"#EBF0F8\"}, \"line\": {\"color\": \"white\"}}, \"header\": {\"fill\": {\"color\": \"#C8D4E3\"}, \"line\": {\"color\": \"white\"}}, \"type\": \"table\"}]}, \"layout\": {\"annotationdefaults\": {\"arrowcolor\": \"#2a3f5f\", \"arrowhead\": 0, \"arrowwidth\": 1}, \"coloraxis\": {\"colorbar\": {\"outlinewidth\": 0, \"ticks\": \"\"}}, \"colorscale\": {\"diverging\": [[0, \"#8e0152\"], [0.1, \"#c51b7d\"], [0.2, \"#de77ae\"], [0.3, \"#f1b6da\"], [0.4, \"#fde0ef\"], [0.5, \"#f7f7f7\"], [0.6, \"#e6f5d0\"], [0.7, \"#b8e186\"], [0.8, \"#7fbc41\"], [0.9, \"#4d9221\"], [1, \"#276419\"]], \"sequential\": [[0.0, \"#0d0887\"], [0.1111111111111111, \"#46039f\"], [0.2222222222222222, \"#7201a8\"], [0.3333333333333333, \"#9c179e\"], [0.4444444444444444, \"#bd3786\"], [0.5555555555555556, \"#d8576b\"], [0.6666666666666666, \"#ed7953\"], [0.7777777777777778, \"#fb9f3a\"], [0.8888888888888888, \"#fdca26\"], [1.0, \"#f0f921\"]], \"sequentialminus\": [[0.0, \"#0d0887\"], [0.1111111111111111, \"#46039f\"], [0.2222222222222222, \"#7201a8\"], [0.3333333333333333, \"#9c179e\"], [0.4444444444444444, \"#bd3786\"], [0.5555555555555556, \"#d8576b\"], [0.6666666666666666, \"#ed7953\"], [0.7777777777777778, \"#fb9f3a\"], [0.8888888888888888, \"#fdca26\"], [1.0, \"#f0f921\"]]}, \"colorway\": [\"#636efa\", \"#EF553B\", \"#00cc96\", \"#ab63fa\", \"#FFA15A\", \"#19d3f3\", \"#FF6692\", \"#B6E880\", \"#FF97FF\", \"#FECB52\"], \"font\": {\"color\": \"#2a3f5f\"}, \"geo\": {\"bgcolor\": \"white\", \"lakecolor\": \"white\", \"landcolor\": \"#E5ECF6\", \"showlakes\": true, \"showland\": true, \"subunitcolor\": \"white\"}, \"hoverlabel\": {\"align\": \"left\"}, \"hovermode\": \"closest\", \"mapbox\": {\"style\": \"light\"}, \"paper_bgcolor\": \"white\", \"plot_bgcolor\": \"#E5ECF6\", \"polar\": {\"angularaxis\": {\"gridcolor\": \"white\", \"linecolor\": \"white\", \"ticks\": \"\"}, \"bgcolor\": \"#E5ECF6\", \"radialaxis\": {\"gridcolor\": \"white\", \"linecolor\": \"white\", \"ticks\": \"\"}}, \"scene\": {\"xaxis\": {\"backgroundcolor\": \"#E5ECF6\", \"gridcolor\": \"white\", \"gridwidth\": 2, \"linecolor\": \"white\", \"showbackground\": true, \"ticks\": \"\", \"zerolinecolor\": \"white\"}, \"yaxis\": {\"backgroundcolor\": \"#E5ECF6\", \"gridcolor\": \"white\", \"gridwidth\": 2, \"linecolor\": \"white\", \"showbackground\": true, \"ticks\": \"\", \"zerolinecolor\": \"white\"}, \"zaxis\": {\"backgroundcolor\": \"#E5ECF6\", \"gridcolor\": \"white\", \"gridwidth\": 2, \"linecolor\": \"white\", \"showbackground\": true, \"ticks\": \"\", \"zerolinecolor\": \"white\"}}, \"shapedefaults\": {\"line\": {\"color\": \"#2a3f5f\"}}, \"ternary\": {\"aaxis\": {\"gridcolor\": \"white\", \"linecolor\": \"white\", \"ticks\": \"\"}, \"baxis\": {\"gridcolor\": \"white\", \"linecolor\": \"white\", \"ticks\": \"\"}, \"bgcolor\": \"#E5ECF6\", \"caxis\": {\"gridcolor\": \"white\", \"linecolor\": \"white\", \"ticks\": \"\"}}, \"title\": {\"x\": 0.05}, \"xaxis\": {\"automargin\": true, \"gridcolor\": \"white\", \"linecolor\": \"white\", \"ticks\": \"\", \"title\": {\"standoff\": 15}, \"zerolinecolor\": \"white\", \"zerolinewidth\": 2}, \"yaxis\": {\"automargin\": true, \"gridcolor\": \"white\", \"linecolor\": \"white\", \"ticks\": \"\", \"title\": {\"standoff\": 15}, \"zerolinecolor\": \"white\", \"zerolinewidth\": 2}}}, \"title\": {\"text\": \"Distribution of Enrolled Count in Maryland Public Schools\"}, \"xaxis\": {\"anchor\": \"y2\", \"domain\": [0.0, 1.0], \"title\": {\"text\": \"Enrolled Count\"}, \"zeroline\": false}, \"yaxis\": {\"anchor\": \"free\", \"domain\": [0.0, 1], \"position\": 0.0, \"title\": {\"text\": \"Density\"}}},\n",
              "                        {\"responsive\": true}\n",
              "                    ).then(function(){\n",
              "                            \n",
              "var gd = document.getElementById('7fdea762-d5ff-4d0a-83e9-27e2a5634a90');\n",
              "var x = new MutationObserver(function (mutations, observer) {{\n",
              "        var display = window.getComputedStyle(gd).display;\n",
              "        if (!display || display === 'none') {{\n",
              "            console.log([gd, 'removed!']);\n",
              "            Plotly.purge(gd);\n",
              "            observer.disconnect();\n",
              "        }}\n",
              "}});\n",
              "\n",
              "// Listen for the removal of the full notebook cells\n",
              "var notebookContainer = gd.closest('#notebook-container');\n",
              "if (notebookContainer) {{\n",
              "    x.observe(notebookContainer, {childList: true});\n",
              "}}\n",
              "\n",
              "// Listen for the clearing of the current output cell\n",
              "var outputEl = gd.closest('.output');\n",
              "if (outputEl) {{\n",
              "    x.observe(outputEl, {childList: true});\n",
              "}}\n",
              "\n",
              "                        })\n",
              "                };\n",
              "                \n",
              "            </script>\n",
              "        </div>\n",
              "</body>\n",
              "</html>"
            ]
          },
          "metadata": {
            "tags": []
          }
        }
      ]
    },
    {
      "cell_type": "markdown",
      "metadata": {
        "id": "KQd4_NBAYZC7"
      },
      "source": [
        "# Pie Chart"
      ]
    },
    {
      "cell_type": "code",
      "metadata": {
        "id": "Fvx5DOnlYbvW"
      },
      "source": [
        "# filter data to include all grade levels but not \"all schools\"\n",
        "\n",
        "df_grades = df[(df[\"grade\"] == \"Total Enrollment\") & (df[\"grade_level\"].notna())]\n"
      ],
      "execution_count": 49,
      "outputs": []
    },
    {
      "cell_type": "code",
      "metadata": {
        "colab": {
          "base_uri": "https://localhost:8080/",
          "height": 204
        },
        "id": "9gRHiAf-pYz0",
        "outputId": "90e9da3a-a6ae-48c6-bd2b-09dd530f76a1"
      },
      "source": [
        "# preview data\n",
        "df_grades.head()"
      ],
      "execution_count": 50,
      "outputs": [
        {
          "output_type": "execute_result",
          "data": {
            "text/html": [
              "<div>\n",
              "<style scoped>\n",
              "    .dataframe tbody tr th:only-of-type {\n",
              "        vertical-align: middle;\n",
              "    }\n",
              "\n",
              "    .dataframe tbody tr th {\n",
              "        vertical-align: top;\n",
              "    }\n",
              "\n",
              "    .dataframe thead th {\n",
              "        text-align: right;\n",
              "    }\n",
              "</style>\n",
              "<table border=\"1\" class=\"dataframe\">\n",
              "  <thead>\n",
              "    <tr style=\"text-align: right;\">\n",
              "      <th></th>\n",
              "      <th>school_year</th>\n",
              "      <th>lss_num</th>\n",
              "      <th>lss_name</th>\n",
              "      <th>school_num</th>\n",
              "      <th>school_name</th>\n",
              "      <th>grade</th>\n",
              "      <th>enrolled_count</th>\n",
              "      <th>grade_level</th>\n",
              "    </tr>\n",
              "  </thead>\n",
              "  <tbody>\n",
              "    <tr>\n",
              "      <th>7</th>\n",
              "      <td>2020</td>\n",
              "      <td>01</td>\n",
              "      <td>Allegany</td>\n",
              "      <td>0301</td>\n",
              "      <td>Flintstone Elementary</td>\n",
              "      <td>Total Enrollment</td>\n",
              "      <td>221.0</td>\n",
              "      <td>Elementary</td>\n",
              "    </tr>\n",
              "    <tr>\n",
              "      <th>15</th>\n",
              "      <td>2020</td>\n",
              "      <td>01</td>\n",
              "      <td>Allegany</td>\n",
              "      <td>0401</td>\n",
              "      <td>South Penn Elementary</td>\n",
              "      <td>Total Enrollment</td>\n",
              "      <td>571.0</td>\n",
              "      <td>Elementary</td>\n",
              "    </tr>\n",
              "    <tr>\n",
              "      <th>23</th>\n",
              "      <td>2020</td>\n",
              "      <td>01</td>\n",
              "      <td>Allegany</td>\n",
              "      <td>0402</td>\n",
              "      <td>John Humbird Elementary</td>\n",
              "      <td>Total Enrollment</td>\n",
              "      <td>279.0</td>\n",
              "      <td>Elementary</td>\n",
              "    </tr>\n",
              "    <tr>\n",
              "      <th>28</th>\n",
              "      <td>2020</td>\n",
              "      <td>01</td>\n",
              "      <td>Allegany</td>\n",
              "      <td>0405</td>\n",
              "      <td>Fort Hill High</td>\n",
              "      <td>Total Enrollment</td>\n",
              "      <td>672.0</td>\n",
              "      <td>High</td>\n",
              "    </tr>\n",
              "    <tr>\n",
              "      <th>32</th>\n",
              "      <td>2020</td>\n",
              "      <td>01</td>\n",
              "      <td>Allegany</td>\n",
              "      <td>0406</td>\n",
              "      <td>Washington Middle</td>\n",
              "      <td>Total Enrollment</td>\n",
              "      <td>612.0</td>\n",
              "      <td>Middle</td>\n",
              "    </tr>\n",
              "  </tbody>\n",
              "</table>\n",
              "</div>"
            ],
            "text/plain": [
              "    school_year lss_num  lss_name  ...             grade enrolled_count grade_level\n",
              "7          2020      01  Allegany  ...  Total Enrollment          221.0  Elementary\n",
              "15         2020      01  Allegany  ...  Total Enrollment          571.0  Elementary\n",
              "23         2020      01  Allegany  ...  Total Enrollment          279.0  Elementary\n",
              "28         2020      01  Allegany  ...  Total Enrollment          672.0        High\n",
              "32         2020      01  Allegany  ...  Total Enrollment          612.0      Middle\n",
              "\n",
              "[5 rows x 8 columns]"
            ]
          },
          "metadata": {
            "tags": []
          },
          "execution_count": 50
        }
      ]
    },
    {
      "cell_type": "code",
      "metadata": {
        "id": "hxAJrvMZqEgQ"
      },
      "source": [
        "# look at only 2020 data\n",
        "df_grades_2020 = df_grades[df_grades[\"school_year\"] == 2020]"
      ],
      "execution_count": 51,
      "outputs": []
    },
    {
      "cell_type": "code",
      "metadata": {
        "id": "Tbfrqq9DVgmM"
      },
      "source": [
        "# make pie chart to show distribution of grade type in 2020\n",
        "pie_2020 = px.pie(df_grades_2020, \n",
        "                  names = \"grade_level\", \n",
        "                  values = \"enrolled_count\",\n",
        "                  title = \"Distribution of Students in Maryland Public Schools in 2020\")"
      ],
      "execution_count": 52,
      "outputs": []
    },
    {
      "cell_type": "code",
      "metadata": {
        "colab": {
          "base_uri": "https://localhost:8080/",
          "height": 542
        },
        "id": "MlPfduwlqXDe",
        "outputId": "657db5ca-f4cd-4014-eaf9-79d9390639d1"
      },
      "source": [
        "pie_2020"
      ],
      "execution_count": 53,
      "outputs": [
        {
          "output_type": "display_data",
          "data": {
            "text/html": [
              "<html>\n",
              "<head><meta charset=\"utf-8\" /></head>\n",
              "<body>\n",
              "    <div>\n",
              "            <script src=\"https://cdnjs.cloudflare.com/ajax/libs/mathjax/2.7.5/MathJax.js?config=TeX-AMS-MML_SVG\"></script><script type=\"text/javascript\">if (window.MathJax) {MathJax.Hub.Config({SVG: {font: \"STIX-Web\"}});}</script>\n",
              "                <script type=\"text/javascript\">window.PlotlyConfig = {MathJaxConfig: 'local'};</script>\n",
              "        <script src=\"https://cdn.plot.ly/plotly-latest.min.js\"></script>    \n",
              "            <div id=\"8d580830-ddb9-4fe7-b199-18f7d6c41917\" class=\"plotly-graph-div\" style=\"height:525px; width:100%;\"></div>\n",
              "            <script type=\"text/javascript\">\n",
              "                \n",
              "                    window.PLOTLYENV=window.PLOTLYENV || {};\n",
              "                    \n",
              "                if (document.getElementById(\"8d580830-ddb9-4fe7-b199-18f7d6c41917\")) {\n",
              "                    Plotly.newPlot(\n",
              "                        '8d580830-ddb9-4fe7-b199-18f7d6c41917',\n",
              "                        [{\"domain\": {\"x\": [0.0, 1.0], \"y\": [0.0, 1.0]}, \"hoverlabel\": {\"namelength\": 0}, \"hovertemplate\": \"grade_level=%{label}<br>enrolled_count=%{value}\", \"labels\": [\"Elementary\", \"Elementary\", \"Elementary\", \"High\", \"Middle\", \"Elementary\", \"Middle\", \"High\", \"Elementary\", \"High\", \"Elementary\", \"Elementary\", \"Elementary\", \"Middle\", \"Elementary\", \"Elementary\", \"Middle\", \"Elementary\", \"High\", \"Elementary\", \"Elementary\", \"Elementary\", \"Middle\", \"High\", \"Middle\", \"Middle\", \"Middle\", \"Elementary\", \"Elementary\", \"Elementary\", \"Elementary\", \"Elementary\", \"Elementary\", \"Elementary\", \"Elementary\", \"Elementary\", \"Elementary\", \"Elementary\", \"Elementary\", \"Elementary\", \"Elementary\", \"Elementary\", \"Elementary\", \"Elementary\", \"High\", \"High\", \"High\", \"High\", \"Middle\", \"Middle\", \"Elementary\", \"Elementary\", \"Elementary\", \"Elementary\", \"Elementary\", \"Elementary\", \"Elementary\", \"Elementary\", \"Elementary\", \"Elementary\", \"Elementary\", \"Elementary\", \"Elementary\", \"Elementary\", \"Elementary\", \"Elementary\", \"Elementary\", \"High\", \"Middle\", \"High\", \"Elementary\", \"High\", \"Elementary\", \"Middle\", \"Middle\", \"Elementary\", \"High\", \"Middle\", \"Middle\", \"Elementary\", \"Elementary\", \"Elementary\", \"Elementary\", \"Elementary\", \"Elementary\", \"Elementary\", \"Elementary\", \"Elementary\", \"Elementary\", \"Elementary\", \"Elementary\", \"Elementary\", \"Elementary\", \"Elementary\", \"Elementary\", \"Elementary\", \"Elementary\", \"Elementary\", \"Middle\", \"Elementary\", \"Elementary\", \"High\", \"Middle\", \"Middle\", \"High\", \"Elementary\", \"Elementary\", \"Elementary\", \"Elementary\", \"High\", \"Middle\", \"High\", \"High\", \"Middle\", \"Middle\", \"Middle\", \"High\", \"High\", \"Elementary\", \"Elementary\", \"Elementary\", \"Elementary\", \"Elementary\", \"Elementary\", \"Elementary\", \"Elementary\", \"Elementary\", \"Elementary\", \"Elementary\", \"Elementary\", \"Elementary\", \"Elementary\", \"Elementary\", \"Elementary\", \"Elementary\", \"Elementary\", \"Middle\", \"High\", \"High\", \"Middle\", \"Elementary\", \"High\", \"Middle\", \"High\", \"High\", \"High\", \"High\", \"High\", \"Middle\", \"High\", \"Elementary\", \"High\", \"Middle\", \"High\", \"High\", \"High\", \"Elementary\", \"Elementary\", \"Elementary\", \"Elementary\", \"Elementary\", \"High\", \"Elementary\", \"Elementary\", \"Elementary\", \"Elementary\", \"Middle\", \"Middle\", \"High\", \"High\", \"High\", \"Elementary\", \"Elementary\", \"Elementary\", \"Elementary\", \"Elementary\", \"Elementary\", \"Elementary\", \"Elementary\", \"Elementary\", \"Elementary\", \"Elementary\", \"Elementary\", \"Elementary\", \"Middle\", \"Middle\", \"Middle\", \"Middle\", \"High\", \"High\", \"Elementary\", \"Elementary\", \"Elementary\", \"Elementary\", \"Elementary\", \"Elementary\", \"Middle\", \"Middle\", \"High\", \"Elementary\", \"Elementary\", \"Elementary\", \"Elementary\", \"Elementary\", \"Elementary\", \"Elementary\", \"Elementary\", \"Middle\", \"High\", \"High\", \"High\", \"Elementary\", \"Elementary\", \"Elementary\", \"High\", \"Elementary\", \"Elementary\", \"Elementary\", \"Elementary\", \"Elementary\", \"Elementary\", \"Elementary\", \"Elementary\", \"Elementary\", \"Middle\", \"Middle\", \"Middle\", \"High\", \"Elementary\", \"Elementary\", \"Elementary\", \"Elementary\", \"Elementary\", \"Elementary\", \"Elementary\", \"Elementary\", \"Elementary\", \"Elementary\", \"High\", \"Elementary\", \"Elementary\", \"Middle\", \"Middle\", \"Middle\", \"High\", \"High\", \"High\", \"High\", \"Elementary\", \"Elementary\", \"Elementary\", \"Elementary\", \"Elementary\", \"Elementary\", \"Elementary\", \"Elementary\", \"Elementary\", \"Elementary\", \"Middle\", \"High\", \"Elementary\", \"Elementary\", \"Elementary\", \"Elementary\", \"Elementary\", \"Elementary\", \"High\", \"Elementary\", \"Elementary\", \"Middle\", \"Middle\", \"Middle\", \"High\", \"High\", \"Elementary\", \"Elementary\", \"Elementary\", \"Elementary\", \"Elementary\", \"Elementary\", \"Middle\", \"Middle\", \"High\", \"Elementary\", \"Elementary\", \"Elementary\", \"Elementary\", \"Elementary\", \"Middle\", \"Middle\", \"High\", \"Elementary\", \"Elementary\", \"Elementary\", \"Elementary\", \"Elementary\", \"Elementary\", \"Elementary\", \"Elementary\", \"Elementary\", \"Elementary\", \"Elementary\", \"Elementary\", \"Elementary\", \"Elementary\", \"Elementary\", \"Elementary\", \"Elementary\", \"Elementary\", \"Elementary\", \"Elementary\", \"Middle\", \"Middle\", \"Middle\", \"Middle\", \"High\", \"High\", \"High\", \"High\", \"Elementary\", \"Elementary\", \"Middle\", \"High\", \"Elementary\", \"Elementary\", \"Middle\", \"Middle\", \"High\", \"Elementary\", \"Elementary\", \"Elementary\", \"High\", \"Elementary\", \"Middle\", \"High\", \"Elementary\", \"Elementary\", \"High\", \"Middle\", \"Elementary\", \"Elementary\", \"Middle\", \"High\", \"Elementary\", \"Elementary\", \"Middle\", \"Elementary\", \"Elementary\", \"Elementary\", \"High\", \"High\", \"Middle\", \"Elementary\", \"Middle\", \"High\", \"Elementary\", \"Elementary\", \"Elementary\", \"Elementary\", \"Elementary\", \"Middle\", \"Elementary\", \"Elementary\", \"High\", \"Middle\", \"Elementary\", \"High\", \"Elementary\", \"High\", \"Elementary\", \"Middle\", \"Middle\", \"High\", \"Elementary\", \"High\", \"Elementary\", \"Elementary\", \"High\", \"Elementary\", \"Elementary\", \"High\", \"High\", \"Elementary\", \"Middle\", \"Middle\", \"Elementary\", \"Elementary\", \"Middle\", \"High\", \"Elementary\", \"Elementary\", \"Elementary\", \"Elementary\", \"Middle\", \"High\", \"Elementary\", \"High\", \"Elementary\", \"Middle\", \"High\", \"Middle\", \"Elementary\", \"Elementary\", \"Middle\", \"Elementary\", \"Elementary\", \"Elementary\", \"Elementary\", \"Middle\", \"Elementary\", \"Elementary\", \"Elementary\", \"High\", \"Elementary\", \"Middle\", \"Elementary\", \"Middle\", \"Elementary\", \"Elementary\", \"High\", \"Elementary\", \"Elementary\", \"High\", \"Middle\", \"Elementary\", \"High\", \"High\", \"Elementary\", \"Elementary\", \"Elementary\", \"Middle\", \"Elementary\", \"High\", \"Elementary\", \"Middle\", \"Elementary\", \"Elementary\", \"Elementary\", \"Middle\", \"Elementary\", \"Elementary\", \"Elementary\", \"High\", \"Elementary\", \"Middle\", \"Elementary\", \"High\", \"Elementary\", \"Middle\", \"Elementary\", \"Elementary\", \"Middle\", \"Elementary\", \"Middle\", \"High\", \"Elementary\", \"Elementary\", \"High\", \"Elementary\", \"Elementary\", \"High\", \"Elementary\", \"High\", \"Middle\", \"Elementary\", \"Middle\", \"Middle\", \"Elementary\", \"Elementary\", \"High\", \"Elementary\", \"Elementary\", \"Elementary\", \"Elementary\", \"Elementary\", \"Elementary\", \"High\", \"High\", \"Elementary\", \"Middle\", \"High\", \"Middle\", \"Elementary\", \"Elementary\", \"Middle\", \"Middle\", \"Middle\", \"Middle\", \"Elementary\", \"Middle\", \"High\", \"Elementary\", \"Elementary\", \"Elementary\", \"Elementary\", \"High\", \"Middle\", \"Elementary\", \"Middle\", \"Elementary\", \"Elementary\", \"High\", \"Elementary\", \"Middle\", \"Elementary\", \"Elementary\", \"Elementary\", \"Middle\", \"Elementary\", \"High\", \"Elementary\", \"Elementary\", \"Middle\", \"Elementary\", \"Elementary\", \"High\", \"Middle\", \"Elementary\", \"Elementary\", \"Elementary\", \"Elementary\", \"Elementary\", \"Elementary\", \"Elementary\", \"Middle\", \"Elementary\", \"High\", \"Elementary\", \"Elementary\", \"High\", \"High\", \"Elementary\", \"Middle\", \"Middle\", \"Elementary\", \"High\", \"Elementary\", \"Elementary\", \"Elementary\", \"Elementary\", \"Elementary\", \"Elementary\", \"Elementary\", \"Middle\", \"Elementary\", \"Middle\", \"Middle\", \"High\", \"High\", \"Elementary\", \"Elementary\", \"Elementary\", \"Elementary\", \"Elementary\", \"Elementary\", \"Elementary\", \"Elementary\", \"Elementary\", \"Elementary\", \"High\", \"Middle\", \"High\", \"Middle\", \"High\", \"Middle\", \"Elementary\", \"Elementary\", \"Elementary\", \"Middle\", \"High\", \"High\", \"High\", \"Elementary\", \"Elementary\", \"Elementary\", \"Elementary\", \"Elementary\", \"Elementary\", \"Elementary\", \"Elementary\", \"Elementary\", \"Elementary\", \"Elementary\", \"Middle\", \"High\", \"Middle\", \"High\", \"High\", \"Middle\", \"High\", \"Elementary\", \"Elementary\", \"Elementary\", \"Elementary\", \"Elementary\", \"Elementary\", \"High\", \"Middle\", \"Elementary\", \"Elementary\", \"Elementary\", \"High\", \"Middle\", \"High\", \"Elementary\", \"Elementary\", \"Middle\", \"Elementary\", \"Middle\", \"Elementary\", \"Middle\", \"Elementary\", \"Middle\", \"Elementary\", \"Middle\", \"High\", \"Elementary\", \"High\", \"Elementary\", \"Middle\", \"Elementary\", \"Middle\", \"Elementary\", \"High\", \"Elementary\", \"Middle\", \"Elementary\", \"Elementary\", \"Elementary\", \"Elementary\", \"Middle\", \"Elementary\", \"Elementary\", \"Middle\", \"High\", \"High\", \"Middle\", \"Elementary\", \"Elementary\", \"Elementary\", \"High\", \"Elementary\", \"Middle\", \"Elementary\", \"Elementary\", \"High\", \"Elementary\", \"Middle\", \"Elementary\", \"Middle\", \"High\", \"Elementary\", \"High\", \"Elementary\", \"Middle\", \"High\", \"Elementary\", \"Elementary\", \"Elementary\", \"Elementary\", \"Elementary\", \"Elementary\", \"Middle\", \"Elementary\", \"Elementary\", \"Middle\", \"High\", \"Elementary\", \"Elementary\", \"Elementary\", \"Middle\", \"Elementary\", \"High\", \"Elementary\", \"Middle\", \"Elementary\", \"High\", \"Middle\", \"Elementary\", \"Elementary\", \"High\", \"Middle\", \"Elementary\", \"Elementary\", \"Elementary\", \"Elementary\", \"Elementary\", \"Elementary\", \"High\", \"Middle\", \"Elementary\", \"Middle\", \"Elementary\", \"Elementary\", \"Elementary\", \"Elementary\", \"Middle\", \"High\", \"High\", \"Elementary\", \"Middle\", \"Elementary\", \"Middle\", \"Elementary\", \"Elementary\", \"High\", \"Elementary\", \"Elementary\", \"Elementary\", \"Elementary\", \"Elementary\", \"Middle\", \"Elementary\", \"Elementary\", \"Elementary\", \"Elementary\", \"Elementary\", \"Elementary\", \"Elementary\", \"Middle\", \"Elementary\", \"High\", \"Middle\", \"Elementary\", \"High\", \"Elementary\", \"Middle\", \"Elementary\", \"High\", \"Elementary\", \"Elementary\", \"Elementary\", \"High\", \"Middle\", \"Middle\", \"High\", \"Elementary\", \"Elementary\", \"Elementary\", \"Elementary\", \"Elementary\", \"Elementary\", \"Elementary\", \"Elementary\", \"Middle\", \"Elementary\", \"Elementary\", \"High\", \"Elementary\", \"High\", \"Middle\", \"Elementary\", \"Middle\", \"Elementary\", \"Elementary\", \"Elementary\", \"Elementary\", \"Middle\", \"Elementary\", \"Elementary\", \"Elementary\", \"Elementary\", \"Elementary\", \"Elementary\", \"Elementary\", \"High\", \"Elementary\", \"Elementary\", \"Middle\", \"Middle\", \"Elementary\", \"Elementary\", \"Elementary\", \"Elementary\", \"Elementary\", \"High\", \"Elementary\", \"High\", \"Middle\", \"Elementary\", \"Elementary\", \"High\", \"Elementary\", \"Elementary\", \"Elementary\", \"Middle\", \"Elementary\", \"High\", \"Elementary\", \"Elementary\", \"Elementary\", \"Elementary\", \"Elementary\", \"Elementary\", \"Middle\", \"Middle\", \"Elementary\", \"High\", \"High\", \"Elementary\", \"Elementary\", \"High\", \"Elementary\", \"Elementary\", \"Middle\", \"Elementary\", \"Elementary\", \"Middle\", \"Elementary\", \"Elementary\", \"Elementary\", \"Middle\", \"Elementary\", \"Elementary\", \"Elementary\", \"Elementary\", \"Elementary\", \"Elementary\", \"Elementary\", \"Elementary\", \"Elementary\", \"High\", \"Elementary\", \"Elementary\", \"Middle\", \"Elementary\", \"Middle\", \"Elementary\", \"Elementary\", \"High\", \"Elementary\", \"Elementary\", \"Elementary\", \"Middle\", \"Elementary\", \"Middle\", \"Middle\", \"Elementary\", \"Elementary\", \"Elementary\", \"Middle\", \"Elementary\", \"High\", \"Elementary\", \"Elementary\", \"Elementary\", \"Elementary\", \"Elementary\", \"Elementary\", \"Elementary\", \"Elementary\", \"Elementary\", \"Elementary\", \"Middle\", \"Elementary\", \"Elementary\", \"Middle\", \"Elementary\", \"Elementary\", \"High\", \"Elementary\", \"Elementary\", \"Elementary\", \"Middle\", \"Elementary\", \"High\", \"Elementary\", \"Elementary\", \"Middle\", \"Elementary\", \"Elementary\", \"High\", \"Elementary\", \"High\", \"High\", \"Elementary\", \"Elementary\", \"Elementary\", \"Elementary\", \"Middle\", \"Middle\", \"High\", \"Elementary\", \"Middle\", \"Elementary\", \"Middle\", \"Elementary\", \"Middle\", \"Middle\", \"High\", \"High\", \"High\", \"High\", \"Middle\", \"Elementary\", \"Elementary\", \"High\", \"Middle\", \"Middle\", \"Elementary\", \"Middle\", \"Middle\", \"High\", \"Middle\", \"Middle\", \"Middle\", \"Elementary\", \"High\", \"Middle\", \"High\", \"Elementary\", \"Elementary\", \"Elementary\", \"Elementary\", \"Middle\", \"Elementary\", \"High\", \"High\", \"Middle\", \"Elementary\", \"High\", \"Middle\", \"Elementary\", \"Middle\", \"Elementary\", \"Middle\", \"Middle\", \"Middle\", \"Middle\", \"Elementary\", \"Elementary\", \"Middle\", \"Middle\", \"Elementary\", \"Middle\", \"Middle\", \"Middle\", \"Middle\", \"Middle\", \"Middle\", \"Middle\", \"High\", \"Elementary\", \"Elementary\", \"Elementary\", \"Elementary\", \"Middle\", \"Elementary\", \"Elementary\", \"High\", \"Elementary\", \"Middle\", \"Elementary\", \"Elementary\", \"High\", \"Elementary\", \"Middle\", \"Elementary\", \"Middle\", \"Elementary\", \"Middle\", \"Elementary\", \"High\", \"Elementary\", \"Middle\", \"Elementary\", \"Middle\", \"High\", \"Elementary\", \"Elementary\", \"High\", \"Middle\", \"Elementary\", \"Elementary\", \"Middle\", \"Middle\", \"Elementary\", \"High\", \"Middle\", \"Elementary\", \"Elementary\", \"High\", \"Elementary\", \"Elementary\", \"High\", \"Middle\", \"Middle\", \"Middle\", \"Middle\", \"Middle\", \"Middle\", \"Middle\", \"Elementary\", \"Middle\", \"Elementary\", \"High\", \"Middle\", \"Middle\", \"Elementary\", \"Middle\", \"High\", \"Middle\", \"Middle\", \"Elementary\", \"Elementary\", \"Middle\", \"High\", \"High\", \"High\", \"Elementary\", \"High\", \"Elementary\", \"Elementary\", \"Elementary\", \"Middle\", \"Middle\", \"High\", \"Elementary\", \"Elementary\", \"Middle\", \"Elementary\", \"Elementary\", \"Elementary\", \"Elementary\", \"Middle\", \"High\", \"Elementary\", \"Middle\", \"Elementary\", \"Elementary\", \"High\", \"Middle\", \"Middle\", \"Elementary\", \"Middle\", \"Elementary\", \"Middle\", \"Elementary\", \"High\", \"Elementary\", \"Middle\", \"Middle\", \"Elementary\", \"Elementary\", \"Middle\", \"Middle\", \"Middle\", \"Middle\", \"Elementary\", \"Middle\", \"High\", \"Middle\", \"High\", \"Middle\", \"High\", \"Elementary\", \"Elementary\", \"Middle\", \"Elementary\", \"Middle\", \"Elementary\", \"Middle\", \"Middle\", \"Elementary\", \"Middle\", \"Middle\", \"Middle\", \"High\", \"Elementary\", \"Elementary\", \"Middle\", \"Middle\", \"Elementary\", \"Middle\", \"Elementary\", \"Middle\", \"Middle\", \"Elementary\", \"Elementary\", \"Elementary\", \"Middle\", \"Elementary\", \"Elementary\", \"Middle\", \"Middle\", \"Elementary\", \"High\", \"Middle\", \"Middle\", \"Middle\", \"Middle\", \"High\", \"High\", \"High\", \"High\", \"High\", \"High\", \"Elementary\", \"Middle\", \"Elementary\", \"Elementary\", \"High\", \"Elementary\", \"Middle\", \"Elementary\", \"Elementary\", \"Elementary\", \"Middle\", \"High\", \"Elementary\", \"Middle\", \"Elementary\", \"Middle\", \"Elementary\", \"Elementary\", \"Elementary\", \"Elementary\", \"High\", \"Middle\", \"High\", \"Elementary\", \"Middle\", \"Elementary\", \"Elementary\", \"Elementary\", \"Elementary\", \"Elementary\", \"Elementary\", \"Elementary\", \"High\", \"Elementary\", \"Elementary\", \"Elementary\", \"Elementary\", \"Middle\", \"Elementary\", \"Elementary\", \"Middle\", \"High\", \"Elementary\", \"Elementary\", \"High\", \"Elementary\", \"Middle\", \"Middle\", \"Elementary\", \"High\", \"Elementary\", \"Middle\", \"High\", \"Elementary\", \"Elementary\", \"Elementary\", \"Elementary\", \"High\", \"Elementary\", \"Elementary\", \"Middle\", \"Elementary\", \"High\", \"High\", \"Elementary\", \"Middle\", \"High\", \"Elementary\", \"Elementary\", \"Middle\", \"Elementary\", \"High\", \"High\", \"Elementary\", \"High\", \"Middle\", \"Elementary\", \"High\", \"Elementary\", \"Middle\", \"High\", \"Elementary\", \"Elementary\", \"Elementary\", \"Elementary\", \"Elementary\", \"Elementary\", \"Elementary\", \"Elementary\", \"Elementary\", \"Elementary\", \"Elementary\", \"High\", \"Middle\", \"Middle\", \"Elementary\", \"High\", \"Elementary\", \"Elementary\", \"Elementary\", \"High\", \"Elementary\", \"Middle\", \"Middle\", \"Elementary\", \"High\", \"Elementary\", \"Elementary\", \"High\", \"Elementary\", \"Elementary\", \"Elementary\", \"Elementary\", \"Middle\", \"Elementary\", \"Elementary\", \"Elementary\", \"High\", \"Middle\", \"High\", \"Elementary\", \"Elementary\", \"Elementary\", \"Elementary\", \"Elementary\", \"Elementary\", \"High\", \"Middle\", \"Elementary\", \"High\", \"Middle\", \"Middle\", \"High\", \"Middle\", \"Elementary\", \"High\", \"Elementary\", \"Elementary\", \"Elementary\", \"Elementary\", \"Middle\", \"Middle\", \"Elementary\", \"Middle\", \"Middle\", \"Middle\", \"Elementary\", \"Elementary\", \"Elementary\", \"Elementary\", \"Middle\", \"Middle\", \"Elementary\", \"Elementary\", \"Middle\", \"Elementary\", \"Elementary\", \"Middle\", \"Elementary\", \"Middle\", \"Elementary\", \"Middle\", \"Middle\", \"Middle\", \"Middle\", \"Middle\", \"Elementary\", \"Elementary\", \"Elementary\", \"Middle\", \"Elementary\", \"Middle\", \"Elementary\", \"Elementary\", \"Middle\", \"Middle\", \"Middle\", \"Elementary\", \"Middle\", \"Middle\", \"Elementary\", \"Middle\", \"Middle\", \"Middle\", \"Middle\", \"Elementary\", \"Elementary\", \"Middle\", \"Elementary\", \"Middle\", \"Middle\", \"Elementary\", \"Elementary\", \"Elementary\", \"Elementary\", \"Middle\", \"Elementary\", \"High\", \"High\", \"Middle\", \"Middle\", \"Elementary\", \"Middle\", \"Elementary\", \"Middle\", \"Middle\", \"Elementary\", \"Middle\", \"Elementary\", \"Middle\", \"Middle\", \"Elementary\", \"Elementary\", \"Middle\", \"Middle\", \"Middle\", \"Middle\", \"Middle\", \"Middle\", \"Middle\", \"Middle\", \"Middle\", \"Middle\", \"Elementary\", \"Middle\", \"Middle\", \"Middle\", \"High\", \"Middle\", \"Middle\", \"Elementary\", \"Middle\", \"Middle\", \"Middle\", \"Middle\", \"Elementary\", \"Elementary\", \"Elementary\", \"Elementary\", \"Middle\", \"Middle\", \"Elementary\", \"Elementary\", \"Middle\", \"High\", \"High\", \"Middle\", \"Elementary\", \"Middle\", \"Middle\", \"Middle\", \"High\", \"Middle\", \"Middle\", \"Middle\", \"Elementary\", \"High\", \"Middle\", \"Middle\", \"Middle\", \"High\", \"High\", \"Middle\", \"Middle\", \"High\", \"High\", \"High\", \"High\", \"Middle\", \"Middle\", \"Middle\", \"Middle\", \"Middle\", \"High\", \"High\", \"High\", \"Elementary\", \"Middle\", \"High\", \"High\", \"High\", \"High\", \"High\", \"High\", \"High\", \"High\", \"High\", \"High\", \"High\", \"High\", \"High\", \"High\", \"High\", \"High\", \"High\", \"High\", \"High\", \"High\", \"High\", \"High\", \"High\"], \"legendgroup\": \"\", \"name\": \"\", \"showlegend\": true, \"type\": \"pie\", \"values\": [221.0, 571.0, 279.0, 672.0, 612.0, 319.0, 620.0, 203.0, 367.0, 721.0, 320.0, 225.0, 260.0, 268.0, 285.0, 195.0, 394.0, 191.0, 784.0, 441.0, 279.0, 210.0, 837.0, 2076.0, 657.0, 1126.0, 938.0, 309.0, 450.0, 151.0, 301.0, 471.0, 412.0, 679.0, 475.0, 831.0, 305.0, 334.0, 376.0, 519.0, 545.0, 468.0, 506.0, 368.0, 160.0, 2286.0, 1932.0, 1367.0, 884.0, 1453.0, 543.0, 532.0, 410.0, 557.0, 625.0, 612.0, 468.0, 680.0, 578.0, 310.0, 327.0, 716.0, 364.0, 312.0, 442.0, 798.0, 446.0, 296.0, 723.0, 1388.0, 774.0, 2221.0, 564.0, 809.0, 1056.0, 394.0, 2200.0, 1068.0, 959.0, 600.0, 828.0, 763.0, 539.0, 759.0, 596.0, 301.0, 384.0, 429.0, 465.0, 344.0, 527.0, 568.0, 686.0, 553.0, 340.0, 633.0, 256.0, 643.0, 1345.0, 684.0, 779.0, 2029.0, 1081.0, 990.0, 2281.0, 554.0, 543.0, 784.0, 611.0, 143.0, 832.0, 2103.0, 996.0, 1044.0, 659.0, 801.0, 44.0, 347.0, 214.0, 61.0, 601.0, 678.0, 219.0, 300.0, 573.0, 315.0, 512.0, 424.0, 495.0, 347.0, 615.0, 424.0, 466.0, 432.0, 488.0, 251.0, 1284.0, 2224.0, 148.0, 827.0, 691.0, 464.0, 679.0, null, 14.0, 18.0, 18.0, null, null, 26.0, 410.0, 55.0, 33.0, 65.0, 183.0, 33.0, 668.0, 719.0, 698.0, 524.0, 690.0, 137.0, 682.0, 637.0, 698.0, 448.0, 850.0, 823.0, 1656.0, 1826.0, 892.0, 400.0, 572.0, 614.0, 543.0, 367.0, 527.0, 251.0, 493.0, 465.0, 383.0, 404.0, 830.0, 170.0, 785.0, 622.0, 1365.0, 674.0, 1251.0, 1048.0, 331.0, 489.0, 394.0, 319.0, 470.0, 714.0, 972.0, 998.0, 922.0, 793.0, 419.0, 366.0, 561.0, 564.0, 559.0, 539.0, 759.0, 1242.0, 1189.0, 1511.0, 1168.0, 322.0, 422.0, 404.0, 1295.0, 509.0, 368.0, 484.0, 477.0, 453.0, 524.0, 596.0, 405.0, 720.0, 1113.0, 910.0, 972.0, 1914.0, 748.0, 468.0, 709.0, 698.0, 569.0, 602.0, 515.0, 365.0, 375.0, 601.0, 123.0, 93.0, 486.0, 1225.0, 823.0, 960.0, 1619.0, 2074.0, 874.0, 961.0, 389.0, 550.0, 326.0, 621.0, 638.0, 646.0, 739.0, 471.0, 538.0, 680.0, 1925.0, 1969.0, 776.0, 484.0, 495.0, 491.0, 489.0, 384.0, 63.0, 597.0, 550.0, 793.0, 970.0, 793.0, 1434.0, 1782.0, 404.0, 551.0, 562.0, 659.0, 631.0, 365.0, 866.0, 951.0, 1326.0, 338.0, 617.0, 571.0, 588.0, 587.0, 793.0, 1126.0, 1020.0, 475.0, 433.0, 691.0, 298.0, 398.0, 493.0, 286.0, 386.0, 448.0, 424.0, 525.0, 346.0, 317.0, 403.0, 349.0, 458.0, 537.0, 423.0, 761.0, 185.0, 795.0, 1035.0, 901.0, 637.0, 1649.0, 1067.0, 961.0, 1172.0, 768.0, 421.0, 495.0, 1063.0, 521.0, 604.0, 517.0, 601.0, 46.0, 516.0, 658.0, 500.0, 1161.0, 609.0, 656.0, 1408.0, 518.0, 616.0, 1484.0, 674.0, 723.0, 668.0, 789.0, null, 825.0, 680.0, 949.0, 403.0, 465.0, 469.0, 1138.0, 513.0, 432.0, 401.0, 682.0, 922.0, 612.0, 497.0, 483.0, 449.0, 638.0, 784.0, 576.0, 591.0, 1044.0, 695.0, 535.0, 1139.0, 663.0, 1325.0, 548.0, 748.0, 935.0, 1079.0, 523.0, 1522.0, 538.0, 434.0, 33.0, 488.0, 528.0, 66.0, 44.0, null, null, 628.0, 393.0, 416.0, 658.0, 22.0, 608.0, 437.0, 459.0, 460.0, 714.0, 1011.0, 319.0, 647.0, 349.0, 495.0, 1005.0, 571.0, 425.0, 430.0, 431.0, 423.0, 493.0, 305.0, 408.0, 786.0, 542.0, 464.0, 257.0, 1016.0, 443.0, 702.0, 681.0, 590.0, 393.0, 284.0, 801.0, 464.0, 432.0, 1100.0, 1086.0, 626.0, 1159.0, 902.0, 571.0, 264.0, 426.0, 450.0, 586.0, 1128.0, 659.0, 893.0, 518.0, 426.0, 551.0, 814.0, 443.0, 643.0, 686.0, 1140.0, 648.0, 1026.0, 717.0, 1814.0, 775.0, 885.0, 699.0, 725.0, 811.0, 609.0, 527.0, 88.0, 473.0, 522.0, 1410.0, 436.0, 395.0, 990.0, 361.0, 533.0, 477.0, 183.0, 231.0, 576.0, 395.0, 478.0, 745.0, 357.0, 374.0, 577.0, 713.0, 242.0, 598.0, 56.0, 1508.0, 669.0, 947.0, 1730.0, 969.0, 611.0, 586.0, 553.0, 300.0, 691.0, 318.0, 472.0, 784.0, 1129.0, 477.0, 220.0, 149.0, 813.0, 1851.0, 764.0, 972.0, 1021.0, 262.0, 684.0, 1311.0, 627.0, 563.0, 403.0, 482.0, 806.0, 872.0, 792.0, 1267.0, 82.0, 292.0, 376.0, 508.0, 312.0, 749.0, 545.0, 336.0, 418.0, 473.0, 195.0, 470.0, 718.0, 749.0, 817.0, 635.0, 1590.0, 675.0, 548.0, 74.0, 792.0, 762.0, 573.0, 876.0, 678.0, 1185.0, 611.0, 142.0, 188.0, 135.0, 281.0, 582.0, 308.0, 59.0, 133.0, 357.0, 507.0, 441.0, 701.0, 472.0, 405.0, 752.0, 592.0, 724.0, 697.0, 550.0, 617.0, 865.0, 462.0, 1458.0, 1160.0, 745.0, 831.0, 825.0, 764.0, 413.0, 426.0, 454.0, 1203.0, 1431.0, 74.0, 999.0, 531.0, 370.0, 507.0, 484.0, 445.0, 591.0, 691.0, 1034.0, 539.0, 1057.0, 772.0, 1435.0, 1560.0, 1261.0, 973.0, 1363.0, 934.0, 123.0, 450.0, 218.0, 402.0, 104.0, 230.0, 373.0, 1254.0, 929.0, 609.0, 518.0, 490.0, 662.0, 601.0, 122.0, 923.0, 767.0, 787.0, 628.0, 764.0, 634.0, 703.0, 570.0, 734.0, 757.0, 909.0, 1910.0, 764.0, 1695.0, 702.0, 746.0, 719.0, 628.0, 508.0, 1597.0, 951.0, 811.0, 872.0, 776.0, 962.0, 393.0, 853.0, 627.0, 555.0, 700.0, 1472.0, 1197.0, 515.0, 638.0, 443.0, 436.0, 1460.0, 448.0, 687.0, 447.0, 484.0, 1351.0, 562.0, 493.0, 508.0, 710.0, 117.0, 912.0, 1378.0, 1021.0, 660.0, 1624.0, 720.0, 475.0, 504.0, 602.0, 475.0, 604.0, 602.0, 426.0, 509.0, 498.0, 1246.0, 633.0, 414.0, 497.0, 564.0, 645.0, 1394.0, 765.0, 698.0, 689.0, 1696.0, 733.0, 849.0, 326.0, 568.0, 421.0, 372.0, 231.0, 392.0, 539.0, 623.0, 324.0, 1226.0, 784.0, 611.0, 764.0, 510.0, 659.0, 554.0, 618.0, 945.0, 2148.0, 1205.0, 489.0, 868.0, 452.0, 1287.0, 828.0, 893.0, 2505.0, 802.0, 558.0, 531.0, 460.0, 625.0, 1382.0, 407.0, 97.0, 341.0, 856.0, 678.0, 585.0, 401.0, 1045.0, 634.0, 1440.0, 989.0, 564.0, 2116.0, 500.0, 1028.0, 332.0, 126.0, 316.0, 502.0, 621.0, 2623.0, 390.0, 950.0, 2472.0, 604.0, 592.0, 874.0, 732.0, 482.0, 511.0, 578.0, 412.0, 1004.0, 615.0, 763.0, 1996.0, 501.0, 1795.0, 900.0, 721.0, 936.0, 636.0, 621.0, 594.0, 767.0, 873.0, 719.0, 644.0, 323.0, 442.0, 665.0, 466.0, 582.0, 2257.0, 341.0, 566.0, 808.0, 1233.0, 259.0, 649.0, 469.0, 461.0, 741.0, 2747.0, 922.0, 2039.0, 1534.0, 524.0, 683.0, 1964.0, 316.0, 737.0, 499.0, 694.0, 387.0, 1697.0, 340.0, 521.0, 348.0, 602.0, 679.0, 464.0, 575.0, 1200.0, 710.0, 55.0, 1590.0, 571.0, 458.0, 2397.0, 462.0, 865.0, 877.0, 645.0, 506.0, 790.0, 742.0, 636.0, 731.0, 635.0, 702.0, 893.0, 376.0, 487.0, 537.0, 651.0, 791.0, 100.0, 376.0, 2274.0, 425.0, 366.0, 1040.0, 642.0, 1153.0, 151.0, 588.0, 1353.0, 362.0, 418.0, 355.0, 830.0, 588.0, 883.0, 983.0, 498.0, 650.0, 613.0, 1162.0, 497.0, 3223.0, 413.0, 553.0, 423.0, 511.0, 531.0, 683.0, 775.0, 579.0, 760.0, 555.0, 1010.0, 469.0, 747.0, 722.0, 744.0, 612.0, 2179.0, 642.0, 434.0, 625.0, 999.0, 503.0, 1818.0, 748.0, 478.0, 702.0, 570.0, 654.0, 1805.0, 745.0, 1746.0, 76.0, 755.0, 486.0, 467.0, 505.0, 845.0, 1141.0, 1817.0, 744.0, 771.0, 436.0, 994.0, 483.0, 1024.0, 887.0, 92.0, 61.0, 112.0, 2747.0, 1162.0, 853.0, 324.0, 93.0, 314.0, 1003.0, 775.0, 375.0, 795.0, 1936.0, 820.0, 548.0, 527.0, 943.0, 120.0, 1132.0, 65.0, 593.0, 293.0, 295.0, 354.0, 1637.0, 382.0, 791.0, 1903.0, 496.0, 474.0, 50.0, 351.0, 403.0, 696.0, 490.0, 296.0, 366.0, 625.0, 435.0, 332.0, 481.0, 538.0, 476.0, 406.0, 504.0, 365.0, 614.0, 587.0, 868.0, 578.0, 405.0, 95.0, 473.0, 387.0, 349.0, 353.0, 1031.0, 637.0, 299.0, 115.0, 528.0, 209.0, 347.0, 264.0, 705.0, 438.0, 611.0, 577.0, 769.0, 375.0, 464.0, 619.0, 1943.0, 409.0, 1052.0, 507.0, 678.0, 1664.0, 412.0, 360.0, 961.0, 662.0, 428.0, 229.0, 330.0, 511.0, 449.0, 1497.0, 305.0, 319.0, 324.0, 975.0, 416.0, 501.0, 1196.0, 374.0, 512.0, 284.0, 311.0, 865.0, 546.0, 259.0, 619.0, 597.0, 288.0, 872.0, 898.0, 446.0, 419.0, 825.0, 2262.0, 964.0, 761.0, 559.0, 636.0, 780.0, 563.0, 1335.0, 385.0, 581.0, 2123.0, 519.0, 373.0, 508.0, 676.0, 490.0, 2428.0, 604.0, 403.0, 885.0, 337.0, 254.0, 619.0, 653.0, 431.0, 1033.0, 447.0, 870.0, 299.0, 753.0, 2220.0, 480.0, 427.0, 508.0, 909.0, 807.0, 350.0, 557.0, 2335.0, 379.0, 690.0, 515.0, 699.0, 354.0, 775.0, 1129.0, 890.0, 915.0, 1091.0, 674.0, 340.0, 395.0, 839.0, 247.0, 798.0, 423.0, 336.0, 735.0, 399.0, 705.0, 301.0, 399.0, 566.0, 720.0, 522.0, 461.0, 1224.0, 2354.0, 316.0, 623.0, 826.0, 324.0, 435.0, 1269.0, 491.0, 1329.0, 72.0, 769.0, 543.0, 287.0, 390.0, 605.0, 458.0, 1302.0, 473.0, 891.0, 2629.0, 580.0, 514.0, 379.0, 1468.0, 661.0, 481.0, 228.0, 10.0, 15.0, 75.0, 16.0, 497.0, 312.0, 263.0, 1187.0, 501.0, 562.0, 527.0, 448.0, 420.0, 546.0, 1221.0, 442.0, 352.0, 486.0, 1067.0, 266.0, 455.0, 494.0, 625.0, 1669.0, 1024.0, 1889.0, 562.0, 1043.0, 583.0, 242.0, 287.0, 299.0, 455.0, 813.0, 438.0, 1678.0, 560.0, 502.0, 598.0, 216.0, 867.0, 576.0, 418.0, 457.0, 574.0, 468.0, 363.0, 415.0, 536.0, null, 402.0, 139.0, 1224.0, 1039.0, 869.0, 430.0, 302.0, 367.0, 371.0, 101.0, 303.0, 248.0, 385.0, 866.0, 572.0, 903.0, 1345.0, 368.0, 861.0, 613.0, 652.0, 596.0, 356.0, 411.0, 460.0, 248.0, 229.0, 902.0, 702.0, 622.0, 753.0, 379.0, 582.0, 33.0, 411.0, 335.0, 434.0, 262.0, 749.0, 150.0, 215.0, 570.0, 739.0, 311.0, 286.0, 1311.0, 799.0, 1001.0, 772.0, 43.0, 529.0, 293.0, 394.0, 675.0, 334.0, 406.0, 875.0, 451.0, 1079.0, 605.0, 416.0, 107.0, 467.0, 562.0, 301.0, 350.0, 820.0, 932.0, 534.0, 824.0, 1567.0, 965.0, 1083.0, 323.0, 229.0, 390.0, 492.0, 416.0, 434.0, 353.0, 402.0, 383.0, 315.0, 420.0, 686.0, 1328.0, 799.0, 555.0, 55.0, 560.0, 592.0, 250.0, 391.0, 703.0, 625.0, 271.0, 998.0, 398.0, 415.0, 291.0, 365.0, 192.0, 260.0, 907.0, 400.0, 312.0, 350.0, 293.0, 431.0, 224.0, 553.0, 361.0, 840.0, 409.0, 635.0, 324.0, 477.0, 510.0, 359.0, 316.0, 375.0, 215.0, 359.0, 488.0, 775.0, 188.0, 185.0, 358.0, 537.0, 493.0, 509.0, 548.0, 802.0, 83.0, 259.0, 800.0, 367.0, 347.0, 763.0, 247.0, 427.0, 461.0, 242.0, 395.0, 304.0, 211.0, 160.0, 226.0, 680.0, 523.0, 50.0, 642.0, 363.0, 763.0, 285.0, 415.0, 495.0, 659.0, 477.0, 295.0, 289.0, 381.0, 305.0, 476.0, 262.0, 412.0, 471.0, 587.0, 621.0, 281.0, 386.0, 851.0, 504.0, 831.0, 457.0, 1453.0, 392.0, 697.0, 864.0, 882.0, 547.0, 587.0, 526.0, 590.0, 809.0, 1023.0, 635.0, 699.0, 339.0, 352.0, 310.0, 303.0, 244.0, 729.0, 394.0, 221.0, 263.0, 167.0, 48.0, 44.0, 18.0, 198.0, 185.0, 162.0, 505.0, 231.0, 733.0, 432.0, 161.0, 140.0, 736.0, 456.0, 228.0, 587.0, 57.0, 234.0, 1520.0, 539.0, 297.0, 446.0, 227.0, 561.0, 308.0, 471.0, 378.0, 432.0, 418.0, 852.0, 511.0, 346.0, 69.0, 853.0, 1584.0, 1174.0, 676.0, 1142.0, 1719.0, 433.0, 868.0, 438.0, 1162.0, 546.0, 830.0, 328.0, 616.0, 387.0, 434.0, 355.0, 239.0, 769.0, 885.0, 1402.0, 46.0, 401.0]}],\n",
              "                        {\"legend\": {\"tracegroupgap\": 0}, \"template\": {\"data\": {\"bar\": [{\"error_x\": {\"color\": \"#2a3f5f\"}, \"error_y\": {\"color\": \"#2a3f5f\"}, \"marker\": {\"line\": {\"color\": \"#E5ECF6\", \"width\": 0.5}}, \"type\": \"bar\"}], \"barpolar\": [{\"marker\": {\"line\": {\"color\": \"#E5ECF6\", \"width\": 0.5}}, \"type\": \"barpolar\"}], \"carpet\": [{\"aaxis\": {\"endlinecolor\": \"#2a3f5f\", \"gridcolor\": \"white\", \"linecolor\": \"white\", \"minorgridcolor\": \"white\", \"startlinecolor\": \"#2a3f5f\"}, \"baxis\": {\"endlinecolor\": \"#2a3f5f\", \"gridcolor\": \"white\", \"linecolor\": \"white\", \"minorgridcolor\": \"white\", \"startlinecolor\": \"#2a3f5f\"}, \"type\": \"carpet\"}], \"choropleth\": [{\"colorbar\": {\"outlinewidth\": 0, \"ticks\": \"\"}, \"type\": \"choropleth\"}], \"contour\": [{\"colorbar\": {\"outlinewidth\": 0, \"ticks\": \"\"}, \"colorscale\": [[0.0, \"#0d0887\"], [0.1111111111111111, \"#46039f\"], [0.2222222222222222, \"#7201a8\"], [0.3333333333333333, \"#9c179e\"], [0.4444444444444444, \"#bd3786\"], [0.5555555555555556, \"#d8576b\"], [0.6666666666666666, \"#ed7953\"], [0.7777777777777778, \"#fb9f3a\"], [0.8888888888888888, \"#fdca26\"], [1.0, \"#f0f921\"]], \"type\": \"contour\"}], \"contourcarpet\": [{\"colorbar\": {\"outlinewidth\": 0, \"ticks\": \"\"}, \"type\": \"contourcarpet\"}], \"heatmap\": [{\"colorbar\": {\"outlinewidth\": 0, \"ticks\": \"\"}, \"colorscale\": [[0.0, \"#0d0887\"], [0.1111111111111111, \"#46039f\"], [0.2222222222222222, \"#7201a8\"], [0.3333333333333333, \"#9c179e\"], [0.4444444444444444, \"#bd3786\"], [0.5555555555555556, \"#d8576b\"], [0.6666666666666666, \"#ed7953\"], [0.7777777777777778, \"#fb9f3a\"], [0.8888888888888888, \"#fdca26\"], [1.0, \"#f0f921\"]], \"type\": \"heatmap\"}], \"heatmapgl\": [{\"colorbar\": {\"outlinewidth\": 0, \"ticks\": \"\"}, \"colorscale\": [[0.0, \"#0d0887\"], [0.1111111111111111, \"#46039f\"], [0.2222222222222222, \"#7201a8\"], [0.3333333333333333, \"#9c179e\"], [0.4444444444444444, \"#bd3786\"], [0.5555555555555556, \"#d8576b\"], [0.6666666666666666, \"#ed7953\"], [0.7777777777777778, \"#fb9f3a\"], [0.8888888888888888, \"#fdca26\"], [1.0, \"#f0f921\"]], \"type\": \"heatmapgl\"}], \"histogram\": [{\"marker\": {\"colorbar\": {\"outlinewidth\": 0, \"ticks\": \"\"}}, \"type\": \"histogram\"}], \"histogram2d\": [{\"colorbar\": {\"outlinewidth\": 0, \"ticks\": \"\"}, \"colorscale\": [[0.0, \"#0d0887\"], [0.1111111111111111, \"#46039f\"], [0.2222222222222222, \"#7201a8\"], [0.3333333333333333, \"#9c179e\"], [0.4444444444444444, \"#bd3786\"], [0.5555555555555556, \"#d8576b\"], [0.6666666666666666, \"#ed7953\"], [0.7777777777777778, \"#fb9f3a\"], [0.8888888888888888, \"#fdca26\"], [1.0, \"#f0f921\"]], \"type\": \"histogram2d\"}], \"histogram2dcontour\": [{\"colorbar\": {\"outlinewidth\": 0, \"ticks\": \"\"}, \"colorscale\": [[0.0, \"#0d0887\"], [0.1111111111111111, \"#46039f\"], [0.2222222222222222, \"#7201a8\"], [0.3333333333333333, \"#9c179e\"], [0.4444444444444444, \"#bd3786\"], [0.5555555555555556, \"#d8576b\"], [0.6666666666666666, \"#ed7953\"], [0.7777777777777778, \"#fb9f3a\"], [0.8888888888888888, \"#fdca26\"], [1.0, \"#f0f921\"]], \"type\": \"histogram2dcontour\"}], \"mesh3d\": [{\"colorbar\": {\"outlinewidth\": 0, \"ticks\": \"\"}, \"type\": \"mesh3d\"}], \"parcoords\": [{\"line\": {\"colorbar\": {\"outlinewidth\": 0, \"ticks\": \"\"}}, \"type\": \"parcoords\"}], \"pie\": [{\"automargin\": true, \"type\": \"pie\"}], \"scatter\": [{\"marker\": {\"colorbar\": {\"outlinewidth\": 0, \"ticks\": \"\"}}, \"type\": \"scatter\"}], \"scatter3d\": [{\"line\": {\"colorbar\": {\"outlinewidth\": 0, \"ticks\": \"\"}}, \"marker\": {\"colorbar\": {\"outlinewidth\": 0, \"ticks\": \"\"}}, \"type\": \"scatter3d\"}], \"scattercarpet\": [{\"marker\": {\"colorbar\": {\"outlinewidth\": 0, \"ticks\": \"\"}}, \"type\": \"scattercarpet\"}], \"scattergeo\": [{\"marker\": {\"colorbar\": {\"outlinewidth\": 0, \"ticks\": \"\"}}, \"type\": \"scattergeo\"}], \"scattergl\": [{\"marker\": {\"colorbar\": {\"outlinewidth\": 0, \"ticks\": \"\"}}, \"type\": \"scattergl\"}], \"scattermapbox\": [{\"marker\": {\"colorbar\": {\"outlinewidth\": 0, \"ticks\": \"\"}}, \"type\": \"scattermapbox\"}], \"scatterpolar\": [{\"marker\": {\"colorbar\": {\"outlinewidth\": 0, \"ticks\": \"\"}}, \"type\": \"scatterpolar\"}], \"scatterpolargl\": [{\"marker\": {\"colorbar\": {\"outlinewidth\": 0, \"ticks\": \"\"}}, \"type\": \"scatterpolargl\"}], \"scatterternary\": [{\"marker\": {\"colorbar\": {\"outlinewidth\": 0, \"ticks\": \"\"}}, \"type\": \"scatterternary\"}], \"surface\": [{\"colorbar\": {\"outlinewidth\": 0, \"ticks\": \"\"}, \"colorscale\": [[0.0, \"#0d0887\"], [0.1111111111111111, \"#46039f\"], [0.2222222222222222, \"#7201a8\"], [0.3333333333333333, \"#9c179e\"], [0.4444444444444444, \"#bd3786\"], [0.5555555555555556, \"#d8576b\"], [0.6666666666666666, \"#ed7953\"], [0.7777777777777778, \"#fb9f3a\"], [0.8888888888888888, \"#fdca26\"], [1.0, \"#f0f921\"]], \"type\": \"surface\"}], \"table\": [{\"cells\": {\"fill\": {\"color\": \"#EBF0F8\"}, \"line\": {\"color\": \"white\"}}, \"header\": {\"fill\": {\"color\": \"#C8D4E3\"}, \"line\": {\"color\": \"white\"}}, \"type\": \"table\"}]}, \"layout\": {\"annotationdefaults\": {\"arrowcolor\": \"#2a3f5f\", \"arrowhead\": 0, \"arrowwidth\": 1}, \"coloraxis\": {\"colorbar\": {\"outlinewidth\": 0, \"ticks\": \"\"}}, \"colorscale\": {\"diverging\": [[0, \"#8e0152\"], [0.1, \"#c51b7d\"], [0.2, \"#de77ae\"], [0.3, \"#f1b6da\"], [0.4, \"#fde0ef\"], [0.5, \"#f7f7f7\"], [0.6, \"#e6f5d0\"], [0.7, \"#b8e186\"], [0.8, \"#7fbc41\"], [0.9, \"#4d9221\"], [1, \"#276419\"]], \"sequential\": [[0.0, \"#0d0887\"], [0.1111111111111111, \"#46039f\"], [0.2222222222222222, \"#7201a8\"], [0.3333333333333333, \"#9c179e\"], [0.4444444444444444, \"#bd3786\"], [0.5555555555555556, \"#d8576b\"], [0.6666666666666666, \"#ed7953\"], [0.7777777777777778, \"#fb9f3a\"], [0.8888888888888888, \"#fdca26\"], [1.0, \"#f0f921\"]], \"sequentialminus\": [[0.0, \"#0d0887\"], [0.1111111111111111, \"#46039f\"], [0.2222222222222222, \"#7201a8\"], [0.3333333333333333, \"#9c179e\"], [0.4444444444444444, \"#bd3786\"], [0.5555555555555556, \"#d8576b\"], [0.6666666666666666, \"#ed7953\"], [0.7777777777777778, \"#fb9f3a\"], [0.8888888888888888, \"#fdca26\"], [1.0, \"#f0f921\"]]}, \"colorway\": [\"#636efa\", \"#EF553B\", \"#00cc96\", \"#ab63fa\", \"#FFA15A\", \"#19d3f3\", \"#FF6692\", \"#B6E880\", \"#FF97FF\", \"#FECB52\"], \"font\": {\"color\": \"#2a3f5f\"}, \"geo\": {\"bgcolor\": \"white\", \"lakecolor\": \"white\", \"landcolor\": \"#E5ECF6\", \"showlakes\": true, \"showland\": true, \"subunitcolor\": \"white\"}, \"hoverlabel\": {\"align\": \"left\"}, \"hovermode\": \"closest\", \"mapbox\": {\"style\": \"light\"}, \"paper_bgcolor\": \"white\", \"plot_bgcolor\": \"#E5ECF6\", \"polar\": {\"angularaxis\": {\"gridcolor\": \"white\", \"linecolor\": \"white\", \"ticks\": \"\"}, \"bgcolor\": \"#E5ECF6\", \"radialaxis\": {\"gridcolor\": \"white\", \"linecolor\": \"white\", \"ticks\": \"\"}}, \"scene\": {\"xaxis\": {\"backgroundcolor\": \"#E5ECF6\", \"gridcolor\": \"white\", \"gridwidth\": 2, \"linecolor\": \"white\", \"showbackground\": true, \"ticks\": \"\", \"zerolinecolor\": \"white\"}, \"yaxis\": {\"backgroundcolor\": \"#E5ECF6\", \"gridcolor\": \"white\", \"gridwidth\": 2, \"linecolor\": \"white\", \"showbackground\": true, \"ticks\": \"\", \"zerolinecolor\": \"white\"}, \"zaxis\": {\"backgroundcolor\": \"#E5ECF6\", \"gridcolor\": \"white\", \"gridwidth\": 2, \"linecolor\": \"white\", \"showbackground\": true, \"ticks\": \"\", \"zerolinecolor\": \"white\"}}, \"shapedefaults\": {\"line\": {\"color\": \"#2a3f5f\"}}, \"ternary\": {\"aaxis\": {\"gridcolor\": \"white\", \"linecolor\": \"white\", \"ticks\": \"\"}, \"baxis\": {\"gridcolor\": \"white\", \"linecolor\": \"white\", \"ticks\": \"\"}, \"bgcolor\": \"#E5ECF6\", \"caxis\": {\"gridcolor\": \"white\", \"linecolor\": \"white\", \"ticks\": \"\"}}, \"title\": {\"x\": 0.05}, \"xaxis\": {\"automargin\": true, \"gridcolor\": \"white\", \"linecolor\": \"white\", \"ticks\": \"\", \"title\": {\"standoff\": 15}, \"zerolinecolor\": \"white\", \"zerolinewidth\": 2}, \"yaxis\": {\"automargin\": true, \"gridcolor\": \"white\", \"linecolor\": \"white\", \"ticks\": \"\", \"title\": {\"standoff\": 15}, \"zerolinecolor\": \"white\", \"zerolinewidth\": 2}}}, \"title\": {\"text\": \"Distribution of Students in Maryland Public Schools in 2020\"}},\n",
              "                        {\"responsive\": true}\n",
              "                    ).then(function(){\n",
              "                            \n",
              "var gd = document.getElementById('8d580830-ddb9-4fe7-b199-18f7d6c41917');\n",
              "var x = new MutationObserver(function (mutations, observer) {{\n",
              "        var display = window.getComputedStyle(gd).display;\n",
              "        if (!display || display === 'none') {{\n",
              "            console.log([gd, 'removed!']);\n",
              "            Plotly.purge(gd);\n",
              "            observer.disconnect();\n",
              "        }}\n",
              "}});\n",
              "\n",
              "// Listen for the removal of the full notebook cells\n",
              "var notebookContainer = gd.closest('#notebook-container');\n",
              "if (notebookContainer) {{\n",
              "    x.observe(notebookContainer, {childList: true});\n",
              "}}\n",
              "\n",
              "// Listen for the clearing of the current output cell\n",
              "var outputEl = gd.closest('.output');\n",
              "if (outputEl) {{\n",
              "    x.observe(outputEl, {childList: true});\n",
              "}}\n",
              "\n",
              "                        })\n",
              "                };\n",
              "                \n",
              "            </script>\n",
              "        </div>\n",
              "</body>\n",
              "</html>"
            ]
          },
          "metadata": {
            "tags": []
          }
        }
      ]
    },
    {
      "cell_type": "code",
      "metadata": {
        "id": "WujQohfJqX8P"
      },
      "source": [
        ""
      ],
      "execution_count": 53,
      "outputs": []
    }
  ]
}